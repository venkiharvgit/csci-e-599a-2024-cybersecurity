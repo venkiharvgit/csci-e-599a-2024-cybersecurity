{
  "nbformat": 4,
  "nbformat_minor": 0,
  "metadata": {
    "colab": {
      "provenance": [],
      "machine_shape": "hm",
      "authorship_tag": "ABX9TyPVlo9sgMfvCbFpFPZMX9rF",
      "include_colab_link": true
    },
    "kernelspec": {
      "name": "python3",
      "display_name": "Python 3"
    },
    "language_info": {
      "name": "python"
    },
    "accelerator": "TPU"
  },
  "cells": [
    {
      "cell_type": "markdown",
      "metadata": {
        "id": "view-in-github",
        "colab_type": "text"
      },
      "source": [
        "<a href=\"https://colab.research.google.com/github/venkiharvgit/csci-e-599a-2024-cybersecurity/blob/main/graph_similarity_using_karateclub.ipynb\" target=\"_parent\"><img src=\"https://colab.research.google.com/assets/colab-badge.svg\" alt=\"Open In Colab\"/></a>"
      ]
    },
    {
      "cell_type": "code",
      "execution_count": 6,
      "metadata": {
        "colab": {
          "base_uri": "https://localhost:8080/"
        },
        "id": "Uvmt2HswgRcC",
        "outputId": "526ff59e-ecc2-414d-c220-2f3d6d4a53a2"
      },
      "outputs": [
        {
          "output_type": "stream",
          "name": "stdout",
          "text": [
            "Drive already mounted at /content/drive; to attempt to forcibly remount, call drive.mount(\"/content/drive\", force_remount=True).\n"
          ]
        }
      ],
      "source": [
        "from google.colab import drive\n",
        "drive.mount('/content/drive')"
      ]
    },
    {
      "cell_type": "code",
      "source": [
        "!pip install karateclub"
      ],
      "metadata": {
        "colab": {
          "base_uri": "https://localhost:8080/"
        },
        "id": "QS95erEkgXm7",
        "outputId": "55b6a054-114e-4193-945d-994e2053fafc"
      },
      "execution_count": 8,
      "outputs": [
        {
          "output_type": "stream",
          "name": "stdout",
          "text": [
            "Requirement already satisfied: karateclub in /usr/local/lib/python3.10/dist-packages (1.3.3)\n",
            "Requirement already satisfied: numpy<1.23.0 in /usr/local/lib/python3.10/dist-packages (from karateclub) (1.22.4)\n",
            "Requirement already satisfied: networkx<2.7 in /usr/local/lib/python3.10/dist-packages (from karateclub) (2.6.3)\n",
            "Requirement already satisfied: decorator==4.4.2 in /usr/local/lib/python3.10/dist-packages (from karateclub) (4.4.2)\n",
            "Requirement already satisfied: tqdm in /usr/local/lib/python3.10/dist-packages (from karateclub) (4.66.2)\n",
            "Requirement already satisfied: python-louvain in /usr/local/lib/python3.10/dist-packages (from karateclub) (0.16)\n",
            "Requirement already satisfied: scikit-learn in /usr/local/lib/python3.10/dist-packages (from karateclub) (1.2.2)\n",
            "Requirement already satisfied: scipy in /usr/local/lib/python3.10/dist-packages (from karateclub) (1.11.4)\n",
            "Requirement already satisfied: pygsp in /usr/local/lib/python3.10/dist-packages (from karateclub) (0.5.1)\n",
            "Requirement already satisfied: gensim>=4.0.0 in /usr/local/lib/python3.10/dist-packages (from karateclub) (4.3.2)\n",
            "Requirement already satisfied: pandas<=1.3.5 in /usr/local/lib/python3.10/dist-packages (from karateclub) (1.3.5)\n",
            "Requirement already satisfied: six in /usr/local/lib/python3.10/dist-packages (from karateclub) (1.16.0)\n",
            "Requirement already satisfied: python-Levenshtein in /usr/local/lib/python3.10/dist-packages (from karateclub) (0.25.0)\n",
            "Requirement already satisfied: smart-open>=1.8.1 in /usr/local/lib/python3.10/dist-packages (from gensim>=4.0.0->karateclub) (6.4.0)\n",
            "Requirement already satisfied: python-dateutil>=2.7.3 in /usr/local/lib/python3.10/dist-packages (from pandas<=1.3.5->karateclub) (2.8.2)\n",
            "Requirement already satisfied: pytz>=2017.3 in /usr/local/lib/python3.10/dist-packages (from pandas<=1.3.5->karateclub) (2023.4)\n",
            "Requirement already satisfied: Levenshtein==0.25.0 in /usr/local/lib/python3.10/dist-packages (from python-Levenshtein->karateclub) (0.25.0)\n",
            "Requirement already satisfied: rapidfuzz<4.0.0,>=3.1.0 in /usr/local/lib/python3.10/dist-packages (from Levenshtein==0.25.0->python-Levenshtein->karateclub) (3.6.1)\n",
            "Requirement already satisfied: joblib>=1.1.1 in /usr/local/lib/python3.10/dist-packages (from scikit-learn->karateclub) (1.3.2)\n",
            "Requirement already satisfied: threadpoolctl>=2.0.0 in /usr/local/lib/python3.10/dist-packages (from scikit-learn->karateclub) (3.2.0)\n"
          ]
        }
      ]
    },
    {
      "cell_type": "code",
      "source": [
        "import random as random\n",
        "import math\n",
        "\n",
        "import networkx as nx\n",
        "import karateclub as kc\n",
        "from sklearn.metrics.pairwise import cosine_similarity\n",
        "\n",
        "import numpy\n",
        "import pandas as pd\n",
        "# import dask.dataframe as dd"
      ],
      "metadata": {
        "id": "SlbhXflkgkDL"
      },
      "execution_count": 10,
      "outputs": []
    },
    {
      "cell_type": "code",
      "source": [
        "dir_data = '/content/drive/MyDrive/capstone-project/data/chunked_data/'\n",
        "dir_model = '/content/drive/MyDrive/capstone-project/model'\n",
        "\n",
        "cols = ['IPV4_SRC_ADDR', 'IPV4_DST_ADDR', 'L4_SRC_PORT','L4_DST_PORT', 'PROTOCOL', 'IN_BYTES', 'OUT_BYTES',\n",
        "       'IN_PKTS', 'OUT_PKTS', 'TCP_FLAGS', 'FLOW_DURATION_MILLISECONDS','Label']"
      ],
      "metadata": {
        "id": "-lu8nNIfhF9y"
      },
      "execution_count": 11,
      "outputs": []
    },
    {
      "cell_type": "code",
      "source": [
        "# dataset = \"NF-BoT-IoT-v2_chunks\"\n",
        "# chunk_no = 0\n",
        "# raw_data=pd.read_parquet(dir_data + dataset + f\"/part.{chunk_no}.parquet\", columns = cols)\n",
        "\n",
        "raw_data = pd.read_parquet(\"/content/drive/MyDrive/capstone-project/data/parquet/NF-BoT-IoT-v2.parquet\",\n",
        "                           columns = cols)\n",
        "\n",
        "raw_data['src_id'] = raw_data['IPV4_SRC_ADDR'].astype(str) + \":\" + raw_data['L4_SRC_PORT'].astype(str)\n",
        "raw_data['dst_id'] = raw_data['IPV4_DST_ADDR'].astype(str) + \":\" + raw_data['L4_DST_PORT'].astype(str)\n",
        "raw_data.drop(['IPV4_SRC_ADDR', 'L4_SRC_PORT', 'IPV4_DST_ADDR', 'L4_DST_PORT'], axis=1, inplace=True)"
      ],
      "metadata": {
        "id": "8C-S-hiSgn6y"
      },
      "execution_count": 12,
      "outputs": []
    },
    {
      "cell_type": "code",
      "source": [
        "def calculate_sampled_list_of_embeddings(raw_data: pd.DataFrame, frac: float, n_samples: int, model_type: kc.graph_embedding, starting_seed: int = 10) -> numpy.ndarray:\n",
        "  \"\"\"\n",
        "  Calculates embeddings sampled from a give input dataset.\n",
        "  Returns a list of embeddings where the first element of the list is the embedding from the full graph\n",
        "  \"\"\"\n",
        "\n",
        "  all_graphs = []\n",
        "\n",
        "  #Full Graph\n",
        "  print('...Creating Full Graph')\n",
        "  graph = nx.from_pandas_edgelist(raw_data, 'src_id', 'dst_id', create_using=nx.DiGraph(),edge_attr=True)\n",
        "  mapping = {node: i for i, node in enumerate(graph.nodes())}\n",
        "  graph = nx.relabel_nodes(graph, mapping)\n",
        "  all_graphs.append(graph)\n",
        "\n",
        "\n",
        "  #Graph Sample\n",
        "  for i in range(n_samples):\n",
        "\n",
        "    print(f\"...Creating Sample Graph {i+1} of {n_samples}\")\n",
        "    random.seed(starting_seed + i)\n",
        "    temp = raw_data.sample(frac=frac, replace=True)\n",
        "    temp.shape\n",
        "\n",
        "    graph = nx.from_pandas_edgelist(temp, 'src_id', 'dst_id', create_using=nx.DiGraph(),edge_attr=True)\n",
        "    mapping = {node: i for i, node in enumerate(graph.nodes())}\n",
        "    graph = nx.relabel_nodes(graph, mapping)\n",
        "\n",
        "    all_graphs.append(graph)\n",
        "\n",
        "\n",
        "  print(f\"...Calculating embeddings using {model_type}\")\n",
        "  model = model_type()\n",
        "  model.fit(all_graphs)\n",
        "  X = model.get_embedding()\n",
        "\n",
        "  return X"
      ],
      "metadata": {
        "id": "vNPEmH-ytxJG"
      },
      "execution_count": 13,
      "outputs": []
    },
    {
      "cell_type": "code",
      "source": [
        "first_test = calculate_sampled_list_of_embeddings(raw_data, frac=0.1, n_samples = 12, model_type = kc.GL2Vec)"
      ],
      "metadata": {
        "colab": {
          "base_uri": "https://localhost:8080/"
        },
        "id": "1NTTzP1CJ6wM",
        "outputId": "a091ce92-ed14-4a9f-f679-5c137b846b11"
      },
      "execution_count": null,
      "outputs": [
        {
          "output_type": "stream",
          "name": "stdout",
          "text": [
            "...Creating Full Graph\n"
          ]
        }
      ]
    },
    {
      "cell_type": "code",
      "source": [
        "[cosine_similarity(first_test[0].reshape(1, -1), x.reshape(1, -1)) for x in first_test[1:]]"
      ],
      "metadata": {
        "colab": {
          "base_uri": "https://localhost:8080/"
        },
        "id": "AG7beC4wG6z4",
        "outputId": "c4983a8c-6784-41de-f16e-330f661900cd"
      },
      "execution_count": 88,
      "outputs": [
        {
          "output_type": "execute_result",
          "data": {
            "text/plain": [
              "[array([[0.08887498]], dtype=float32),\n",
              " array([[0.11706911]], dtype=float32),\n",
              " array([[0.22197089]], dtype=float32),\n",
              " array([[0.21863353]], dtype=float32),\n",
              " array([[0.2261459]], dtype=float32),\n",
              " array([[0.23415993]], dtype=float32),\n",
              " array([[0.20656711]], dtype=float32),\n",
              " array([[0.24609858]], dtype=float32),\n",
              " array([[0.21648082]], dtype=float32),\n",
              " array([[0.1825842]], dtype=float32),\n",
              " array([[0.17975272]], dtype=float32),\n",
              " array([[0.07656963]], dtype=float32)]"
            ]
          },
          "metadata": {},
          "execution_count": 88
        }
      ]
    },
    {
      "cell_type": "code",
      "source": [
        "raw_one = raw_data.sample(frac = 0.1, replace=True)\n",
        "graph_one = nx.from_pandas_edgelist(raw_one, 'src_id', 'dst_id', create_using=nx.DiGraph(),edge_attr=True)\n",
        "mapping = {node: i for i, node in enumerate(graph_one.nodes())}\n",
        "graph_one = nx.relabel_nodes(graph_one, mapping)\n",
        "\n",
        "\n",
        "raw_two = raw_data.sample(frac = 0.1, replace=True)\n",
        "graph_two = nx.from_pandas_edgelist(raw_two, 'src_id', 'dst_id', create_using=nx.DiGraph(),edge_attr=True)\n",
        "mapping = {node: i for i, node in enumerate(graph_two.nodes())}\n",
        "graph_two = nx.relabel_nodes(graph_two, mapping)\n",
        "\n",
        "model = kc.GL2Vec()\n",
        "model.fit([graph_one, graph_two])"
      ],
      "metadata": {
        "id": "0jUjr7XJ1CIr"
      },
      "execution_count": 45,
      "outputs": []
    },
    {
      "cell_type": "code",
      "source": [
        "X = model.get_embedding()"
      ],
      "metadata": {
        "id": "2h2D5mLlz0jh"
      },
      "execution_count": 50,
      "outputs": []
    },
    {
      "cell_type": "code",
      "source": [
        "X[0].reshape(-1, 1)\n",
        "\n",
        "cosine_similarity(X[0].reshape(1, -1), X[1].reshape(1, -1))"
      ],
      "metadata": {
        "colab": {
          "base_uri": "https://localhost:8080/"
        },
        "id": "FtiuJV0XHqJF",
        "outputId": "840de5aa-9b2d-4957-f38c-51f207f4a231"
      },
      "execution_count": 61,
      "outputs": [
        {
          "output_type": "execute_result",
          "data": {
            "text/plain": [
              "array([[-0.03822189]], dtype=float32)"
            ]
          },
          "metadata": {},
          "execution_count": 61
        }
      ]
    },
    {
      "cell_type": "code",
      "source": [
        "X[0].shape()\n",
        "\n",
        "\n",
        "embeddings1 = embeddings1.reshape(-1, embeddings1.shape[1])\n",
        "embeddings2 = embeddings2.reshape(-1, embeddings2.shape[1])\n",
        "\n",
        "\n"
      ],
      "metadata": {
        "colab": {
          "base_uri": "https://localhost:8080/"
        },
        "id": "Ge8IPIQKHeju",
        "outputId": "08ecb47a-af58-4875-a12f-39cdf220d6e8"
      },
      "execution_count": 54,
      "outputs": [
        {
          "output_type": "execute_result",
          "data": {
            "text/plain": [
              "(128,)"
            ]
          },
          "metadata": {},
          "execution_count": 54
        }
      ]
    },
    {
      "cell_type": "code",
      "source": [
        "[cosine_similarity(x[0], emb) for emb in embeddings]"
      ],
      "metadata": {
        "colab": {
          "base_uri": "https://localhost:8080/"
        },
        "id": "DTgRdxr0yLh6",
        "outputId": "c35169bf-d543-415e-9e5d-819463e3dc38"
      },
      "execution_count": 31,
      "outputs": [
        {
          "output_type": "execute_result",
          "data": {
            "text/plain": [
              "[array([[1.]], dtype=float32),\n",
              " array([[1.]], dtype=float32),\n",
              " array([[1.]], dtype=float32),\n",
              " array([[1.]], dtype=float32),\n",
              " array([[1.]], dtype=float32),\n",
              " array([[1.]], dtype=float32),\n",
              " array([[1.]], dtype=float32),\n",
              " array([[1.]], dtype=float32),\n",
              " array([[1.]], dtype=float32),\n",
              " array([[1.]], dtype=float32)]"
            ]
          },
          "metadata": {},
          "execution_count": 31
        }
      ]
    },
    {
      "cell_type": "code",
      "source": [
        "graph = nx.from_pandas_edgelist(raw_data, 'src_id', 'dst_id', create_using=nx.DiGraph(),edge_attr=True)\n",
        "\n",
        "mapping = {node: i for i, node in enumerate(graph.nodes())}\n",
        "graph = nx.relabel_nodes(graph, mapping)"
      ],
      "metadata": {
        "id": "DA_vCLezhbxg"
      },
      "execution_count": 34,
      "outputs": []
    },
    {
      "cell_type": "code",
      "source": [
        "X"
      ],
      "metadata": {
        "colab": {
          "base_uri": "https://localhost:8080/"
        },
        "id": "y2GAwc4NmJq5",
        "outputId": "f0817f3e-3c20-4986-ec56-71a5ecb1b678"
      },
      "execution_count": 12,
      "outputs": [
        {
          "output_type": "execute_result",
          "data": {
            "text/plain": [
              "array([[ 0.14285797,  0.1674583 ,  0.1427555 , -0.13704993, -0.15173559,\n",
              "        -0.08096453, -0.07658111,  0.08233593, -0.11917418, -0.15119554,\n",
              "        -0.08267602,  0.17365056, -0.08331024,  0.0268129 ,  0.1572449 ,\n",
              "         0.07747612, -0.01737475,  0.16686738, -0.10635813,  0.09885111,\n",
              "         0.07211719, -0.06293347, -0.01668796, -0.15748975,  0.00094269,\n",
              "        -0.04746135,  0.17727219, -0.08440731, -0.12084486,  0.02008694,\n",
              "        -0.13981624, -0.14246827, -0.11725336, -0.10903737, -0.07776565,\n",
              "        -0.03511777, -0.04440962,  0.10313946,  0.12222339, -0.08110882,\n",
              "        -0.11345202,  0.0139545 , -0.0806457 ,  0.00046206,  0.12835187,\n",
              "         0.06947093, -0.09677208, -0.02294553,  0.00327204, -0.14455448,\n",
              "         0.17638294,  0.14872295, -0.00053341,  0.10463204,  0.08060015,\n",
              "         0.1549062 ,  0.06529004, -0.16598831, -0.04384575,  0.06416641,\n",
              "        -0.01024376,  0.08766906,  0.06306204,  0.0791473 ,  0.09914115,\n",
              "         0.10318878, -0.0892904 ,  0.08281241,  0.17501864,  0.01944137,\n",
              "        -0.13813856, -0.15355416,  0.06202801,  0.06416046, -0.12480132,\n",
              "         0.00231331, -0.09372049, -0.10201801, -0.09634374, -0.0791347 ,\n",
              "        -0.17321268, -0.06537806, -0.0725165 , -0.05687117, -0.08518908,\n",
              "         0.12035152,  0.08943049, -0.10858081,  0.01677992, -0.0281183 ,\n",
              "         0.0999327 , -0.04612716, -0.00260261,  0.1614125 ,  0.01402779,\n",
              "         0.15028664, -0.0639426 , -0.00449579, -0.0131577 , -0.06891439,\n",
              "        -0.03850296, -0.13054706,  0.07978411,  0.15707396,  0.16767743,\n",
              "         0.16079192,  0.16170768, -0.13909003, -0.1122721 , -0.11840268,\n",
              "        -0.04779001, -0.11055695, -0.02740445, -0.06734807,  0.09608109,\n",
              "         0.11442247, -0.04945863,  0.14836171,  0.07872408, -0.11141688,\n",
              "         0.04893613,  0.06273097,  0.02737075,  0.16554278, -0.02699486,\n",
              "         0.11348988,  0.06787072,  0.11617584]], dtype=float32)"
            ]
          },
          "metadata": {},
          "execution_count": 12
        }
      ]
    },
    {
      "cell_type": "code",
      "source": [
        "# from karateclub import FeatherGraph\n",
        "\n",
        "model = kc.GL2Vec()\n",
        "model.fit([graph])\n",
        "X = model.get_embedding()"
      ],
      "metadata": {
        "colab": {
          "base_uri": "https://localhost:8080/",
          "height": 373
        },
        "id": "UnD1oFyLjGQl",
        "outputId": "5859f6f7-1bf7-4b4f-bff0-e9ad122c8b0b"
      },
      "execution_count": 97,
      "outputs": [
        {
          "output_type": "error",
          "ename": "RuntimeError",
          "evalue": "you must first build vocabulary before training the model",
          "traceback": [
            "\u001b[0;31m---------------------------------------------------------------------------\u001b[0m",
            "\u001b[0;31mRuntimeError\u001b[0m                              Traceback (most recent call last)",
            "\u001b[0;32m<ipython-input-97-9cd4efa86535>\u001b[0m in \u001b[0;36m<cell line: 4>\u001b[0;34m()\u001b[0m\n\u001b[1;32m      2\u001b[0m \u001b[0;34m\u001b[0m\u001b[0m\n\u001b[1;32m      3\u001b[0m \u001b[0mmodel\u001b[0m \u001b[0;34m=\u001b[0m \u001b[0mkc\u001b[0m\u001b[0;34m.\u001b[0m\u001b[0mGL2Vec\u001b[0m\u001b[0;34m(\u001b[0m\u001b[0;34m)\u001b[0m\u001b[0;34m\u001b[0m\u001b[0;34m\u001b[0m\u001b[0m\n\u001b[0;32m----> 4\u001b[0;31m \u001b[0mmodel\u001b[0m\u001b[0;34m.\u001b[0m\u001b[0mfit\u001b[0m\u001b[0;34m(\u001b[0m\u001b[0;34m[\u001b[0m\u001b[0mgraph\u001b[0m\u001b[0;34m]\u001b[0m\u001b[0;34m)\u001b[0m\u001b[0;34m\u001b[0m\u001b[0;34m\u001b[0m\u001b[0m\n\u001b[0m\u001b[1;32m      5\u001b[0m \u001b[0mX\u001b[0m \u001b[0;34m=\u001b[0m \u001b[0mmodel\u001b[0m\u001b[0;34m.\u001b[0m\u001b[0mget_embedding\u001b[0m\u001b[0;34m(\u001b[0m\u001b[0;34m)\u001b[0m\u001b[0;34m\u001b[0m\u001b[0;34m\u001b[0m\u001b[0m\n",
            "\u001b[0;32m/usr/local/lib/python3.10/dist-packages/karateclub/graph_embedding/gl2vec.py\u001b[0m in \u001b[0;36mfit\u001b[0;34m(self, graphs)\u001b[0m\n\u001b[1;32m     89\u001b[0m         ]\n\u001b[1;32m     90\u001b[0m \u001b[0;34m\u001b[0m\u001b[0m\n\u001b[0;32m---> 91\u001b[0;31m         self.model = Doc2Vec(\n\u001b[0m\u001b[1;32m     92\u001b[0m             \u001b[0mdocuments\u001b[0m\u001b[0;34m,\u001b[0m\u001b[0;34m\u001b[0m\u001b[0;34m\u001b[0m\u001b[0m\n\u001b[1;32m     93\u001b[0m             \u001b[0mvector_size\u001b[0m\u001b[0;34m=\u001b[0m\u001b[0mself\u001b[0m\u001b[0;34m.\u001b[0m\u001b[0mdimensions\u001b[0m\u001b[0;34m,\u001b[0m\u001b[0;34m\u001b[0m\u001b[0;34m\u001b[0m\u001b[0m\n",
            "\u001b[0;32m/usr/local/lib/python3.10/dist-packages/gensim/models/doc2vec.py\u001b[0m in \u001b[0;36m__init__\u001b[0;34m(self, documents, corpus_file, vector_size, dm_mean, dm, dbow_words, dm_concat, dm_tag_count, dv, dv_mapfile, comment, trim_rule, callbacks, window, epochs, shrink_windows, **kwargs)\u001b[0m\n\u001b[1;32m    294\u001b[0m         \u001b[0mself\u001b[0m\u001b[0;34m.\u001b[0m\u001b[0mdv\u001b[0m\u001b[0;34m.\u001b[0m\u001b[0mvectors_lockf\u001b[0m \u001b[0;34m=\u001b[0m \u001b[0mnp\u001b[0m\u001b[0;34m.\u001b[0m\u001b[0mones\u001b[0m\u001b[0;34m(\u001b[0m\u001b[0;36m1\u001b[0m\u001b[0;34m,\u001b[0m \u001b[0mdtype\u001b[0m\u001b[0;34m=\u001b[0m\u001b[0mREAL\u001b[0m\u001b[0;34m)\u001b[0m  \u001b[0;31m# 0.0 values suppress word-backprop-updates; 1.0 allows\u001b[0m\u001b[0;34m\u001b[0m\u001b[0;34m\u001b[0m\u001b[0m\n\u001b[1;32m    295\u001b[0m \u001b[0;34m\u001b[0m\u001b[0m\n\u001b[0;32m--> 296\u001b[0;31m         super(Doc2Vec, self).__init__(\n\u001b[0m\u001b[1;32m    297\u001b[0m             \u001b[0msentences\u001b[0m\u001b[0;34m=\u001b[0m\u001b[0mcorpus_iterable\u001b[0m\u001b[0;34m,\u001b[0m\u001b[0;34m\u001b[0m\u001b[0;34m\u001b[0m\u001b[0m\n\u001b[1;32m    298\u001b[0m             \u001b[0mcorpus_file\u001b[0m\u001b[0;34m=\u001b[0m\u001b[0mcorpus_file\u001b[0m\u001b[0;34m,\u001b[0m\u001b[0;34m\u001b[0m\u001b[0;34m\u001b[0m\u001b[0m\n",
            "\u001b[0;32m/usr/local/lib/python3.10/dist-packages/gensim/models/word2vec.py\u001b[0m in \u001b[0;36m__init__\u001b[0;34m(self, sentences, corpus_file, vector_size, alpha, window, min_count, max_vocab_size, sample, seed, workers, min_alpha, sg, hs, negative, ns_exponent, cbow_mean, hashfxn, epochs, null_word, trim_rule, sorted_vocab, batch_words, compute_loss, callbacks, comment, max_final_vocab, shrink_windows)\u001b[0m\n\u001b[1;32m    428\u001b[0m             \u001b[0mself\u001b[0m\u001b[0;34m.\u001b[0m\u001b[0m_check_corpus_sanity\u001b[0m\u001b[0;34m(\u001b[0m\u001b[0mcorpus_iterable\u001b[0m\u001b[0;34m=\u001b[0m\u001b[0mcorpus_iterable\u001b[0m\u001b[0;34m,\u001b[0m \u001b[0mcorpus_file\u001b[0m\u001b[0;34m=\u001b[0m\u001b[0mcorpus_file\u001b[0m\u001b[0;34m,\u001b[0m \u001b[0mpasses\u001b[0m\u001b[0;34m=\u001b[0m\u001b[0;34m(\u001b[0m\u001b[0mepochs\u001b[0m \u001b[0;34m+\u001b[0m \u001b[0;36m1\u001b[0m\u001b[0;34m)\u001b[0m\u001b[0;34m)\u001b[0m\u001b[0;34m\u001b[0m\u001b[0;34m\u001b[0m\u001b[0m\n\u001b[1;32m    429\u001b[0m             \u001b[0mself\u001b[0m\u001b[0;34m.\u001b[0m\u001b[0mbuild_vocab\u001b[0m\u001b[0;34m(\u001b[0m\u001b[0mcorpus_iterable\u001b[0m\u001b[0;34m=\u001b[0m\u001b[0mcorpus_iterable\u001b[0m\u001b[0;34m,\u001b[0m \u001b[0mcorpus_file\u001b[0m\u001b[0;34m=\u001b[0m\u001b[0mcorpus_file\u001b[0m\u001b[0;34m,\u001b[0m \u001b[0mtrim_rule\u001b[0m\u001b[0;34m=\u001b[0m\u001b[0mtrim_rule\u001b[0m\u001b[0;34m)\u001b[0m\u001b[0;34m\u001b[0m\u001b[0;34m\u001b[0m\u001b[0m\n\u001b[0;32m--> 430\u001b[0;31m             self.train(\n\u001b[0m\u001b[1;32m    431\u001b[0m                 \u001b[0mcorpus_iterable\u001b[0m\u001b[0;34m=\u001b[0m\u001b[0mcorpus_iterable\u001b[0m\u001b[0;34m,\u001b[0m \u001b[0mcorpus_file\u001b[0m\u001b[0;34m=\u001b[0m\u001b[0mcorpus_file\u001b[0m\u001b[0;34m,\u001b[0m \u001b[0mtotal_examples\u001b[0m\u001b[0;34m=\u001b[0m\u001b[0mself\u001b[0m\u001b[0;34m.\u001b[0m\u001b[0mcorpus_count\u001b[0m\u001b[0;34m,\u001b[0m\u001b[0;34m\u001b[0m\u001b[0;34m\u001b[0m\u001b[0m\n\u001b[1;32m    432\u001b[0m                 \u001b[0mtotal_words\u001b[0m\u001b[0;34m=\u001b[0m\u001b[0mself\u001b[0m\u001b[0;34m.\u001b[0m\u001b[0mcorpus_total_words\u001b[0m\u001b[0;34m,\u001b[0m \u001b[0mepochs\u001b[0m\u001b[0;34m=\u001b[0m\u001b[0mself\u001b[0m\u001b[0;34m.\u001b[0m\u001b[0mepochs\u001b[0m\u001b[0;34m,\u001b[0m \u001b[0mstart_alpha\u001b[0m\u001b[0;34m=\u001b[0m\u001b[0mself\u001b[0m\u001b[0;34m.\u001b[0m\u001b[0malpha\u001b[0m\u001b[0;34m,\u001b[0m\u001b[0;34m\u001b[0m\u001b[0;34m\u001b[0m\u001b[0m\n",
            "\u001b[0;32m/usr/local/lib/python3.10/dist-packages/gensim/models/doc2vec.py\u001b[0m in \u001b[0;36mtrain\u001b[0;34m(self, corpus_iterable, corpus_file, total_examples, total_words, epochs, start_alpha, end_alpha, word_count, queue_factor, report_delay, callbacks, **kwargs)\u001b[0m\n\u001b[1;32m    514\u001b[0m             \u001b[0mkwargs\u001b[0m\u001b[0;34m[\u001b[0m\u001b[0;34m'start_doctags'\u001b[0m\u001b[0;34m]\u001b[0m \u001b[0;34m=\u001b[0m \u001b[0mstart_doctags\u001b[0m\u001b[0;34m\u001b[0m\u001b[0;34m\u001b[0m\u001b[0m\n\u001b[1;32m    515\u001b[0m \u001b[0;34m\u001b[0m\u001b[0m\n\u001b[0;32m--> 516\u001b[0;31m         super(Doc2Vec, self).train(\n\u001b[0m\u001b[1;32m    517\u001b[0m             \u001b[0mcorpus_iterable\u001b[0m\u001b[0;34m=\u001b[0m\u001b[0mcorpus_iterable\u001b[0m\u001b[0;34m,\u001b[0m \u001b[0mcorpus_file\u001b[0m\u001b[0;34m=\u001b[0m\u001b[0mcorpus_file\u001b[0m\u001b[0;34m,\u001b[0m\u001b[0;34m\u001b[0m\u001b[0;34m\u001b[0m\u001b[0m\n\u001b[1;32m    518\u001b[0m             \u001b[0mtotal_examples\u001b[0m\u001b[0;34m=\u001b[0m\u001b[0mtotal_examples\u001b[0m\u001b[0;34m,\u001b[0m \u001b[0mtotal_words\u001b[0m\u001b[0;34m=\u001b[0m\u001b[0mtotal_words\u001b[0m\u001b[0;34m,\u001b[0m\u001b[0;34m\u001b[0m\u001b[0;34m\u001b[0m\u001b[0m\n",
            "\u001b[0;32m/usr/local/lib/python3.10/dist-packages/gensim/models/word2vec.py\u001b[0m in \u001b[0;36mtrain\u001b[0;34m(self, corpus_iterable, corpus_file, total_examples, total_words, epochs, start_alpha, end_alpha, word_count, queue_factor, report_delay, compute_loss, callbacks, **kwargs)\u001b[0m\n\u001b[1;32m   1043\u001b[0m         \u001b[0mself\u001b[0m\u001b[0;34m.\u001b[0m\u001b[0mepochs\u001b[0m \u001b[0;34m=\u001b[0m \u001b[0mepochs\u001b[0m\u001b[0;34m\u001b[0m\u001b[0;34m\u001b[0m\u001b[0m\n\u001b[1;32m   1044\u001b[0m \u001b[0;34m\u001b[0m\u001b[0m\n\u001b[0;32m-> 1045\u001b[0;31m         \u001b[0mself\u001b[0m\u001b[0;34m.\u001b[0m\u001b[0m_check_training_sanity\u001b[0m\u001b[0;34m(\u001b[0m\u001b[0mepochs\u001b[0m\u001b[0;34m=\u001b[0m\u001b[0mepochs\u001b[0m\u001b[0;34m,\u001b[0m \u001b[0mtotal_examples\u001b[0m\u001b[0;34m=\u001b[0m\u001b[0mtotal_examples\u001b[0m\u001b[0;34m,\u001b[0m \u001b[0mtotal_words\u001b[0m\u001b[0;34m=\u001b[0m\u001b[0mtotal_words\u001b[0m\u001b[0;34m)\u001b[0m\u001b[0;34m\u001b[0m\u001b[0;34m\u001b[0m\u001b[0m\n\u001b[0m\u001b[1;32m   1046\u001b[0m         \u001b[0mself\u001b[0m\u001b[0;34m.\u001b[0m\u001b[0m_check_corpus_sanity\u001b[0m\u001b[0;34m(\u001b[0m\u001b[0mcorpus_iterable\u001b[0m\u001b[0;34m=\u001b[0m\u001b[0mcorpus_iterable\u001b[0m\u001b[0;34m,\u001b[0m \u001b[0mcorpus_file\u001b[0m\u001b[0;34m=\u001b[0m\u001b[0mcorpus_file\u001b[0m\u001b[0;34m,\u001b[0m \u001b[0mpasses\u001b[0m\u001b[0;34m=\u001b[0m\u001b[0mepochs\u001b[0m\u001b[0;34m)\u001b[0m\u001b[0;34m\u001b[0m\u001b[0;34m\u001b[0m\u001b[0m\n\u001b[1;32m   1047\u001b[0m \u001b[0;34m\u001b[0m\u001b[0m\n",
            "\u001b[0;32m/usr/local/lib/python3.10/dist-packages/gensim/models/word2vec.py\u001b[0m in \u001b[0;36m_check_training_sanity\u001b[0;34m(self, epochs, total_examples, total_words, **kwargs)\u001b[0m\n\u001b[1;32m   1552\u001b[0m \u001b[0;34m\u001b[0m\u001b[0m\n\u001b[1;32m   1553\u001b[0m         \u001b[0;32mif\u001b[0m \u001b[0;32mnot\u001b[0m \u001b[0mself\u001b[0m\u001b[0;34m.\u001b[0m\u001b[0mwv\u001b[0m\u001b[0;34m.\u001b[0m\u001b[0mkey_to_index\u001b[0m\u001b[0;34m:\u001b[0m  \u001b[0;31m# should be set by `build_vocab`\u001b[0m\u001b[0;34m\u001b[0m\u001b[0;34m\u001b[0m\u001b[0m\n\u001b[0;32m-> 1554\u001b[0;31m             \u001b[0;32mraise\u001b[0m \u001b[0mRuntimeError\u001b[0m\u001b[0;34m(\u001b[0m\u001b[0;34m\"you must first build vocabulary before training the model\"\u001b[0m\u001b[0;34m)\u001b[0m\u001b[0;34m\u001b[0m\u001b[0;34m\u001b[0m\u001b[0m\n\u001b[0m\u001b[1;32m   1555\u001b[0m         \u001b[0;32mif\u001b[0m \u001b[0;32mnot\u001b[0m \u001b[0mlen\u001b[0m\u001b[0;34m(\u001b[0m\u001b[0mself\u001b[0m\u001b[0;34m.\u001b[0m\u001b[0mwv\u001b[0m\u001b[0;34m.\u001b[0m\u001b[0mvectors\u001b[0m\u001b[0;34m)\u001b[0m\u001b[0;34m:\u001b[0m\u001b[0;34m\u001b[0m\u001b[0;34m\u001b[0m\u001b[0m\n\u001b[1;32m   1556\u001b[0m             \u001b[0;32mraise\u001b[0m \u001b[0mRuntimeError\u001b[0m\u001b[0;34m(\u001b[0m\u001b[0;34m\"you must initialize vectors before training the model\"\u001b[0m\u001b[0;34m)\u001b[0m\u001b[0;34m\u001b[0m\u001b[0;34m\u001b[0m\u001b[0m\n",
            "\u001b[0;31mRuntimeError\u001b[0m: you must first build vocabulary before training the model"
          ]
        }
      ]
    },
    {
      "cell_type": "code",
      "source": [
        "X.shape"
      ],
      "metadata": {
        "colab": {
          "base_uri": "https://localhost:8080/"
        },
        "id": "Glikk6HXjHPt",
        "outputId": "0b8144ee-311b-42ec-a6f1-c6f09b9cb2bd"
      },
      "execution_count": 96,
      "outputs": [
        {
          "output_type": "execute_result",
          "data": {
            "text/plain": [
              "(1, 160)"
            ]
          },
          "metadata": {},
          "execution_count": 96
        }
      ]
    },
    {
      "cell_type": "code",
      "source": [],
      "metadata": {
        "id": "_0YpQM3kje0s"
      },
      "execution_count": null,
      "outputs": []
    },
    {
      "cell_type": "code",
      "source": [
        "def parquet_to_graph(path: str) -> nx.classes.digraph.DiGraph:\n",
        "\n",
        "  raw_data=pd.read_parquet(path)\n",
        "  raw_data['src_id'] = raw_data['IPV4_SRC_ADDR'].astype(str) + \":\" + raw_data['L4_SRC_PORT'].astype(str)\n",
        "  raw_data['dst_id'] = raw_data['IPV4_DST_ADDR'].astype(str) + \":\" + raw_data['L4_DST_PORT'].astype(str)\n",
        "  raw_data.drop(['IPV4_SRC_ADDR', 'L4_SRC_PORT', 'IPV4_DST_ADDR', 'L4_DST_PORT'], axis=1, inplace=True)\n",
        "\n",
        "  graph = nx.from_pandas_edgelist(raw_data, 'src_id', 'dst_id',\n",
        "                             create_using=nx.DiGraph(),\n",
        "                             edge_attr=True)\n",
        "\n",
        "  # Have to remap the node indices because the embedding functions require\n",
        "  # integer, monotonically increasing node ids\n",
        "\n",
        "  mapping = {node: i for i, node in enumerate(graph.nodes())}\n",
        "  graph = nx.relabel_nodes(graph, mapping)\n",
        "\n",
        "  return graph"
      ],
      "metadata": {
        "id": "5qqAd42-ohUW"
      },
      "execution_count": 36,
      "outputs": []
    }
  ]
}