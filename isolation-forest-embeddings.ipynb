{
 "cells": [
  {
   "cell_type": "code",
   "execution_count": 1,
   "id": "b8206b50-d2ad-4a6f-bf12-5a28c27ca4c9",
   "metadata": {
    "tags": []
   },
   "outputs": [],
   "source": [
    "import torch\n",
    "import dgl\n",
    "import numpy as np\n",
    "import pandas as pd\n",
    "import torch.optim as optim\n",
    "import time\n",
    "import seaborn as sns\n",
    "import matplotlib.pyplot as plt\n",
    "from sklearn.model_selection import train_test_split\n",
    "from sklearn.metrics import classification_report, f1_score\n",
    "from sklearn.ensemble import IsolationForest\n",
    "from sklearn.neighbors import KNeighborsClassifier\n",
    "from sklearn.tree import DecisionTreeClassifier\n",
    "from sklearn.ensemble import RandomForestClassifier\n",
    "import gc\n",
    "\n",
    "from tqdm import tqdm\n",
    "import itertools\n",
    "\n",
    "from sklearn.metrics import confusion_matrix, accuracy_score"
   ]
  },
  {
   "cell_type": "code",
   "execution_count": 2,
   "id": "9ca84f58-3082-4a24-ac16-0fa4a67dc42d",
   "metadata": {
    "tags": []
   },
   "outputs": [],
   "source": [
    "pd.options.mode.copy_on_write = True"
   ]
  },
  {
   "cell_type": "code",
   "execution_count": 5,
   "id": "6a81ec0a-4113-4bdd-a2b8-70d88059ea38",
   "metadata": {
    "tags": []
   },
   "outputs": [],
   "source": [
    "dir_data = '../data/netflow/parquet/original/'\n",
    "dir_model = 'model/'"
   ]
  },
  {
   "cell_type": "code",
   "execution_count": 6,
   "id": "ff7b61a2-d7d1-45e0-9c54-559679e108c7",
   "metadata": {
    "tags": []
   },
   "outputs": [],
   "source": [
    "emb_prefix = \"emb_wo_port_\""
   ]
  },
  {
   "cell_type": "code",
   "execution_count": 7,
   "id": "acf13407-78b7-4378-86ea-ba0571a6b9aa",
   "metadata": {
    "tags": []
   },
   "outputs": [],
   "source": [
    "netflows = ['NF-BoT-IoT_chunks',\n",
    "           'NF-ToN-IoT_chunks',\n",
    "           'NF-UNSW-NB15_chunks',\n",
    "           'NF-UQ-NIDS_chunks',\n",
    "           'NF-CSE-CIC-IDS2018_chunks',\n",
    "           'NF-BoT-IoT-v2_chunks',\n",
    "           'NF-ToN-IoT-v2_chunks',\n",
    "           'NF-UNSW-NB15-v2_chunks',\n",
    "           'NF-UQ-NIDS-v2_chunks',\n",
    "           'NF-CSE-CIC-IDS2018-v2_chunks']"
   ]
  },
  {
   "cell_type": "code",
   "execution_count": 6,
   "id": "2d0f1baf-c83c-46f3-940c-f314667368d4",
   "metadata": {
    "tags": []
   },
   "outputs": [
    {
     "name": "stdout",
     "output_type": "stream",
     "text": [
      "\n",
      "==== 'emb_wo_port_NF-BoT-IoT_chunks' ====\n"
     ]
    },
    {
     "name": "stderr",
     "output_type": "stream",
     "text": [
      "100%|███████████████████████████████████████████| 24/24 [00:04<00:00,  5.60it/s]\n"
     ]
    },
    {
     "name": "stdout",
     "output_type": "stream",
     "text": [
      "{'n_estimators': 50, 'con': 0.01}\n",
      "0.6405259965887186\n",
      "              precision    recall  f1-score   support\n",
      "\n",
      "           0     0.4582    0.4705    0.4643      9056\n",
      "           1     0.8205    0.8131    0.8168     26960\n",
      "\n",
      "    accuracy                         0.7270     36016\n",
      "   macro avg     0.6393    0.6418    0.6405     36016\n",
      "weighted avg     0.7294    0.7270    0.7281     36016\n",
      "\n",
      "\n",
      "==== 'emb_wo_port_NF-ToN-IoT_chunks' ====\n"
     ]
    },
    {
     "name": "stderr",
     "output_type": "stream",
     "text": [
      "100%|███████████████████████████████████████████| 24/24 [00:08<00:00,  2.73it/s]\n"
     ]
    },
    {
     "name": "stdout",
     "output_type": "stream",
     "text": [
      "{'n_estimators': 20, 'con': 0.04}\n",
      "0.7836857055152637\n",
      "              precision    recall  f1-score   support\n",
      "\n",
      "           0     0.5626    0.9901    0.7175      9056\n",
      "           1     0.9955    0.7414    0.8499     26960\n",
      "\n",
      "    accuracy                         0.8039     36016\n",
      "   macro avg     0.7791    0.8657    0.7837     36016\n",
      "weighted avg     0.8867    0.8039    0.8166     36016\n",
      "\n",
      "\n",
      "==== 'emb_wo_port_NF-UNSW-NB15_chunks' ====\n"
     ]
    },
    {
     "name": "stderr",
     "output_type": "stream",
     "text": [
      "100%|███████████████████████████████████████████| 24/24 [00:52<00:00,  2.20s/it]\n",
      "/Users/mammadli/miniconda3/envs/py_jop/lib/python3.10/site-packages/sklearn/metrics/_classification.py:1469: UndefinedMetricWarning: Precision and F-score are ill-defined and being set to 0.0 in labels with no predicted samples. Use `zero_division` parameter to control this behavior.\n",
      "  _warn_prf(average, modifier, msg_start, len(result))\n",
      "/Users/mammadli/miniconda3/envs/py_jop/lib/python3.10/site-packages/sklearn/metrics/_classification.py:1469: UndefinedMetricWarning: Precision and F-score are ill-defined and being set to 0.0 in labels with no predicted samples. Use `zero_division` parameter to control this behavior.\n",
      "  _warn_prf(average, modifier, msg_start, len(result))\n",
      "/Users/mammadli/miniconda3/envs/py_jop/lib/python3.10/site-packages/sklearn/metrics/_classification.py:1469: UndefinedMetricWarning: Precision and F-score are ill-defined and being set to 0.0 in labels with no predicted samples. Use `zero_division` parameter to control this behavior.\n",
      "  _warn_prf(average, modifier, msg_start, len(result))\n"
     ]
    },
    {
     "name": "stdout",
     "output_type": "stream",
     "text": [
      "{'n_estimators': 20, 'con': 0.05}\n",
      "0.42809959349593496\n",
      "              precision    recall  f1-score   support\n",
      "\n",
      "           0     0.0000    0.0000    0.0000      9056\n",
      "           1     0.7486    1.0000    0.8562     26960\n",
      "\n",
      "    accuracy                         0.7486     36016\n",
      "   macro avg     0.3743    0.5000    0.4281     36016\n",
      "weighted avg     0.5603    0.7486    0.6409     36016\n",
      "\n",
      "\n",
      "==== 'emb_wo_port_NF-UQ-NIDS_chunks' ====\n"
     ]
    },
    {
     "name": "stderr",
     "output_type": "stream",
     "text": [
      "100%|███████████████████████████████████████████| 24/24 [02:28<00:00,  6.17s/it]\n"
     ]
    },
    {
     "name": "stdout",
     "output_type": "stream",
     "text": [
      "{'n_estimators': 150, 'con': 0.04}\n",
      "0.6215274788940541\n",
      "              precision    recall  f1-score   support\n",
      "\n",
      "           0     0.4214    0.4701    0.4444      9056\n",
      "           1     0.8148    0.7832    0.7987     26960\n",
      "\n",
      "    accuracy                         0.7044     36016\n",
      "   macro avg     0.6181    0.6266    0.6215     36016\n",
      "weighted avg     0.7159    0.7044    0.7096     36016\n",
      "\n",
      "\n",
      "==== 'emb_wo_port_NF-CSE-CIC-IDS2018_chunks' ====\n"
     ]
    },
    {
     "name": "stderr",
     "output_type": "stream",
     "text": [
      "100%|███████████████████████████████████████████| 24/24 [02:46<00:00,  6.94s/it]\n"
     ]
    },
    {
     "name": "stdout",
     "output_type": "stream",
     "text": [
      "{'n_estimators': 20, 'con': 0.04}\n",
      "0.4679965071756764\n",
      "              precision    recall  f1-score   support\n",
      "\n",
      "           0     0.2488    0.4794    0.3275      9056\n",
      "           1     0.7460    0.5137    0.6085     26960\n",
      "\n",
      "    accuracy                         0.5051     36016\n",
      "   macro avg     0.4974    0.4965    0.4680     36016\n",
      "weighted avg     0.6210    0.5051    0.5378     36016\n",
      "\n",
      "\n",
      "==== 'emb_wo_port_NF-BoT-IoT-v2_chunks' ====\n"
     ]
    },
    {
     "name": "stderr",
     "output_type": "stream",
     "text": [
      "100%|███████████████████████████████████████████| 24/24 [00:05<00:00,  4.33it/s]\n",
      "/Users/mammadli/miniconda3/envs/py_jop/lib/python3.10/site-packages/sklearn/metrics/_classification.py:1469: UndefinedMetricWarning: Precision and F-score are ill-defined and being set to 0.0 in labels with no predicted samples. Use `zero_division` parameter to control this behavior.\n",
      "  _warn_prf(average, modifier, msg_start, len(result))\n",
      "/Users/mammadli/miniconda3/envs/py_jop/lib/python3.10/site-packages/sklearn/metrics/_classification.py:1469: UndefinedMetricWarning: Precision and F-score are ill-defined and being set to 0.0 in labels with no predicted samples. Use `zero_division` parameter to control this behavior.\n",
      "  _warn_prf(average, modifier, msg_start, len(result))\n",
      "/Users/mammadli/miniconda3/envs/py_jop/lib/python3.10/site-packages/sklearn/metrics/_classification.py:1469: UndefinedMetricWarning: Precision and F-score are ill-defined and being set to 0.0 in labels with no predicted samples. Use `zero_division` parameter to control this behavior.\n",
      "  _warn_prf(average, modifier, msg_start, len(result))\n"
     ]
    },
    {
     "name": "stdout",
     "output_type": "stream",
     "text": [
      "{'n_estimators': 20, 'con': 0.1}\n",
      "0.42809959349593496\n",
      "              precision    recall  f1-score   support\n",
      "\n",
      "           0     0.0000    0.0000    0.0000      9056\n",
      "           1     0.7486    1.0000    0.8562     26960\n",
      "\n",
      "    accuracy                         0.7486     36016\n",
      "   macro avg     0.3743    0.5000    0.4281     36016\n",
      "weighted avg     0.5603    0.7486    0.6409     36016\n",
      "\n",
      "\n",
      "==== 'emb_wo_port_NF-ToN-IoT-v2_chunks' ====\n"
     ]
    },
    {
     "name": "stderr",
     "output_type": "stream",
     "text": [
      "100%|███████████████████████████████████████████| 24/24 [00:22<00:00,  1.04it/s]\n"
     ]
    },
    {
     "name": "stdout",
     "output_type": "stream",
     "text": [
      "{'n_estimators': 20, 'con': 0.01}\n",
      "0.5828698330101482\n",
      "              precision    recall  f1-score   support\n",
      "\n",
      "           0     0.3754    0.9672    0.5409      9056\n",
      "           1     0.9766    0.4594    0.6249     26960\n",
      "\n",
      "    accuracy                         0.5871     36016\n",
      "   macro avg     0.6760    0.7133    0.5829     36016\n",
      "weighted avg     0.8254    0.5871    0.6038     36016\n",
      "\n",
      "\n",
      "==== 'emb_wo_port_NF-UNSW-NB15-v2_chunks' ====\n"
     ]
    },
    {
     "name": "stderr",
     "output_type": "stream",
     "text": [
      "100%|███████████████████████████████████████████| 24/24 [00:25<00:00,  1.05s/it]\n",
      "/Users/mammadli/miniconda3/envs/py_jop/lib/python3.10/site-packages/sklearn/metrics/_classification.py:1469: UndefinedMetricWarning: Precision and F-score are ill-defined and being set to 0.0 in labels with no predicted samples. Use `zero_division` parameter to control this behavior.\n",
      "  _warn_prf(average, modifier, msg_start, len(result))\n",
      "/Users/mammadli/miniconda3/envs/py_jop/lib/python3.10/site-packages/sklearn/metrics/_classification.py:1469: UndefinedMetricWarning: Precision and F-score are ill-defined and being set to 0.0 in labels with no predicted samples. Use `zero_division` parameter to control this behavior.\n",
      "  _warn_prf(average, modifier, msg_start, len(result))\n",
      "/Users/mammadli/miniconda3/envs/py_jop/lib/python3.10/site-packages/sklearn/metrics/_classification.py:1469: UndefinedMetricWarning: Precision and F-score are ill-defined and being set to 0.0 in labels with no predicted samples. Use `zero_division` parameter to control this behavior.\n",
      "  _warn_prf(average, modifier, msg_start, len(result))\n"
     ]
    },
    {
     "name": "stdout",
     "output_type": "stream",
     "text": [
      "{'n_estimators': 20, 'con': 0.05}\n",
      "0.42809959349593496\n",
      "              precision    recall  f1-score   support\n",
      "\n",
      "           0     0.0000    0.0000    0.0000      9056\n",
      "           1     0.7486    1.0000    0.8562     26960\n",
      "\n",
      "    accuracy                         0.7486     36016\n",
      "   macro avg     0.3743    0.5000    0.4281     36016\n",
      "weighted avg     0.5603    0.7486    0.6409     36016\n",
      "\n",
      "\n",
      "==== 'emb_wo_port_NF-UQ-NIDS-v2_chunks' ====\n"
     ]
    },
    {
     "name": "stderr",
     "output_type": "stream",
     "text": [
      "100%|███████████████████████████████████████████| 24/24 [03:06<00:00,  7.78s/it]\n"
     ]
    },
    {
     "name": "stdout",
     "output_type": "stream",
     "text": [
      "{'n_estimators': 150, 'con': 0.001}\n",
      "0.7854097626249152\n",
      "              precision    recall  f1-score   support\n",
      "\n",
      "           0     0.5744    0.9402    0.7131      9056\n",
      "           1     0.9744    0.7660    0.8577     26960\n",
      "\n",
      "    accuracy                         0.8098     36016\n",
      "   macro avg     0.7744    0.8531    0.7854     36016\n",
      "weighted avg     0.8738    0.8098    0.8214     36016\n",
      "\n",
      "\n",
      "==== 'emb_wo_port_NF-CSE-CIC-IDS2018-v2_chunks' ====\n"
     ]
    },
    {
     "name": "stderr",
     "output_type": "stream",
     "text": [
      "100%|███████████████████████████████████████████| 24/24 [03:33<00:00,  8.91s/it]"
     ]
    },
    {
     "name": "stdout",
     "output_type": "stream",
     "text": [
      "{'n_estimators': 150, 'con': 0.01}\n",
      "0.6051448926477966\n",
      "              precision    recall  f1-score   support\n",
      "\n",
      "           0     0.3916    0.4798    0.4312      9056\n",
      "           1     0.8110    0.7496    0.7791     26960\n",
      "\n",
      "    accuracy                         0.6818     36016\n",
      "   macro avg     0.6013    0.6147    0.6051     36016\n",
      "weighted avg     0.7055    0.6818    0.6916     36016\n",
      "\n"
     ]
    },
    {
     "name": "stderr",
     "output_type": "stream",
     "text": [
      "\n"
     ]
    }
   ],
   "source": [
    "df_test = pd.read_parquet(dir_data + emb_prefix + 'Attack-2_chunks')\n",
    "\n",
    "for i, nf in enumerate(netflows):\n",
    "    print (\"\\n==== '\" + emb_prefix+nf + \"' ====\")\n",
    "    \n",
    "    n_est = [20, 50, 100, 150]\n",
    "    cont = [0.001, 0.01, 0.04, 0.05, 0.1, 0.2]\n",
    "    params = list(itertools.product(n_est, cont))\n",
    "    score = -1\n",
    "    bs = None\n",
    "    PATH = dir_data + emb_prefix + nf\n",
    "    df_train = pd.read_parquet(PATH)\n",
    "    \n",
    "    benign_train_samples = df_train[df_train.Label == 0].drop(columns=[\"Label\"])\n",
    "    normal_train_samples = df_train.drop(columns=[\"Label\"])\n",
    "\n",
    "    train_labels = df_train[\"Label\"]\n",
    "    test_labels = df_test[\"Label\"]\n",
    "\n",
    "    test_samples = df_test.drop(columns=[\"Label\"])\n",
    "    \n",
    "    \n",
    "    for n_est, con in tqdm(params):\n",
    "        clf_if = IsolationForest(n_estimators=n_est, contamination=con)\n",
    "        clf_if.fit(benign_train_samples)\n",
    "        y_pred = clf_if.predict(test_samples)\n",
    "        test_pred = list(map(lambda x : 0 if x == 1 else 1, y_pred))\n",
    "\n",
    "        f1 = f1_score(test_labels, test_pred, average='macro')\n",
    "\n",
    "        if f1 > score:\n",
    "            score = f1\n",
    "            best_params = {'n_estimators': n_est,\n",
    "                           \"con\": con\n",
    "                    }\n",
    "            bs = test_pred\n",
    "        del clf_if\n",
    "        gc.collect()\n",
    "\n",
    "\n",
    "    print(best_params)\n",
    "    print(score)\n",
    "    print(classification_report(test_labels, bs, digits=4))"
   ]
  },
  {
   "cell_type": "code",
   "execution_count": 8,
   "id": "3f3fa837-b90d-4a49-a36a-ac5d53bf073a",
   "metadata": {},
   "outputs": [],
   "source": [
    "df_train = pd.DataFrame()\n",
    "for i, nf in enumerate(netflows):\n",
    "    #print (\"\\n==== '\" + emb_prefix+nf + \"' ====\")\n",
    "    \n",
    "    PATH = dir_data + emb_prefix + nf\n",
    "    df_train = pd.concat([df_train, pd.read_parquet(PATH)])\n",
    "\n",
    "df_train = df_train.drop_duplicates()\n",
    "filtered_df = df_train.groupby(list(df_train.columns)[:-1])[list(df_train.columns)[-1]].transform('nunique') != 1\n",
    "df_train = df_train[~filtered_df]\n",
    "df_train = df_train.sample(frac=1).reset_index(drop=True)"
   ]
  },
  {
   "cell_type": "code",
   "execution_count": 41,
   "id": "7c2f8e2a-063c-4a6f-ae2e-3d3c5e83e082",
   "metadata": {},
   "outputs": [],
   "source": [
    "df_test = pd.read_parquet(dir_data + emb_prefix + 'Attack-2_chunks')"
   ]
  },
  {
   "cell_type": "code",
   "execution_count": null,
   "id": "7861b069-2fd1-49e5-9077-7212d9d314a9",
   "metadata": {},
   "outputs": [],
   "source": [
    "n_est = [20, 50, 100, 150]\n",
    "cont = [0.001, 0.01, 0.04, 0.05, 0.1, 0.2]\n",
    "params = list(itertools.product(n_est, cont))\n",
    "score = -1\n",
    "bs = None\n",
    "\n",
    "benign_train_samples = df_train[df_train.Label == 0].drop(columns=[\"Label\"])\n",
    "normal_train_samples = df_train.drop(columns=[\"Label\"])\n",
    "\n",
    "train_labels = df_train[\"Label\"]\n",
    "test_labels = df_test[\"Label\"]\n",
    "\n",
    "test_samples = df_test.drop(columns=[\"Label\"])\n",
    "\n",
    "\n",
    "for n_est, con in tqdm(params):\n",
    "    clf_if = IsolationForest(n_estimators=n_est, contamination=con)\n",
    "    clf_if.fit(benign_train_samples)\n",
    "    y_pred = clf_if.predict(test_samples)\n",
    "    test_pred = list(map(lambda x : 0 if x == 1 else 1, y_pred))\n",
    "\n",
    "    f1 = f1_score(test_labels, test_pred, average='macro')\n",
    "\n",
    "    if f1 > score:\n",
    "        score = f1\n",
    "        best_params = {'n_estimators': n_est,\n",
    "                       \"con\": con\n",
    "                }\n",
    "        bs = test_pred\n",
    "    del clf_if\n",
    "    gc.collect()\n",
    "\n",
    "\n",
    "print(best_params)\n",
    "print(score)\n",
    "print(classification_report(test_labels, bs, digits=4))"
   ]
  },
  {
   "cell_type": "code",
   "execution_count": 7,
   "id": "9ac96667-ccf9-4e4e-ba52-adbd26b123ad",
   "metadata": {
    "tags": []
   },
   "outputs": [],
   "source": [
    "emb_prefix = \"emb_port_\""
   ]
  },
  {
   "cell_type": "code",
   "execution_count": 8,
   "id": "ad8df589-8407-420e-ad1e-7a26625b1229",
   "metadata": {
    "tags": []
   },
   "outputs": [
    {
     "name": "stdout",
     "output_type": "stream",
     "text": [
      "\n",
      "==== 'emb_port_NF-BoT-IoT_chunks' ====\n"
     ]
    },
    {
     "name": "stderr",
     "output_type": "stream",
     "text": [
      "100%|███████████████████████████████████████████| 24/24 [00:22<00:00,  1.08it/s]\n"
     ]
    },
    {
     "name": "stdout",
     "output_type": "stream",
     "text": [
      "{'n_estimators': 20, 'con': 0.04}\n",
      "0.7554763535935455\n",
      "              precision    recall  f1-score   support\n",
      "\n",
      "           0     0.3625    0.9488    0.5246      9104\n",
      "           1     0.9992    0.9739    0.9864    581118\n",
      "\n",
      "    accuracy                         0.9735    590222\n",
      "   macro avg     0.6808    0.9613    0.7555    590222\n",
      "weighted avg     0.9894    0.9735    0.9792    590222\n",
      "\n",
      "\n",
      "==== 'emb_port_NF-ToN-IoT_chunks' ====\n"
     ]
    },
    {
     "name": "stderr",
     "output_type": "stream",
     "text": [
      "100%|███████████████████████████████████████████| 24/24 [00:27<00:00,  1.13s/it]\n"
     ]
    },
    {
     "name": "stdout",
     "output_type": "stream",
     "text": [
      "{'n_estimators': 20, 'con': 0.01}\n",
      "0.4961138525107996\n"
     ]
    },
    {
     "name": "stderr",
     "output_type": "stream",
     "text": [
      "/Users/mammadli/miniconda3/envs/py_jop/lib/python3.10/site-packages/sklearn/metrics/_classification.py:1469: UndefinedMetricWarning: Precision and F-score are ill-defined and being set to 0.0 in labels with no predicted samples. Use `zero_division` parameter to control this behavior.\n",
      "  _warn_prf(average, modifier, msg_start, len(result))\n",
      "/Users/mammadli/miniconda3/envs/py_jop/lib/python3.10/site-packages/sklearn/metrics/_classification.py:1469: UndefinedMetricWarning: Precision and F-score are ill-defined and being set to 0.0 in labels with no predicted samples. Use `zero_division` parameter to control this behavior.\n",
      "  _warn_prf(average, modifier, msg_start, len(result))\n",
      "/Users/mammadli/miniconda3/envs/py_jop/lib/python3.10/site-packages/sklearn/metrics/_classification.py:1469: UndefinedMetricWarning: Precision and F-score are ill-defined and being set to 0.0 in labels with no predicted samples. Use `zero_division` parameter to control this behavior.\n",
      "  _warn_prf(average, modifier, msg_start, len(result))\n"
     ]
    },
    {
     "name": "stdout",
     "output_type": "stream",
     "text": [
      "              precision    recall  f1-score   support\n",
      "\n",
      "           0     0.0000    0.0000    0.0000      9104\n",
      "           1     0.9846    1.0000    0.9922    581118\n",
      "\n",
      "    accuracy                         0.9846    590222\n",
      "   macro avg     0.4923    0.5000    0.4961    590222\n",
      "weighted avg     0.9694    0.9846    0.9769    590222\n",
      "\n",
      "\n",
      "==== 'emb_port_NF-UNSW-NB15_chunks' ====\n"
     ]
    },
    {
     "name": "stderr",
     "output_type": "stream",
     "text": [
      "100%|███████████████████████████████████████████| 24/24 [00:45<00:00,  1.90s/it]\n"
     ]
    },
    {
     "name": "stdout",
     "output_type": "stream",
     "text": [
      "{'n_estimators': 20, 'con': 0.1}\n",
      "0.4961138525107996\n"
     ]
    },
    {
     "name": "stderr",
     "output_type": "stream",
     "text": [
      "/Users/mammadli/miniconda3/envs/py_jop/lib/python3.10/site-packages/sklearn/metrics/_classification.py:1469: UndefinedMetricWarning: Precision and F-score are ill-defined and being set to 0.0 in labels with no predicted samples. Use `zero_division` parameter to control this behavior.\n",
      "  _warn_prf(average, modifier, msg_start, len(result))\n",
      "/Users/mammadli/miniconda3/envs/py_jop/lib/python3.10/site-packages/sklearn/metrics/_classification.py:1469: UndefinedMetricWarning: Precision and F-score are ill-defined and being set to 0.0 in labels with no predicted samples. Use `zero_division` parameter to control this behavior.\n",
      "  _warn_prf(average, modifier, msg_start, len(result))\n",
      "/Users/mammadli/miniconda3/envs/py_jop/lib/python3.10/site-packages/sklearn/metrics/_classification.py:1469: UndefinedMetricWarning: Precision and F-score are ill-defined and being set to 0.0 in labels with no predicted samples. Use `zero_division` parameter to control this behavior.\n",
      "  _warn_prf(average, modifier, msg_start, len(result))\n"
     ]
    },
    {
     "name": "stdout",
     "output_type": "stream",
     "text": [
      "              precision    recall  f1-score   support\n",
      "\n",
      "           0     0.0000    0.0000    0.0000      9104\n",
      "           1     0.9846    1.0000    0.9922    581118\n",
      "\n",
      "    accuracy                         0.9846    590222\n",
      "   macro avg     0.4923    0.5000    0.4961    590222\n",
      "weighted avg     0.9694    0.9846    0.9769    590222\n",
      "\n",
      "\n",
      "==== 'emb_port_NF-UQ-NIDS_chunks' ====\n"
     ]
    },
    {
     "name": "stderr",
     "output_type": "stream",
     "text": [
      "100%|███████████████████████████████████████████| 24/24 [02:15<00:00,  5.64s/it]\n"
     ]
    },
    {
     "name": "stdout",
     "output_type": "stream",
     "text": [
      "{'n_estimators': 50, 'con': 0.01}\n",
      "0.6052743158766726\n",
      "              precision    recall  f1-score   support\n",
      "\n",
      "           0     0.1479    0.9910    0.2574      9104\n",
      "           1     0.9998    0.9106    0.9531    581118\n",
      "\n",
      "    accuracy                         0.9118    590222\n",
      "   macro avg     0.5739    0.9508    0.6053    590222\n",
      "weighted avg     0.9867    0.9118    0.9424    590222\n",
      "\n",
      "\n",
      "==== 'emb_port_NF-CSE-CIC-IDS2018_chunks' ====\n"
     ]
    },
    {
     "name": "stderr",
     "output_type": "stream",
     "text": [
      "100%|███████████████████████████████████████████| 24/24 [01:43<00:00,  4.32s/it]\n"
     ]
    },
    {
     "name": "stdout",
     "output_type": "stream",
     "text": [
      "{'n_estimators': 20, 'con': 0.1}\n",
      "0.4961138525107996\n"
     ]
    },
    {
     "name": "stderr",
     "output_type": "stream",
     "text": [
      "/Users/mammadli/miniconda3/envs/py_jop/lib/python3.10/site-packages/sklearn/metrics/_classification.py:1469: UndefinedMetricWarning: Precision and F-score are ill-defined and being set to 0.0 in labels with no predicted samples. Use `zero_division` parameter to control this behavior.\n",
      "  _warn_prf(average, modifier, msg_start, len(result))\n",
      "/Users/mammadli/miniconda3/envs/py_jop/lib/python3.10/site-packages/sklearn/metrics/_classification.py:1469: UndefinedMetricWarning: Precision and F-score are ill-defined and being set to 0.0 in labels with no predicted samples. Use `zero_division` parameter to control this behavior.\n",
      "  _warn_prf(average, modifier, msg_start, len(result))\n",
      "/Users/mammadli/miniconda3/envs/py_jop/lib/python3.10/site-packages/sklearn/metrics/_classification.py:1469: UndefinedMetricWarning: Precision and F-score are ill-defined and being set to 0.0 in labels with no predicted samples. Use `zero_division` parameter to control this behavior.\n",
      "  _warn_prf(average, modifier, msg_start, len(result))\n"
     ]
    },
    {
     "name": "stdout",
     "output_type": "stream",
     "text": [
      "              precision    recall  f1-score   support\n",
      "\n",
      "           0     0.0000    0.0000    0.0000      9104\n",
      "           1     0.9846    1.0000    0.9922    581118\n",
      "\n",
      "    accuracy                         0.9846    590222\n",
      "   macro avg     0.4923    0.5000    0.4961    590222\n",
      "weighted avg     0.9694    0.9846    0.9769    590222\n",
      "\n",
      "\n",
      "==== 'emb_port_NF-BoT-IoT-v2_chunks' ====\n"
     ]
    },
    {
     "name": "stderr",
     "output_type": "stream",
     "text": [
      "100%|███████████████████████████████████████████| 24/24 [00:23<00:00,  1.01it/s]\n"
     ]
    },
    {
     "name": "stdout",
     "output_type": "stream",
     "text": [
      "{'n_estimators': 20, 'con': 0.2}\n",
      "0.8543234060179139\n",
      "              precision    recall  f1-score   support\n",
      "\n",
      "           0     0.5822    0.9244    0.7145      9104\n",
      "           1     0.9988    0.9896    0.9942    581118\n",
      "\n",
      "    accuracy                         0.9886    590222\n",
      "   macro avg     0.7905    0.9570    0.8543    590222\n",
      "weighted avg     0.9924    0.9886    0.9899    590222\n",
      "\n",
      "\n",
      "==== 'emb_port_NF-ToN-IoT-v2_chunks' ====\n"
     ]
    },
    {
     "name": "stderr",
     "output_type": "stream",
     "text": [
      "100%|███████████████████████████████████████████| 24/24 [01:11<00:00,  2.99s/it]\n"
     ]
    },
    {
     "name": "stdout",
     "output_type": "stream",
     "text": [
      "{'n_estimators': 50, 'con': 0.04}\n",
      "0.49616111009843666\n",
      "              precision    recall  f1-score   support\n",
      "\n",
      "           0     0.0052    0.0002    0.0004      9104\n",
      "           1     0.9846    0.9993    0.9919    581118\n",
      "\n",
      "    accuracy                         0.9839    590222\n",
      "   macro avg     0.4949    0.4998    0.4962    590222\n",
      "weighted avg     0.9695    0.9839    0.9766    590222\n",
      "\n",
      "\n",
      "==== 'emb_port_NF-UNSW-NB15-v2_chunks' ====\n"
     ]
    },
    {
     "name": "stderr",
     "output_type": "stream",
     "text": [
      "100%|███████████████████████████████████████████| 24/24 [00:55<00:00,  2.31s/it]\n"
     ]
    },
    {
     "name": "stdout",
     "output_type": "stream",
     "text": [
      "{'n_estimators': 50, 'con': 0.05}\n",
      "0.5244241990712356\n",
      "              precision    recall  f1-score   support\n",
      "\n",
      "           0     0.1260    0.0380    0.0584      9104\n",
      "           1     0.9851    0.9959    0.9905    581118\n",
      "\n",
      "    accuracy                         0.9811    590222\n",
      "   macro avg     0.5555    0.5169    0.5244    590222\n",
      "weighted avg     0.9718    0.9811    0.9761    590222\n",
      "\n",
      "\n",
      "==== 'emb_port_NF-UQ-NIDS-v2_chunks' ====\n"
     ]
    },
    {
     "name": "stderr",
     "output_type": "stream",
     "text": [
      "100%|███████████████████████████████████████████| 24/24 [01:08<00:00,  2.86s/it]\n"
     ]
    },
    {
     "name": "stdout",
     "output_type": "stream",
     "text": [
      "{'n_estimators': 20, 'con': 0.04}\n",
      "0.4961138525107996\n"
     ]
    },
    {
     "name": "stderr",
     "output_type": "stream",
     "text": [
      "/Users/mammadli/miniconda3/envs/py_jop/lib/python3.10/site-packages/sklearn/metrics/_classification.py:1469: UndefinedMetricWarning: Precision and F-score are ill-defined and being set to 0.0 in labels with no predicted samples. Use `zero_division` parameter to control this behavior.\n",
      "  _warn_prf(average, modifier, msg_start, len(result))\n",
      "/Users/mammadli/miniconda3/envs/py_jop/lib/python3.10/site-packages/sklearn/metrics/_classification.py:1469: UndefinedMetricWarning: Precision and F-score are ill-defined and being set to 0.0 in labels with no predicted samples. Use `zero_division` parameter to control this behavior.\n",
      "  _warn_prf(average, modifier, msg_start, len(result))\n",
      "/Users/mammadli/miniconda3/envs/py_jop/lib/python3.10/site-packages/sklearn/metrics/_classification.py:1469: UndefinedMetricWarning: Precision and F-score are ill-defined and being set to 0.0 in labels with no predicted samples. Use `zero_division` parameter to control this behavior.\n",
      "  _warn_prf(average, modifier, msg_start, len(result))\n"
     ]
    },
    {
     "name": "stdout",
     "output_type": "stream",
     "text": [
      "              precision    recall  f1-score   support\n",
      "\n",
      "           0     0.0000    0.0000    0.0000      9104\n",
      "           1     0.9846    1.0000    0.9922    581118\n",
      "\n",
      "    accuracy                         0.9846    590222\n",
      "   macro avg     0.4923    0.5000    0.4961    590222\n",
      "weighted avg     0.9694    0.9846    0.9769    590222\n",
      "\n",
      "\n",
      "==== 'emb_port_NF-CSE-CIC-IDS2018-v2_chunks' ====\n"
     ]
    },
    {
     "name": "stderr",
     "output_type": "stream",
     "text": [
      "100%|███████████████████████████████████████████| 24/24 [02:18<00:00,  5.76s/it]\n"
     ]
    },
    {
     "name": "stdout",
     "output_type": "stream",
     "text": [
      "{'n_estimators': 20, 'con': 0.05}\n",
      "0.4974992878695194\n",
      "              precision    recall  f1-score   support\n",
      "\n",
      "           0     0.0114    0.0031    0.0048      9104\n",
      "           1     0.9846    0.9958    0.9902    581118\n",
      "\n",
      "    accuracy                         0.9805    590222\n",
      "   macro avg     0.4980    0.4994    0.4975    590222\n",
      "weighted avg     0.9695    0.9805    0.9750    590222\n",
      "\n"
     ]
    }
   ],
   "source": [
    "for i, nf in enumerate(netflows):\n",
    "    print (\"\\n==== '\" + emb_prefix+nf + \"' ====\")\n",
    "    \n",
    "    n_est = [20, 50, 100, 150]\n",
    "    cont = [0.001, 0.01, 0.04, 0.05, 0.1, 0.2]\n",
    "    params = list(itertools.product(n_est, cont))\n",
    "    score = -1\n",
    "    bs = None\n",
    "    PATH = dir_data + emb_prefix + nf\n",
    "    df_train = pd.read_parquet(PATH)\n",
    "    \n",
    "    benign_train_samples = df_train[df_train.Label == 0].drop(columns=[\"Label\"])\n",
    "    normal_train_samples = df_train.drop(columns=[\"Label\"])\n",
    "\n",
    "    train_labels = df_train[\"Label\"]\n",
    "    test_labels = df_test[\"Label\"]\n",
    "\n",
    "    test_samples = df_test.drop(columns=[\"Label\"])\n",
    "    \n",
    "    \n",
    "    for n_est, con in tqdm(params):\n",
    "        clf_if = IsolationForest(n_estimators=n_est, contamination=con)\n",
    "        clf_if.fit(benign_train_samples)\n",
    "        y_pred = clf_if.predict(test_samples)\n",
    "        test_pred = list(map(lambda x : 0 if x == 1 else 1, y_pred))\n",
    "\n",
    "        f1 = f1_score(test_labels, test_pred, average='macro')\n",
    "\n",
    "        if f1 > score:\n",
    "            score = f1\n",
    "            best_params = {'n_estimators': n_est,\n",
    "                           \"con\": con\n",
    "                    }\n",
    "            bs = test_pred\n",
    "        del clf_if\n",
    "        gc.collect()\n",
    "\n",
    "\n",
    "    print(best_params)\n",
    "    print(score)\n",
    "    print(classification_report(test_labels, bs, digits=4))"
   ]
  },
  {
   "cell_type": "code",
   "execution_count": 42,
   "id": "786bbf4b-e201-45c8-a969-2ecb90171a51",
   "metadata": {
    "tags": []
   },
   "outputs": [
    {
     "name": "stderr",
     "output_type": "stream",
     "text": [
      "100%|███████████████████████████████████████████| 24/24 [03:55<00:00,  9.80s/it]"
     ]
    },
    {
     "name": "stdout",
     "output_type": "stream",
     "text": [
      "{'n_estimators': 50, 'con': 0.05}\n",
      "0.6602252521665287\n",
      "              precision    recall  f1-score   support\n",
      "\n",
      "           0     0.4319    0.9402    0.5919      9056\n",
      "           1     0.9668    0.5846    0.7286     26960\n",
      "\n",
      "    accuracy                         0.6740     36016\n",
      "   macro avg     0.6993    0.7624    0.6602     36016\n",
      "weighted avg     0.8323    0.6740    0.6942     36016\n",
      "\n"
     ]
    },
    {
     "name": "stderr",
     "output_type": "stream",
     "text": [
      "\n"
     ]
    }
   ],
   "source": [
    "n_est = [20, 50, 100, 150]\n",
    "cont = [0.001, 0.01, 0.04, 0.05, 0.1, 0.2]\n",
    "params = list(itertools.product(n_est, cont))\n",
    "score = -1\n",
    "bs = None\n",
    "\n",
    "benign_train_samples = df_train[df_train.Label == 0].drop(columns=[\"Label\"])\n",
    "normal_train_samples = df_train.drop(columns=[\"Label\"])\n",
    "\n",
    "train_labels = df_train[\"Label\"]\n",
    "test_labels = df_test[\"Label\"]\n",
    "\n",
    "test_samples = df_test.drop(columns=[\"Label\"])\n",
    "\n",
    "\n",
    "for n_est, con in tqdm(params):\n",
    "    clf_if = IsolationForest(n_estimators=n_est, contamination=con)\n",
    "    clf_if.fit(benign_train_samples)\n",
    "    y_pred = clf_if.predict(test_samples)\n",
    "    test_pred = list(map(lambda x : 0 if x == 1 else 1, y_pred))\n",
    "\n",
    "    f1 = f1_score(test_labels, test_pred, average='macro')\n",
    "\n",
    "    if f1 > score:\n",
    "        score = f1\n",
    "        best_params = {'n_estimators': n_est,\n",
    "                       \"con\": con\n",
    "                }\n",
    "        bs = test_pred\n",
    "    del clf_if\n",
    "    gc.collect()\n",
    "\n",
    "\n",
    "print(best_params)\n",
    "print(score)\n",
    "print(classification_report(test_labels, bs, digits=4))"
   ]
  },
  {
   "cell_type": "code",
   "execution_count": 43,
   "id": "0ab80c30-b395-4d82-86ae-e01c7cfa5a2c",
   "metadata": {
    "tags": []
   },
   "outputs": [],
   "source": [
    "df_train = df_train.sample(frac=1).reset_index(drop=True)"
   ]
  },
  {
   "cell_type": "code",
   "execution_count": 46,
   "id": "514d9d17-2e67-4bec-bf18-99928961783c",
   "metadata": {
    "tags": []
   },
   "outputs": [],
   "source": [
    "df_train = df_train_"
   ]
  },
  {
   "cell_type": "code",
   "execution_count": 37,
   "id": "9813574a-4cb2-4550-8bf1-6b246972215b",
   "metadata": {
    "tags": []
   },
   "outputs": [],
   "source": [
    "sample_size = 100000\n",
    "df_train = df_train.sample(n=sample_size, random_state=1)"
   ]
  },
  {
   "cell_type": "code",
   "execution_count": 44,
   "id": "3663397a-4cff-4f17-aed5-3062fcd0b129",
   "metadata": {
    "tags": []
   },
   "outputs": [],
   "source": [
    "l = int(0.9*df_train.shape[0])\n",
    "X = df_train.drop(columns=[\"Label\"])\n",
    "y = df_train[[\"Label\"]]\n",
    "\n",
    "X_train = X[:l]\n",
    "y_train = y[:l]\n",
    "\n",
    "X_val = X[l:]\n",
    "y_val = y[l:]"
   ]
  },
  {
   "cell_type": "code",
   "execution_count": 46,
   "id": "8fa0efee-24c8-413d-bb4b-096101c116d4",
   "metadata": {
    "tags": []
   },
   "outputs": [
    {
     "name": "stderr",
     "output_type": "stream",
     "text": [
      "/Users/mammadli/miniconda3/envs/py_jop/lib/python3.10/site-packages/sklearn/base.py:1151: DataConversionWarning: A column-vector y was passed when a 1d array was expected. Please change the shape of y to (n_samples,), for example using ravel().\n",
      "  return fit_method(estimator, *args, **kwargs)\n"
     ]
    },
    {
     "data": {
      "text/html": [
       "<style>#sk-container-id-1 {color: black;}#sk-container-id-1 pre{padding: 0;}#sk-container-id-1 div.sk-toggleable {background-color: white;}#sk-container-id-1 label.sk-toggleable__label {cursor: pointer;display: block;width: 100%;margin-bottom: 0;padding: 0.3em;box-sizing: border-box;text-align: center;}#sk-container-id-1 label.sk-toggleable__label-arrow:before {content: \"▸\";float: left;margin-right: 0.25em;color: #696969;}#sk-container-id-1 label.sk-toggleable__label-arrow:hover:before {color: black;}#sk-container-id-1 div.sk-estimator:hover label.sk-toggleable__label-arrow:before {color: black;}#sk-container-id-1 div.sk-toggleable__content {max-height: 0;max-width: 0;overflow: hidden;text-align: left;background-color: #f0f8ff;}#sk-container-id-1 div.sk-toggleable__content pre {margin: 0.2em;color: black;border-radius: 0.25em;background-color: #f0f8ff;}#sk-container-id-1 input.sk-toggleable__control:checked~div.sk-toggleable__content {max-height: 200px;max-width: 100%;overflow: auto;}#sk-container-id-1 input.sk-toggleable__control:checked~label.sk-toggleable__label-arrow:before {content: \"▾\";}#sk-container-id-1 div.sk-estimator input.sk-toggleable__control:checked~label.sk-toggleable__label {background-color: #d4ebff;}#sk-container-id-1 div.sk-label input.sk-toggleable__control:checked~label.sk-toggleable__label {background-color: #d4ebff;}#sk-container-id-1 input.sk-hidden--visually {border: 0;clip: rect(1px 1px 1px 1px);clip: rect(1px, 1px, 1px, 1px);height: 1px;margin: -1px;overflow: hidden;padding: 0;position: absolute;width: 1px;}#sk-container-id-1 div.sk-estimator {font-family: monospace;background-color: #f0f8ff;border: 1px dotted black;border-radius: 0.25em;box-sizing: border-box;margin-bottom: 0.5em;}#sk-container-id-1 div.sk-estimator:hover {background-color: #d4ebff;}#sk-container-id-1 div.sk-parallel-item::after {content: \"\";width: 100%;border-bottom: 1px solid gray;flex-grow: 1;}#sk-container-id-1 div.sk-label:hover label.sk-toggleable__label {background-color: #d4ebff;}#sk-container-id-1 div.sk-serial::before {content: \"\";position: absolute;border-left: 1px solid gray;box-sizing: border-box;top: 0;bottom: 0;left: 50%;z-index: 0;}#sk-container-id-1 div.sk-serial {display: flex;flex-direction: column;align-items: center;background-color: white;padding-right: 0.2em;padding-left: 0.2em;position: relative;}#sk-container-id-1 div.sk-item {position: relative;z-index: 1;}#sk-container-id-1 div.sk-parallel {display: flex;align-items: stretch;justify-content: center;background-color: white;position: relative;}#sk-container-id-1 div.sk-item::before, #sk-container-id-1 div.sk-parallel-item::before {content: \"\";position: absolute;border-left: 1px solid gray;box-sizing: border-box;top: 0;bottom: 0;left: 50%;z-index: -1;}#sk-container-id-1 div.sk-parallel-item {display: flex;flex-direction: column;z-index: 1;position: relative;background-color: white;}#sk-container-id-1 div.sk-parallel-item:first-child::after {align-self: flex-end;width: 50%;}#sk-container-id-1 div.sk-parallel-item:last-child::after {align-self: flex-start;width: 50%;}#sk-container-id-1 div.sk-parallel-item:only-child::after {width: 0;}#sk-container-id-1 div.sk-dashed-wrapped {border: 1px dashed gray;margin: 0 0.4em 0.5em 0.4em;box-sizing: border-box;padding-bottom: 0.4em;background-color: white;}#sk-container-id-1 div.sk-label label {font-family: monospace;font-weight: bold;display: inline-block;line-height: 1.2em;}#sk-container-id-1 div.sk-label-container {text-align: center;}#sk-container-id-1 div.sk-container {/* jupyter's `normalize.less` sets `[hidden] { display: none; }` but bootstrap.min.css set `[hidden] { display: none !important; }` so we also need the `!important` here to be able to override the default hidden behavior on the sphinx rendered scikit-learn.org. See: https://github.com/scikit-learn/scikit-learn/issues/21755 */display: inline-block !important;position: relative;}#sk-container-id-1 div.sk-text-repr-fallback {display: none;}</style><div id=\"sk-container-id-1\" class=\"sk-top-container\"><div class=\"sk-text-repr-fallback\"><pre>RandomForestClassifier(criterion=&#x27;entropy&#x27;, n_estimators=10, random_state=0,\n",
       "                       verbose=1)</pre><b>In a Jupyter environment, please rerun this cell to show the HTML representation or trust the notebook. <br />On GitHub, the HTML representation is unable to render, please try loading this page with nbviewer.org.</b></div><div class=\"sk-container\" hidden><div class=\"sk-item\"><div class=\"sk-estimator sk-toggleable\"><input class=\"sk-toggleable__control sk-hidden--visually\" id=\"sk-estimator-id-1\" type=\"checkbox\" checked><label for=\"sk-estimator-id-1\" class=\"sk-toggleable__label sk-toggleable__label-arrow\">RandomForestClassifier</label><div class=\"sk-toggleable__content\"><pre>RandomForestClassifier(criterion=&#x27;entropy&#x27;, n_estimators=10, random_state=0,\n",
       "                       verbose=1)</pre></div></div></div></div></div>"
      ],
      "text/plain": [
       "RandomForestClassifier(criterion='entropy', n_estimators=10, random_state=0,\n",
       "                       verbose=1)"
      ]
     },
     "execution_count": 46,
     "metadata": {},
     "output_type": "execute_result"
    }
   ],
   "source": [
    "rf_classifier = RandomForestClassifier(n_estimators = 10, criterion = 'entropy', random_state = 0, verbose=1)\n",
    "rf_classifier.fit(X_train, y_train)"
   ]
  },
  {
   "cell_type": "code",
   "execution_count": 47,
   "id": "12303f86-cb87-4e75-92e3-45591615e0d3",
   "metadata": {
    "tags": []
   },
   "outputs": [
    {
     "name": "stderr",
     "output_type": "stream",
     "text": [
      "/Users/mammadli/miniconda3/envs/py_jop/lib/python3.10/site-packages/sklearn/neighbors/_classification.py:228: DataConversionWarning: A column-vector y was passed when a 1d array was expected. Please change the shape of y to (n_samples,), for example using ravel().\n",
      "  return self._fit(X, y)\n"
     ]
    },
    {
     "data": {
      "text/html": [
       "<style>#sk-container-id-2 {color: black;}#sk-container-id-2 pre{padding: 0;}#sk-container-id-2 div.sk-toggleable {background-color: white;}#sk-container-id-2 label.sk-toggleable__label {cursor: pointer;display: block;width: 100%;margin-bottom: 0;padding: 0.3em;box-sizing: border-box;text-align: center;}#sk-container-id-2 label.sk-toggleable__label-arrow:before {content: \"▸\";float: left;margin-right: 0.25em;color: #696969;}#sk-container-id-2 label.sk-toggleable__label-arrow:hover:before {color: black;}#sk-container-id-2 div.sk-estimator:hover label.sk-toggleable__label-arrow:before {color: black;}#sk-container-id-2 div.sk-toggleable__content {max-height: 0;max-width: 0;overflow: hidden;text-align: left;background-color: #f0f8ff;}#sk-container-id-2 div.sk-toggleable__content pre {margin: 0.2em;color: black;border-radius: 0.25em;background-color: #f0f8ff;}#sk-container-id-2 input.sk-toggleable__control:checked~div.sk-toggleable__content {max-height: 200px;max-width: 100%;overflow: auto;}#sk-container-id-2 input.sk-toggleable__control:checked~label.sk-toggleable__label-arrow:before {content: \"▾\";}#sk-container-id-2 div.sk-estimator input.sk-toggleable__control:checked~label.sk-toggleable__label {background-color: #d4ebff;}#sk-container-id-2 div.sk-label input.sk-toggleable__control:checked~label.sk-toggleable__label {background-color: #d4ebff;}#sk-container-id-2 input.sk-hidden--visually {border: 0;clip: rect(1px 1px 1px 1px);clip: rect(1px, 1px, 1px, 1px);height: 1px;margin: -1px;overflow: hidden;padding: 0;position: absolute;width: 1px;}#sk-container-id-2 div.sk-estimator {font-family: monospace;background-color: #f0f8ff;border: 1px dotted black;border-radius: 0.25em;box-sizing: border-box;margin-bottom: 0.5em;}#sk-container-id-2 div.sk-estimator:hover {background-color: #d4ebff;}#sk-container-id-2 div.sk-parallel-item::after {content: \"\";width: 100%;border-bottom: 1px solid gray;flex-grow: 1;}#sk-container-id-2 div.sk-label:hover label.sk-toggleable__label {background-color: #d4ebff;}#sk-container-id-2 div.sk-serial::before {content: \"\";position: absolute;border-left: 1px solid gray;box-sizing: border-box;top: 0;bottom: 0;left: 50%;z-index: 0;}#sk-container-id-2 div.sk-serial {display: flex;flex-direction: column;align-items: center;background-color: white;padding-right: 0.2em;padding-left: 0.2em;position: relative;}#sk-container-id-2 div.sk-item {position: relative;z-index: 1;}#sk-container-id-2 div.sk-parallel {display: flex;align-items: stretch;justify-content: center;background-color: white;position: relative;}#sk-container-id-2 div.sk-item::before, #sk-container-id-2 div.sk-parallel-item::before {content: \"\";position: absolute;border-left: 1px solid gray;box-sizing: border-box;top: 0;bottom: 0;left: 50%;z-index: -1;}#sk-container-id-2 div.sk-parallel-item {display: flex;flex-direction: column;z-index: 1;position: relative;background-color: white;}#sk-container-id-2 div.sk-parallel-item:first-child::after {align-self: flex-end;width: 50%;}#sk-container-id-2 div.sk-parallel-item:last-child::after {align-self: flex-start;width: 50%;}#sk-container-id-2 div.sk-parallel-item:only-child::after {width: 0;}#sk-container-id-2 div.sk-dashed-wrapped {border: 1px dashed gray;margin: 0 0.4em 0.5em 0.4em;box-sizing: border-box;padding-bottom: 0.4em;background-color: white;}#sk-container-id-2 div.sk-label label {font-family: monospace;font-weight: bold;display: inline-block;line-height: 1.2em;}#sk-container-id-2 div.sk-label-container {text-align: center;}#sk-container-id-2 div.sk-container {/* jupyter's `normalize.less` sets `[hidden] { display: none; }` but bootstrap.min.css set `[hidden] { display: none !important; }` so we also need the `!important` here to be able to override the default hidden behavior on the sphinx rendered scikit-learn.org. See: https://github.com/scikit-learn/scikit-learn/issues/21755 */display: inline-block !important;position: relative;}#sk-container-id-2 div.sk-text-repr-fallback {display: none;}</style><div id=\"sk-container-id-2\" class=\"sk-top-container\"><div class=\"sk-text-repr-fallback\"><pre>KNeighborsClassifier(n_neighbors=3)</pre><b>In a Jupyter environment, please rerun this cell to show the HTML representation or trust the notebook. <br />On GitHub, the HTML representation is unable to render, please try loading this page with nbviewer.org.</b></div><div class=\"sk-container\" hidden><div class=\"sk-item\"><div class=\"sk-estimator sk-toggleable\"><input class=\"sk-toggleable__control sk-hidden--visually\" id=\"sk-estimator-id-2\" type=\"checkbox\" checked><label for=\"sk-estimator-id-2\" class=\"sk-toggleable__label sk-toggleable__label-arrow\">KNeighborsClassifier</label><div class=\"sk-toggleable__content\"><pre>KNeighborsClassifier(n_neighbors=3)</pre></div></div></div></div></div>"
      ],
      "text/plain": [
       "KNeighborsClassifier(n_neighbors=3)"
      ]
     },
     "execution_count": 47,
     "metadata": {},
     "output_type": "execute_result"
    }
   ],
   "source": [
    "knn_classifier = KNeighborsClassifier(n_neighbors=3)\n",
    "knn_classifier.fit(X_train, y_train)"
   ]
  },
  {
   "cell_type": "code",
   "execution_count": 51,
   "id": "1eb02b5a-455a-4c21-9789-bda0b438bd07",
   "metadata": {
    "tags": []
   },
   "outputs": [
    {
     "name": "stdout",
     "output_type": "stream",
     "text": [
      "[[412107   1403]\n",
      " [  2319    246]] 0.9910544973862885\n"
     ]
    }
   ],
   "source": [
    "y_val_pred = rf_classifier.predict(X_val)\n",
    "cm = confusion_matrix(y_val, y_val_pred)\n",
    "acc = accuracy_score(y_val, y_val_pred)\n",
    "print(cm, acc)"
   ]
  },
  {
   "cell_type": "code",
   "execution_count": 49,
   "id": "a3b8753a-0d80-458d-89ba-f5bbdb303a00",
   "metadata": {
    "tags": []
   },
   "outputs": [
    {
     "name": "stderr",
     "output_type": "stream",
     "text": [
      "/Users/mammadli/miniconda3/envs/py_jop/lib/python3.10/site-packages/sklearn/base.py:464: UserWarning: X does not have valid feature names, but KNeighborsClassifier was fitted with feature names\n",
      "  warnings.warn(\n"
     ]
    },
    {
     "name": "stdout",
     "output_type": "stream",
     "text": [
      "[[412474   1036]\n",
      " [  2228    337]] 0.9921552604698672\n"
     ]
    }
   ],
   "source": [
    "y_val_pred = knn_classifier.predict(X_val.values)\n",
    "cm = confusion_matrix(y_val, y_val_pred)\n",
    "acc = accuracy_score(y_val, y_val_pred)\n",
    "print(cm, acc)"
   ]
  },
  {
   "cell_type": "code",
   "execution_count": 50,
   "id": "d70dcc3f-4d0f-4958-8d57-6e7db3d28a16",
   "metadata": {
    "tags": []
   },
   "outputs": [],
   "source": [
    "X_test = df_test.drop(columns=[\"Label\"])\n",
    "y_test = df_test[[\"Label\"]]"
   ]
  },
  {
   "cell_type": "code",
   "execution_count": 52,
   "id": "430f1c41-fe00-4d2c-9cea-d2a64da00f8d",
   "metadata": {
    "tags": []
   },
   "outputs": [
    {
     "name": "stdout",
     "output_type": "stream",
     "text": [
      "[[ 9056     0]\n",
      " [26958     2]] 0.251499333629498\n"
     ]
    }
   ],
   "source": [
    "y_pred = rf_classifier.predict(X_test)\n",
    "cm = confusion_matrix(y_test, y_pred)\n",
    "acc = accuracy_score(y_test, y_pred)\n",
    "print(cm, acc)"
   ]
  },
  {
   "cell_type": "code",
   "execution_count": 53,
   "id": "78163883-17b9-4d7a-8eab-51d429b3665b",
   "metadata": {
    "tags": []
   },
   "outputs": [
    {
     "name": "stderr",
     "output_type": "stream",
     "text": [
      "/Users/mammadli/miniconda3/envs/py_jop/lib/python3.10/site-packages/sklearn/base.py:464: UserWarning: X does not have valid feature names, but KNeighborsClassifier was fitted with feature names\n",
      "  warnings.warn(\n"
     ]
    },
    {
     "name": "stdout",
     "output_type": "stream",
     "text": [
      "[[ 4536  4520]\n",
      " [15785 11175]] 0.43622278987116836\n"
     ]
    }
   ],
   "source": [
    "y_pred = knn_classifier.predict(X_test.values)\n",
    "cm = confusion_matrix(y_test, y_pred)\n",
    "acc = accuracy_score(y_test, y_pred)\n",
    "print(cm, acc)"
   ]
  }
 ],
 "metadata": {
  "kernelspec": {
   "display_name": "Python 3 (ipykernel)",
   "language": "python",
   "name": "python3"
  },
  "language_info": {
   "codemirror_mode": {
    "name": "ipython",
    "version": 3
   },
   "file_extension": ".py",
   "mimetype": "text/x-python",
   "name": "python",
   "nbconvert_exporter": "python",
   "pygments_lexer": "ipython3",
   "version": "3.10.12"
  }
 },
 "nbformat": 4,
 "nbformat_minor": 5
}
