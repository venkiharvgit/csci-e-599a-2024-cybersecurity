{
 "cells": [
  {
   "cell_type": "code",
   "execution_count": 1,
   "id": "3877f4d3",
   "metadata": {},
   "outputs": [],
   "source": [
    "import os\n",
    "import pandas as pd\n",
    "import numpy as np\n",
    "\n",
    "import seaborn as sns\n",
    "import matplotlib.pyplot as plt\n",
    "\n",
    "from matplotlib import pyplot as plt\n",
    "\n",
    "from sklearn.decomposition import PCA\n",
    "from sklearn.preprocessing import StandardScaler\n",
    "import dask.dataframe as dd\n",
    "import socket\n",
    "import struct\n",
    "import random\n",
    "import pandas as pd\n",
    "import pyarrow as pa\n",
    "import pyarrow.parquet as pq\n",
    "import pickle\n",
    "import numpy as np\n",
    "from tensorflow.keras.models import load_model"
   ]
  },
  {
   "cell_type": "code",
   "execution_count": 2,
   "id": "ab75eb15",
   "metadata": {},
   "outputs": [
    {
     "data": {
      "text/plain": [
       "['.ipynb_checkpoints',\n",
       " '._exploratory3.ipynb',\n",
       " '._exploratory5.ipynb',\n",
       " '._labels_rand3_seed157.pkl',\n",
       " '._part.23.parquet',\n",
       " '._part.35.parquet',\n",
       " '._part.45.parquet',\n",
       " '._part.80.parquet',\n",
       " '._part.81.parquet',\n",
       " '._part.82.parquet',\n",
       " '._part.83.parquet',\n",
       " '._part.84.parquet',\n",
       " '._part.85.parquet',\n",
       " '._part.86.parquet',\n",
       " '._part.87.parquet',\n",
       " '._part.88.parquet',\n",
       " '._part.89.parquet',\n",
       " '._part.90.parquet',\n",
       " '._t_values_rand3_seed157.pkl',\n",
       " '._z_scores_rand10_seed157-2.pkl',\n",
       " '._z_scores_rand10_seed157.pkl',\n",
       " 'exploratory3.ipynb',\n",
       " 'exploratory5.ipynb',\n",
       " 'exploratory7.ipynb',\n",
       " 'labels_rand3_seed157.pkl',\n",
       " 'part.23.parquet',\n",
       " 'part.35.parquet',\n",
       " 'part.45.parquet',\n",
       " 'part.80.parquet',\n",
       " 'part.81.parquet',\n",
       " 'part.82.parquet',\n",
       " 'part.83.parquet',\n",
       " 'part.84.parquet',\n",
       " 'part.85.parquet',\n",
       " 'part.86.parquet',\n",
       " 'part.87.parquet',\n",
       " 'part.88.parquet',\n",
       " 'part.89.parquet',\n",
       " 'part.90.parquet',\n",
       " 't_values_rand3_seed157.pkl',\n",
       " 'z_scores_rand10_seed157-2.pkl',\n",
       " 'z_scores_rand10_seed157.pkl']"
      ]
     },
     "execution_count": 2,
     "metadata": {},
     "output_type": "execute_result"
    }
   ],
   "source": [
    "zepa = 'C:/Users/vanam/parquets' \n",
    "os.chdir(zepa)\n",
    "os.listdir()"
   ]
  },
  {
   "cell_type": "code",
   "execution_count": 6,
   "id": "c12b4183",
   "metadata": {},
   "outputs": [
    {
     "data": {
      "text/plain": [
       "(300000,)"
      ]
     },
     "execution_count": 6,
     "metadata": {},
     "output_type": "execute_result"
    }
   ],
   "source": [
    "output_filepath = \"labels_rand3_seed157.pkl\"\n",
    "\n",
    "with open(output_filepath, 'rb') as f:\n",
    "    labels_block = pickle.load(f)\n",
    "labels_block.shape"
   ]
  },
  {
   "cell_type": "code",
   "execution_count": 8,
   "id": "00164c53",
   "metadata": {},
   "outputs": [
    {
     "data": {
      "text/plain": [
       "(300000, 37)"
      ]
     },
     "execution_count": 8,
     "metadata": {},
     "output_type": "execute_result"
    }
   ],
   "source": [
    "output_filepath = \"t_values_rand3_seed157.pkl\"\n",
    "\n",
    "with open(output_filepath, 'rb') as f:\n",
    "    t_values = pickle.load(f)\n",
    "t_values.shape"
   ]
  },
  {
   "cell_type": "code",
   "execution_count": 10,
   "id": "1a97b82d",
   "metadata": {},
   "outputs": [
    {
     "data": {
      "text/plain": [
       "(300000, 37)"
      ]
     },
     "execution_count": 10,
     "metadata": {},
     "output_type": "execute_result"
    }
   ],
   "source": [
    "output_filepath = \"z_scores_rand10_seed157.pkl\"\n",
    "\n",
    "with open(output_filepath, 'rb') as f:\n",
    "    z_scores = pickle.load(f)\n",
    "z_block = []\n",
    "for p in range(300000):\n",
    "    z_block.append(z_scores)\n",
    "z_block = np.array(z_block)    \n",
    "    \n",
    "z_block.shape"
   ]
  },
  {
   "cell_type": "code",
   "execution_count": 11,
   "id": "aebe0d16",
   "metadata": {},
   "outputs": [],
   "source": [
    "import tensorflow as tf\n",
    "from tensorflow import keras\n",
    "from tensorflow.keras import datasets, layers, models,regularizers\n",
    "from tensorflow.keras.layers import Input,Dense,concatenate\n",
    "from tensorflow.keras.datasets import mnist\n",
    "from tensorflow.keras.utils import to_categorical\n",
    "from tensorflow.keras.models import Model\n",
    "\n",
    "import matplotlib.pyplot as plt"
   ]
  },
  {
   "cell_type": "code",
   "execution_count": 12,
   "id": "f301f7c1",
   "metadata": {},
   "outputs": [],
   "source": [
    "def give_indices(data_size,fractions=(0.7,0.15,0.15)):\n",
    "\n",
    "    train_size = int(data_size * fractions[0])\n",
    "    val_size = int(data_size * fractions[1])\n",
    "    test_size = int(data_size * fractions[2])\n",
    "\n",
    "\n",
    "    train_indices = np.random.choice(data_size, size=train_size, replace=False)\n",
    "    remaining_indices = np.setdiff1d(np.arange(data_size), train_indices)\n",
    "    val_indices = np.random.choice(remaining_indices, size=val_size, replace=False)\n",
    "    test_indices = np.setdiff1d(remaining_indices, val_indices)\n",
    "    return (train_indices,val_indices,test_indices)"
   ]
  },
  {
   "cell_type": "code",
   "execution_count": 16,
   "id": "357c11bc",
   "metadata": {},
   "outputs": [],
   "source": [
    "my_fractions = (0.8,0.1,0.1)\n",
    "(tr,vl,te) = give_indices(len(labels_block),my_fractions)\n",
    "(tr_z,val_z,te_z) = (np.array(z_block[tr]),np.array(z_block[vl]),np.array(z_block[te]))\n",
    "(tr_t,val_t,te_t) = (np.array(t_values[tr]),np.array(t_values[vl]),np.array(t_values[te]))\n",
    "(tr_l,val_l,te_l) = (np.array(labels_block[tr]),np.array(labels_block[vl]),np.array(labels_block[te]))"
   ]
  },
  {
   "cell_type": "code",
   "execution_count": 17,
   "id": "223780dc",
   "metadata": {},
   "outputs": [
    {
     "data": {
      "text/plain": [
       "((240000, 37), (30000, 37), (30000, 37))"
      ]
     },
     "execution_count": 17,
     "metadata": {},
     "output_type": "execute_result"
    }
   ],
   "source": [
    "tr_t.shape,val_t.shape,te_t.shape"
   ]
  },
  {
   "cell_type": "code",
   "execution_count": 23,
   "id": "b71bd703",
   "metadata": {},
   "outputs": [],
   "source": [
    "def give_model():\n",
    "    input_shape_invariant = (37,) #(39,)\n",
    "    input_shape_varying = (37,) #(39,)\n",
    "    input_invariant = Input(shape=input_shape_invariant)\n",
    "    input_varying = Input(shape=input_shape_varying)\n",
    "\n",
    "    # branch for invariant part\n",
    "    dense_invariant1 = Dense(64, activation='relu')(input_invariant)\n",
    "    dense_invariant2 = Dense(128, activation='relu')(dense_invariant1)\n",
    "    dense_invariant3 = Dense(256, activation='relu')(dense_invariant2)\n",
    "\n",
    "    # branch for varying part\n",
    "    dense_varying1 = Dense(64, activation='relu')(input_varying)\n",
    "    dense_varying2 = Dense(128, activation='relu')(dense_varying1)\n",
    "    dense_varying3 = Dense(256, activation='relu')(dense_varying2)\n",
    "    dense_varying4 = Dense(256, activation='relu')(dense_varying3)\n",
    "    dense_varying5 = Dense(256, activation='relu')(dense_varying4)\n",
    "\n",
    "    concatenated = concatenate([dense_invariant3, dense_varying5])\n",
    "    output1 = Dense(1024, activation='relu')(concatenated)\n",
    "    output2 = Dense(512, activation='relu')(output1)\n",
    "    output3 = Dense(256, activation='relu')(output2)\n",
    "    #output = Dense(1, kernel_regularizer=regularizers.L2(0.01), activation='linear')(output3)\n",
    "\n",
    "    output = Dense(1, kernel_regularizer=regularizers.L2(0.01), activation='sigmoid')(output3)\n",
    "\n",
    "    #output = Dense(1, kernel_regularizer=regularizers.L2(0.01), activation='hard_sigmoid')(output3)\n",
    "    #output = Dense(1, kernel_regularizer=regularizers.L2(0.01), activation='tanh')(output3)\n",
    "\n",
    "    # Define the model\n",
    "    model = Model(inputs=[input_invariant, input_varying], outputs=output)\n",
    "    return model"
   ]
  },
  {
   "cell_type": "code",
   "execution_count": 24,
   "id": "a08f4e2b",
   "metadata": {},
   "outputs": [
    {
     "name": "stdout",
     "output_type": "stream",
     "text": [
      "Model: \"model_1\"\n",
      "__________________________________________________________________________________________________\n",
      " Layer (type)                   Output Shape         Param #     Connected to                     \n",
      "==================================================================================================\n",
      " input_4 (InputLayer)           [(None, 37)]         0           []                               \n",
      "                                                                                                  \n",
      " dense_15 (Dense)               (None, 64)           2432        ['input_4[0][0]']                \n",
      "                                                                                                  \n",
      " input_3 (InputLayer)           [(None, 37)]         0           []                               \n",
      "                                                                                                  \n",
      " dense_16 (Dense)               (None, 128)          8320        ['dense_15[0][0]']               \n",
      "                                                                                                  \n",
      " dense_12 (Dense)               (None, 64)           2432        ['input_3[0][0]']                \n",
      "                                                                                                  \n",
      " dense_17 (Dense)               (None, 256)          33024       ['dense_16[0][0]']               \n",
      "                                                                                                  \n",
      " dense_13 (Dense)               (None, 128)          8320        ['dense_12[0][0]']               \n",
      "                                                                                                  \n",
      " dense_18 (Dense)               (None, 256)          65792       ['dense_17[0][0]']               \n",
      "                                                                                                  \n",
      " dense_14 (Dense)               (None, 256)          33024       ['dense_13[0][0]']               \n",
      "                                                                                                  \n",
      " dense_19 (Dense)               (None, 256)          65792       ['dense_18[0][0]']               \n",
      "                                                                                                  \n",
      " concatenate_1 (Concatenate)    (None, 512)          0           ['dense_14[0][0]',               \n",
      "                                                                  'dense_19[0][0]']               \n",
      "                                                                                                  \n",
      " dense_20 (Dense)               (None, 1024)         525312      ['concatenate_1[0][0]']          \n",
      "                                                                                                  \n",
      " dense_21 (Dense)               (None, 512)          524800      ['dense_20[0][0]']               \n",
      "                                                                                                  \n",
      " dense_22 (Dense)               (None, 256)          131328      ['dense_21[0][0]']               \n",
      "                                                                                                  \n",
      " dense_23 (Dense)               (None, 1)            257         ['dense_22[0][0]']               \n",
      "                                                                                                  \n",
      "==================================================================================================\n",
      "Total params: 1,400,833\n",
      "Trainable params: 1,400,833\n",
      "Non-trainable params: 0\n",
      "__________________________________________________________________________________________________\n",
      "None\n"
     ]
    }
   ],
   "source": [
    "model1 = give_model()\n",
    "print(model1.summary())\n",
    "#model1.compile(optimizer='adam',loss=\"hinge\",metrics=['accuracy'])\n",
    "model1.compile(optimizer='adam',loss=\"binary_crossentropy\",metrics=['accuracy'])\n",
    "#model1.compile(optimizer='adagrad',loss=\"binary_crossentropy\",metrics=['accuracy'])\n",
    "#model1.compile(optimizer='rmsprop',loss=\"binary_crossentropy\",metrics=['accuracy'])"
   ]
  },
  {
   "cell_type": "code",
   "execution_count": 25,
   "id": "bd0bc82a",
   "metadata": {},
   "outputs": [
    {
     "name": "stdout",
     "output_type": "stream",
     "text": [
      "[name: \"/device:CPU:0\"\n",
      "device_type: \"CPU\"\n",
      "memory_limit: 268435456\n",
      "locality {\n",
      "}\n",
      "incarnation: 9755075899339890124\n",
      "xla_global_id: -1\n",
      ", name: \"/device:GPU:0\"\n",
      "device_type: \"GPU\"\n",
      "memory_limit: 14236516352\n",
      "locality {\n",
      "  bus_id: 1\n",
      "  links {\n",
      "  }\n",
      "}\n",
      "incarnation: 14261773592195322809\n",
      "physical_device_desc: \"device: 0, name: NVIDIA GeForce RTX 3080 Ti Laptop GPU, pci bus id: 0000:01:00.0, compute capability: 8.6\"\n",
      "xla_global_id: 416903419\n",
      "]\n"
     ]
    }
   ],
   "source": [
    "from tensorflow.python.client import device_lib \n",
    "print(device_lib.list_local_devices())"
   ]
  },
  {
   "cell_type": "code",
   "execution_count": 29,
   "id": "e12f5343",
   "metadata": {},
   "outputs": [
    {
     "name": "stdout",
     "output_type": "stream",
     "text": [
      "Epoch 1/200\n",
      "3750/3750 [==============================] - 14s 4ms/step - loss: 0.4840 - accuracy: 0.7509 - val_loss: 0.6312 - val_accuracy: 0.6552\n",
      "Epoch 2/200\n",
      "3750/3750 [==============================] - 15s 4ms/step - loss: 0.5461 - accuracy: 0.6876 - val_loss: 0.5132 - val_accuracy: 0.7206\n",
      "Epoch 3/200\n",
      "3750/3750 [==============================] - 14s 4ms/step - loss: 0.1841 - accuracy: 0.9347 - val_loss: 0.0979 - val_accuracy: 0.9705\n",
      "Epoch 4/200\n",
      "3750/3750 [==============================] - 27s 7ms/step - loss: 0.1325 - accuracy: 0.9618 - val_loss: 0.1085 - val_accuracy: 0.9697\n",
      "Epoch 5/200\n",
      "3750/3750 [==============================] - 13s 4ms/step - loss: 0.1046 - accuracy: 0.9686 - val_loss: 0.0857 - val_accuracy: 0.9747\n",
      "Epoch 6/200\n",
      "3750/3750 [==============================] - 26s 7ms/step - loss: 0.1046 - accuracy: 0.9674 - val_loss: 0.0795 - val_accuracy: 0.9764\n",
      "Epoch 7/200\n",
      "3750/3750 [==============================] - 32s 8ms/step - loss: 0.1006 - accuracy: 0.9698 - val_loss: 0.0858 - val_accuracy: 0.9767\n",
      "Epoch 8/200\n",
      "3750/3750 [==============================] - 17s 5ms/step - loss: 0.1022 - accuracy: 0.9688 - val_loss: 0.0844 - val_accuracy: 0.9753\n",
      "Epoch 9/200\n",
      "3750/3750 [==============================] - 15s 4ms/step - loss: 0.1254 - accuracy: 0.9614 - val_loss: 0.0781 - val_accuracy: 0.9759\n",
      "Epoch 10/200\n",
      "3750/3750 [==============================] - 14s 4ms/step - loss: 0.1030 - accuracy: 0.9684 - val_loss: 0.0786 - val_accuracy: 0.9746\n",
      "Epoch 11/200\n",
      "3750/3750 [==============================] - 13s 4ms/step - loss: 0.1024 - accuracy: 0.9685 - val_loss: 0.0820 - val_accuracy: 0.9771\n",
      "Epoch 12/200\n",
      "3750/3750 [==============================] - 34s 9ms/step - loss: 0.1004 - accuracy: 0.9693 - val_loss: 0.0787 - val_accuracy: 0.9762\n",
      "Epoch 13/200\n",
      "3750/3750 [==============================] - 32s 8ms/step - loss: 0.1134 - accuracy: 0.9656 - val_loss: 0.1036 - val_accuracy: 0.9735\n",
      "Epoch 14/200\n",
      "3750/3750 [==============================] - 13s 4ms/step - loss: 0.0934 - accuracy: 0.9719 - val_loss: 0.0833 - val_accuracy: 0.9746\n",
      "Epoch 15/200\n",
      "3750/3750 [==============================] - 30s 8ms/step - loss: 0.0957 - accuracy: 0.9708 - val_loss: 0.1511 - val_accuracy: 0.9703\n",
      "Epoch 16/200\n",
      "3750/3750 [==============================] - 30s 8ms/step - loss: 0.1084 - accuracy: 0.9686 - val_loss: 0.0750 - val_accuracy: 0.9773\n",
      "Epoch 17/200\n",
      "3750/3750 [==============================] - 34s 9ms/step - loss: 0.0991 - accuracy: 0.9701 - val_loss: 0.0816 - val_accuracy: 0.9766\n",
      "Epoch 18/200\n",
      "3750/3750 [==============================] - 30s 8ms/step - loss: 0.0905 - accuracy: 0.9725 - val_loss: 0.0816 - val_accuracy: 0.9758\n",
      "Epoch 19/200\n",
      "3750/3750 [==============================] - 26s 7ms/step - loss: 0.0907 - accuracy: 0.9726 - val_loss: 0.0812 - val_accuracy: 0.9777\n",
      "Epoch 20/200\n",
      "3750/3750 [==============================] - 18s 5ms/step - loss: 0.0918 - accuracy: 0.9726 - val_loss: 0.0772 - val_accuracy: 0.9757\n",
      "Epoch 21/200\n",
      "3750/3750 [==============================] - 24s 6ms/step - loss: 0.0945 - accuracy: 0.9711 - val_loss: 0.0821 - val_accuracy: 0.9772\n",
      "Epoch 22/200\n",
      "3750/3750 [==============================] - 32s 9ms/step - loss: 0.1033 - accuracy: 0.9688 - val_loss: 0.0778 - val_accuracy: 0.9751\n",
      "Epoch 23/200\n",
      "3750/3750 [==============================] - 31s 8ms/step - loss: 0.0883 - accuracy: 0.9733 - val_loss: 0.0837 - val_accuracy: 0.9737\n",
      "Epoch 24/200\n",
      "3750/3750 [==============================] - 30s 8ms/step - loss: 0.1212 - accuracy: 0.9532 - val_loss: 0.4062 - val_accuracy: 0.7453\n"
     ]
    }
   ],
   "source": [
    "EPOCHS = 200\n",
    "batchSize = 64\n",
    "early_stopping = tf.keras.callbacks.EarlyStopping(monitor='val_accuracy', patience=5, restore_best_weights=True)\n",
    "history = model1.fit(\n",
    "    x=[tr_z, tr_t],\n",
    "    y=tr_l,\n",
    "    batch_size=batchSize,\n",
    "    epochs=EPOCHS,\n",
    "    validation_data=([val_z, val_t], val_l),\n",
    "    callbacks=[early_stopping],\n",
    "    verbose=1\n",
    ")"
   ]
  },
  {
   "cell_type": "code",
   "execution_count": 31,
   "id": "39040517",
   "metadata": {},
   "outputs": [
    {
     "name": "stdout",
     "output_type": "stream",
     "text": [
      "INFO:tensorflow:Assets written to: model1_10rand_sig_binxent_200epochearly.pkl\\assets\n"
     ]
    }
   ],
   "source": [
    "output_filepath = \"model1_10rand_sig_binxent_200epochearly.pkl\"\n",
    "model1.save(output_filepath)\n",
    "\n",
    "from tensorflow.keras.models import load_model"
   ]
  },
  {
   "cell_type": "code",
   "execution_count": 32,
   "id": "26ffbb2f",
   "metadata": {},
   "outputs": [],
   "source": [
    "model2 = load_model(output_filepath)"
   ]
  },
  {
   "cell_type": "code",
   "execution_count": 33,
   "id": "ab953b1e",
   "metadata": {},
   "outputs": [
    {
     "name": "stdout",
     "output_type": "stream",
     "text": [
      "938/938 [==============================] - 2s 2ms/step\n"
     ]
    }
   ],
   "source": [
    "predictions = model2.predict([te_z, te_t], verbose=1)"
   ]
  },
  {
   "cell_type": "code",
   "execution_count": 34,
   "id": "44995296",
   "metadata": {},
   "outputs": [],
   "source": [
    "predicted_labels = (predictions > 0.5).astype(int)"
   ]
  },
  {
   "cell_type": "code",
   "execution_count": 35,
   "id": "247dd095",
   "metadata": {},
   "outputs": [
    {
     "name": "stdout",
     "output_type": "stream",
     "text": [
      "              precision    recall  f1-score   support\n",
      "\n",
      "           0       0.97      0.97      0.97     10283\n",
      "           1       0.98      0.98      0.98     19717\n",
      "\n",
      "    accuracy                           0.98     30000\n",
      "   macro avg       0.97      0.97      0.97     30000\n",
      "weighted avg       0.98      0.98      0.98     30000\n",
      "\n"
     ]
    }
   ],
   "source": [
    "from sklearn.metrics import classification_report\n",
    "print(classification_report(te_l, predicted_labels))"
   ]
  },
  {
   "cell_type": "code",
   "execution_count": 38,
   "id": "e1623485",
   "metadata": {},
   "outputs": [],
   "source": [
    "def give_model_s():\n",
    "    #input_shape_invariant = (37,) #(39,)\n",
    "    input_shape_varying = (37,) #(39,)\n",
    "    #input_invariant = Input(shape=input_shape_invariant)\n",
    "    input_varying = Input(shape=input_shape_varying)\n",
    "\n",
    "    # branch for invariant part\n",
    "    #dense_invariant1 = Dense(64, activation='relu')(input_invariant)\n",
    "    #dense_invariant2 = Dense(128, activation='relu')(dense_invariant1)\n",
    "    #dense_invariant3 = Dense(256, activation='relu')(dense_invariant2)\n",
    "\n",
    "    # branch for varying part\n",
    "    dense_varying1 = Dense(64, activation='relu')(input_varying)\n",
    "    dense_varying2 = Dense(128, activation='relu')(dense_varying1)\n",
    "    dense_varying3 = Dense(256, activation='relu')(dense_varying2)\n",
    "    dense_varying4 = Dense(256, activation='relu')(dense_varying3)\n",
    "    dense_varying5 = Dense(256, activation='relu')(dense_varying4)\n",
    "\n",
    "    #concatenated = concatenate([dense_invariant3, dense_varying5])\n",
    "    output1 = Dense(1024, activation='relu')(dense_varying5)\n",
    "    output2 = Dense(512, activation='relu')(output1)\n",
    "    output3 = Dense(256, activation='relu')(output2)\n",
    "    #output = Dense(1, kernel_regularizer=regularizers.L2(0.01), activation='linear')(output3)\n",
    "\n",
    "    output = Dense(1, kernel_regularizer=regularizers.L2(0.01), activation='sigmoid')(output3)\n",
    "\n",
    "    #output = Dense(1, kernel_regularizer=regularizers.L2(0.01), activation='hard_sigmoid')(output3)\n",
    "    #output = Dense(1, kernel_regularizer=regularizers.L2(0.01), activation='tanh')(output3)\n",
    "\n",
    "    # Define the model\n",
    "    model = Model(inputs=[input_varying], outputs=output)\n",
    "    return model"
   ]
  },
  {
   "cell_type": "code",
   "execution_count": 39,
   "id": "c2b2555f",
   "metadata": {},
   "outputs": [
    {
     "name": "stdout",
     "output_type": "stream",
     "text": [
      "Model: \"model_2\"\n",
      "_________________________________________________________________\n",
      " Layer (type)                Output Shape              Param #   \n",
      "=================================================================\n",
      " input_6 (InputLayer)        [(None, 37)]              0         \n",
      "                                                                 \n",
      " dense_33 (Dense)            (None, 64)                2432      \n",
      "                                                                 \n",
      " dense_34 (Dense)            (None, 128)               8320      \n",
      "                                                                 \n",
      " dense_35 (Dense)            (None, 256)               33024     \n",
      "                                                                 \n",
      " dense_36 (Dense)            (None, 256)               65792     \n",
      "                                                                 \n",
      " dense_37 (Dense)            (None, 256)               65792     \n",
      "                                                                 \n",
      " dense_38 (Dense)            (None, 1024)              263168    \n",
      "                                                                 \n",
      " dense_39 (Dense)            (None, 512)               524800    \n",
      "                                                                 \n",
      " dense_40 (Dense)            (None, 256)               131328    \n",
      "                                                                 \n",
      " dense_41 (Dense)            (None, 1)                 257       \n",
      "                                                                 \n",
      "=================================================================\n",
      "Total params: 1,094,913\n",
      "Trainable params: 1,094,913\n",
      "Non-trainable params: 0\n",
      "_________________________________________________________________\n",
      "None\n"
     ]
    }
   ],
   "source": [
    "model3 = give_model_s()\n",
    "print(model3.summary())\n",
    "model3.compile(optimizer='adam',loss=\"binary_crossentropy\",metrics=['accuracy'])"
   ]
  },
  {
   "cell_type": "code",
   "execution_count": 41,
   "id": "9c3dc60c",
   "metadata": {},
   "outputs": [
    {
     "name": "stdout",
     "output_type": "stream",
     "text": [
      "Epoch 1/200\n",
      "3750/3750 [==============================] - 11s 3ms/step - loss: 0.5332 - accuracy: 0.7255 - val_loss: 0.4178 - val_accuracy: 0.7097\n",
      "Epoch 2/200\n",
      "3750/3750 [==============================] - 20s 5ms/step - loss: 0.4093 - accuracy: 0.7624 - val_loss: 0.3794 - val_accuracy: 0.8210\n",
      "Epoch 3/200\n",
      "3750/3750 [==============================] - 29s 8ms/step - loss: 0.3905 - accuracy: 0.7886 - val_loss: 0.3924 - val_accuracy: 0.7180\n",
      "Epoch 4/200\n",
      "3750/3750 [==============================] - 11s 3ms/step - loss: 0.3942 - accuracy: 0.7558 - val_loss: 0.3925 - val_accuracy: 0.7210\n",
      "Epoch 5/200\n",
      "3750/3750 [==============================] - 11s 3ms/step - loss: 0.3564 - accuracy: 0.8277 - val_loss: 0.3266 - val_accuracy: 0.9421\n",
      "Epoch 6/200\n",
      "3750/3750 [==============================] - 10s 3ms/step - loss: 0.2700 - accuracy: 0.9193 - val_loss: 0.2338 - val_accuracy: 0.9465\n",
      "Epoch 7/200\n",
      "3750/3750 [==============================] - 21s 6ms/step - loss: 0.2245 - accuracy: 0.9340 - val_loss: 0.1211 - val_accuracy: 0.9698\n",
      "Epoch 8/200\n",
      "3750/3750 [==============================] - 11s 3ms/step - loss: 0.1518 - accuracy: 0.9540 - val_loss: 0.1223 - val_accuracy: 0.9670\n",
      "Epoch 9/200\n",
      "3750/3750 [==============================] - 14s 4ms/step - loss: 0.1424 - accuracy: 0.9562 - val_loss: 0.2986 - val_accuracy: 0.9495\n",
      "Epoch 10/200\n",
      "3750/3750 [==============================] - 17s 5ms/step - loss: 0.1185 - accuracy: 0.9641 - val_loss: 0.0923 - val_accuracy: 0.9713\n",
      "Epoch 11/200\n",
      "3750/3750 [==============================] - 27s 7ms/step - loss: 0.1446 - accuracy: 0.9512 - val_loss: 0.1217 - val_accuracy: 0.9701\n",
      "Epoch 12/200\n",
      "3750/3750 [==============================] - 11s 3ms/step - loss: 0.1632 - accuracy: 0.9461 - val_loss: 0.1888 - val_accuracy: 0.9738\n",
      "Epoch 13/200\n",
      "3750/3750 [==============================] - 10s 3ms/step - loss: 0.1476 - accuracy: 0.9510 - val_loss: 0.1417 - val_accuracy: 0.9450\n",
      "Epoch 14/200\n",
      "3750/3750 [==============================] - 14s 4ms/step - loss: 0.1558 - accuracy: 0.9509 - val_loss: 0.0912 - val_accuracy: 0.9739\n",
      "Epoch 15/200\n",
      "3750/3750 [==============================] - 14s 4ms/step - loss: 0.1113 - accuracy: 0.9662 - val_loss: 0.4021 - val_accuracy: 0.8511\n",
      "Epoch 16/200\n",
      "3750/3750 [==============================] - 12s 3ms/step - loss: 0.1062 - accuracy: 0.9686 - val_loss: 0.0845 - val_accuracy: 0.9745\n",
      "Epoch 17/200\n",
      "3750/3750 [==============================] - 25s 7ms/step - loss: 0.1119 - accuracy: 0.9659 - val_loss: 0.1955 - val_accuracy: 0.9712\n",
      "Epoch 18/200\n",
      "3750/3750 [==============================] - 24s 6ms/step - loss: 0.1210 - accuracy: 0.9599 - val_loss: 0.0989 - val_accuracy: 0.9730\n",
      "Epoch 19/200\n",
      "3750/3750 [==============================] - 26s 7ms/step - loss: 0.1380 - accuracy: 0.9566 - val_loss: 0.1025 - val_accuracy: 0.9745\n",
      "Epoch 20/200\n",
      "3750/3750 [==============================] - 26s 7ms/step - loss: 0.1097 - accuracy: 0.9660 - val_loss: 0.0746 - val_accuracy: 0.9770\n",
      "Epoch 21/200\n",
      "3750/3750 [==============================] - 24s 6ms/step - loss: 0.1036 - accuracy: 0.9683 - val_loss: 0.0787 - val_accuracy: 0.9757\n",
      "Epoch 22/200\n",
      "3750/3750 [==============================] - 24s 6ms/step - loss: 0.1312 - accuracy: 0.9577 - val_loss: 0.0843 - val_accuracy: 0.9751\n",
      "Epoch 23/200\n",
      "3750/3750 [==============================] - 24s 7ms/step - loss: 0.1278 - accuracy: 0.9658 - val_loss: 0.0888 - val_accuracy: 0.9750\n",
      "Epoch 24/200\n",
      "3750/3750 [==============================] - 24s 6ms/step - loss: 0.1415 - accuracy: 0.9540 - val_loss: 0.1087 - val_accuracy: 0.9725\n",
      "Epoch 25/200\n",
      "3750/3750 [==============================] - 24s 6ms/step - loss: 0.1335 - accuracy: 0.9572 - val_loss: 0.0902 - val_accuracy: 0.9757\n"
     ]
    }
   ],
   "source": [
    "EPOCHS = 200\n",
    "batchSize = 64\n",
    "early_stopping = tf.keras.callbacks.EarlyStopping(monitor='val_accuracy', patience=5, restore_best_weights=True)\n",
    "history = model3.fit(\n",
    "    x=[ tr_t],\n",
    "    y=tr_l,\n",
    "    batch_size=batchSize,\n",
    "    epochs=EPOCHS,\n",
    "    validation_data=([ val_t], val_l),\n",
    "    callbacks=[early_stopping],\n",
    "    verbose=1\n",
    ")"
   ]
  },
  {
   "cell_type": "code",
   "execution_count": 42,
   "id": "91e1e977",
   "metadata": {},
   "outputs": [
    {
     "name": "stdout",
     "output_type": "stream",
     "text": [
      "INFO:tensorflow:Assets written to: model3_10rand_sig_binxent_200epochearly_simple.pkl\\assets\n"
     ]
    }
   ],
   "source": [
    "output_filepath = \"model3_10rand_sig_binxent_200epochearly_simple.pkl\"\n",
    "model3.save(output_filepath)\n"
   ]
  },
  {
   "cell_type": "code",
   "execution_count": 43,
   "id": "778fb42e",
   "metadata": {},
   "outputs": [],
   "source": [
    "model4 = load_model(output_filepath)"
   ]
  },
  {
   "cell_type": "code",
   "execution_count": 44,
   "id": "1dfd165d",
   "metadata": {},
   "outputs": [
    {
     "name": "stdout",
     "output_type": "stream",
     "text": [
      "938/938 [==============================] - 1s 1ms/step\n"
     ]
    }
   ],
   "source": [
    "predictions = model4.predict([ te_t], verbose=1)"
   ]
  },
  {
   "cell_type": "code",
   "execution_count": 45,
   "id": "8108159b",
   "metadata": {},
   "outputs": [
    {
     "name": "stdout",
     "output_type": "stream",
     "text": [
      "              precision    recall  f1-score   support\n",
      "\n",
      "           0       0.96      0.97      0.96     10283\n",
      "           1       0.98      0.98      0.98     19717\n",
      "\n",
      "    accuracy                           0.98     30000\n",
      "   macro avg       0.97      0.97      0.97     30000\n",
      "weighted avg       0.98      0.98      0.98     30000\n",
      "\n"
     ]
    }
   ],
   "source": [
    "predicted_labels = (predictions > 0.5).astype(int)\n",
    "print(classification_report(te_l, predicted_labels))"
   ]
  },
  {
   "cell_type": "code",
   "execution_count": null,
   "id": "f9f57f9b",
   "metadata": {},
   "outputs": [],
   "source": []
  }
 ],
 "metadata": {
  "kernelspec": {
   "display_name": "Python 3 (ipykernel)",
   "language": "python",
   "name": "python3"
  },
  "language_info": {
   "codemirror_mode": {
    "name": "ipython",
    "version": 3
   },
   "file_extension": ".py",
   "mimetype": "text/x-python",
   "name": "python",
   "nbconvert_exporter": "python",
   "pygments_lexer": "ipython3",
   "version": "3.9.13"
  }
 },
 "nbformat": 4,
 "nbformat_minor": 5
}
