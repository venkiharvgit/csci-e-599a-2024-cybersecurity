{
 "cells": [
  {
   "cell_type": "code",
   "execution_count": 2,
   "id": "6e69bf9c-5835-4dae-b604-12cb689857d6",
   "metadata": {
    "tags": []
   },
   "outputs": [
    {
     "name": "stderr",
     "output_type": "stream",
     "text": [
      "/Users/mammadli/miniconda3/envs/py_jop/lib/python3.10/site-packages/dask/dataframe/_pyarrow_compat.py:17: FutureWarning: Minimal version of pyarrow will soon be increased to 14.0.1. You are using 13.0.0. Please consider upgrading.\n",
      "  warnings.warn(\n"
     ]
    }
   ],
   "source": [
    "import os\n",
    "import dask.dataframe as dd\n",
    "import pandas as pd\n",
    "import numpy as np"
   ]
  },
  {
   "cell_type": "code",
   "execution_count": 42,
   "id": "4ff52024-6c71-4dd4-9341-adf0e7920a7a",
   "metadata": {
    "tags": []
   },
   "outputs": [
    {
     "name": "stdout",
     "output_type": "stream",
     "text": [
      "Loading .csv netflow files from 'data/csv/netflow/' and saving as chuncked .parquet files\n",
      "\n",
      "#1\n",
      "Loading: NF-BoT-IoT-v2.csv ...\n",
      "Saving original to: data/parquet/netflow/original/NF-BoT-IoT-v2_chunks ...\n",
      "Saving column selection with src/dst ip/port to: data/parquet/netflow/ip_port/NF-BoT-IoT-v2_chunks ...\n",
      "Saving column selection wo src/dst ip/port to: data/parquet/netflow/no_ip_port/NF-BoT-IoT-v2_chunks ...\n"
     ]
    }
   ],
   "source": [
    "print(\"Loading .csv netflow files from 'data/csv/netflow/' and saving as chuncked .parquet files\\n\")\n",
    "\n",
    "csv_dir = \"data/csv/netflow/\"\n",
    "parquet_dir = \"data/parquet/netflow/\"\n",
    "\n",
    "i = 1\n",
    "for file in os.listdir(csv_dir):\n",
    "    \n",
    "    file_name, file_extension = os.path.splitext(file)\n",
    "    \n",
    "    if file_extension == \".csv\" and not os.path.exists(parquet_dir+\"no_ip_port/\"+file_name+\"_chunks\"):\n",
    "    \n",
    "        # Load csv file\n",
    "        print(\"#\"+str(i)+\"\\nLoading: '\"+file+\"' ...\")\n",
    "        csv_path = csv_dir+file\n",
    "        dd_df = dd.read_csv(csv_path)\n",
    "        \n",
    "        # Save to parquet file original NetFlow data\n",
    "        orig_parquet = \"original/\"+file_name+\"_chunks\"\n",
    "        print(\"Saving original to: '\"+parquet_dir+orig_parquet+\"' ...\")\n",
    "        dd_df = dd_df.repartition(partition_size=\"100MB\")\n",
    "        dd_df.to_parquet(parquet_dir+orig_parquet, compression=\"gzip\")\n",
    "        \n",
    "        # Save to parquet file NetFlow data with src/dst ip/port\n",
    "        # Drop duplicates\n",
    "        parquet_ip_port = \"ip_port/\"+file_name+\"_chunks\"\n",
    "        print(\"Saving column selection with src/dst ip/port to: '\"+parquet_dir+parquet_ip_port+\"' ...\")\n",
    "        dd_df = dd_df[['IPV4_SRC_ADDR', 'L4_SRC_PORT', \n",
    "                 'IPV4_DST_ADDR', 'L4_DST_PORT',\n",
    "                'PROTOCOL', 'L7_PROTO', 'IN_BYTES', 'OUT_BYTES', 'IN_PKTS', 'OUT_PKTS',\n",
    "                'TCP_FLAGS', 'FLOW_DURATION_MILLISECONDS', 'Label']]\n",
    "        dd_df = dd_df.drop_duplicates()\n",
    "        dd_df = dd_df.repartition(partition_size=\"100MB\")\n",
    "        dd_df.to_parquet(parquet_dir+parquet_ip_port, compression=\"gzip\")\n",
    "\n",
    "        # Save to parquet file NetFlow data wo src/dst ip/port\n",
    "        # Drop duplicates\n",
    "        parquet_no_ip_port = \"no_ip_port/\"+file_name+\"_chunks\"\n",
    "        print(\"Saving column selection wo src/dst ip/port to: '\"+parquet_dir+parquet_no_ip_port+\"' ...\")\n",
    "        dd_df = dd_df[['PROTOCOL', 'L7_PROTO', 'IN_BYTES', 'OUT_BYTES', 'IN_PKTS', 'OUT_PKTS',\n",
    "                'TCP_FLAGS', 'FLOW_DURATION_MILLISECONDS', 'Label']]\n",
    "        dd_df = dd_df.drop_duplicates()\n",
    "        dd_df = dd_df.repartition(partition_size=\"100MB\")\n",
    "        #print(\"Shape:\" +str(dd_df.shape[0].compute())+\", \"+str(dd_df.shape[1]))\n",
    "        dd_df.to_parquet(parquet_dir+parquet_no_ip_port, compression=\"gzip\")\n",
    "        i += 1"
   ]
  },
  {
   "cell_type": "code",
   "execution_count": null,
   "id": "fb58ce67-e884-494f-ba6e-109b691b2889",
   "metadata": {
    "tags": []
   },
   "outputs": [
    {
     "name": "stdout",
     "output_type": "stream",
     "text": [
      "Loading .csv cicflow files from 'data/csv/cic/' and saving as chuncked .parquet files\n",
      "\n",
      "#1\n",
      "Loading: CIC-BoT-IoT.csv ...\n",
      "Saving original to: data/parquet/cic/original/CIC-BoT-IoT_chunks ...\n"
     ]
    }
   ],
   "source": [
    "print(\"Loading .csv cicflow files from 'data/csv/cic/' and saving as chuncked .parquet files\\n\")\n",
    "\n",
    "csv_dir = \"data/csv/cic/\"\n",
    "parquet_dir = \"data/parquet/cic/\"\n",
    "\n",
    "i = 1\n",
    "for file in os.listdir(csv_dir):\n",
    "    \n",
    "    file_name, file_extension = os.path.splitext(file)\n",
    "    \n",
    "    if file_extension == \".csv\":\n",
    "         \n",
    "        # Load csv file\n",
    "        print(\"#\"+str(i)+\"\\nLoading: \"+file+\" ...\")\n",
    "        csv_path = csv_dir+file\n",
    "        dd_df = dd.read_csv(csv_path)\n",
    "        dd_df = dd_df.dropna()\n",
    "                \n",
    "        # Save to parquet file original cicflow data\n",
    "        orig_parquet = \"original/\"+file_name+\"_chunks\"\n",
    "        print(\"Saving original to: \"+parquet_dir+orig_parquet+\" ...\")\n",
    "        dd_df = dd_df.repartition(partition_size=\"100MB\")\n",
    "        dd_df.to_parquet(parquet_dir+orig_parquet, compression=\"gzip\")\n",
    "        i += 1"
   ]
  },
  {
   "cell_type": "code",
   "execution_count": null,
   "id": "a1a64325-0d15-4bf2-9d46-f033c2f0244f",
   "metadata": {},
   "outputs": [],
   "source": []
  }
 ],
 "metadata": {
  "kernelspec": {
   "display_name": "Python 3 (ipykernel)",
   "language": "python",
   "name": "python3"
  },
  "language_info": {
   "codemirror_mode": {
    "name": "ipython",
    "version": 3
   },
   "file_extension": ".py",
   "mimetype": "text/x-python",
   "name": "python",
   "nbconvert_exporter": "python",
   "pygments_lexer": "ipython3",
   "version": "3.10.12"
  }
 },
 "nbformat": 4,
 "nbformat_minor": 5
}
