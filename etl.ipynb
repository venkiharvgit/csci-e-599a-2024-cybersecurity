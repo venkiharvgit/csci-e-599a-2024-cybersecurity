{
 "cells": [
  {
   "cell_type": "code",
   "execution_count": 3,
   "id": "6e69bf9c-5835-4dae-b604-12cb689857d6",
   "metadata": {
    "tags": []
   },
   "outputs": [
    {
     "name": "stderr",
     "output_type": "stream",
     "text": [
      "/Users/mammadli/miniconda3/envs/py_jop/lib/python3.10/site-packages/dask/dataframe/_pyarrow_compat.py:17: FutureWarning: Minimal version of pyarrow will soon be increased to 14.0.1. You are using 13.0.0. Please consider upgrading.\n",
      "  warnings.warn(\n"
     ]
    }
   ],
   "source": [
    "import os\n",
    "import dask.dataframe as dd\n",
    "import pandas as pd\n",
    "import numpy as np"
   ]
  },
  {
   "cell_type": "code",
   "execution_count": 42,
   "id": "4ff52024-6c71-4dd4-9341-adf0e7920a7a",
   "metadata": {
    "tags": []
   },
   "outputs": [
    {
     "name": "stdout",
     "output_type": "stream",
     "text": [
      "Loading .csv netflow files from 'data/csv/netflow/' and saving as chuncked .parquet files\n",
      "\n",
      "#1\n",
      "Loading: NF-BoT-IoT-v2.csv ...\n",
      "Saving original to: data/parquet/netflow/original/NF-BoT-IoT-v2_chunks ...\n",
      "Saving column selection with src/dst ip/port to: data/parquet/netflow/ip_port/NF-BoT-IoT-v2_chunks ...\n",
      "Saving column selection wo src/dst ip/port to: data/parquet/netflow/no_ip_port/NF-BoT-IoT-v2_chunks ...\n"
     ]
    }
   ],
   "source": [
    "print(\"Loading .csv netflow files from 'data/csv/netflow/' and saving as chuncked .parquet files\\n\")\n",
    "\n",
    "csv_dir = \"data/csv/netflow/\"\n",
    "parquet_dir = \"data/parquet/netflow/\"\n",
    "\n",
    "i = 1\n",
    "for file in os.listdir(csv_dir):\n",
    "    \n",
    "    file_name, file_extension = os.path.splitext(file)\n",
    "    \n",
    "    if file_extension == \".csv\" and not os.path.exists(parquet_dir+\"no_ip_port/\"+file_name+\"_chunks\"):\n",
    "    \n",
    "        # Load csv file\n",
    "        print(\"#\"+str(i)+\"\\nLoading: '\"+file+\"' ...\")\n",
    "        csv_path = csv_dir+file\n",
    "        dd_df = dd.read_csv(csv_path)\n",
    "        \n",
    "        # Save to parquet file original NetFlow data\n",
    "        orig_parquet = \"original/\"+file_name+\"_chunks\"\n",
    "        print(\"Saving original to: '\"+parquet_dir+orig_parquet+\"' ...\")\n",
    "        dd_df = dd_df.repartition(partition_size=\"100MB\")\n",
    "        dd_df.to_parquet(parquet_dir+orig_parquet, compression=\"gzip\")\n",
    "        \n",
    "        # Save to parquet file NetFlow data with src/dst ip/port\n",
    "        # Drop duplicates\n",
    "        parquet_ip_port = \"ip_port/\"+file_name+\"_chunks\"\n",
    "        print(\"Saving column selection with src/dst ip/port to: '\"+parquet_dir+parquet_ip_port+\"' ...\")\n",
    "        dd_df = dd_df[['IPV4_SRC_ADDR', 'L4_SRC_PORT', \n",
    "                 'IPV4_DST_ADDR', 'L4_DST_PORT',\n",
    "                'PROTOCOL', 'L7_PROTO', 'IN_BYTES', 'OUT_BYTES', 'IN_PKTS', 'OUT_PKTS',\n",
    "                'TCP_FLAGS', 'FLOW_DURATION_MILLISECONDS', 'Label']]\n",
    "        dd_df = dd_df.drop_duplicates()\n",
    "        dd_df = dd_df.repartition(partition_size=\"100MB\")\n",
    "        dd_df.to_parquet(parquet_dir+parquet_ip_port, compression=\"gzip\")\n",
    "\n",
    "        # Save to parquet file NetFlow data wo src/dst ip/port\n",
    "        # Drop duplicates\n",
    "        parquet_no_ip_port = \"no_ip_port/\"+file_name+\"_chunks\"\n",
    "        print(\"Saving column selection wo src/dst ip/port to: '\"+parquet_dir+parquet_no_ip_port+\"' ...\")\n",
    "        dd_df = dd_df[['PROTOCOL', 'L7_PROTO', 'IN_BYTES', 'OUT_BYTES', 'IN_PKTS', 'OUT_PKTS',\n",
    "                'TCP_FLAGS', 'FLOW_DURATION_MILLISECONDS', 'Label']]\n",
    "        dd_df = dd_df.drop_duplicates()\n",
    "        dd_df = dd_df.repartition(partition_size=\"100MB\")\n",
    "        #print(\"Shape:\" +str(dd_df.shape[0].compute())+\", \"+str(dd_df.shape[1]))\n",
    "        dd_df.to_parquet(parquet_dir+parquet_no_ip_port, compression=\"gzip\")\n",
    "        i += 1"
   ]
  },
  {
   "cell_type": "code",
   "execution_count": 16,
   "id": "55b71225-6316-4ec0-a46a-2f9284a4dc55",
   "metadata": {
    "tags": []
   },
   "outputs": [],
   "source": [
    "dd_df = dd.read_parquet(\"data/parquet/cic/original/CIC-BoT-IoT_chunks_\")\n",
    "dd_df = dd_df.dropna()\n",
    "                \n",
    "dd_df = dd_df.repartition(partition_size=\"100MB\")\n",
    "dd_df.to_parquet(\"data/parquet/cic/original/CIC-BoT-IoT_chunks\", compression=\"gzip\")"
   ]
  },
  {
   "cell_type": "code",
   "execution_count": 4,
   "id": "d0723b70-c246-481c-b6c4-3bc5b77ede0b",
   "metadata": {
    "tags": []
   },
   "outputs": [],
   "source": [
    "import glob\n",
    "import socket\n",
    "import struct\n",
    "import random"
   ]
  },
  {
   "cell_type": "markdown",
   "id": "982bb293-c430-47ab-8b6b-07234d9ab128",
   "metadata": {},
   "source": [
    "https://www.kaggle.com/datasets/vigneshvenkateswaran/bot-iot"
   ]
  },
  {
   "cell_type": "code",
   "execution_count": 5,
   "id": "b8a31410-c3d1-4770-81aa-8c222073b7d5",
   "metadata": {
    "tags": []
   },
   "outputs": [
    {
     "name": "stdout",
     "output_type": "stream",
     "text": [
      "Loading .csv flow files from 'data/csv/flow/' and saving as chuncked .parquet files\n",
      "\n",
      "1\n"
     ]
    },
    {
     "name": "stderr",
     "output_type": "stream",
     "text": [
      "/var/folders/qk/0rq62snn37d4kk5pqqpg5cj40000gn/T/ipykernel_59725/2430614948.py:6: DtypeWarning: Columns (5,7) have mixed types. Specify dtype option on import or set low_memory=False.\n",
      "  return pd.read_csv(f)\n"
     ]
    },
    {
     "name": "stdout",
     "output_type": "stream",
     "text": [
      "2\n"
     ]
    },
    {
     "name": "stderr",
     "output_type": "stream",
     "text": [
      "/var/folders/qk/0rq62snn37d4kk5pqqpg5cj40000gn/T/ipykernel_59725/2430614948.py:6: DtypeWarning: Columns (5,7) have mixed types. Specify dtype option on import or set low_memory=False.\n",
      "  return pd.read_csv(f)\n"
     ]
    },
    {
     "name": "stdout",
     "output_type": "stream",
     "text": [
      "3\n"
     ]
    },
    {
     "name": "stderr",
     "output_type": "stream",
     "text": [
      "/var/folders/qk/0rq62snn37d4kk5pqqpg5cj40000gn/T/ipykernel_59725/2430614948.py:6: DtypeWarning: Columns (5,7) have mixed types. Specify dtype option on import or set low_memory=False.\n",
      "  return pd.read_csv(f)\n"
     ]
    },
    {
     "name": "stdout",
     "output_type": "stream",
     "text": [
      "4\n"
     ]
    },
    {
     "name": "stderr",
     "output_type": "stream",
     "text": [
      "/var/folders/qk/0rq62snn37d4kk5pqqpg5cj40000gn/T/ipykernel_59725/2430614948.py:6: DtypeWarning: Columns (5,7) have mixed types. Specify dtype option on import or set low_memory=False.\n",
      "  return pd.read_csv(f)\n"
     ]
    },
    {
     "name": "stdout",
     "output_type": "stream",
     "text": [
      "5\n"
     ]
    },
    {
     "name": "stderr",
     "output_type": "stream",
     "text": [
      "/var/folders/qk/0rq62snn37d4kk5pqqpg5cj40000gn/T/ipykernel_59725/2430614948.py:6: DtypeWarning: Columns (5,7) have mixed types. Specify dtype option on import or set low_memory=False.\n",
      "  return pd.read_csv(f)\n"
     ]
    },
    {
     "name": "stdout",
     "output_type": "stream",
     "text": [
      "6\n",
      "7\n"
     ]
    },
    {
     "name": "stderr",
     "output_type": "stream",
     "text": [
      "/var/folders/qk/0rq62snn37d4kk5pqqpg5cj40000gn/T/ipykernel_59725/2430614948.py:6: DtypeWarning: Columns (5,7) have mixed types. Specify dtype option on import or set low_memory=False.\n",
      "  return pd.read_csv(f)\n"
     ]
    },
    {
     "name": "stdout",
     "output_type": "stream",
     "text": [
      "8\n"
     ]
    },
    {
     "name": "stderr",
     "output_type": "stream",
     "text": [
      "/var/folders/qk/0rq62snn37d4kk5pqqpg5cj40000gn/T/ipykernel_59725/2430614948.py:6: DtypeWarning: Columns (5,7) have mixed types. Specify dtype option on import or set low_memory=False.\n",
      "  return pd.read_csv(f)\n"
     ]
    },
    {
     "name": "stdout",
     "output_type": "stream",
     "text": [
      "9\n"
     ]
    },
    {
     "name": "stderr",
     "output_type": "stream",
     "text": [
      "/var/folders/qk/0rq62snn37d4kk5pqqpg5cj40000gn/T/ipykernel_59725/2430614948.py:6: DtypeWarning: Columns (5,7) have mixed types. Specify dtype option on import or set low_memory=False.\n",
      "  return pd.read_csv(f)\n"
     ]
    },
    {
     "name": "stdout",
     "output_type": "stream",
     "text": [
      "10\n"
     ]
    },
    {
     "name": "stderr",
     "output_type": "stream",
     "text": [
      "/var/folders/qk/0rq62snn37d4kk5pqqpg5cj40000gn/T/ipykernel_59725/2430614948.py:6: DtypeWarning: Columns (5,7) have mixed types. Specify dtype option on import or set low_memory=False.\n",
      "  return pd.read_csv(f)\n"
     ]
    },
    {
     "name": "stdout",
     "output_type": "stream",
     "text": [
      "11\n"
     ]
    },
    {
     "name": "stderr",
     "output_type": "stream",
     "text": [
      "/var/folders/qk/0rq62snn37d4kk5pqqpg5cj40000gn/T/ipykernel_59725/2430614948.py:6: DtypeWarning: Columns (5,7) have mixed types. Specify dtype option on import or set low_memory=False.\n",
      "  return pd.read_csv(f)\n"
     ]
    },
    {
     "name": "stdout",
     "output_type": "stream",
     "text": [
      "12\n"
     ]
    },
    {
     "name": "stderr",
     "output_type": "stream",
     "text": [
      "/var/folders/qk/0rq62snn37d4kk5pqqpg5cj40000gn/T/ipykernel_59725/2430614948.py:6: DtypeWarning: Columns (5,7) have mixed types. Specify dtype option on import or set low_memory=False.\n",
      "  return pd.read_csv(f)\n"
     ]
    },
    {
     "name": "stdout",
     "output_type": "stream",
     "text": [
      "13\n"
     ]
    },
    {
     "name": "stderr",
     "output_type": "stream",
     "text": [
      "/var/folders/qk/0rq62snn37d4kk5pqqpg5cj40000gn/T/ipykernel_59725/2430614948.py:6: DtypeWarning: Columns (5,7) have mixed types. Specify dtype option on import or set low_memory=False.\n",
      "  return pd.read_csv(f)\n"
     ]
    },
    {
     "name": "stdout",
     "output_type": "stream",
     "text": [
      "14\n",
      "15\n"
     ]
    },
    {
     "name": "stderr",
     "output_type": "stream",
     "text": [
      "/var/folders/qk/0rq62snn37d4kk5pqqpg5cj40000gn/T/ipykernel_59725/2430614948.py:6: DtypeWarning: Columns (5,7) have mixed types. Specify dtype option on import or set low_memory=False.\n",
      "  return pd.read_csv(f)\n"
     ]
    },
    {
     "name": "stdout",
     "output_type": "stream",
     "text": [
      "16\n"
     ]
    },
    {
     "name": "stderr",
     "output_type": "stream",
     "text": [
      "/var/folders/qk/0rq62snn37d4kk5pqqpg5cj40000gn/T/ipykernel_59725/2430614948.py:6: DtypeWarning: Columns (5,7) have mixed types. Specify dtype option on import or set low_memory=False.\n",
      "  return pd.read_csv(f)\n"
     ]
    },
    {
     "name": "stdout",
     "output_type": "stream",
     "text": [
      "17\n"
     ]
    },
    {
     "name": "stderr",
     "output_type": "stream",
     "text": [
      "/var/folders/qk/0rq62snn37d4kk5pqqpg5cj40000gn/T/ipykernel_59725/2430614948.py:6: DtypeWarning: Columns (5,7) have mixed types. Specify dtype option on import or set low_memory=False.\n",
      "  return pd.read_csv(f)\n"
     ]
    },
    {
     "name": "stdout",
     "output_type": "stream",
     "text": [
      "18\n"
     ]
    },
    {
     "name": "stderr",
     "output_type": "stream",
     "text": [
      "/var/folders/qk/0rq62snn37d4kk5pqqpg5cj40000gn/T/ipykernel_59725/2430614948.py:6: DtypeWarning: Columns (5,7) have mixed types. Specify dtype option on import or set low_memory=False.\n",
      "  return pd.read_csv(f)\n"
     ]
    },
    {
     "name": "stdout",
     "output_type": "stream",
     "text": [
      "19\n",
      "20\n",
      "21\n"
     ]
    },
    {
     "name": "stderr",
     "output_type": "stream",
     "text": [
      "/var/folders/qk/0rq62snn37d4kk5pqqpg5cj40000gn/T/ipykernel_59725/2430614948.py:6: DtypeWarning: Columns (5,7) have mixed types. Specify dtype option on import or set low_memory=False.\n",
      "  return pd.read_csv(f)\n"
     ]
    },
    {
     "name": "stdout",
     "output_type": "stream",
     "text": [
      "22\n",
      "23\n",
      "24\n"
     ]
    },
    {
     "name": "stderr",
     "output_type": "stream",
     "text": [
      "/var/folders/qk/0rq62snn37d4kk5pqqpg5cj40000gn/T/ipykernel_59725/2430614948.py:6: DtypeWarning: Columns (5,7) have mixed types. Specify dtype option on import or set low_memory=False.\n",
      "  return pd.read_csv(f)\n"
     ]
    },
    {
     "name": "stdout",
     "output_type": "stream",
     "text": [
      "25\n",
      "26\n",
      "27\n",
      "28\n",
      "29\n",
      "30\n",
      "31\n",
      "32\n",
      "33\n",
      "34\n"
     ]
    },
    {
     "name": "stderr",
     "output_type": "stream",
     "text": [
      "/var/folders/qk/0rq62snn37d4kk5pqqpg5cj40000gn/T/ipykernel_59725/2430614948.py:6: DtypeWarning: Columns (5,7) have mixed types. Specify dtype option on import or set low_memory=False.\n",
      "  return pd.read_csv(f)\n"
     ]
    },
    {
     "name": "stdout",
     "output_type": "stream",
     "text": [
      "35\n",
      "36\n",
      "37\n"
     ]
    },
    {
     "name": "stderr",
     "output_type": "stream",
     "text": [
      "/var/folders/qk/0rq62snn37d4kk5pqqpg5cj40000gn/T/ipykernel_59725/2430614948.py:6: DtypeWarning: Columns (5,7) have mixed types. Specify dtype option on import or set low_memory=False.\n",
      "  return pd.read_csv(f)\n"
     ]
    },
    {
     "name": "stdout",
     "output_type": "stream",
     "text": [
      "38\n"
     ]
    },
    {
     "name": "stderr",
     "output_type": "stream",
     "text": [
      "/var/folders/qk/0rq62snn37d4kk5pqqpg5cj40000gn/T/ipykernel_59725/2430614948.py:6: DtypeWarning: Columns (5,7) have mixed types. Specify dtype option on import or set low_memory=False.\n",
      "  return pd.read_csv(f)\n"
     ]
    },
    {
     "name": "stdout",
     "output_type": "stream",
     "text": [
      "39\n",
      "40\n",
      "41\n"
     ]
    },
    {
     "name": "stderr",
     "output_type": "stream",
     "text": [
      "/var/folders/qk/0rq62snn37d4kk5pqqpg5cj40000gn/T/ipykernel_59725/2430614948.py:6: DtypeWarning: Columns (5,7) have mixed types. Specify dtype option on import or set low_memory=False.\n",
      "  return pd.read_csv(f)\n"
     ]
    },
    {
     "name": "stdout",
     "output_type": "stream",
     "text": [
      "42\n",
      "43\n"
     ]
    },
    {
     "name": "stderr",
     "output_type": "stream",
     "text": [
      "/var/folders/qk/0rq62snn37d4kk5pqqpg5cj40000gn/T/ipykernel_59725/2430614948.py:6: DtypeWarning: Columns (5,7) have mixed types. Specify dtype option on import or set low_memory=False.\n",
      "  return pd.read_csv(f)\n"
     ]
    },
    {
     "name": "stdout",
     "output_type": "stream",
     "text": [
      "44\n"
     ]
    },
    {
     "name": "stderr",
     "output_type": "stream",
     "text": [
      "/var/folders/qk/0rq62snn37d4kk5pqqpg5cj40000gn/T/ipykernel_59725/2430614948.py:6: DtypeWarning: Columns (5,7) have mixed types. Specify dtype option on import or set low_memory=False.\n",
      "  return pd.read_csv(f)\n"
     ]
    },
    {
     "name": "stdout",
     "output_type": "stream",
     "text": [
      "45\n"
     ]
    },
    {
     "name": "stderr",
     "output_type": "stream",
     "text": [
      "/var/folders/qk/0rq62snn37d4kk5pqqpg5cj40000gn/T/ipykernel_59725/2430614948.py:6: DtypeWarning: Columns (5,7) have mixed types. Specify dtype option on import or set low_memory=False.\n",
      "  return pd.read_csv(f)\n"
     ]
    },
    {
     "name": "stdout",
     "output_type": "stream",
     "text": [
      "46\n"
     ]
    },
    {
     "name": "stderr",
     "output_type": "stream",
     "text": [
      "/var/folders/qk/0rq62snn37d4kk5pqqpg5cj40000gn/T/ipykernel_59725/2430614948.py:6: DtypeWarning: Columns (5,7) have mixed types. Specify dtype option on import or set low_memory=False.\n",
      "  return pd.read_csv(f)\n"
     ]
    },
    {
     "name": "stdout",
     "output_type": "stream",
     "text": [
      "47\n"
     ]
    },
    {
     "name": "stderr",
     "output_type": "stream",
     "text": [
      "/var/folders/qk/0rq62snn37d4kk5pqqpg5cj40000gn/T/ipykernel_59725/2430614948.py:6: DtypeWarning: Columns (5,7) have mixed types. Specify dtype option on import or set low_memory=False.\n",
      "  return pd.read_csv(f)\n"
     ]
    },
    {
     "name": "stdout",
     "output_type": "stream",
     "text": [
      "48\n"
     ]
    },
    {
     "name": "stderr",
     "output_type": "stream",
     "text": [
      "/var/folders/qk/0rq62snn37d4kk5pqqpg5cj40000gn/T/ipykernel_59725/2430614948.py:6: DtypeWarning: Columns (5,7) have mixed types. Specify dtype option on import or set low_memory=False.\n",
      "  return pd.read_csv(f)\n"
     ]
    },
    {
     "name": "stdout",
     "output_type": "stream",
     "text": [
      "49\n"
     ]
    },
    {
     "name": "stderr",
     "output_type": "stream",
     "text": [
      "/var/folders/qk/0rq62snn37d4kk5pqqpg5cj40000gn/T/ipykernel_59725/2430614948.py:6: DtypeWarning: Columns (5,7) have mixed types. Specify dtype option on import or set low_memory=False.\n",
      "  return pd.read_csv(f)\n"
     ]
    },
    {
     "name": "stdout",
     "output_type": "stream",
     "text": [
      "50\n"
     ]
    },
    {
     "name": "stderr",
     "output_type": "stream",
     "text": [
      "/var/folders/qk/0rq62snn37d4kk5pqqpg5cj40000gn/T/ipykernel_59725/2430614948.py:6: DtypeWarning: Columns (5,7) have mixed types. Specify dtype option on import or set low_memory=False.\n",
      "  return pd.read_csv(f)\n"
     ]
    },
    {
     "name": "stdout",
     "output_type": "stream",
     "text": [
      "51\n"
     ]
    },
    {
     "name": "stderr",
     "output_type": "stream",
     "text": [
      "/var/folders/qk/0rq62snn37d4kk5pqqpg5cj40000gn/T/ipykernel_59725/2430614948.py:6: DtypeWarning: Columns (5,7) have mixed types. Specify dtype option on import or set low_memory=False.\n",
      "  return pd.read_csv(f)\n"
     ]
    },
    {
     "name": "stdout",
     "output_type": "stream",
     "text": [
      "52\n"
     ]
    },
    {
     "name": "stderr",
     "output_type": "stream",
     "text": [
      "/var/folders/qk/0rq62snn37d4kk5pqqpg5cj40000gn/T/ipykernel_59725/2430614948.py:6: DtypeWarning: Columns (5,7) have mixed types. Specify dtype option on import or set low_memory=False.\n",
      "  return pd.read_csv(f)\n"
     ]
    },
    {
     "name": "stdout",
     "output_type": "stream",
     "text": [
      "53\n"
     ]
    },
    {
     "name": "stderr",
     "output_type": "stream",
     "text": [
      "/var/folders/qk/0rq62snn37d4kk5pqqpg5cj40000gn/T/ipykernel_59725/2430614948.py:6: DtypeWarning: Columns (5,7) have mixed types. Specify dtype option on import or set low_memory=False.\n",
      "  return pd.read_csv(f)\n"
     ]
    },
    {
     "name": "stdout",
     "output_type": "stream",
     "text": [
      "54\n"
     ]
    },
    {
     "name": "stderr",
     "output_type": "stream",
     "text": [
      "/var/folders/qk/0rq62snn37d4kk5pqqpg5cj40000gn/T/ipykernel_59725/2430614948.py:6: DtypeWarning: Columns (5,7) have mixed types. Specify dtype option on import or set low_memory=False.\n",
      "  return pd.read_csv(f)\n"
     ]
    },
    {
     "name": "stdout",
     "output_type": "stream",
     "text": [
      "55\n"
     ]
    },
    {
     "name": "stderr",
     "output_type": "stream",
     "text": [
      "/var/folders/qk/0rq62snn37d4kk5pqqpg5cj40000gn/T/ipykernel_59725/2430614948.py:6: DtypeWarning: Columns (5,7) have mixed types. Specify dtype option on import or set low_memory=False.\n",
      "  return pd.read_csv(f)\n"
     ]
    },
    {
     "name": "stdout",
     "output_type": "stream",
     "text": [
      "56\n",
      "57\n"
     ]
    },
    {
     "name": "stderr",
     "output_type": "stream",
     "text": [
      "/var/folders/qk/0rq62snn37d4kk5pqqpg5cj40000gn/T/ipykernel_59725/2430614948.py:6: DtypeWarning: Columns (5,7) have mixed types. Specify dtype option on import or set low_memory=False.\n",
      "  return pd.read_csv(f)\n"
     ]
    },
    {
     "name": "stdout",
     "output_type": "stream",
     "text": [
      "58\n"
     ]
    },
    {
     "name": "stderr",
     "output_type": "stream",
     "text": [
      "/var/folders/qk/0rq62snn37d4kk5pqqpg5cj40000gn/T/ipykernel_59725/2430614948.py:6: DtypeWarning: Columns (5,7) have mixed types. Specify dtype option on import or set low_memory=False.\n",
      "  return pd.read_csv(f)\n"
     ]
    },
    {
     "name": "stdout",
     "output_type": "stream",
     "text": [
      "59\n"
     ]
    },
    {
     "name": "stderr",
     "output_type": "stream",
     "text": [
      "/var/folders/qk/0rq62snn37d4kk5pqqpg5cj40000gn/T/ipykernel_59725/2430614948.py:6: DtypeWarning: Columns (5,7) have mixed types. Specify dtype option on import or set low_memory=False.\n",
      "  return pd.read_csv(f)\n"
     ]
    },
    {
     "name": "stdout",
     "output_type": "stream",
     "text": [
      "60\n",
      "61\n",
      "62\n",
      "63\n",
      "64\n",
      "65\n",
      "66\n",
      "67\n",
      "68\n",
      "69\n"
     ]
    },
    {
     "name": "stderr",
     "output_type": "stream",
     "text": [
      "/var/folders/qk/0rq62snn37d4kk5pqqpg5cj40000gn/T/ipykernel_59725/2430614948.py:6: DtypeWarning: Columns (5,7) have mixed types. Specify dtype option on import or set low_memory=False.\n",
      "  return pd.read_csv(f)\n"
     ]
    },
    {
     "name": "stdout",
     "output_type": "stream",
     "text": [
      "70\n"
     ]
    },
    {
     "name": "stderr",
     "output_type": "stream",
     "text": [
      "/var/folders/qk/0rq62snn37d4kk5pqqpg5cj40000gn/T/ipykernel_59725/2430614948.py:6: DtypeWarning: Columns (5,7) have mixed types. Specify dtype option on import or set low_memory=False.\n",
      "  return pd.read_csv(f)\n"
     ]
    },
    {
     "name": "stdout",
     "output_type": "stream",
     "text": [
      "71\n",
      "72\n"
     ]
    },
    {
     "name": "stderr",
     "output_type": "stream",
     "text": [
      "/var/folders/qk/0rq62snn37d4kk5pqqpg5cj40000gn/T/ipykernel_59725/2430614948.py:6: DtypeWarning: Columns (5,7) have mixed types. Specify dtype option on import or set low_memory=False.\n",
      "  return pd.read_csv(f)\n"
     ]
    },
    {
     "name": "stdout",
     "output_type": "stream",
     "text": [
      "73\n"
     ]
    },
    {
     "name": "stderr",
     "output_type": "stream",
     "text": [
      "/var/folders/qk/0rq62snn37d4kk5pqqpg5cj40000gn/T/ipykernel_59725/2430614948.py:6: DtypeWarning: Columns (5,7) have mixed types. Specify dtype option on import or set low_memory=False.\n",
      "  return pd.read_csv(f)\n"
     ]
    },
    {
     "name": "stdout",
     "output_type": "stream",
     "text": [
      "74\n"
     ]
    },
    {
     "name": "stderr",
     "output_type": "stream",
     "text": [
      "/var/folders/qk/0rq62snn37d4kk5pqqpg5cj40000gn/T/ipykernel_59725/2430614948.py:6: DtypeWarning: Columns (5,7) have mixed types. Specify dtype option on import or set low_memory=False.\n",
      "  return pd.read_csv(f)\n"
     ]
    }
   ],
   "source": [
    "i=1\n",
    "def readDf(f):\n",
    "    global i\n",
    "    print(i)\n",
    "    i += 1\n",
    "    return pd.read_csv(f)\n",
    "    \n",
    "\n",
    "print(\"Loading .csv flow files from 'data/csv/flow/' and saving as chuncked .parquet files\\n\")\n",
    "\n",
    "csv_dir = \"data/csv/flow/\"\n",
    "parquet_dir = \"data/parquet/flow/\"\n",
    "\n",
    "all_files = glob.glob(csv_dir+\"BoT_IoT/*.csv\")\n",
    "df = pd.concat((readDf(f) for f in all_files))"
   ]
  },
  {
   "cell_type": "code",
   "execution_count": 10,
   "id": "78e29d93-6a44-4a0a-a7ec-40eced8319d3",
   "metadata": {
    "tags": []
   },
   "outputs": [],
   "source": [
    "df['flgs_number'] = pd.factorize( df['flgs'] )[0]\n",
    "df['state_number'] = pd.factorize( df['state'] )[0]\n",
    "df['proto_number'] = pd.factorize( df['proto'] )[0]"
   ]
  },
  {
   "cell_type": "code",
   "execution_count": 13,
   "id": "1ddbd219-b6ab-4980-8c2c-0c410c46cffb",
   "metadata": {
    "tags": []
   },
   "outputs": [],
   "source": [
    "df.drop(columns=['subcategory ','pkSeqID','stime','flgs','category','state','proto','seq'], inplace=True)\n",
    "\n",
    "df['saddr'] = df.saddr.apply(str)\n",
    "df['sport'] = df.sport.apply(str)\n",
    "df['daddr'] = df.daddr.apply(str)\n",
    "df['dport'] = df.dport.apply(str)\n",
    "\n",
    "df['saddr'] = df.saddr.apply(lambda x: socket.inet_ntoa(struct.pack('>I', random.randint(0xac100001, 0xac1f0001))))\n",
    "\n",
    "df['saddr'] = df['saddr'] + ':' + df['sport']\n",
    "df['daddr'] = df['daddr'] + ':' + df['dport']\n",
    "\n",
    "\n",
    "df.drop(columns=['sport','dport'],inplace=True)\n",
    "df.rename(columns={\"attack\": \"label\"},inplace = True)\n",
    "label_ground_truth = df[[\"saddr\", \"daddr\",\"label\"]]\n",
    "df = pd.get_dummies(df, columns = ['flgs_number','state_number', 'proto_number'])\n",
    "\n",
    "df = df.reset_index()\n",
    "df.replace([np.inf, -np.inf], np.nan,inplace = True)\n",
    "\n",
    "df.fillna(0, inplace = True)\n",
    "df.drop(columns=['index'],inplace=True)"
   ]
  },
  {
   "cell_type": "code",
   "execution_count": 15,
   "id": "547e140b-c037-4168-b7ba-e764983f751d",
   "metadata": {
    "tags": []
   },
   "outputs": [],
   "source": [
    "df = df.drop_duplicates()"
   ]
  },
  {
   "cell_type": "code",
   "execution_count": 18,
   "id": "11a01d3b-b096-4b23-9854-cb730f5d7a31",
   "metadata": {
    "tags": []
   },
   "outputs": [
    {
     "name": "stdout",
     "output_type": "stream",
     "text": [
      "Saving original to: data/parquet/flow/original/BoT_IoT_chunks.parquet ...\n"
     ]
    }
   ],
   "source": [
    "orig_parquet = \"original/BoT_IoT_chunks\"\n",
    "print(\"Saving original to: \"+parquet_dir+orig_parquet+\" ...\")\n",
    "size99MB = int(df.memory_usage().sum()/1e6/99) + 1\n",
    "dd_df = dd.from_pandas(df, npartitions=size99MB)\n",
    "dd_df.to_parquet(parquet_dir+orig_parquet, compression=\"gzip\")\n",
    "\n",
    "\n",
    "#dd_df = dd_df.repartition(partition_size=\"100MB\")\n",
    "#df.to_parquet(parquet_dir+orig_parquet, compression=\"gzip\")"
   ]
  },
  {
   "cell_type": "code",
   "execution_count": null,
   "id": "cf941606-1303-4c3c-af9b-19e72d309783",
   "metadata": {},
   "outputs": [],
   "source": []
  }
 ],
 "metadata": {
  "kernelspec": {
   "display_name": "Python 3 (ipykernel)",
   "language": "python",
   "name": "python3"
  },
  "language_info": {
   "codemirror_mode": {
    "name": "ipython",
    "version": 3
   },
   "file_extension": ".py",
   "mimetype": "text/x-python",
   "name": "python",
   "nbconvert_exporter": "python",
   "pygments_lexer": "ipython3",
   "version": "3.10.12"
  }
 },
 "nbformat": 4,
 "nbformat_minor": 5
}
