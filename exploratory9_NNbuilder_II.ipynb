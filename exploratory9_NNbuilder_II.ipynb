{
  "cells": [
    {
      "cell_type": "code",
      "execution_count": null,
      "metadata": {
        "id": "EZkqN7Lk8kCo"
      },
      "outputs": [],
      "source": [
        "import tensorflow as tf\n",
        "import math\n",
        "import numpy as np\n",
        "import pickle\n",
        "import gc"
      ]
    },
    {
      "cell_type": "code",
      "execution_count": null,
      "metadata": {
        "id": "g4KBDfkfigT4",
        "outputId": "9c381082-4589-4c1b-d772-3a61530d1f8a"
      },
      "outputs": [
        {
          "name": "stdout",
          "output_type": "stream",
          "text": [
            "Model: \"model_2\"\n",
            "__________________________________________________________________________________________________\n",
            " Layer (type)                   Output Shape         Param #     Connected to                     \n",
            "==================================================================================================\n",
            " inputI (InputLayer)            [(None, 10)]         0           []                               \n",
            "                                                                                                  \n",
            " inputII (InputLayer)           [(None, 7)]          0           []                               \n",
            "                                                                                                  \n",
            " inputI_dense1 (Dense)          (None, 4)            44          ['inputI[0][0]']                 \n",
            "                                                                                                  \n",
            " inputII_dense1 (Dense)         (None, 4)            32          ['inputII[0][0]']                \n",
            "                                                                                                  \n",
            " inputI_dense2 (Dense)          (None, 4)            20          ['inputI_dense1[0][0]']          \n",
            "                                                                                                  \n",
            " inputII_dense2 (Dense)         (None, 4)            20          ['inputII_dense1[0][0]']         \n",
            "                                                                                                  \n",
            " concatenated_output (Concatena  (None, 8)           0           ['inputI_dense2[0][0]',          \n",
            " te)                                                              'inputII_dense2[0][0]']         \n",
            "                                                                                                  \n",
            " dense1cct (Dense)              (None, 1024)         9216        ['concatenated_output[0][0]']    \n",
            "                                                                                                  \n",
            " dense2cct (Dense)              (None, 1024)         1049600     ['dense1cct[0][0]']              \n",
            "                                                                                                  \n",
            " dense3cct (Dense)              (None, 1024)         1049600     ['dense2cct[0][0]']              \n",
            "                                                                                                  \n",
            " dense_2 (Dense)                (None, 1)            1025        ['dense3cct[0][0]']              \n",
            "                                                                                                  \n",
            "==================================================================================================\n",
            "Total params: 2,109,557\n",
            "Trainable params: 2,109,557\n",
            "Non-trainable params: 0\n",
            "__________________________________________________________________________________________________\n"
          ]
        }
      ],
      "source": [
        "def create_NN_II():\n",
        "    #Group I inputs-- 10\n",
        "    input_size_I = (10,)\n",
        "    input_size_II = (7,)\n",
        "    #input_size_III = (2,)\n",
        "\n",
        "    input_layers = []\n",
        "    output_layers = []\n",
        "\n",
        "    input_layer_1 = tf.keras.layers.Input(shape = input_size_I, name='inputI')\n",
        "    input_layers.append(input_layer_1)\n",
        "    dense_layer_1_1 = tf.keras.layers.Dense(4, activation='relu', name='inputI_dense1')(input_layer_1)\n",
        "    dense_layer_1_2 = tf.keras.layers.Dense(4, activation='relu', name='inputI_dense2')(dense_layer_1_1)\n",
        "    output_layers.append(dense_layer_1_2)\n",
        "\n",
        "    #Group II\n",
        "    input_layer_2 = tf.keras.layers.Input(shape = input_size_II, name='inputII')\n",
        "    input_layers.append(input_layer_2)\n",
        "    dense_layer_2_1 = tf.keras.layers.Dense(4, activation='relu', name='inputII_dense1')(input_layer_2)\n",
        "    dense_layer_2_2 = tf.keras.layers.Dense(4, activation='relu', name='inputII_dense2')(dense_layer_2_1)\n",
        "    output_layers.append(dense_layer_2_2)\n",
        "    concat_output = tf.keras.layers.concatenate(output_layers, name='concatenated_output')\n",
        "\n",
        "    '''#Group III\n",
        "    for i in range(20):\n",
        "        input_layer = tf.keras.layers.Input(shape=input_size_III, name=f'input_III_{i}')\n",
        "        input_layers.append(input_layer)\n",
        "        dense_layer_1 = tf.keras.layers.Dense(4, activation='relu', name=f'denseIII_1_{i}')(input_layer)\n",
        "        dense_layer_2 = tf.keras.layers.Dense(8, activation='relu', name=f'denseIII_2_{i}')(dense_layer_1)\n",
        "        output_layers.append(dense_layer_2)\n",
        "\n",
        "    concat_output = tf.keras.layers.concatenate(output_layers, name='concatenated_output')'''\n",
        "\n",
        "    x1 = tf.keras.layers.Dense(1024, activation='relu', name='dense1cct')(concat_output)\n",
        "    x2 = tf.keras.layers.Dense(1024, activation='relu', name='dense2cct')(x1)\n",
        "    x3 = tf.keras.layers.Dense(1024, activation='relu', name='dense3cct')(x2)\n",
        "    output_layer = tf.keras.layers.Dense(1, activation='sigmoid')(x3)\n",
        "\n",
        "    model = tf.keras.models.Model(inputs=input_layers, outputs=output_layer)\n",
        "    return model\n",
        "\n",
        "\n",
        "\n",
        "en_mod_II = create_NN_II()\n",
        "en_mod_II.summary()"
      ]
    },
    {
      "cell_type": "code",
      "execution_count": null,
      "metadata": {
        "id": "azyL0uDTigT5"
      },
      "outputs": [],
      "source": [
        "en_mod_II.compile(optimizer='adam',loss=\"binary_crossentropy\",metrics=['accuracy'])"
      ]
    },
    {
      "cell_type": "code",
      "execution_count": null,
      "metadata": {
        "id": "-gcZ5ZkWigT6",
        "outputId": "d12f0b53-0d26-4f85-edff-1f94cf222d85"
      },
      "outputs": [
        {
          "name": "stdout",
          "output_type": "stream",
          "text": [
            "[name: \"/device:CPU:0\"\n",
            "device_type: \"CPU\"\n",
            "memory_limit: 268435456\n",
            "locality {\n",
            "}\n",
            "incarnation: 10646493319673961615\n",
            "xla_global_id: -1\n",
            ", name: \"/device:GPU:0\"\n",
            "device_type: \"GPU\"\n",
            "memory_limit: 14236516352\n",
            "locality {\n",
            "  bus_id: 1\n",
            "  links {\n",
            "  }\n",
            "}\n",
            "incarnation: 338822451611963146\n",
            "physical_device_desc: \"device: 0, name: NVIDIA GeForce RTX 3080 Ti Laptop GPU, pci bus id: 0000:01:00.0, compute capability: 8.6\"\n",
            "xla_global_id: 416903419\n",
            "]\n"
          ]
        }
      ],
      "source": [
        "from tensorflow.python.client import device_lib\n",
        "print(device_lib.list_local_devices())"
      ]
    },
    {
      "cell_type": "code",
      "execution_count": null,
      "metadata": {
        "id": "0AyNkckFigT7",
        "outputId": "f9919565-53e8-4bd1-d5d3-a2cb5fb818f6"
      },
      "outputs": [
        {
          "data": {
            "text/plain": [
              "(500000, 10)"
            ]
          },
          "execution_count": 15,
          "metadata": {},
          "output_type": "execute_result"
        }
      ],
      "source": [
        "output_filepath = \"ton_iot_datablockI_1897.pkl\"\n",
        "with open(output_filepath, 'rb') as f:\n",
        "    groupI_block = pickle.load(f)\n",
        "groupI_block.shape"
      ]
    },
    {
      "cell_type": "code",
      "execution_count": null,
      "metadata": {
        "id": "d4eIUSjPigT7",
        "outputId": "09a20da5-ec16-43e7-b9d0-3de6db024199"
      },
      "outputs": [
        {
          "data": {
            "text/plain": [
              "((350000, 10), (75000, 10), (75000, 10))"
            ]
          },
          "execution_count": 16,
          "metadata": {},
          "output_type": "execute_result"
        }
      ],
      "source": [
        "groupI_train = groupI_block[0:350000,:]\n",
        "groupI_valid = groupI_block[350000:425000,:]\n",
        "groupI_test = groupI_block[425000:,:]\n",
        "groupI_train.shape,groupI_valid.shape,groupI_test.shape"
      ]
    },
    {
      "cell_type": "code",
      "execution_count": null,
      "metadata": {
        "id": "GHTIR8GuigT9",
        "outputId": "52b97765-9755-40ed-a7ff-6b77128aa58d"
      },
      "outputs": [
        {
          "data": {
            "text/plain": [
              "(0.0, 1.0)"
            ]
          },
          "execution_count": 17,
          "metadata": {},
          "output_type": "execute_result"
        }
      ],
      "source": [
        "np.min(groupI_train), np.max(groupI_train)"
      ]
    },
    {
      "cell_type": "code",
      "execution_count": null,
      "metadata": {
        "id": "xSPzRtVrigT-",
        "outputId": "49deccb4-f0ab-43a0-ad84-a5dfe0d6a2ea"
      },
      "outputs": [
        {
          "data": {
            "text/plain": [
              "(500000, 7)"
            ]
          },
          "execution_count": 18,
          "metadata": {},
          "output_type": "execute_result"
        }
      ],
      "source": [
        "output_filepath = \"GroupII_1897_tvals.pkl\"\n",
        "\n",
        "with open(output_filepath, 'rb') as f:\n",
        "    groupII_block = pickle.load(f)\n",
        "groupII_block.shape"
      ]
    },
    {
      "cell_type": "code",
      "execution_count": null,
      "metadata": {
        "id": "5ifuy5NmigT_",
        "outputId": "d417eff5-db6d-4e9b-8e74-dd6352294413"
      },
      "outputs": [
        {
          "data": {
            "text/plain": [
              "((350000, 7), (75000, 7), (75000, 7))"
            ]
          },
          "execution_count": 19,
          "metadata": {},
          "output_type": "execute_result"
        }
      ],
      "source": [
        "groupII_train = groupII_block[0:350000,:]\n",
        "groupII_valid = groupII_block[350000:425000,:]\n",
        "groupII_test = groupII_block[425000:,:]\n",
        "groupII_train.shape,groupII_valid.shape,groupII_test.shape"
      ]
    },
    {
      "cell_type": "code",
      "execution_count": null,
      "metadata": {
        "id": "AwLFBl7VigUA",
        "outputId": "901676b6-c92a-4726-e43d-161f4a3d9370"
      },
      "outputs": [
        {
          "data": {
            "text/plain": [
              "(0.0, 1.0)"
            ]
          },
          "execution_count": 20,
          "metadata": {},
          "output_type": "execute_result"
        }
      ],
      "source": [
        "np.min(groupII_train), np.max(groupII_train)"
      ]
    },
    {
      "cell_type": "code",
      "execution_count": null,
      "metadata": {
        "id": "ZAVD0xn3igUB",
        "outputId": "9fcc72b2-1043-4042-b258-49582a784f88"
      },
      "outputs": [
        {
          "data": {
            "text/plain": [
              "(500000,)"
            ]
          },
          "execution_count": 21,
          "metadata": {},
          "output_type": "execute_result"
        }
      ],
      "source": [
        "labels_block = np.load('labels_seeded_1897.npy')\n",
        "labels_block.shape"
      ]
    },
    {
      "cell_type": "code",
      "execution_count": null,
      "metadata": {
        "id": "E416z6ScigUC",
        "outputId": "cdf3b9d7-b3e4-446e-8f29-6315e05772d9"
      },
      "outputs": [
        {
          "data": {
            "text/plain": [
              "((350000,), (75000,), (75000,))"
            ]
          },
          "execution_count": 22,
          "metadata": {},
          "output_type": "execute_result"
        }
      ],
      "source": [
        "labels_tr = labels_block[0:350000,]\n",
        "labels_va = labels_block[350000:425000,]\n",
        "labels_te = labels_block[425000:,]\n",
        "labels_tr.shape,labels_va.shape,labels_te.shape"
      ]
    },
    {
      "cell_type": "code",
      "execution_count": null,
      "metadata": {
        "id": "yfjiPIv8igUD",
        "outputId": "b84ef550-2c0d-4245-a3e9-f8ce68554397"
      },
      "outputs": [
        {
          "name": "stdout",
          "output_type": "stream",
          "text": [
            "Epoch 1/200\n",
            "5469/5469 [==============================] - 47s 8ms/step - loss: 0.1589 - accuracy: 0.9421 - val_loss: 0.1233 - val_accuracy: 0.9513\n",
            "Epoch 2/200\n",
            "5469/5469 [==============================] - 46s 8ms/step - loss: 0.1176 - accuracy: 0.9556 - val_loss: 0.0990 - val_accuracy: 0.9611\n",
            "Epoch 3/200\n",
            "5469/5469 [==============================] - 45s 8ms/step - loss: 0.1085 - accuracy: 0.9595 - val_loss: 0.1020 - val_accuracy: 0.9644\n",
            "Epoch 4/200\n",
            "5469/5469 [==============================] - 45s 8ms/step - loss: 0.1058 - accuracy: 0.9598 - val_loss: 0.1029 - val_accuracy: 0.9650\n",
            "Epoch 5/200\n",
            "5469/5469 [==============================] - 50s 9ms/step - loss: 0.1026 - accuracy: 0.9617 - val_loss: 0.0899 - val_accuracy: 0.9665\n",
            "Epoch 6/200\n",
            "5469/5469 [==============================] - 45s 8ms/step - loss: 0.0961 - accuracy: 0.9647 - val_loss: 0.0907 - val_accuracy: 0.9681\n",
            "Epoch 7/200\n",
            "5469/5469 [==============================] - 45s 8ms/step - loss: 0.0870 - accuracy: 0.9680 - val_loss: 0.0970 - val_accuracy: 0.9627\n",
            "Epoch 8/200\n",
            "5469/5469 [==============================] - 48s 9ms/step - loss: 0.0782 - accuracy: 0.9708 - val_loss: 0.0744 - val_accuracy: 0.9722\n",
            "Epoch 9/200\n",
            "5469/5469 [==============================] - 45s 8ms/step - loss: 0.0763 - accuracy: 0.9716 - val_loss: 0.0723 - val_accuracy: 0.9725\n",
            "Epoch 10/200\n",
            "5469/5469 [==============================] - 48s 9ms/step - loss: 0.0742 - accuracy: 0.9723 - val_loss: 0.0775 - val_accuracy: 0.9682\n",
            "Epoch 11/200\n",
            "5469/5469 [==============================] - 44s 8ms/step - loss: 0.0713 - accuracy: 0.9732 - val_loss: 0.0655 - val_accuracy: 0.9764\n",
            "Epoch 12/200\n",
            "5469/5469 [==============================] - 46s 8ms/step - loss: 0.0697 - accuracy: 0.9741 - val_loss: 0.0674 - val_accuracy: 0.9759\n",
            "Epoch 13/200\n",
            "5469/5469 [==============================] - 47s 9ms/step - loss: 0.0705 - accuracy: 0.9738 - val_loss: 0.0684 - val_accuracy: 0.9734\n",
            "Epoch 14/200\n",
            "5469/5469 [==============================] - 46s 8ms/step - loss: 0.0708 - accuracy: 0.9742 - val_loss: 0.0671 - val_accuracy: 0.9746\n",
            "Epoch 15/200\n",
            "5469/5469 [==============================] - 49s 9ms/step - loss: 0.0684 - accuracy: 0.9750 - val_loss: 0.0641 - val_accuracy: 0.9755\n",
            "Epoch 16/200\n",
            "5469/5469 [==============================] - 45s 8ms/step - loss: 0.0657 - accuracy: 0.9756 - val_loss: 0.0634 - val_accuracy: 0.9764\n"
          ]
        }
      ],
      "source": [
        "#for en_mod_s\n",
        "EPOCHS = 200\n",
        "batchSize = 64\n",
        "early_stopping = tf.keras.callbacks.EarlyStopping(monitor='val_accuracy', patience=5, restore_best_weights=True)\n",
        "history = en_mod_II.fit(\n",
        "    x=[groupI_train,groupII_train],\n",
        "    y=labels_tr,\n",
        "    batch_size=batchSize,\n",
        "    epochs=EPOCHS,\n",
        "    validation_data=([groupI_valid,groupII_valid], labels_va),\n",
        "    callbacks=[early_stopping],\n",
        "    verbose=1\n",
        ")"
      ]
    },
    {
      "cell_type": "code",
      "execution_count": null,
      "metadata": {
        "id": "s60IQT6figUF"
      },
      "outputs": [],
      "source": []
    }
  ],
  "metadata": {
    "colab": {
      "provenance": []
    },
    "kernelspec": {
      "display_name": "Python 3 (ipykernel)",
      "language": "python",
      "name": "python3"
    },
    "language_info": {
      "codemirror_mode": {
        "name": "ipython",
        "version": 3
      },
      "file_extension": ".py",
      "mimetype": "text/x-python",
      "name": "python",
      "nbconvert_exporter": "python",
      "pygments_lexer": "ipython3",
      "version": "3.9.13"
    }
  },
  "nbformat": 4,
  "nbformat_minor": 0
}