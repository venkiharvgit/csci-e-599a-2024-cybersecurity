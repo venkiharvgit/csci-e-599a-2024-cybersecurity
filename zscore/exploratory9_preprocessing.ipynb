{
  "nbformat": 4,
  "nbformat_minor": 0,
  "metadata": {
    "colab": {
      "provenance": []
    },
    "kernelspec": {
      "name": "python3",
      "display_name": "Python 3"
    },
    "language_info": {
      "name": "python"
    }
  },
  "cells": [
    {
      "cell_type": "code",
      "execution_count": null,
      "metadata": {
        "colab": {
          "base_uri": "https://localhost:8080/"
        },
        "id": "GopugYuXnhnH",
        "outputId": "8da34afb-239f-48d7-86a0-93ad4d6fa2d6"
      },
      "outputs": [
        {
          "output_type": "stream",
          "name": "stdout",
          "text": [
            "Drive already mounted at /content/gdrive; to attempt to forcibly remount, call drive.mount(\"/content/gdrive\", force_remount=True).\n"
          ]
        }
      ],
      "source": [
        "from google.colab import drive\n",
        "drive.mount('/content/gdrive')"
      ]
    },
    {
      "cell_type": "code",
      "source": [
        "import os\n",
        "import gc\n",
        "\n",
        "zepa = '/content/gdrive/MyDrive/NF_ToN_IoT_v2_full170chunks'\n",
        "\n",
        "os.chdir(zepa)\n",
        "parquet_files = [filename for filename in os.listdir(zepa) if filename.endswith('.parquet')]\n",
        "parquet_files = parquet_files[:-1]\n",
        "print(parquet_files)\n",
        "print(len(parquet_files))"
      ],
      "metadata": {
        "colab": {
          "base_uri": "https://localhost:8080/"
        },
        "id": "zQL7i1chnlxX",
        "outputId": "40bad373-5bad-4d92-c706-5df168421570"
      },
      "execution_count": null,
      "outputs": [
        {
          "output_type": "stream",
          "name": "stdout",
          "text": [
            "['NF-ToN-IoT-v2_CH_0.parquet', 'NF-ToN-IoT-v2_CH_1.parquet', 'NF-ToN-IoT-v2_CH_2.parquet', 'NF-ToN-IoT-v2_CH_3.parquet', 'NF-ToN-IoT-v2_CH_4.parquet', 'NF-ToN-IoT-v2_CH_5.parquet', 'NF-ToN-IoT-v2_CH_6.parquet', 'NF-ToN-IoT-v2_CH_7.parquet', 'NF-ToN-IoT-v2_CH_8.parquet', 'NF-ToN-IoT-v2_CH_9.parquet', 'NF-ToN-IoT-v2_CH_10.parquet', 'NF-ToN-IoT-v2_CH_11.parquet', 'NF-ToN-IoT-v2_CH_12.parquet', 'NF-ToN-IoT-v2_CH_13.parquet', 'NF-ToN-IoT-v2_CH_14.parquet', 'NF-ToN-IoT-v2_CH_15.parquet', 'NF-ToN-IoT-v2_CH_16.parquet', 'NF-ToN-IoT-v2_CH_17.parquet', 'NF-ToN-IoT-v2_CH_18.parquet', 'NF-ToN-IoT-v2_CH_19.parquet', 'NF-ToN-IoT-v2_CH_20.parquet', 'NF-ToN-IoT-v2_CH_21.parquet', 'NF-ToN-IoT-v2_CH_22.parquet', 'NF-ToN-IoT-v2_CH_23.parquet', 'NF-ToN-IoT-v2_CH_24.parquet', 'NF-ToN-IoT-v2_CH_25.parquet', 'NF-ToN-IoT-v2_CH_26.parquet', 'NF-ToN-IoT-v2_CH_27.parquet', 'NF-ToN-IoT-v2_CH_28.parquet', 'NF-ToN-IoT-v2_CH_29.parquet', 'NF-ToN-IoT-v2_CH_30.parquet', 'NF-ToN-IoT-v2_CH_31.parquet', 'NF-ToN-IoT-v2_CH_32.parquet', 'NF-ToN-IoT-v2_CH_33.parquet', 'NF-ToN-IoT-v2_CH_34.parquet', 'NF-ToN-IoT-v2_CH_35.parquet', 'NF-ToN-IoT-v2_CH_36.parquet', 'NF-ToN-IoT-v2_CH_37.parquet', 'NF-ToN-IoT-v2_CH_38.parquet', 'NF-ToN-IoT-v2_CH_39.parquet', 'NF-ToN-IoT-v2_CH_40.parquet', 'NF-ToN-IoT-v2_CH_41.parquet', 'NF-ToN-IoT-v2_CH_42.parquet', 'NF-ToN-IoT-v2_CH_43.parquet', 'NF-ToN-IoT-v2_CH_44.parquet', 'NF-ToN-IoT-v2_CH_45.parquet', 'NF-ToN-IoT-v2_CH_46.parquet', 'NF-ToN-IoT-v2_CH_47.parquet', 'NF-ToN-IoT-v2_CH_48.parquet', 'NF-ToN-IoT-v2_CH_49.parquet', 'NF-ToN-IoT-v2_CH_50.parquet', 'NF-ToN-IoT-v2_CH_51.parquet', 'NF-ToN-IoT-v2_CH_52.parquet', 'NF-ToN-IoT-v2_CH_53.parquet', 'NF-ToN-IoT-v2_CH_54.parquet', 'NF-ToN-IoT-v2_CH_55.parquet', 'NF-ToN-IoT-v2_CH_56.parquet', 'NF-ToN-IoT-v2_CH_57.parquet', 'NF-ToN-IoT-v2_CH_58.parquet', 'NF-ToN-IoT-v2_CH_59.parquet', 'NF-ToN-IoT-v2_CH_60.parquet', 'NF-ToN-IoT-v2_CH_61.parquet', 'NF-ToN-IoT-v2_CH_62.parquet', 'NF-ToN-IoT-v2_CH_63.parquet', 'NF-ToN-IoT-v2_CH_64.parquet', 'NF-ToN-IoT-v2_CH_65.parquet', 'NF-ToN-IoT-v2_CH_66.parquet', 'NF-ToN-IoT-v2_CH_67.parquet', 'NF-ToN-IoT-v2_CH_68.parquet', 'NF-ToN-IoT-v2_CH_69.parquet', 'NF-ToN-IoT-v2_CH_70.parquet', 'NF-ToN-IoT-v2_CH_71.parquet', 'NF-ToN-IoT-v2_CH_72.parquet', 'NF-ToN-IoT-v2_CH_73.parquet', 'NF-ToN-IoT-v2_CH_74.parquet', 'NF-ToN-IoT-v2_CH_75.parquet', 'NF-ToN-IoT-v2_CH_76.parquet', 'NF-ToN-IoT-v2_CH_77.parquet', 'NF-ToN-IoT-v2_CH_78.parquet', 'NF-ToN-IoT-v2_CH_79.parquet', 'NF-ToN-IoT-v2_CH_80.parquet', 'NF-ToN-IoT-v2_CH_81.parquet', 'NF-ToN-IoT-v2_CH_82.parquet', 'NF-ToN-IoT-v2_CH_83.parquet', 'NF-ToN-IoT-v2_CH_84.parquet', 'NF-ToN-IoT-v2_CH_85.parquet', 'NF-ToN-IoT-v2_CH_86.parquet', 'NF-ToN-IoT-v2_CH_87.parquet', 'NF-ToN-IoT-v2_CH_88.parquet', 'NF-ToN-IoT-v2_CH_89.parquet', 'NF-ToN-IoT-v2_CH_90.parquet', 'NF-ToN-IoT-v2_CH_91.parquet', 'NF-ToN-IoT-v2_CH_92.parquet', 'NF-ToN-IoT-v2_CH_93.parquet', 'NF-ToN-IoT-v2_CH_94.parquet', 'NF-ToN-IoT-v2_CH_95.parquet', 'NF-ToN-IoT-v2_CH_96.parquet', 'NF-ToN-IoT-v2_CH_97.parquet', 'NF-ToN-IoT-v2_CH_98.parquet', 'NF-ToN-IoT-v2_CH_99.parquet', 'NF-ToN-IoT-v2_CH_100.parquet', 'NF-ToN-IoT-v2_CH_101.parquet', 'NF-ToN-IoT-v2_CH_102.parquet', 'NF-ToN-IoT-v2_CH_103.parquet', 'NF-ToN-IoT-v2_CH_104.parquet', 'NF-ToN-IoT-v2_CH_105.parquet', 'NF-ToN-IoT-v2_CH_106.parquet', 'NF-ToN-IoT-v2_CH_107.parquet', 'NF-ToN-IoT-v2_CH_108.parquet', 'NF-ToN-IoT-v2_CH_109.parquet', 'NF-ToN-IoT-v2_CH_110.parquet', 'NF-ToN-IoT-v2_CH_111.parquet', 'NF-ToN-IoT-v2_CH_112.parquet', 'NF-ToN-IoT-v2_CH_113.parquet', 'NF-ToN-IoT-v2_CH_114.parquet', 'NF-ToN-IoT-v2_CH_115.parquet', 'NF-ToN-IoT-v2_CH_116.parquet', 'NF-ToN-IoT-v2_CH_117.parquet', 'NF-ToN-IoT-v2_CH_118.parquet', 'NF-ToN-IoT-v2_CH_119.parquet', 'NF-ToN-IoT-v2_CH_120.parquet', 'NF-ToN-IoT-v2_CH_121.parquet', 'NF-ToN-IoT-v2_CH_122.parquet', 'NF-ToN-IoT-v2_CH_123.parquet', 'NF-ToN-IoT-v2_CH_124.parquet', 'NF-ToN-IoT-v2_CH_125.parquet', 'NF-ToN-IoT-v2_CH_126.parquet', 'NF-ToN-IoT-v2_CH_127.parquet', 'NF-ToN-IoT-v2_CH_128.parquet', 'NF-ToN-IoT-v2_CH_129.parquet', 'NF-ToN-IoT-v2_CH_130.parquet', 'NF-ToN-IoT-v2_CH_131.parquet', 'NF-ToN-IoT-v2_CH_132.parquet', 'NF-ToN-IoT-v2_CH_133.parquet', 'NF-ToN-IoT-v2_CH_134.parquet', 'NF-ToN-IoT-v2_CH_135.parquet', 'NF-ToN-IoT-v2_CH_136.parquet', 'NF-ToN-IoT-v2_CH_137.parquet', 'NF-ToN-IoT-v2_CH_138.parquet', 'NF-ToN-IoT-v2_CH_139.parquet', 'NF-ToN-IoT-v2_CH_140.parquet', 'NF-ToN-IoT-v2_CH_141.parquet', 'NF-ToN-IoT-v2_CH_142.parquet', 'NF-ToN-IoT-v2_CH_143.parquet', 'NF-ToN-IoT-v2_CH_144.parquet', 'NF-ToN-IoT-v2_CH_145.parquet', 'NF-ToN-IoT-v2_CH_146.parquet', 'NF-ToN-IoT-v2_CH_147.parquet', 'NF-ToN-IoT-v2_CH_148.parquet', 'NF-ToN-IoT-v2_CH_149.parquet', 'NF-ToN-IoT-v2_CH_150.parquet', 'NF-ToN-IoT-v2_CH_151.parquet', 'NF-ToN-IoT-v2_CH_152.parquet', 'NF-ToN-IoT-v2_CH_153.parquet', 'NF-ToN-IoT-v2_CH_154.parquet', 'NF-ToN-IoT-v2_CH_155.parquet', 'NF-ToN-IoT-v2_CH_156.parquet', 'NF-ToN-IoT-v2_CH_157.parquet', 'NF-ToN-IoT-v2_CH_158.parquet', 'NF-ToN-IoT-v2_CH_159.parquet', 'NF-ToN-IoT-v2_CH_160.parquet', 'NF-ToN-IoT-v2_CH_161.parquet', 'NF-ToN-IoT-v2_CH_162.parquet', 'NF-ToN-IoT-v2_CH_163.parquet', 'NF-ToN-IoT-v2_CH_164.parquet', 'NF-ToN-IoT-v2_CH_165.parquet', 'NF-ToN-IoT-v2_CH_166.parquet', 'NF-ToN-IoT-v2_CH_167.parquet', 'NF-ToN-IoT-v2_CH_168.parquet', 'NF-ToN-IoT-v2_CH_169.parquet']\n",
            "170\n"
          ]
        }
      ]
    },
    {
      "cell_type": "code",
      "source": [
        "import pickle\n",
        "import numpy as np\n",
        "import scipy.stats as statists\n",
        "from scipy.stats import skew, kurtosis\n",
        "from scipy.stats import boxcox\n",
        "from scipy.stats import yeojohnson\n",
        "directory = '/content/gdrive/MyDrive/NF_ToN_IoT_v2_full170chunks'\n",
        "varta = [4,  5,  6,  7,  8,  9, 10, 11, 12, 13, 14, 15, 16, 17, 18, 19, 20, 23, 24, 25, 26, 27, 28, 29, 30, 31,\n",
        "         32, 33, 34, 35, 36, 37, 38, 39, 40, 41, 42]\n",
        "daList = ['IPV4_SRC_ADDR', 'L4_SRC_PORT', 'IPV4_DST_ADDR', 'L4_DST_PORT','PROTOCOL', 'L7_PROTO', 'IN_BYTES', 'IN_PKTS', 'OUT_BYTES', 'OUT_PKTS','TCP_FLAGS',\n",
        "          'CLIENT_TCP_FLAGS', 'SERVER_TCP_FLAGS','FLOW_DURATION_MILLISECONDS', 'DURATION_IN', 'DURATION_OUT', 'MIN_TTL','MAX_TTL', 'LONGEST_FLOW_PKT', 'SHORTEST_FLOW_PKT',\n",
        "          'MIN_IP_PKT_LEN','MAX_IP_PKT_LEN', 'SRC_TO_DST_SECOND_BYTES', 'DST_TO_SRC_SECOND_BYTES','RETRANSMITTED_IN_BYTES', 'RETRANSMITTED_IN_PKTS','RETRANSMITTED_OUT_BYTES',\n",
        "          'RETRANSMITTED_OUT_PKTS','SRC_TO_DST_AVG_THROUGHPUT', 'DST_TO_SRC_AVG_THROUGHPUT','NUM_PKTS_UP_TO_128_BYTES', 'NUM_PKTS_128_TO_256_BYTES','NUM_PKTS_256_TO_512_BYTES',\n",
        "          'NUM_PKTS_512_TO_1024_BYTES','NUM_PKTS_1024_TO_1514_BYTES', 'TCP_WIN_MAX_IN', 'TCP_WIN_MAX_OUT','ICMP_TYPE', 'ICMP_IPV4_TYPE', 'DNS_QUERY_ID', 'DNS_QUERY_TYPE',\n",
        "          'DNS_TTL_ANSWER', 'FTP_COMMAND_RET_CODE', 'Label', 'Attack']"
      ],
      "metadata": {
        "id": "VAKEqMQqnz72"
      },
      "execution_count": null,
      "outputs": []
    },
    {
      "cell_type": "code",
      "source": [
        "import random\n",
        "import math\n",
        "\n",
        "def generate_unique_values(a_range, a_count): # generates a list of indices for sampling\n",
        "    # for NF_ToN_IoT-v2 data, a_range = 16940496\n",
        "    if a_count > a_range:\n",
        "        raise ValueError(\"Count cannot exceed range\")\n",
        "    unique_values = random.sample(range(a_range), a_count)\n",
        "    return np.array(unique_values)\n",
        "\n",
        "def give_all_indices(a_range:int,a_count:int,z_count,tvt_split=(0.7,0.15,0.15)):# indices come out as 1)z_set,2)train,3)validation,4)test sets\n",
        "    '''\n",
        "      a_range= # of rows in dataset\n",
        "      a_count--full count of what is to be pulled\n",
        "      z_count -- count of rows for which mean, s.d. and z-score are to be calc'd\n",
        "      tvt_split -- train, val, test by decimal fraction\n",
        "    '''\n",
        "    full_set = generate_unique_values(a_range,a_count)\n",
        "    z_set = full_set[0:z_count]\n",
        "    full_set = full_set[z_count:]\n",
        "    tvt_set_count = a_count - z_count\n",
        "    train_count = int(tvt_split[0]*tvt_set_count)\n",
        "    valid_count = int(tvt_split[1]*tvt_set_count)\n",
        "    train_set = full_set[0:train_count]\n",
        "    full_set = full_set[train_count:]\n",
        "    valid_set = full_set[0:valid_count]\n",
        "    test_set = full_set[valid_count:]\n",
        "    return z_set,train_set,valid_set,test_set"
      ],
      "metadata": {
        "id": "ZX7P3Gvo4YtB"
      },
      "execution_count": null,
      "outputs": []
    },
    {
      "cell_type": "code",
      "source": [
        "\n",
        "def open_pkl(a_path,column_no, a_tail):\n",
        "  outPut_filePath = a_path + \"/ton_iot_\" + daList[varta[column_no]] + a_tail\n",
        "  with open(outPut_filePath, 'rb') as f:\n",
        "    a_work_column = pickle.load(f)\n",
        "    print(a_work_column.shape,daList[varta[column_no]])\n",
        "    return a_work_column\n",
        "\n",
        "\n",
        "def save_pkl(a_path,column_no,this_data,a_tail):# e.g. a_tail = '_mod.pkl'\n",
        "  modFileName = a_path + \"/ton_iot_\" + daList[varta[column_no]] + a_tail\n",
        "  with open(modFileName, 'wb') as f:\n",
        "    pickle.dump(this_data,f)"
      ],
      "metadata": {
        "id": "c-hJ8dm6S_il"
      },
      "execution_count": null,
      "outputs": []
    },
    {
      "cell_type": "code",
      "source": [
        "# GROUP I FUNCTIONS\n",
        "def binary_me(incoming:np.array) -> np.array : # for column 33 DNS_QUERY_ID\n",
        "  return np.array([item if item == 0 else 1 for item in incoming])\n",
        "def normalizer(incoming:np.array) -> np.array :\n",
        "  a_min = np.min(incoming)\n",
        "  a_max = np.max(incoming)\n",
        "  intermed = [(x - a_min) / (a_max - a_min) for x in incoming]\n",
        "  return np.array(intermed)\n",
        "def stack_norm(incoming:np.array) -> np.array :\n",
        "  intermed = normalizer(incoming)\n",
        "  return np.vstack((incoming,intermed))\n",
        "def stack_bi(incoming:np.array) -> np.array :\n",
        "  intermed = binary_me(incoming)\n",
        "  return np.vstack((incoming,intermed))\n",
        "def sort_grpI(incoming:np.array,sele:int)->np.array:\n",
        "  if sele == 0:\n",
        "    return stack_norm(incoming)\n",
        "  return stack_bi(incoming)\n"
      ],
      "metadata": {
        "id": "oyYccOBmoNIo"
      },
      "execution_count": null,
      "outputs": []
    },
    {
      "cell_type": "markdown",
      "source": [
        "PROTOCOL 0\n",
        "TCP_FLAGS 6\n",
        "CLIENT_TCP_FLAGS 7\n",
        "SERVER_TCP_FLAGS 8\n",
        "MIN_TTL 12\n",
        "MAX_TTL 13\n",
        "ICMP_IV4_TYPE 32\n",
        "DNS QUERY_ID 33\n",
        "FTP_COMMAND_RET_CODE 36\n",
        "L7_PROTO 1"
      ],
      "metadata": {
        "id": "b5N5LvG_My7u"
      }
    },
    {
      "cell_type": "code",
      "source": [
        "groupI = [0,6,7,8,12,13,32,36,33,1]\n",
        "grpI_xfrm = [0,0,0,0,0,0,0,0,1,0]\n",
        "for p in range(len(groupI)):\n",
        "  working_column = open_pkl(zepa,groupI[p],'_orig.pkl')\n",
        "  working_column = sort_grpI(working_column, grpI_xfrm[p])\n",
        "  save_pkl(zepa,groupI[p],working_column,'_mod.pkl')\n",
        "  print(working_column[0:5,])\n",
        "  del working_column\n",
        "  gc.collect()"
      ],
      "metadata": {
        "colab": {
          "base_uri": "https://localhost:8080/"
        },
        "id": "YMHnbBepNtNk",
        "outputId": "46e72e3d-34c5-49bd-de75-cc92391c925e"
      },
      "execution_count": null,
      "outputs": [
        {
          "output_type": "stream",
          "name": "stdout",
          "text": [
            "(16940496,) PROTOCOL\n",
            "[[ 6.          6.          1.         ...  6.         17.\n",
            "   1.        ]\n",
            " [ 0.0877193   0.0877193   0.         ...  0.0877193   0.28070175\n",
            "   0.        ]]\n",
            "(16940496,) TCP_FLAGS\n",
            "[[24.         24.          0.         ... 25.          0.\n",
            "   0.        ]\n",
            " [ 0.10762332  0.10762332  0.         ...  0.11210762  0.\n",
            "   0.        ]]\n",
            "(16940496,) CLIENT_TCP_FLAGS\n",
            "[[24.         16.          0.         ... 25.          0.\n",
            "   0.        ]\n",
            " [ 0.10762332  0.07174888  0.         ...  0.11210762  0.\n",
            "   0.        ]]\n",
            "(16940496,) SERVER_TCP_FLAGS\n",
            "[[24.         24.          0.         ... 25.          0.\n",
            "   0.        ]\n",
            " [ 0.10762332  0.10762332  0.         ...  0.11210762  0.\n",
            "   0.        ]]\n",
            "(16940496,) MIN_TTL\n",
            "[[128.         128.          64.         ... 232.           0.\n",
            "    0.        ]\n",
            " [  0.50196078   0.50196078   0.25098039 ...   0.90980392   0.\n",
            "    0.        ]]\n",
            "(16940496,) MAX_TTL\n",
            "[[128.         128.          64.         ... 232.           0.\n",
            "    0.        ]\n",
            " [  0.50196078   0.50196078   0.25098039 ...   0.90980392   0.\n",
            "    0.        ]]\n",
            "(16940496,) ICMP_IPV4_TYPE\n",
            "[[0.         0.         3.         ... 0.         0.         3.        ]\n",
            " [0.         0.         0.01176471 ... 0.         0.         0.01176471]]\n",
            "(16940496,) FTP_COMMAND_RET_CODE\n",
            "[[0. 0. 0. ... 0. 0. 0.]\n",
            " [0. 0. 0. ... 0. 0. 0.]]\n",
            "(16940496,) DNS_QUERY_ID\n",
            "[[    0     0     0 ...     0 21860     0]\n",
            " [    0     0     0 ...     0     1     0]]\n",
            "(16940496,) L7_PROTO\n",
            "[[0.00000000e+00 0.00000000e+00 0.00000000e+00 ... 9.11780000e+01\n",
            "  5.00000000e+00 0.00000000e+00]\n",
            " [0.00000000e+00 0.00000000e+00 0.00000000e+00 ... 3.67653226e-01\n",
            "  2.01612903e-02 0.00000000e+00]]\n"
          ]
        }
      ]
    },
    {
      "cell_type": "code",
      "source": [
        "# GROUP II FUNCTIONS\n",
        "\n",
        "\n",
        "def do_sixth(incoming):\n",
        "  intermed = np.cbrt(incoming)\n",
        "  return np.sqrt(incoming)\n",
        "def xform_data(incoming:np.array,this_X:int,chosen_lambda)->np.array:\n",
        "  if this_X == 0:\n",
        "    return np.log(incoming)\n",
        "  elif this_X ==1:\n",
        "    return np.sqrt(incoming)\n",
        "  elif this_X == 2:\n",
        "    return np.cbrt(incoming)\n",
        "  elif this_X == 3:\n",
        "    outgo, _ = yeojohnson(incoming)\n",
        "    return outgo\n",
        "  elif this_X == 4:\n",
        "    outgo = statists.boxcox(incoming,lmbda=chosen_lambda)\n",
        "    outgo[np.isinf(outgo)] = 0\n",
        "    return outgo\n",
        "  elif this_X == 5:\n",
        "    return do_sixth(incoming)\n",
        "  else:\n",
        "     outgo, _ = boxcox(incoming)\n",
        "     return outgo\n",
        "def stack_xform(incoming:np.array,this_X:int,chosen_lambda):\n",
        "  intermed = xform_data(incoming,this_X,chosen_lambda)\n",
        "  return np.vstack((incoming,intermed))"
      ],
      "metadata": {
        "id": "ZvldRITO3Nhi"
      },
      "execution_count": null,
      "outputs": []
    },
    {
      "cell_type": "markdown",
      "source": [
        "\n",
        "Transformation\n",
        "Columns\n",
        "Box Cox\n",
        "IN-BYTES 2\n",
        "IN_PKTS 3\n",
        "LONGEST_FLOW_PKT 14\n",
        "SHORTEST_FLOW_PKT 15\n",
        "\n",
        "Manual or “Bespoke” Box Cox Implementation\n",
        "DST_TO_SRC_SECOND_BYTES 17; lambdas = -3.6, -0.6, -1.9\n",
        "\n",
        "Yeo-Johnson Transformation\n",
        "FLOW_DURATION_MILLISECONDS 9\n",
        "\n",
        "Sixth root\n",
        "*L7_PROTO 1\n",
        "OUT_BYTES 4\n"
      ],
      "metadata": {
        "id": "ss-0-Uc_MNjt"
      }
    },
    {
      "cell_type": "code",
      "source": [
        "groupII = [2,3,14,15,17,9,4]#1 -- L7_PROTO in groupI this round]\n",
        "grpII_xfrm = [6,6,6,6,4,3,5]\n",
        "put_lamb = [0,0,0,0,-3.6,0,0]\n",
        "for p in range(len(groupII)):\n",
        "  working_column =  open_pkl(zepa,groupII[p],'_orig.pkl')\n",
        "  working_column = stack_xform(working_column,grpII_xfrm[p],put_lamb[p])\n",
        "  save_pkl(zepa,groupII[p],working_column,'mod.pkl')\n",
        "  print(working_column[0:5,])\n",
        "  del working_column\n",
        "  gc.collect()\n"
      ],
      "metadata": {
        "colab": {
          "base_uri": "https://localhost:8080/"
        },
        "id": "DFp2_ueXkq9V",
        "outputId": "4432c7bc-3e5a-4bbf-bb46-c5bcdc04f690"
      },
      "execution_count": null,
      "outputs": [
        {
          "output_type": "stream",
          "name": "stdout",
          "text": [
            "(16940496,) IN_BYTES\n",
            "[[1.55392000e+05 1.60000000e+03 2.12000000e+02 ... 1.91000000e+02\n",
            "  7.20000000e+01 1.00000000e+02]\n",
            " [2.13336606e+00 2.07312313e+00 1.96589603e+00 ... 1.95713389e+00\n",
            "  1.85077809e+00 1.89211342e+00]]\n",
            "(16940496,) IN_PKTS\n",
            "[[202.          40.           2.         ...   4.           1.\n",
            "    1.        ]\n",
            " [  0.89619627   0.8838216    0.48311074 ...   0.7065004    0.\n",
            "    0.        ]]\n",
            "(16940496,) LONGEST_FLOW_PKT\n",
            "[[1.50000000e+03 1.28600000e+03 1.06000000e+02 ... 7.10000000e+01\n",
            "  7.20000000e+01 1.00000000e+02]\n",
            " [9.46415767e-01 9.46341864e-01 9.39959841e-01 ... 9.36337392e-01\n",
            "  9.36491310e-01 9.39523485e-01]]\n",
            "(16940496,) SHORTEST_FLOW_PKT\n",
            "[[ 40.          40.         106.         ...  40.          72.\n",
            "  100.        ]\n",
            " [  0.43223133   0.43223133   0.43230752 ...   0.43223133   0.4322946\n",
            "    0.43230623]]\n",
            "(16940496,) DST_TO_SRC_SECOND_BYTES\n",
            "[[3.45520000e+04 3.57410000e+04 0.00000000e+00 ... 1.51000000e+02\n",
            "  0.00000000e+00 0.00000000e+00]\n",
            " [2.77777778e-01 2.77777778e-01 0.00000000e+00 ... 2.77777774e-01\n",
            "  0.00000000e+00 0.00000000e+00]]\n",
            "(16940496,) FLOW_DURATION_MILLISECONDS\n",
            "[[ 4.29495200e+06  4.29495200e+06  0.00000000e+00 ...  0.00000000e+00\n",
            "   0.00000000e+00  0.00000000e+00]\n",
            " [ 2.88367932e+00  2.88367932e+00 -0.00000000e+00 ... -0.00000000e+00\n",
            "  -0.00000000e+00 -0.00000000e+00]]\n",
            "(16940496,) OUT_BYTES\n",
            "[[3.45520000e+04 3.57410000e+04 0.00000000e+00 ... 1.51000000e+02\n",
            "  0.00000000e+00 0.00000000e+00]\n",
            " [1.85881683e+02 1.89052903e+02 0.00000000e+00 ... 1.22882057e+01\n",
            "  0.00000000e+00 0.00000000e+00]]\n"
          ]
        }
      ]
    },
    {
      "cell_type": "code",
      "source": [
        "\n",
        "\n",
        "#  GROUP III FUNCTIONS\n",
        "\n",
        "# Parallel array representing values which truly = 0 and non-zero values\n",
        "# These arrays get paired on input with processed column\n",
        "def give_zero_doppel(incoming:np.array,part_on=0.0) -> np.array :\n",
        "  return np.array([1 if item == 0 else 0 for item in incoming])\n",
        "\n",
        "# Partitioning function\n",
        "def pos_partition(incoming:np.array,threshold=0) -> np.array:\n",
        "  return incoming[incoming>threshold]\n",
        "\n",
        "# Log -- need to deal with potential 0's; here, implement as 0 = 0 or -1\n",
        "def process_log(incoming:np.array)-> np.array:\n",
        "  return np.array([0 if item == 0 else math.log(item)for item in incoming])\n",
        "\n",
        "# Box-Cox\n",
        "def push_BC(value,a_lambda):\n",
        "  if a_lambda == 0:\n",
        "    return math.log(value)\n",
        "  return ((value**a_lambda) / a_lambda)\n",
        "\n",
        "def give_lambda(incoming:np.array)-> float:\n",
        "  _, lambda_value = boxcox(incoming)\n",
        "  return lambda_value\n",
        "\n",
        "def process_bxcx(incoming:np.array,bespoke)-> np.array:\n",
        "  a_lambda = bespoke\n",
        "  if bespoke == 0:\n",
        "    a_lambda = give_lambda(pos_partition(incoming))\n",
        "  return np.array([0 if item == 0 else push_BC(item, a_lambda) for item in incoming])\\\n",
        "\n",
        "def just_yeo(incoming:np.array)->np.array:\n",
        "    outgo, _ = yeojohnson(incoming)\n",
        "    return outgo\n",
        "\n",
        "def dicem_all(incoming:np.array,a_type:int,bespoke=0.0)-> np.array:\n",
        "  doppel = give_zero_doppel(incoming)\n",
        "  passer = np.array([])\n",
        "  if a_type == 1:\n",
        "    passer = process_bxcx(incoming,bespoke)\n",
        "  elif a_type == 2:\n",
        "    passer = np.array([0 if item == 0 else math.log(item) for item in incoming])\n",
        "  elif a_type == 3:\n",
        "    passer = np.sqrt(incoming)\n",
        "  elif a_type == 4:\n",
        "    passer = just_yeo(incoming)\n",
        "  else: passer = np.cbrt(incoming) #a_type = 0\n",
        "  incoming = np.vstack((incoming,doppel))\n",
        "  incoming = np.vstack((incoming,passer))\n",
        "  return incoming\n",
        "\n",
        "\n",
        "\n",
        "\n",
        "\n",
        "\n",
        "\n",
        "\n",
        "\n"
      ],
      "metadata": {
        "id": "QMLLUm27q9GU"
      },
      "execution_count": null,
      "outputs": []
    },
    {
      "cell_type": "markdown",
      "source": [
        "Box Cox\n",
        "*L7_PROTO 1\n",
        "OUT_PKTS 5\n",
        "\n",
        "Cube Root\n",
        "DURATION_IN 10\n",
        "DURATION_OUT 11\n",
        "MIN_IP_PKT_LEN 16\n",
        "RETRANSMITTED_IN_BYTES 18\n",
        "RETRANSMITTED_IN_PKTS 19\n",
        "RETRANSMITTED_OUT_BYTES 20\n",
        "RETRANSMITTED_OUT_PKTS 21\n",
        "SRC_TO_DST_AVG_THROUGHPUT 22\n",
        "DST_TO_SRC_AVG_THROUGHPUT 23\n",
        "NUM_PKTS_UP_TO_128_BYTES 24\n",
        "NUM_PKTS_128_TO_256_BYTES 25\n",
        "NUM_PKTS_256_TO_512 BYTES 26\n",
        "NUM_PKTS_512_TO_1024_BYTES 27\n",
        "NUM_PKTS_1024_TO_1514_BYTES 28\n",
        "TCP_WIN_MAX_IN 29\n",
        "TCP_WIN_MAX_OUT 30\n",
        "ICMP_TYPE 31\n",
        "DNS_TTL_ANSWER 35\n"
      ],
      "metadata": {
        "id": "AmU3aZZWAgvn"
      }
    },
    {
      "cell_type": "code",
      "source": [
        "groupIII = [5,10,11,16,18,19,20,21,22,23,24,25,26,27,28,29,31,35,30,34]\n",
        "grpIII_xfrm = [1,0,0,0,0,0,0,0,0,0,0,0,0,0,0,0,0,0,1,0]\n",
        "for p in range(len(groupIII)):\n",
        "  working_column =  open_pkl(zepa,groupIII[p],'_orig.pkl')\n",
        "  working_column = dicem_all(working_column,grpIII_xfrm[p])\n",
        "  save_pkl(zepa,groupIII[p],working_column,'mod.pkl')\n",
        "  print(working_column[0:5,])\n",
        "  del working_column\n",
        "  gc.collect()\n"
      ],
      "metadata": {
        "colab": {
          "base_uri": "https://localhost:8080/"
        },
        "id": "NHNlhLs-APBD",
        "outputId": "1c6f7d2d-75d2-4b04-d139-6555a4fc97d9"
      },
      "execution_count": null,
      "outputs": [
        {
          "output_type": "stream",
          "name": "stdout",
          "text": [
            "(16940496,) TCP_WIN_MAX_OUT\n",
            "[[4.80500000e+03 2.37000000e+02 0.00000000e+00 ... 6.38460000e+04\n",
            "  0.00000000e+00 0.00000000e+00]\n",
            " [0.00000000e+00 0.00000000e+00 1.00000000e+00 ... 0.00000000e+00\n",
            "  1.00000000e+00 1.00000000e+00]\n",
            " [3.84005304e+02 5.40783717e+01 0.00000000e+00 ... 2.07071398e+03\n",
            "  0.00000000e+00 0.00000000e+00]]\n",
            "(16940496,) DNS_QUERY_TYPE\n",
            "[[ 0.          0.          0.         ...  0.         12.\n",
            "   0.        ]\n",
            " [ 1.          1.          1.         ...  1.          0.\n",
            "   1.        ]\n",
            " [ 0.          0.          0.         ...  0.          2.28942849\n",
            "   0.        ]]\n"
          ]
        }
      ]
    },
    {
      "cell_type": "markdown",
      "source": [
        "\n",
        "y = (x**lmbda - 1) / lmbda,  for lmbda != 0\n",
        "    log(x),                  for lmbda = 0\n",
        "\n",
        "\n",
        "\n"
      ],
      "metadata": {
        "id": "6I3-gS6ls1qe"
      }
    },
    {
      "cell_type": "code",
      "source": [
        "'''\n",
        "#16940496; seeds = 1066, 1458,1897, 1908,1916, 1935, 1938\n",
        "the_seed = 1938\n",
        "random.seed(the_seed)\n",
        "#a_z_set,a_train_set,a_valid_set,a_test_set = give_all_indices(16940496,1000000,500000)\n",
        "full_set = give_all_indices(16940496,1000000,500000)\n",
        "a_tail = str(the_seed) + '.pkl'\n",
        "modFileName = zepa + \"/ton_iot_indices_set\" + a_tail\n",
        "\n",
        "\n",
        "with open(modFileName, 'wb') as f:\n",
        "  pickle.dump(full_set,f)\n",
        "'''"
      ],
      "metadata": {
        "id": "SSED0TzMHBvJ"
      },
      "execution_count": null,
      "outputs": []
    },
    {
      "cell_type": "code",
      "source": [
        "def get_indices_set(a_seed, a_path):\n",
        "  a_tail = str(a_seed) + '.pkl'\n",
        "  outPut_filePath = a_path + \"/ton_iot_indices_set\" + a_tail\n",
        "  with open(outPut_filePath,'rb') as f:\n",
        "    full_set = pickle.load(f)\n",
        "    return full_set\n",
        "\n"
      ],
      "metadata": {
        "id": "4jkL0ZEXNDIn"
      },
      "execution_count": null,
      "outputs": []
    },
    {
      "cell_type": "code",
      "source": [
        "the_seed = 1938\n",
        "vaud = get_indices_set(the_seed,zepa)"
      ],
      "metadata": {
        "id": "4PAdOd9WO_jD"
      },
      "execution_count": null,
      "outputs": []
    },
    {
      "cell_type": "code",
      "source": [
        "z_ind = vaud[0]\n",
        "train_ind = vaud[1]\n",
        "valid_ind = vaud[2]\n",
        "test_ind = vaud[3]\n",
        "z_ind[0:10],train_ind[0:10],valid_ind[0:10],test_ind[0:10]"
      ],
      "metadata": {
        "colab": {
          "base_uri": "https://localhost:8080/"
        },
        "id": "SwZTtBfUPKo9",
        "outputId": "c5581f9f-2981-4652-d35f-71d2e6d77330"
      },
      "execution_count": null,
      "outputs": [
        {
          "output_type": "execute_result",
          "data": {
            "text/plain": [
              "(array([ 9713257,  2506646,  9100675, 14020554, 16713656,  4780283,\n",
              "         1102782,  4376979, 10840477,  2316018]),\n",
              " array([ 6086517,  1079215,  5532705,  8579361, 13994048,   822701,\n",
              "        12928640, 12817112,  5730068, 12604528]),\n",
              " array([ 1312379, 10402760,  5910160,  1388138, 11792104,  9615261,\n",
              "        15561579, 10400733, 13305453,  3842581]),\n",
              " array([12267334, 13102615, 11396225,  9794657, 14143356, 14169248,\n",
              "         7961241,  4082500,  6914253, 14239151]))"
            ]
          },
          "metadata": {},
          "execution_count": 48
        }
      ]
    },
    {
      "cell_type": "code",
      "source": [
        "#mean_sd_array = [(0,0) for p in range(37)]\n"
      ],
      "metadata": {
        "id": "uGg-2ayfbMKI"
      },
      "execution_count": null,
      "outputs": []
    },
    {
      "cell_type": "code",
      "source": [
        "mean_sd_array = [(0,0) for p in range(37)]\n",
        "groupIII = [5,10,11,16,18,19,20,21,22,23,24,25,26,27,28,29,30,31,34,35]\n",
        "for p in range(len(groupIII)):\n",
        "  working_column = open_pkl(zepa,groupIII[p],'mod.pkl')\n",
        "  working_column = working_column.T\n",
        "  ind_column = working_column[z_ind,2]\n",
        "  a_mean = np.mean(ind_column)\n",
        "  #print(a_mean)\n",
        "  a_std = np.std(ind_column)\n",
        "  #print(a_std)\n",
        "  mean_sd_array[groupIII[p]] = (a_mean,a_std)\n",
        "  del working_column\n",
        "  del ind_column\n",
        "  gc.collect()\n",
        "print(mean_sd_array)"
      ],
      "metadata": {
        "colab": {
          "base_uri": "https://localhost:8080/"
        },
        "id": "UR7dHQpugSuX",
        "outputId": "f20870ae-007c-42bd-b355-72770003b446"
      },
      "execution_count": null,
      "outputs": [
        {
          "output_type": "stream",
          "name": "stdout",
          "text": [
            "(3, 16940496) OUT_PKTS\n",
            "(3, 16940496) DURATION_IN\n",
            "(3, 16940496) DURATION_OUT\n",
            "(3, 16940496) MIN_IP_PKT_LEN\n",
            "(3, 16940496) RETRANSMITTED_IN_BYTES\n",
            "(3, 16940496) RETRANSMITTED_IN_PKTS\n",
            "(3, 16940496) RETRANSMITTED_OUT_BYTES\n",
            "(3, 16940496) RETRANSMITTED_OUT_PKTS\n",
            "(3, 16940496) SRC_TO_DST_AVG_THROUGHPUT\n",
            "(3, 16940496) DST_TO_SRC_AVG_THROUGHPUT\n",
            "(3, 16940496) NUM_PKTS_UP_TO_128_BYTES\n",
            "(3, 16940496) NUM_PKTS_128_TO_256_BYTES\n",
            "(3, 16940496) NUM_PKTS_256_TO_512_BYTES\n",
            "(3, 16940496) NUM_PKTS_512_TO_1024_BYTES\n",
            "(3, 16940496) NUM_PKTS_1024_TO_1514_BYTES\n",
            "(3, 16940496) TCP_WIN_MAX_IN\n",
            "(3, 16940496) TCP_WIN_MAX_OUT\n",
            "(3, 16940496) ICMP_TYPE\n",
            "(3, 16940496) DNS_QUERY_TYPE\n",
            "(3, 16940496) DNS_TTL_ANSWER\n",
            "[(0, 0), (0, 0), (0, 0), (0, 0), (0, 0), (-0.7988626186932297, 0.7425521667933648), (0, 0), (0, 0), (0, 0), (0, 0), (0.8835643433998698, 2.2262325637987344), (0.8454258464133698, 2.165808991569393), (0, 0), (0, 0), (0, 0), (0, 0), (2.324945415327987, 1.7939543393368842), (0, 0), (0.13322009000413632, 1.1704050545568665), (0.019635896348438465, 0.1664476707321095), (0.2397995777455325, 1.8480473860696733), (0.03431007653322456, 0.2615790576724008), (91.67563634321498, 61.2843538606331), (67.45121170630662, 83.70781026011281), (1.5048364974296282, 1.4666780644077742), (0.10867195955447026, 0.3740704578188186), (0.17071132786247586, 0.45938337434616283), (0.10904346712633661, 0.3287604540839953), (0.1558939236696428, 0.44252808736063903), (16.077618996445743, 11.278678552930923), (410.60563499316333, 654.497625321536), (0.44701910011076906, 3.6391881882710453), (0, 0), (0, 0), (0.2402276288196687, 0.7000191682530477), (1.154590564559145, 7.498259606016036), (0, 0)]\n"
          ]
        }
      ]
    },
    {
      "cell_type": "code",
      "source": [
        "groupI = [0,6,7,8,12,13,32,36,33,1] # just for completeness; these don't get used.\n",
        "for p in range(len(groupI)):\n",
        "  working_column = open_pkl(zepa,groupI[p],'_mod.pkl')\n",
        "  working_column = working_column.T\n",
        "  ind_column = working_column[z_ind,1]\n",
        "  a_mean = np.mean(ind_column)\n",
        "  a_std = np.std(ind_column)\n",
        "  mean_sd_array[groupI[p]] = (a_mean,a_std)\n",
        "  del working_column\n",
        "  del ind_column\n",
        "  gc.collect()\n",
        "\n",
        "\n",
        "print(mean_sd_array)"
      ],
      "metadata": {
        "colab": {
          "base_uri": "https://localhost:8080/"
        },
        "id": "cutkUYQlauvn",
        "outputId": "4beddd49-97c8-4bd5-f083-e0cf7c13bdd6"
      },
      "execution_count": null,
      "outputs": [
        {
          "output_type": "stream",
          "name": "stdout",
          "text": [
            "(2, 16940496) PROTOCOL\n",
            "(2, 16940496) TCP_FLAGS\n",
            "(2, 16940496) CLIENT_TCP_FLAGS\n",
            "(2, 16940496) SERVER_TCP_FLAGS\n",
            "(2, 16940496) MIN_TTL\n",
            "(2, 16940496) MAX_TTL\n",
            "(2, 16940496) ICMP_IPV4_TYPE\n",
            "(2, 16940496) FTP_COMMAND_RET_CODE\n",
            "(2, 16940496) DNS_QUERY_ID\n",
            "(2, 16940496) L7_PROTO\n",
            "[(0.11606557894736845, 0.06891430999655308), (0.055510837822580636, 0.12899115848047665), (0, 0), (0, 0), (0, 0), (-0.7988626186932297, 0.7425521667933648), (0.057334313901345295, 0.05052728944770073), (0.04249021524663677, 0.04883396187685532), (0.04937372197309418, 0.05170958341351293), (0, 0), (0.8835643433998698, 2.2262325637987344), (0.8454258464133698, 2.165808991569393), (0.09332865882352943, 0.13353621552901154), (0.09341708235294117, 0.13362957185152563), (0, 0), (0, 0), (2.324945415327987, 1.7939543393368842), (0, 0), (0.13322009000413632, 1.1704050545568665), (0.019635896348438465, 0.1664476707321095), (0.2397995777455325, 1.8480473860696733), (0.03431007653322456, 0.2615790576724008), (91.67563634321498, 61.2843538606331), (67.45121170630662, 83.70781026011281), (1.5048364974296282, 1.4666780644077742), (0.10867195955447026, 0.3740704578188186), (0.17071132786247586, 0.45938337434616283), (0.10904346712633661, 0.3287604540839953), (0.1558939236696428, 0.44252808736063903), (16.077618996445743, 11.278678552930923), (410.60563499316333, 654.497625321536), (0.44701910011076906, 3.6391881882710453), (0.006611796078431369, 0.06310359704789802), (0.141672, 0.34871341301418274), (0.2402276288196687, 0.7000191682530477), (1.154590564559145, 7.498259606016036), (0.0026849945750452085, 0.04693902768882742)]\n"
          ]
        }
      ]
    },
    {
      "cell_type": "code",
      "source": [
        "groupII = [2,3,14,15,17,9,4]\n",
        "for p in range(len(groupII)):\n",
        "  working_column = open_pkl(zepa,groupII[p],'mod.pkl')\n",
        "  working_column = working_column.T\n",
        "  ind_column = working_column[z_ind,1]\n",
        "  a_mean = np.mean(ind_column)\n",
        "  a_std = np.std(ind_column)\n",
        "  mean_sd_array[groupII[p]] = (a_mean,a_std)\n",
        "  del working_column\n",
        "  del ind_column\n",
        "  gc.collect()\n",
        "print(mean_sd_array)"
      ],
      "metadata": {
        "colab": {
          "base_uri": "https://localhost:8080/"
        },
        "id": "V1WQhZAEdS1B",
        "outputId": "9b2bb3ad-851f-4461-8f61-64e870eae571"
      },
      "execution_count": null,
      "outputs": [
        {
          "output_type": "stream",
          "name": "stdout",
          "text": [
            "(2, 16940496) IN_BYTES\n",
            "(2, 16940496) IN_PKTS\n",
            "(2, 16940496) LONGEST_FLOW_PKT\n",
            "(2, 16940496) SHORTEST_FLOW_PKT\n",
            "(2, 16940496) DST_TO_SRC_SECOND_BYTES\n",
            "(2, 16940496) FLOW_DURATION_MILLISECONDS\n",
            "(2, 16940496) OUT_BYTES\n",
            "[(0.11606557894736845, 0.06891430999655308), (0.055510837822580636, 0.12899115848047665), (1.8693465298310277, 0.11897089629556083), (0.2599447266369824, 0.35644084198073667), (13.056951443016517, 25.573618965932624), (-0.7988626186932297, 0.7425521667933648), (0.057334313901345295, 0.05052728944770073), (0.04249021524663677, 0.04883396187685532), (0.04937372197309418, 0.05170958341351293), (0.5324886399975564, 1.1189200988738326), (0.8835643433998698, 2.2262325637987344), (0.8454258464133698, 2.165808991569393), (0.09332865882352943, 0.13353621552901154), (0.09341708235294117, 0.13362957185152563), (0.9348740326974966, 0.006456565478840598), (0.43225728591785056, 2.0514731590555735e-05), (2.324945415327987, 1.7939543393368842), (0.17489436130671307, 0.13414062143504663), (0.13322009000413632, 1.1704050545568665), (0.019635896348438465, 0.1664476707321095), (0.2397995777455325, 1.8480473860696733), (0.03431007653322456, 0.2615790576724008), (91.67563634321498, 61.2843538606331), (67.45121170630662, 83.70781026011281), (1.5048364974296282, 1.4666780644077742), (0.10867195955447026, 0.3740704578188186), (0.17071132786247586, 0.45938337434616283), (0.10904346712633661, 0.3287604540839953), (0.1558939236696428, 0.44252808736063903), (16.077618996445743, 11.278678552930923), (410.60563499316333, 654.497625321536), (0.44701910011076906, 3.6391881882710453), (0.006611796078431369, 0.06310359704789802), (0.141672, 0.34871341301418274), (0.2402276288196687, 0.7000191682530477), (1.154590564559145, 7.498259606016036), (0.0026849945750452085, 0.04693902768882742)]\n"
          ]
        }
      ]
    },
    {
      "cell_type": "code",
      "source": [
        "a_tail = str(the_seed)\n",
        "mean_std_FileName = zepa + \"/ton_iot_mean_std_\" + a_tail + '.pkl'\n",
        "with open(mean_std_FileName, 'wb') as f:\n",
        "  pickle.dump(mean_sd_array,f)"
      ],
      "metadata": {
        "id": "vPa859L8jaWg"
      },
      "execution_count": null,
      "outputs": []
    },
    {
      "cell_type": "code",
      "source": [
        "def compute_z_scores(data):\n",
        "    '''For computing Z-scores\n",
        "    data = array of tuples, each tuple = (mean,s.d.)\n",
        "    return = array of Z-scores'''\n",
        "\n",
        "    z_scores = []\n",
        "    for mean, std_dev in data:\n",
        "\n",
        "        z_score = (mean - np.mean(data)) / np.std(data)\n",
        "\n",
        "        z_scores.append(z_score)\n",
        "\n",
        "    return z_scores\n",
        "\n",
        "\n",
        "data = [(10, 2), (10000, 5000), (50, 10)]\n",
        "z_scores = compute_z_scores(data)\n",
        "print(z_scores)\n"
      ],
      "metadata": {
        "id": "LQLziVuqZ37U"
      },
      "execution_count": null,
      "outputs": []
    }
  ]
}