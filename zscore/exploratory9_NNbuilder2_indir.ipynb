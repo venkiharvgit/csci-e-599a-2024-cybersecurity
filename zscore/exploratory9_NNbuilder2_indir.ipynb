{
  "cells": [
    {
      "cell_type": "code",
      "execution_count": null,
      "metadata": {
        "id": "EZkqN7Lk8kCo"
      },
      "outputs": [],
      "source": [
        "import tensorflow as tf\n",
        "import math\n",
        "import numpy as np\n",
        "import pickle\n",
        "import gc"
      ]
    },
    {
      "cell_type": "code",
      "execution_count": null,
      "metadata": {
        "colab": {
          "base_uri": "https://localhost:8080/"
        },
        "outputId": "a1204e44-124e-4470-c971-ae41788326d1",
        "id": "ODRvTnHDjZ5F"
      },
      "outputs": [
        {
          "name": "stdout",
          "output_type": "stream",
          "text": [
            "Model: \"model\"\n",
            "__________________________________________________________________________________________________\n",
            " Layer (type)                   Output Shape         Param #     Connected to                     \n",
            "==================================================================================================\n",
            " inputI (InputLayer)            [(None, 10)]         0           []                               \n",
            "                                                                                                  \n",
            " inputII (InputLayer)           [(None, 7)]          0           []                               \n",
            "                                                                                                  \n",
            " input_III_0 (InputLayer)       [(None, 2)]          0           []                               \n",
            "                                                                                                  \n",
            " input_III_1 (InputLayer)       [(None, 2)]          0           []                               \n",
            "                                                                                                  \n",
            " input_III_2 (InputLayer)       [(None, 2)]          0           []                               \n",
            "                                                                                                  \n",
            " input_III_3 (InputLayer)       [(None, 2)]          0           []                               \n",
            "                                                                                                  \n",
            " input_III_4 (InputLayer)       [(None, 2)]          0           []                               \n",
            "                                                                                                  \n",
            " input_III_5 (InputLayer)       [(None, 2)]          0           []                               \n",
            "                                                                                                  \n",
            " input_III_6 (InputLayer)       [(None, 2)]          0           []                               \n",
            "                                                                                                  \n",
            " input_III_7 (InputLayer)       [(None, 2)]          0           []                               \n",
            "                                                                                                  \n",
            " input_III_8 (InputLayer)       [(None, 2)]          0           []                               \n",
            "                                                                                                  \n",
            " input_III_9 (InputLayer)       [(None, 2)]          0           []                               \n",
            "                                                                                                  \n",
            " input_III_10 (InputLayer)      [(None, 2)]          0           []                               \n",
            "                                                                                                  \n",
            " input_III_11 (InputLayer)      [(None, 2)]          0           []                               \n",
            "                                                                                                  \n",
            " input_III_12 (InputLayer)      [(None, 2)]          0           []                               \n",
            "                                                                                                  \n",
            " input_III_13 (InputLayer)      [(None, 2)]          0           []                               \n",
            "                                                                                                  \n",
            " input_III_14 (InputLayer)      [(None, 2)]          0           []                               \n",
            "                                                                                                  \n",
            " input_III_15 (InputLayer)      [(None, 2)]          0           []                               \n",
            "                                                                                                  \n",
            " input_III_16 (InputLayer)      [(None, 2)]          0           []                               \n",
            "                                                                                                  \n",
            " input_III_17 (InputLayer)      [(None, 2)]          0           []                               \n",
            "                                                                                                  \n",
            " input_III_18 (InputLayer)      [(None, 2)]          0           []                               \n",
            "                                                                                                  \n",
            " input_III_19 (InputLayer)      [(None, 2)]          0           []                               \n",
            "                                                                                                  \n",
            " inputI_dense1 (Dense)          (None, 4)            44          ['inputI[0][0]']                 \n",
            "                                                                                                  \n",
            " inputII_dense1 (Dense)         (None, 4)            32          ['inputII[0][0]']                \n",
            "                                                                                                  \n",
            " denseIII_1_0 (Dense)           (None, 4)            12          ['input_III_0[0][0]']            \n",
            "                                                                                                  \n",
            " denseIII_1_1 (Dense)           (None, 4)            12          ['input_III_1[0][0]']            \n",
            "                                                                                                  \n",
            " denseIII_1_2 (Dense)           (None, 4)            12          ['input_III_2[0][0]']            \n",
            "                                                                                                  \n",
            " denseIII_1_3 (Dense)           (None, 4)            12          ['input_III_3[0][0]']            \n",
            "                                                                                                  \n",
            " denseIII_1_4 (Dense)           (None, 4)            12          ['input_III_4[0][0]']            \n",
            "                                                                                                  \n",
            " denseIII_1_5 (Dense)           (None, 4)            12          ['input_III_5[0][0]']            \n",
            "                                                                                                  \n",
            " denseIII_1_6 (Dense)           (None, 4)            12          ['input_III_6[0][0]']            \n",
            "                                                                                                  \n",
            " denseIII_1_7 (Dense)           (None, 4)            12          ['input_III_7[0][0]']            \n",
            "                                                                                                  \n",
            " denseIII_1_8 (Dense)           (None, 4)            12          ['input_III_8[0][0]']            \n",
            "                                                                                                  \n",
            " denseIII_1_9 (Dense)           (None, 4)            12          ['input_III_9[0][0]']            \n",
            "                                                                                                  \n",
            " denseIII_1_10 (Dense)          (None, 4)            12          ['input_III_10[0][0]']           \n",
            "                                                                                                  \n",
            " denseIII_1_11 (Dense)          (None, 4)            12          ['input_III_11[0][0]']           \n",
            "                                                                                                  \n",
            " denseIII_1_12 (Dense)          (None, 4)            12          ['input_III_12[0][0]']           \n",
            "                                                                                                  \n",
            " denseIII_1_13 (Dense)          (None, 4)            12          ['input_III_13[0][0]']           \n",
            "                                                                                                  \n",
            " denseIII_1_14 (Dense)          (None, 4)            12          ['input_III_14[0][0]']           \n",
            "                                                                                                  \n",
            " denseIII_1_15 (Dense)          (None, 4)            12          ['input_III_15[0][0]']           \n",
            "                                                                                                  \n"
          ]
        },
        {
          "name": "stdout",
          "output_type": "stream",
          "text": [
            " denseIII_1_16 (Dense)          (None, 4)            12          ['input_III_16[0][0]']           \n",
            "                                                                                                  \n",
            " denseIII_1_17 (Dense)          (None, 4)            12          ['input_III_17[0][0]']           \n",
            "                                                                                                  \n",
            " denseIII_1_18 (Dense)          (None, 4)            12          ['input_III_18[0][0]']           \n",
            "                                                                                                  \n",
            " denseIII_1_19 (Dense)          (None, 4)            12          ['input_III_19[0][0]']           \n",
            "                                                                                                  \n",
            " inputI_dense2 (Dense)          (None, 4)            20          ['inputI_dense1[0][0]']          \n",
            "                                                                                                  \n",
            " inputII_dense2 (Dense)         (None, 4)            20          ['inputII_dense1[0][0]']         \n",
            "                                                                                                  \n",
            " denseIII_2_0 (Dense)           (None, 8)            40          ['denseIII_1_0[0][0]']           \n",
            "                                                                                                  \n",
            " denseIII_2_1 (Dense)           (None, 8)            40          ['denseIII_1_1[0][0]']           \n",
            "                                                                                                  \n",
            " denseIII_2_2 (Dense)           (None, 8)            40          ['denseIII_1_2[0][0]']           \n",
            "                                                                                                  \n",
            " denseIII_2_3 (Dense)           (None, 8)            40          ['denseIII_1_3[0][0]']           \n",
            "                                                                                                  \n",
            " denseIII_2_4 (Dense)           (None, 8)            40          ['denseIII_1_4[0][0]']           \n",
            "                                                                                                  \n",
            " denseIII_2_5 (Dense)           (None, 8)            40          ['denseIII_1_5[0][0]']           \n",
            "                                                                                                  \n",
            " denseIII_2_6 (Dense)           (None, 8)            40          ['denseIII_1_6[0][0]']           \n",
            "                                                                                                  \n",
            " denseIII_2_7 (Dense)           (None, 8)            40          ['denseIII_1_7[0][0]']           \n",
            "                                                                                                  \n",
            " denseIII_2_8 (Dense)           (None, 8)            40          ['denseIII_1_8[0][0]']           \n",
            "                                                                                                  \n",
            " denseIII_2_9 (Dense)           (None, 8)            40          ['denseIII_1_9[0][0]']           \n",
            "                                                                                                  \n",
            " denseIII_2_10 (Dense)          (None, 8)            40          ['denseIII_1_10[0][0]']          \n",
            "                                                                                                  \n",
            " denseIII_2_11 (Dense)          (None, 8)            40          ['denseIII_1_11[0][0]']          \n",
            "                                                                                                  \n",
            " denseIII_2_12 (Dense)          (None, 8)            40          ['denseIII_1_12[0][0]']          \n",
            "                                                                                                  \n",
            " denseIII_2_13 (Dense)          (None, 8)            40          ['denseIII_1_13[0][0]']          \n",
            "                                                                                                  \n",
            " denseIII_2_14 (Dense)          (None, 8)            40          ['denseIII_1_14[0][0]']          \n",
            "                                                                                                  \n",
            " denseIII_2_15 (Dense)          (None, 8)            40          ['denseIII_1_15[0][0]']          \n",
            "                                                                                                  \n",
            " denseIII_2_16 (Dense)          (None, 8)            40          ['denseIII_1_16[0][0]']          \n",
            "                                                                                                  \n",
            " denseIII_2_17 (Dense)          (None, 8)            40          ['denseIII_1_17[0][0]']          \n",
            "                                                                                                  \n",
            " denseIII_2_18 (Dense)          (None, 8)            40          ['denseIII_1_18[0][0]']          \n",
            "                                                                                                  \n",
            " denseIII_2_19 (Dense)          (None, 8)            40          ['denseIII_1_19[0][0]']          \n",
            "                                                                                                  \n",
            " concatenated_output (Concatena  (None, 168)         0           ['inputI_dense2[0][0]',          \n",
            " te)                                                              'inputII_dense2[0][0]',         \n",
            "                                                                  'denseIII_2_0[0][0]',           \n",
            "                                                                  'denseIII_2_1[0][0]',           \n",
            "                                                                  'denseIII_2_2[0][0]',           \n",
            "                                                                  'denseIII_2_3[0][0]',           \n",
            "                                                                  'denseIII_2_4[0][0]',           \n",
            "                                                                  'denseIII_2_5[0][0]',           \n",
            "                                                                  'denseIII_2_6[0][0]',           \n",
            "                                                                  'denseIII_2_7[0][0]',           \n",
            "                                                                  'denseIII_2_8[0][0]',           \n",
            "                                                                  'denseIII_2_9[0][0]',           \n",
            "                                                                  'denseIII_2_10[0][0]',          \n",
            "                                                                  'denseIII_2_11[0][0]',          \n",
            "                                                                  'denseIII_2_12[0][0]',          \n",
            "                                                                  'denseIII_2_13[0][0]',          \n",
            "                                                                  'denseIII_2_14[0][0]',          \n",
            "                                                                  'denseIII_2_15[0][0]',          \n",
            "                                                                  'denseIII_2_16[0][0]',          \n",
            "                                                                  'denseIII_2_17[0][0]',          \n",
            "                                                                  'denseIII_2_18[0][0]',          \n",
            "                                                                  'denseIII_2_19[0][0]']          \n",
            "                                                                                                  \n",
            " dense1cct (Dense)              (None, 1024)         173056      ['concatenated_output[0][0]']    \n",
            "                                                                                                  \n",
            " dense2cct (Dense)              (None, 1024)         1049600     ['dense1cct[0][0]']              \n",
            "                                                                                                  \n",
            " dense3cct (Dense)              (None, 1024)         1049600     ['dense2cct[0][0]']              \n",
            "                                                                                                  \n",
            " dense (Dense)                  (None, 1)            1025        ['dense3cct[0][0]']              \n",
            "                                                                                                  \n"
          ]
        },
        {
          "name": "stdout",
          "output_type": "stream",
          "text": [
            "==================================================================================================\n",
            "Total params: 2,274,437\n",
            "Trainable params: 2,274,437\n",
            "Non-trainable params: 0\n",
            "__________________________________________________________________________________________________\n"
          ]
        }
      ],
      "source": [
        "'''def create_NN():\n",
        "    #Group I inputs-- 10\n",
        "    input_size_I = (10,)\n",
        "    input_size_II = (7,)\n",
        "    input_size_III = (2,)\n",
        "\n",
        "    input_layers = []\n",
        "    output_layers = []\n",
        "\n",
        "    input_layer_1 = tf.keras.layers.Input(shape = input_size_I, name='inputI')\n",
        "    input_layers.append(input_layer_1)\n",
        "    dense_layer_1_1 = tf.keras.layers.Dense(4, activation='relu', name='inputI_dense1')(input_layer_1)\n",
        "    dense_layer_1_2 = tf.keras.layers.Dense(4, activation='relu', name='inputI_dense2')(dense_layer_1_1)\n",
        "    output_layers.append(dense_layer_1_2)\n",
        "\n",
        "    #Group II\n",
        "    input_layer_2 = tf.keras.layers.Input(shape = input_size_II, name='inputII')\n",
        "    input_layers.append(input_layer_2)\n",
        "    dense_layer_2_1 = tf.keras.layers.Dense(4, activation='relu', name='inputII_dense1')(input_layer_2)\n",
        "    dense_layer_2_2 = tf.keras.layers.Dense(4, activation='relu', name='inputII_dense2')(dense_layer_2_1)\n",
        "    output_layers.append(dense_layer_2_2)\n",
        "\n",
        "    #Group III\n",
        "    for i in range(20):\n",
        "        input_layer = tf.keras.layers.Input(shape=input_size_III, name=f'input_III_{i}')\n",
        "        input_layers.append(input_layer)\n",
        "        dense_layer_1 = tf.keras.layers.Dense(4, activation='relu', name=f'denseIII_1_{i}')(input_layer)\n",
        "        dense_layer_2 = tf.keras.layers.Dense(8, activation='relu', name=f'denseIII_2_{i}')(dense_layer_1)\n",
        "        output_layers.append(dense_layer_2)\n",
        "\n",
        "    concat_output = tf.keras.layers.concatenate(output_layers, name='concatenated_output')\n",
        "\n",
        "    x1 = tf.keras.layers.Dense(1024, activation='relu', name='dense1cct')(concat_output)\n",
        "    x2 = tf.keras.layers.Dense(1024, activation='relu', name='dense2cct')(x1)\n",
        "    x3 = tf.keras.layers.Dense(1024, activation='relu', name='dense3cct')(x2)\n",
        "    output_layer = tf.keras.layers.Dense(1, activation='sigmoid')(x3)\n",
        "\n",
        "    model = tf.keras.models.Model(inputs=input_layers, outputs=output_layer)\n",
        "    return model\n",
        "\n",
        "\n",
        "\n",
        "en_mod = create_NN()\n",
        "en_mod.summary()'''"
      ]
    },
    {
      "cell_type": "code",
      "execution_count": null,
      "metadata": {
        "id": "s3qD50rZjZ5G"
      },
      "outputs": [],
      "source": [
        "#en_mod.compile(optimizer='adam',loss=\"binary_crossentropy\",metrics=['accuracy'])"
      ]
    },
    {
      "cell_type": "code",
      "execution_count": null,
      "metadata": {
        "id": "jc7Po3EJjZ5G",
        "outputId": "d33ead36-d4dd-44d2-8287-2bb358a9f2d4"
      },
      "outputs": [
        {
          "name": "stdout",
          "output_type": "stream",
          "text": [
            "Model: \"model_1\"\n",
            "__________________________________________________________________________________________________\n",
            " Layer (type)                   Output Shape         Param #     Connected to                     \n",
            "==================================================================================================\n",
            " inputII (InputLayer)           [(None, 7)]          0           []                               \n",
            "                                                                                                  \n",
            " input_III_0 (InputLayer)       [(None, 2)]          0           []                               \n",
            "                                                                                                  \n",
            " input_III_1 (InputLayer)       [(None, 2)]          0           []                               \n",
            "                                                                                                  \n",
            " input_III_2 (InputLayer)       [(None, 2)]          0           []                               \n",
            "                                                                                                  \n",
            " input_III_3 (InputLayer)       [(None, 2)]          0           []                               \n",
            "                                                                                                  \n",
            " input_III_4 (InputLayer)       [(None, 2)]          0           []                               \n",
            "                                                                                                  \n",
            " input_III_5 (InputLayer)       [(None, 2)]          0           []                               \n",
            "                                                                                                  \n",
            " input_III_6 (InputLayer)       [(None, 2)]          0           []                               \n",
            "                                                                                                  \n",
            " input_III_7 (InputLayer)       [(None, 2)]          0           []                               \n",
            "                                                                                                  \n",
            " input_III_8 (InputLayer)       [(None, 2)]          0           []                               \n",
            "                                                                                                  \n",
            " input_III_9 (InputLayer)       [(None, 2)]          0           []                               \n",
            "                                                                                                  \n",
            " input_III_10 (InputLayer)      [(None, 2)]          0           []                               \n",
            "                                                                                                  \n",
            " input_III_11 (InputLayer)      [(None, 2)]          0           []                               \n",
            "                                                                                                  \n",
            " input_III_12 (InputLayer)      [(None, 2)]          0           []                               \n",
            "                                                                                                  \n",
            " input_III_13 (InputLayer)      [(None, 2)]          0           []                               \n",
            "                                                                                                  \n",
            " input_III_14 (InputLayer)      [(None, 2)]          0           []                               \n",
            "                                                                                                  \n",
            " input_III_15 (InputLayer)      [(None, 2)]          0           []                               \n",
            "                                                                                                  \n",
            " input_III_16 (InputLayer)      [(None, 2)]          0           []                               \n",
            "                                                                                                  \n",
            " input_III_17 (InputLayer)      [(None, 2)]          0           []                               \n",
            "                                                                                                  \n",
            " input_III_18 (InputLayer)      [(None, 2)]          0           []                               \n",
            "                                                                                                  \n",
            " input_III_19 (InputLayer)      [(None, 2)]          0           []                               \n",
            "                                                                                                  \n",
            " inputII_dense1 (Dense)         (None, 4)            32          ['inputII[0][0]']                \n",
            "                                                                                                  \n",
            " denseIII_1_0 (Dense)           (None, 4)            12          ['input_III_0[0][0]']            \n",
            "                                                                                                  \n",
            " denseIII_1_1 (Dense)           (None, 4)            12          ['input_III_1[0][0]']            \n",
            "                                                                                                  \n",
            " denseIII_1_2 (Dense)           (None, 4)            12          ['input_III_2[0][0]']            \n",
            "                                                                                                  \n",
            " denseIII_1_3 (Dense)           (None, 4)            12          ['input_III_3[0][0]']            \n",
            "                                                                                                  \n",
            " denseIII_1_4 (Dense)           (None, 4)            12          ['input_III_4[0][0]']            \n",
            "                                                                                                  \n",
            " denseIII_1_5 (Dense)           (None, 4)            12          ['input_III_5[0][0]']            \n",
            "                                                                                                  \n",
            " denseIII_1_6 (Dense)           (None, 4)            12          ['input_III_6[0][0]']            \n",
            "                                                                                                  \n",
            " denseIII_1_7 (Dense)           (None, 4)            12          ['input_III_7[0][0]']            \n",
            "                                                                                                  \n",
            " denseIII_1_8 (Dense)           (None, 4)            12          ['input_III_8[0][0]']            \n",
            "                                                                                                  \n",
            " denseIII_1_9 (Dense)           (None, 4)            12          ['input_III_9[0][0]']            \n",
            "                                                                                                  \n",
            " denseIII_1_10 (Dense)          (None, 4)            12          ['input_III_10[0][0]']           \n",
            "                                                                                                  \n",
            " denseIII_1_11 (Dense)          (None, 4)            12          ['input_III_11[0][0]']           \n",
            "                                                                                                  \n",
            " denseIII_1_12 (Dense)          (None, 4)            12          ['input_III_12[0][0]']           \n",
            "                                                                                                  \n",
            " denseIII_1_13 (Dense)          (None, 4)            12          ['input_III_13[0][0]']           \n",
            "                                                                                                  \n",
            " denseIII_1_14 (Dense)          (None, 4)            12          ['input_III_14[0][0]']           \n",
            "                                                                                                  \n",
            " denseIII_1_15 (Dense)          (None, 4)            12          ['input_III_15[0][0]']           \n",
            "                                                                                                  \n",
            " denseIII_1_16 (Dense)          (None, 4)            12          ['input_III_16[0][0]']           \n",
            "                                                                                                  \n",
            " denseIII_1_17 (Dense)          (None, 4)            12          ['input_III_17[0][0]']           \n",
            "                                                                                                  \n"
          ]
        },
        {
          "name": "stdout",
          "output_type": "stream",
          "text": [
            " denseIII_1_18 (Dense)          (None, 4)            12          ['input_III_18[0][0]']           \n",
            "                                                                                                  \n",
            " denseIII_1_19 (Dense)          (None, 4)            12          ['input_III_19[0][0]']           \n",
            "                                                                                                  \n",
            " inputII_dense2 (Dense)         (None, 4)            20          ['inputII_dense1[0][0]']         \n",
            "                                                                                                  \n",
            " denseIII_2_0 (Dense)           (None, 8)            40          ['denseIII_1_0[0][0]']           \n",
            "                                                                                                  \n",
            " denseIII_2_1 (Dense)           (None, 8)            40          ['denseIII_1_1[0][0]']           \n",
            "                                                                                                  \n",
            " denseIII_2_2 (Dense)           (None, 8)            40          ['denseIII_1_2[0][0]']           \n",
            "                                                                                                  \n",
            " denseIII_2_3 (Dense)           (None, 8)            40          ['denseIII_1_3[0][0]']           \n",
            "                                                                                                  \n",
            " denseIII_2_4 (Dense)           (None, 8)            40          ['denseIII_1_4[0][0]']           \n",
            "                                                                                                  \n",
            " denseIII_2_5 (Dense)           (None, 8)            40          ['denseIII_1_5[0][0]']           \n",
            "                                                                                                  \n",
            " denseIII_2_6 (Dense)           (None, 8)            40          ['denseIII_1_6[0][0]']           \n",
            "                                                                                                  \n",
            " denseIII_2_7 (Dense)           (None, 8)            40          ['denseIII_1_7[0][0]']           \n",
            "                                                                                                  \n",
            " denseIII_2_8 (Dense)           (None, 8)            40          ['denseIII_1_8[0][0]']           \n",
            "                                                                                                  \n",
            " denseIII_2_9 (Dense)           (None, 8)            40          ['denseIII_1_9[0][0]']           \n",
            "                                                                                                  \n",
            " denseIII_2_10 (Dense)          (None, 8)            40          ['denseIII_1_10[0][0]']          \n",
            "                                                                                                  \n",
            " denseIII_2_11 (Dense)          (None, 8)            40          ['denseIII_1_11[0][0]']          \n",
            "                                                                                                  \n",
            " denseIII_2_12 (Dense)          (None, 8)            40          ['denseIII_1_12[0][0]']          \n",
            "                                                                                                  \n",
            " denseIII_2_13 (Dense)          (None, 8)            40          ['denseIII_1_13[0][0]']          \n",
            "                                                                                                  \n",
            " denseIII_2_14 (Dense)          (None, 8)            40          ['denseIII_1_14[0][0]']          \n",
            "                                                                                                  \n",
            " denseIII_2_15 (Dense)          (None, 8)            40          ['denseIII_1_15[0][0]']          \n",
            "                                                                                                  \n",
            " denseIII_2_16 (Dense)          (None, 8)            40          ['denseIII_1_16[0][0]']          \n",
            "                                                                                                  \n",
            " denseIII_2_17 (Dense)          (None, 8)            40          ['denseIII_1_17[0][0]']          \n",
            "                                                                                                  \n",
            " denseIII_2_18 (Dense)          (None, 8)            40          ['denseIII_1_18[0][0]']          \n",
            "                                                                                                  \n",
            " denseIII_2_19 (Dense)          (None, 8)            40          ['denseIII_1_19[0][0]']          \n",
            "                                                                                                  \n",
            " concatenated_output (Concatena  (None, 164)         0           ['inputII_dense2[0][0]',         \n",
            " te)                                                              'denseIII_2_0[0][0]',           \n",
            "                                                                  'denseIII_2_1[0][0]',           \n",
            "                                                                  'denseIII_2_2[0][0]',           \n",
            "                                                                  'denseIII_2_3[0][0]',           \n",
            "                                                                  'denseIII_2_4[0][0]',           \n",
            "                                                                  'denseIII_2_5[0][0]',           \n",
            "                                                                  'denseIII_2_6[0][0]',           \n",
            "                                                                  'denseIII_2_7[0][0]',           \n",
            "                                                                  'denseIII_2_8[0][0]',           \n",
            "                                                                  'denseIII_2_9[0][0]',           \n",
            "                                                                  'denseIII_2_10[0][0]',          \n",
            "                                                                  'denseIII_2_11[0][0]',          \n",
            "                                                                  'denseIII_2_12[0][0]',          \n",
            "                                                                  'denseIII_2_13[0][0]',          \n",
            "                                                                  'denseIII_2_14[0][0]',          \n",
            "                                                                  'denseIII_2_15[0][0]',          \n",
            "                                                                  'denseIII_2_16[0][0]',          \n",
            "                                                                  'denseIII_2_17[0][0]',          \n",
            "                                                                  'denseIII_2_18[0][0]',          \n",
            "                                                                  'denseIII_2_19[0][0]']          \n",
            "                                                                                                  \n",
            " inputI (InputLayer)            [(None, 10)]         0           []                               \n",
            "                                                                                                  \n",
            " dense1cct (Dense)              (None, 1024)         168960      ['concatenated_output[0][0]']    \n",
            "                                                                                                  \n",
            " inputI_dense1 (Dense)          (None, 4)            44          ['inputI[0][0]']                 \n",
            "                                                                                                  \n",
            " dense2cct (Dense)              (None, 1024)         1049600     ['dense1cct[0][0]']              \n",
            "                                                                                                  \n",
            " inputI_dense2 (Dense)          (None, 4)            20          ['inputI_dense1[0][0]']          \n",
            "                                                                                                  \n",
            " dense3cct (Dense)              (None, 1024)         1049600     ['dense2cct[0][0]']              \n",
            "                                                                                                  \n",
            " concatenated_output2 (Concaten  (None, 1028)        0           ['inputI_dense2[0][0]',          \n",
            " ate)                                                             'dense3cct[0][0]']              \n",
            "                                                                                                  \n"
          ]
        },
        {
          "name": "stdout",
          "output_type": "stream",
          "text": [
            " dense4cct (Dense)              (None, 1080)         1111320     ['concatenated_output2[0][0]']   \n",
            "                                                                                                  \n",
            " dense5cct (Dense)              (None, 1080)         1167480     ['dense4cct[0][0]']              \n",
            "                                                                                                  \n",
            " dense_1 (Dense)                (None, 1)            1081        ['dense5cct[0][0]']              \n",
            "                                                                                                  \n",
            "==================================================================================================\n",
            "Total params: 4,549,197\n",
            "Trainable params: 4,549,197\n",
            "Non-trainable params: 0\n",
            "__________________________________________________________________________________________________\n"
          ]
        }
      ],
      "source": [
        "def create_NN2():\n",
        "    #Group I inputs-- 10\n",
        "    input_size_I = (10,)\n",
        "    input_size_II = (7,)\n",
        "    input_size_III = (2,)\n",
        "\n",
        "    input_layers = []\n",
        "    output_layers = []\n",
        "\n",
        "    input_layer_1 = tf.keras.layers.Input(shape = input_size_I, name='inputI')\n",
        "    input_layers.append(input_layer_1)\n",
        "    dense_layer_1_1 = tf.keras.layers.Dense(4, activation='relu', name='inputI_dense1')(input_layer_1)\n",
        "    dense_layer_1_2 = tf.keras.layers.Dense(4, activation='relu', name='inputI_dense2')(dense_layer_1_1)\n",
        "    #output_layers.append(dense_layer_1_2)\n",
        "\n",
        "    #Group II\n",
        "    input_layer_2 = tf.keras.layers.Input(shape = input_size_II, name='inputII')\n",
        "    input_layers.append(input_layer_2)\n",
        "    dense_layer_2_1 = tf.keras.layers.Dense(4, activation='relu', name='inputII_dense1')(input_layer_2)\n",
        "    dense_layer_2_2 = tf.keras.layers.Dense(4, activation='relu', name='inputII_dense2')(dense_layer_2_1)\n",
        "    output_layers.append(dense_layer_2_2)\n",
        "\n",
        "    #Group III\n",
        "    for i in range(20):\n",
        "        input_layer = tf.keras.layers.Input(shape=input_size_III, name=f'input_III_{i}')\n",
        "        input_layers.append(input_layer)\n",
        "        dense_layer_1 = tf.keras.layers.Dense(4, activation='relu', name=f'denseIII_1_{i}')(input_layer)\n",
        "        dense_layer_2 = tf.keras.layers.Dense(8, activation='relu', name=f'denseIII_2_{i}')(dense_layer_1)\n",
        "        output_layers.append(dense_layer_2)\n",
        "\n",
        "    concat_output = tf.keras.layers.concatenate(output_layers, name='concatenated_output')\n",
        "\n",
        "    x1 = tf.keras.layers.Dense(1024, activation='relu', name='dense1cct')(concat_output)\n",
        "    x2 = tf.keras.layers.Dense(1024, activation='relu', name='dense2cct')(x1)\n",
        "    x3 = tf.keras.layers.Dense(1024, activation='relu', name='dense3cct')(x2)\n",
        "\n",
        "    concat_output2 = tf.keras.layers.concatenate([dense_layer_1_2,x3], name='concatenated_output2')\n",
        "    x4 = tf.keras.layers.Dense(1080, activation='relu', name='dense4cct')(concat_output2)\n",
        "    x5 = tf.keras.layers.Dense(1080, activation='relu', name='dense5cct')(x4)\n",
        "\n",
        "\n",
        "\n",
        "    output_layer = tf.keras.layers.Dense(1, activation='sigmoid')(x5)\n",
        "\n",
        "    model = tf.keras.models.Model(inputs=input_layers, outputs=output_layer)\n",
        "    return model\n",
        "\n",
        "\n",
        "\n",
        "en_mod2 = create_NN2()\n",
        "en_mod2.summary()\n"
      ]
    },
    {
      "cell_type": "code",
      "execution_count": null,
      "metadata": {
        "id": "ovnLRRxVjZ5H"
      },
      "outputs": [],
      "source": [
        "en_mod2.compile(optimizer='adam',loss=\"binary_crossentropy\",metrics=['accuracy'])"
      ]
    },
    {
      "cell_type": "code",
      "execution_count": null,
      "metadata": {
        "id": "9T-UpYayjZ5H",
        "outputId": "b444976c-c95a-47b4-b284-192f0782be36"
      },
      "outputs": [
        {
          "name": "stdout",
          "output_type": "stream",
          "text": [
            "[name: \"/device:CPU:0\"\n",
            "device_type: \"CPU\"\n",
            "memory_limit: 268435456\n",
            "locality {\n",
            "}\n",
            "incarnation: 9787153479059516176\n",
            "xla_global_id: -1\n",
            ", name: \"/device:GPU:0\"\n",
            "device_type: \"GPU\"\n",
            "memory_limit: 14236516352\n",
            "locality {\n",
            "  bus_id: 1\n",
            "  links {\n",
            "  }\n",
            "}\n",
            "incarnation: 2726572043756526621\n",
            "physical_device_desc: \"device: 0, name: NVIDIA GeForce RTX 3080 Ti Laptop GPU, pci bus id: 0000:01:00.0, compute capability: 8.6\"\n",
            "xla_global_id: 416903419\n",
            "]\n"
          ]
        }
      ],
      "source": [
        "from tensorflow.python.client import device_lib\n",
        "print(device_lib.list_local_devices())"
      ]
    },
    {
      "cell_type": "code",
      "execution_count": null,
      "metadata": {
        "id": "1NOm4WjXjZ5H",
        "outputId": "53941b67-bc02-46c0-94bd-f9aaf7035e54"
      },
      "outputs": [
        {
          "data": {
            "text/plain": [
              "(500000, 10)"
            ]
          },
          "execution_count": 33,
          "metadata": {},
          "output_type": "execute_result"
        }
      ],
      "source": [
        "output_filepath = \"ton_iot_datablockI_1897.pkl\"\n",
        "with open(output_filepath, 'rb') as f:\n",
        "    groupI_block = pickle.load(f)\n",
        "groupI_block.shape"
      ]
    },
    {
      "cell_type": "code",
      "execution_count": null,
      "metadata": {
        "id": "E2v3FpadjZ5H",
        "outputId": "2368089a-760c-4b5c-8de2-29c986dd57be"
      },
      "outputs": [
        {
          "data": {
            "text/plain": [
              "((350000, 10), (75000, 10), (75000, 10))"
            ]
          },
          "execution_count": 34,
          "metadata": {},
          "output_type": "execute_result"
        }
      ],
      "source": [
        "groupI_train = groupI_block[0:350000,:]\n",
        "groupI_valid = groupI_block[350000:425000,:]\n",
        "groupI_test = groupI_block[425000:,:]\n",
        "groupI_train.shape,groupI_valid.shape,groupI_test.shape"
      ]
    },
    {
      "cell_type": "code",
      "execution_count": null,
      "metadata": {
        "id": "ifv19gjhjZ5H",
        "outputId": "c57aa390-7eac-41a5-ad95-5cf92c99803c"
      },
      "outputs": [
        {
          "data": {
            "text/plain": [
              "(0.0, 1.0)"
            ]
          },
          "execution_count": 35,
          "metadata": {},
          "output_type": "execute_result"
        }
      ],
      "source": [
        "np.min(groupI_train), np.max(groupI_train)"
      ]
    },
    {
      "cell_type": "code",
      "execution_count": null,
      "metadata": {
        "id": "YWfWj5pajZ5I",
        "outputId": "493e4bb6-ee43-419a-d4ad-68691ca42afa"
      },
      "outputs": [
        {
          "data": {
            "text/plain": [
              "(500000, 7)"
            ]
          },
          "execution_count": 36,
          "metadata": {},
          "output_type": "execute_result"
        }
      ],
      "source": [
        "output_filepath = \"GroupII_1897_tvals.pkl\"\n",
        "\n",
        "with open(output_filepath, 'rb') as f:\n",
        "    groupII_block = pickle.load(f)\n",
        "groupII_block.shape"
      ]
    },
    {
      "cell_type": "code",
      "execution_count": null,
      "metadata": {
        "id": "akvMKSz6jZ5I",
        "outputId": "27627e3c-b140-4d5b-d754-59b3def2d951"
      },
      "outputs": [
        {
          "data": {
            "text/plain": [
              "((350000, 7), (75000, 7), (75000, 7))"
            ]
          },
          "execution_count": 37,
          "metadata": {},
          "output_type": "execute_result"
        }
      ],
      "source": [
        "groupII_train = groupII_block[0:350000,:]\n",
        "groupII_valid = groupII_block[350000:425000,:]\n",
        "groupII_test = groupII_block[425000:,:]\n",
        "groupII_train.shape,groupII_valid.shape,groupII_test.shape"
      ]
    },
    {
      "cell_type": "code",
      "execution_count": null,
      "metadata": {
        "id": "Vov7FkpbjZ5I",
        "outputId": "44fecef2-5bb5-423d-d3dc-fea0676aa7b7"
      },
      "outputs": [
        {
          "data": {
            "text/plain": [
              "(0.0, 1.0)"
            ]
          },
          "execution_count": 38,
          "metadata": {},
          "output_type": "execute_result"
        }
      ],
      "source": [
        "np.min(groupII_train), np.max(groupII_train)"
      ]
    },
    {
      "cell_type": "code",
      "execution_count": null,
      "metadata": {
        "id": "4r0DxqK9jZ5I",
        "outputId": "1875d905-b15e-4c31-d6ab-bfa0e3e9fa39"
      },
      "outputs": [
        {
          "data": {
            "text/plain": [
              "(500000, 40)"
            ]
          },
          "execution_count": 39,
          "metadata": {},
          "output_type": "execute_result"
        }
      ],
      "source": [
        "output_filepath = \"GroupIII_processed_1897\"\n",
        "\n",
        "with open(output_filepath, 'rb') as f:\n",
        "    groupIII_block = pickle.load(f)\n",
        "groupIII_block.shape"
      ]
    },
    {
      "cell_type": "code",
      "execution_count": null,
      "metadata": {
        "id": "-71sceUMjZ5I",
        "outputId": "1534bff2-78cc-46b4-ea2d-0f2665810181"
      },
      "outputs": [
        {
          "data": {
            "text/plain": [
              "((350000, 40), (75000, 40), (75000, 40))"
            ]
          },
          "execution_count": 40,
          "metadata": {},
          "output_type": "execute_result"
        }
      ],
      "source": [
        "groupIII_train = groupIII_block[0:350000,:]\n",
        "groupIII_valid = groupIII_block[350000:425000,:]\n",
        "groupIII_test = groupIII_block[425000:,:]\n",
        "groupIII_train.shape,groupIII_valid.shape,groupIII_test.shape"
      ]
    },
    {
      "cell_type": "code",
      "execution_count": null,
      "metadata": {
        "id": "lXWA4-HRjZ5I",
        "outputId": "bc210b6b-162c-455f-ca6f-9bcfbd03ca21"
      },
      "outputs": [
        {
          "data": {
            "text/plain": [
              "(nan, nan)"
            ]
          },
          "execution_count": 41,
          "metadata": {},
          "output_type": "execute_result"
        }
      ],
      "source": [
        "np.min(groupIII_train), np.max(groupIII_train)"
      ]
    },
    {
      "cell_type": "code",
      "execution_count": null,
      "metadata": {
        "id": "l8mmsGmYjZ5J",
        "outputId": "9f4c2845-6925-4247-8d12-345e0516244a"
      },
      "outputs": [
        {
          "name": "stdout",
          "output_type": "stream",
          "text": [
            "[1]\n",
            "[1]\n",
            "Rows with nan minimum or maximum value: [1]\n"
          ]
        }
      ],
      "source": [
        "min_nan_ind = np.where(np.isnan(np.min(groupIII_train, axis=1)))[0]# indices where min value = nan\n",
        "print(min_nan_ind)\n",
        "\n",
        "max_nan_ind = np.where(np.isnan(np.max(groupIII_train, axis=1)))[0]# indices where max value = nan\n",
        "print(max_nan_ind)\n",
        "\n",
        "nan_ind = np.union1d(min_nan_ind, max_nan_ind) #combined\n",
        "print(\"Rows with nan minimum or maximum value:\", nan_ind)\n"
      ]
    },
    {
      "cell_type": "code",
      "execution_count": null,
      "metadata": {
        "id": "nWTetLCdjZ5J",
        "outputId": "e0bf8b50-48ca-40d4-82f2-c7dcbb932874"
      },
      "outputs": [
        {
          "data": {
            "text/plain": [
              "(349999, 40)"
            ]
          },
          "execution_count": 43,
          "metadata": {},
          "output_type": "execute_result"
        }
      ],
      "source": [
        "groupIII_train = np.delete(groupIII_train,1, axis = 0)\n",
        "groupIII_train.shape"
      ]
    },
    {
      "cell_type": "code",
      "execution_count": null,
      "metadata": {
        "id": "cYYhCf9ajZ5J",
        "outputId": "adb63523-f26c-42b2-e892-4a51ac786589"
      },
      "outputs": [
        {
          "data": {
            "text/plain": [
              "((349999, 10), (349999, 7))"
            ]
          },
          "execution_count": 44,
          "metadata": {},
          "output_type": "execute_result"
        }
      ],
      "source": [
        "groupI_train = np.delete(groupI_train,1,axis=0)\n",
        "groupII_train = np.delete(groupII_train,1,axis=0)\n",
        "groupI_train.shape,groupII_train.shape"
      ]
    },
    {
      "cell_type": "code",
      "execution_count": null,
      "metadata": {
        "id": "AMWdZiW4jZ5J",
        "outputId": "c01468a4-1e37-4805-9418-007a49cd78d2"
      },
      "outputs": [
        {
          "data": {
            "text/plain": [
              "53645"
            ]
          },
          "execution_count": 45,
          "metadata": {},
          "output_type": "execute_result"
        }
      ],
      "source": [
        "del groupI_block\n",
        "del groupII_block\n",
        "del groupIII_block\n",
        "gc.collect()"
      ]
    },
    {
      "cell_type": "code",
      "execution_count": null,
      "metadata": {
        "id": "h-IA_j6njZ5J",
        "outputId": "0fd44292-75f3-4ae6-ce75-13dedb8b7f1d"
      },
      "outputs": [
        {
          "data": {
            "text/plain": [
              "(500000,)"
            ]
          },
          "execution_count": 46,
          "metadata": {},
          "output_type": "execute_result"
        }
      ],
      "source": [
        "labels_block = np.load('labels_seeded_1897.npy')\n",
        "labels_block.shape"
      ]
    },
    {
      "cell_type": "code",
      "execution_count": null,
      "metadata": {
        "id": "twAmG2QcjZ5K"
      },
      "outputs": [],
      "source": [
        "the_inputs = [groupI_train,groupII_train]\n",
        "the_valids = [groupI_valid,groupII_valid]\n",
        "the_tests = [groupI_test,groupII_test]"
      ]
    },
    {
      "cell_type": "code",
      "execution_count": null,
      "metadata": {
        "id": "7EH9nflajZ5K",
        "outputId": "24517c03-3b3e-46db-b96e-52f7824e6157"
      },
      "outputs": [
        {
          "data": {
            "text/plain": [
              "((350000,), (75000,), (75000,))"
            ]
          },
          "execution_count": 48,
          "metadata": {},
          "output_type": "execute_result"
        }
      ],
      "source": [
        "labels_tr = labels_block[0:350000,]\n",
        "labels_va = labels_block[350000:425000,]\n",
        "labels_te = labels_block[425000:,]\n",
        "labels_tr.shape,labels_va.shape,labels_te.shape"
      ]
    },
    {
      "cell_type": "code",
      "execution_count": null,
      "metadata": {
        "id": "h-82KBDdjZ5K",
        "outputId": "415d2767-f165-4f4f-a987-47a9f944b839"
      },
      "outputs": [
        {
          "data": {
            "text/plain": [
              "(349999,)"
            ]
          },
          "execution_count": 49,
          "metadata": {},
          "output_type": "execute_result"
        }
      ],
      "source": [
        "labels_tr = np.delete(labels_tr,1, axis = 0)\n",
        "labels_tr.shape"
      ]
    },
    {
      "cell_type": "code",
      "execution_count": null,
      "metadata": {
        "id": "OkEtA3pCjZ5K"
      },
      "outputs": [],
      "source": [
        "def split_20(incoming:np.array):\n",
        "    split_arrays = np.split(incoming,20,axis=1)\n",
        "    arrays_dict = {}\n",
        "    for i, arr in enumerate(split_arrays):\n",
        "        arrays_dict[f'arr{i:02d}'] = arr\n",
        "    return arrays_dict"
      ]
    },
    {
      "cell_type": "code",
      "execution_count": null,
      "metadata": {
        "id": "OQ030l1ujZ5K"
      },
      "outputs": [],
      "source": [
        "the_dict_tr = split_20(groupIII_train)\n",
        "the_dict_va = split_20(groupIII_valid)\n",
        "the_dict_te = split_20(groupIII_test)"
      ]
    },
    {
      "cell_type": "code",
      "execution_count": null,
      "metadata": {
        "id": "Opc4cZmgjZ5K"
      },
      "outputs": [],
      "source": [
        "for i in range(20):\n",
        "    the_inputs.append(the_dict_tr[f'arr{i:02d}'])\n",
        "    the_valids.append(the_dict_va[f'arr{i:02d}'])\n",
        "    the_tests.append(the_dict_te[f'arr{i:02d}'])\n",
        ""
      ]
    },
    {
      "cell_type": "code",
      "execution_count": null,
      "metadata": {
        "id": "0mCP3QyyjZ5L",
        "outputId": "d8995fc9-b953-4c3c-e728-84e917fefa9a"
      },
      "outputs": [
        {
          "data": {
            "text/plain": [
              "(22, 22, 22)"
            ]
          },
          "execution_count": 53,
          "metadata": {},
          "output_type": "execute_result"
        }
      ],
      "source": [
        "len(the_inputs), len(the_valids), len(the_tests)"
      ]
    },
    {
      "cell_type": "code",
      "execution_count": null,
      "metadata": {
        "id": "Oc9HWez4jZ5L",
        "outputId": "610ad55f-5ec1-4fe5-99a0-6e6003a4fbd8"
      },
      "outputs": [
        {
          "name": "stdout",
          "output_type": "stream",
          "text": [
            "Epoch 1/200\n",
            "5469/5469 [==============================] - 137s 25ms/step - loss: 0.1475 - accuracy: 0.9481 - val_loss: 0.0938 - val_accuracy: 0.9647\n",
            "Epoch 2/200\n",
            "5469/5469 [==============================] - 133s 24ms/step - loss: 0.0900 - accuracy: 0.9653 - val_loss: 0.0805 - val_accuracy: 0.9684\n",
            "Epoch 3/200\n",
            "5469/5469 [==============================] - 133s 24ms/step - loss: 0.0804 - accuracy: 0.9675 - val_loss: 0.0737 - val_accuracy: 0.9699\n",
            "Epoch 4/200\n",
            "5469/5469 [==============================] - 133s 24ms/step - loss: 0.0757 - accuracy: 0.9691 - val_loss: 0.0720 - val_accuracy: 0.9698\n",
            "Epoch 5/200\n",
            "5469/5469 [==============================] - 136s 25ms/step - loss: 0.0714 - accuracy: 0.9709 - val_loss: 0.0680 - val_accuracy: 0.9718\n",
            "Epoch 6/200\n",
            "5469/5469 [==============================] - 134s 25ms/step - loss: 0.0694 - accuracy: 0.9718 - val_loss: 0.0701 - val_accuracy: 0.9717\n",
            "Epoch 7/200\n",
            "5469/5469 [==============================] - 137s 25ms/step - loss: 0.0654 - accuracy: 0.9738 - val_loss: 0.0600 - val_accuracy: 0.9755\n",
            "Epoch 8/200\n",
            "5469/5469 [==============================] - 135s 25ms/step - loss: 0.0613 - accuracy: 0.9755 - val_loss: 0.0574 - val_accuracy: 0.9780\n",
            "Epoch 9/200\n",
            "5469/5469 [==============================] - 142s 26ms/step - loss: 0.0591 - accuracy: 0.9767 - val_loss: 0.0604 - val_accuracy: 0.9752\n",
            "Epoch 10/200\n",
            "5469/5469 [==============================] - 136s 25ms/step - loss: 0.0583 - accuracy: 0.9774 - val_loss: 0.0570 - val_accuracy: 0.9787\n",
            "Epoch 11/200\n",
            "5469/5469 [==============================] - 135s 25ms/step - loss: 0.0573 - accuracy: 0.9780 - val_loss: 0.0616 - val_accuracy: 0.9761\n",
            "Epoch 12/200\n",
            "5469/5469 [==============================] - 143s 26ms/step - loss: 0.0563 - accuracy: 0.9785 - val_loss: 0.0628 - val_accuracy: 0.9757\n",
            "Epoch 13/200\n",
            "5469/5469 [==============================] - 135s 25ms/step - loss: 0.0549 - accuracy: 0.9790 - val_loss: 0.0534 - val_accuracy: 0.9785\n",
            "Epoch 14/200\n",
            "5469/5469 [==============================] - 134s 25ms/step - loss: 0.0539 - accuracy: 0.9794 - val_loss: 0.0616 - val_accuracy: 0.9791\n",
            "Epoch 15/200\n",
            "5469/5469 [==============================] - 135s 25ms/step - loss: 0.0541 - accuracy: 0.9796 - val_loss: 0.0551 - val_accuracy: 0.9794\n",
            "Epoch 16/200\n",
            "5469/5469 [==============================] - 137s 25ms/step - loss: 0.0529 - accuracy: 0.9798 - val_loss: 0.1053 - val_accuracy: 0.9474\n",
            "Epoch 17/200\n",
            "5469/5469 [==============================] - 136s 25ms/step - loss: 0.0506 - accuracy: 0.9801 - val_loss: 0.0520 - val_accuracy: 0.9797\n",
            "Epoch 18/200\n",
            "5469/5469 [==============================] - 138s 25ms/step - loss: 0.0501 - accuracy: 0.9797 - val_loss: 0.0566 - val_accuracy: 0.9791\n",
            "Epoch 19/200\n",
            "5469/5469 [==============================] - 136s 25ms/step - loss: 0.0490 - accuracy: 0.9801 - val_loss: 0.0484 - val_accuracy: 0.9804\n",
            "Epoch 20/200\n",
            "5469/5469 [==============================] - 137s 25ms/step - loss: 0.0484 - accuracy: 0.9802 - val_loss: 0.0669 - val_accuracy: 0.9802\n",
            "Epoch 21/200\n",
            "5469/5469 [==============================] - 137s 25ms/step - loss: 0.0477 - accuracy: 0.9806 - val_loss: 0.0482 - val_accuracy: 0.9814\n",
            "Epoch 22/200\n",
            "5469/5469 [==============================] - 137s 25ms/step - loss: 0.0474 - accuracy: 0.9805 - val_loss: 0.0504 - val_accuracy: 0.9808\n",
            "Epoch 23/200\n",
            "5469/5469 [==============================] - 137s 25ms/step - loss: 0.0474 - accuracy: 0.9808 - val_loss: 0.0499 - val_accuracy: 0.9807\n",
            "Epoch 24/200\n",
            "5469/5469 [==============================] - 134s 24ms/step - loss: 0.0473 - accuracy: 0.9807 - val_loss: 0.0472 - val_accuracy: 0.9811\n",
            "Epoch 25/200\n",
            "5469/5469 [==============================] - 134s 24ms/step - loss: 0.0474 - accuracy: 0.9806 - val_loss: 0.0483 - val_accuracy: 0.9811\n",
            "Epoch 26/200\n",
            "5469/5469 [==============================] - 138s 25ms/step - loss: 0.0472 - accuracy: 0.9809 - val_loss: 0.0487 - val_accuracy: 0.9809\n"
          ]
        }
      ],
      "source": [
        "#for en_mod_s\n",
        "EPOCHS = 200\n",
        "batchSize = 64\n",
        "early_stopping = tf.keras.callbacks.EarlyStopping(monitor='val_accuracy', patience=5, restore_best_weights=True)\n",
        "history = en_mod2.fit(\n",
        "    x=the_inputs,\n",
        "    y=labels_tr,\n",
        "    batch_size=batchSize,\n",
        "    epochs=EPOCHS,\n",
        "    validation_data=(the_valids, labels_va),\n",
        "    callbacks=[early_stopping],\n",
        "    verbose=1\n",
        ")"
      ]
    },
    {
      "cell_type": "code",
      "execution_count": null,
      "metadata": {
        "id": "kxHx6EMFjZ5L",
        "outputId": "016ebe3b-ffc0-4964-bad0-1f9feb646095"
      },
      "outputs": [
        {
          "name": "stderr",
          "output_type": "stream",
          "text": [
            "WARNING:absl:Function `_wrapped_model` contains input name(s) inputI, inputII, input_III_0, input_III_1, input_III_2, input_III_3, input_III_4, input_III_5, input_III_6, input_III_7, input_III_8, input_III_9, input_III_10, input_III_11, input_III_12, input_III_13, input_III_14, input_III_15, input_III_16, input_III_17, input_III_18, input_III_19 with unsupported characters which will be renamed to inputi, inputii, input_iii_0, input_iii_1, input_iii_2, input_iii_3, input_iii_4, input_iii_5, input_iii_6, input_iii_7, input_iii_8, input_iii_9, input_iii_10, input_iii_11, input_iii_12, input_iii_13, input_iii_14, input_iii_15, input_iii_16, input_iii_17, input_iii_18, input_iii_19 in the SavedModel.\n"
          ]
        },
        {
          "name": "stdout",
          "output_type": "stream",
          "text": [
            "INFO:tensorflow:Assets written to: model_III_10_7_20_jagged_concat.pkl\\assets\n"
          ]
        },
        {
          "name": "stderr",
          "output_type": "stream",
          "text": [
            "INFO:tensorflow:Assets written to: model_III_10_7_20_jagged_concat.pkl\\assets\n"
          ]
        }
      ],
      "source": [
        "output_filepath = \"model_III_10_7_20_jagged_concat.pkl\"\n",
        "en_mod2.save(output_filepath)\n"
      ]
    },
    {
      "cell_type": "code",
      "execution_count": null,
      "metadata": {
        "id": "eblDEN9ajZ5L",
        "outputId": "c647b3fd-bcbf-46b4-b5d4-98752ed0933d"
      },
      "outputs": [
        {
          "name": "stdout",
          "output_type": "stream",
          "text": [
            "2344/2344 [==============================] - 25s 11ms/step\n",
            "              precision    recall  f1-score   support\n",
            "\n",
            "           0       0.98      0.97      0.97     27071\n",
            "           1       0.98      0.99      0.99     47929\n",
            "\n",
            "    accuracy                           0.98     75000\n",
            "   macro avg       0.98      0.98      0.98     75000\n",
            "weighted avg       0.98      0.98      0.98     75000\n",
            "\n"
          ]
        }
      ],
      "source": [
        "predictions = en_mod2.predict(the_tests, verbose=1)\n",
        "predicted_labels = (predictions > 0.5).astype(int)\n",
        "from sklearn.metrics import classification_report\n",
        "print(classification_report(labels_te, predicted_labels))"
      ]
    },
    {
      "cell_type": "code",
      "execution_count": null,
      "metadata": {
        "id": "2kZuh1-LjZ5L"
      },
      "outputs": [],
      "source": []
    }
  ],
  "metadata": {
    "colab": {
      "provenance": []
    },
    "kernelspec": {
      "display_name": "Python 3 (ipykernel)",
      "language": "python",
      "name": "python3"
    },
    "language_info": {
      "codemirror_mode": {
        "name": "ipython",
        "version": 3
      },
      "file_extension": ".py",
      "mimetype": "text/x-python",
      "name": "python",
      "nbconvert_exporter": "python",
      "pygments_lexer": "ipython3",
      "version": "3.9.13"
    }
  },
  "nbformat": 4,
  "nbformat_minor": 0
}