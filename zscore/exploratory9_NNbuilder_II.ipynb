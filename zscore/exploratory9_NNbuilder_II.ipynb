{
  "cells": [
    {
      "cell_type": "code",
      "execution_count": null,
      "metadata": {
        "id": "EZkqN7Lk8kCo"
      },
      "outputs": [],
      "source": [
        "import tensorflow as tf\n",
        "import math\n",
        "import numpy as np\n",
        "import pickle\n",
        "import gc"
      ]
    },
    {
      "cell_type": "code",
      "execution_count": null,
      "metadata": {
        "id": "BxiT53SEjKWz",
        "outputId": "1b08a1ec-319f-4848-cdb6-b0aca0e376ff"
      },
      "outputs": [
        {
          "name": "stdout",
          "output_type": "stream",
          "text": [
            "Model: \"model_2\"\n",
            "__________________________________________________________________________________________________\n",
            " Layer (type)                   Output Shape         Param #     Connected to                     \n",
            "==================================================================================================\n",
            " inputI (InputLayer)            [(None, 10)]         0           []                               \n",
            "                                                                                                  \n",
            " inputII (InputLayer)           [(None, 7)]          0           []                               \n",
            "                                                                                                  \n",
            " inputI_dense1 (Dense)          (None, 4)            44          ['inputI[0][0]']                 \n",
            "                                                                                                  \n",
            " inputII_dense1 (Dense)         (None, 4)            32          ['inputII[0][0]']                \n",
            "                                                                                                  \n",
            " inputI_dense2 (Dense)          (None, 4)            20          ['inputI_dense1[0][0]']          \n",
            "                                                                                                  \n",
            " inputII_dense2 (Dense)         (None, 4)            20          ['inputII_dense1[0][0]']         \n",
            "                                                                                                  \n",
            " concatenated_output (Concatena  (None, 8)           0           ['inputI_dense2[0][0]',          \n",
            " te)                                                              'inputII_dense2[0][0]']         \n",
            "                                                                                                  \n",
            " dense1cct (Dense)              (None, 1024)         9216        ['concatenated_output[0][0]']    \n",
            "                                                                                                  \n",
            " dense2cct (Dense)              (None, 1024)         1049600     ['dense1cct[0][0]']              \n",
            "                                                                                                  \n",
            " dense3cct (Dense)              (None, 1024)         1049600     ['dense2cct[0][0]']              \n",
            "                                                                                                  \n",
            " dense_2 (Dense)                (None, 1)            1025        ['dense3cct[0][0]']              \n",
            "                                                                                                  \n",
            "==================================================================================================\n",
            "Total params: 2,109,557\n",
            "Trainable params: 2,109,557\n",
            "Non-trainable params: 0\n",
            "__________________________________________________________________________________________________\n"
          ]
        }
      ],
      "source": [
        "def create_NN_II():\n",
        "    #Group I inputs-- 10\n",
        "    input_size_I = (10,)\n",
        "    input_size_II = (7,)\n",
        "    #input_size_III = (2,)\n",
        "\n",
        "    input_layers = []\n",
        "    output_layers = []\n",
        "\n",
        "    input_layer_1 = tf.keras.layers.Input(shape = input_size_I, name='inputI')\n",
        "    input_layers.append(input_layer_1)\n",
        "    dense_layer_1_1 = tf.keras.layers.Dense(4, activation='relu', name='inputI_dense1')(input_layer_1)\n",
        "    dense_layer_1_2 = tf.keras.layers.Dense(4, activation='relu', name='inputI_dense2')(dense_layer_1_1)\n",
        "    output_layers.append(dense_layer_1_2)\n",
        "\n",
        "    #Group II\n",
        "    input_layer_2 = tf.keras.layers.Input(shape = input_size_II, name='inputII')\n",
        "    input_layers.append(input_layer_2)\n",
        "    dense_layer_2_1 = tf.keras.layers.Dense(4, activation='relu', name='inputII_dense1')(input_layer_2)\n",
        "    dense_layer_2_2 = tf.keras.layers.Dense(4, activation='relu', name='inputII_dense2')(dense_layer_2_1)\n",
        "    output_layers.append(dense_layer_2_2)\n",
        "    concat_output = tf.keras.layers.concatenate(output_layers, name='concatenated_output')\n",
        "\n",
        "    '''#Group III\n",
        "    for i in range(20):\n",
        "        input_layer = tf.keras.layers.Input(shape=input_size_III, name=f'input_III_{i}')\n",
        "        input_layers.append(input_layer)\n",
        "        dense_layer_1 = tf.keras.layers.Dense(4, activation='relu', name=f'denseIII_1_{i}')(input_layer)\n",
        "        dense_layer_2 = tf.keras.layers.Dense(8, activation='relu', name=f'denseIII_2_{i}')(dense_layer_1)\n",
        "        output_layers.append(dense_layer_2)\n",
        "\n",
        "    concat_output = tf.keras.layers.concatenate(output_layers, name='concatenated_output')'''\n",
        "\n",
        "    x1 = tf.keras.layers.Dense(1024, activation='relu', name='dense1cct')(concat_output)\n",
        "    x2 = tf.keras.layers.Dense(1024, activation='relu', name='dense2cct')(x1)\n",
        "    x3 = tf.keras.layers.Dense(1024, activation='relu', name='dense3cct')(x2)\n",
        "    output_layer = tf.keras.layers.Dense(1, activation='sigmoid')(x3)\n",
        "\n",
        "    model = tf.keras.models.Model(inputs=input_layers, outputs=output_layer)\n",
        "    return model\n",
        "\n",
        "\n",
        "\n",
        "en_mod_II = create_NN_II()\n",
        "en_mod_II.summary()"
      ]
    },
    {
      "cell_type": "code",
      "execution_count": null,
      "metadata": {
        "id": "TIpd7qk5jKW0"
      },
      "outputs": [],
      "source": [
        "en_mod_II.compile(optimizer='adam',loss=\"binary_crossentropy\",metrics=['accuracy'])"
      ]
    },
    {
      "cell_type": "code",
      "execution_count": null,
      "metadata": {
        "id": "u1oRfP5KjKW0",
        "outputId": "96c0af60-35f4-4ed1-d08d-fc5fbca50acc"
      },
      "outputs": [
        {
          "name": "stdout",
          "output_type": "stream",
          "text": [
            "[name: \"/device:CPU:0\"\n",
            "device_type: \"CPU\"\n",
            "memory_limit: 268435456\n",
            "locality {\n",
            "}\n",
            "incarnation: 10646493319673961615\n",
            "xla_global_id: -1\n",
            ", name: \"/device:GPU:0\"\n",
            "device_type: \"GPU\"\n",
            "memory_limit: 14236516352\n",
            "locality {\n",
            "  bus_id: 1\n",
            "  links {\n",
            "  }\n",
            "}\n",
            "incarnation: 338822451611963146\n",
            "physical_device_desc: \"device: 0, name: NVIDIA GeForce RTX 3080 Ti Laptop GPU, pci bus id: 0000:01:00.0, compute capability: 8.6\"\n",
            "xla_global_id: 416903419\n",
            "]\n"
          ]
        }
      ],
      "source": [
        "from tensorflow.python.client import device_lib\n",
        "print(device_lib.list_local_devices())"
      ]
    },
    {
      "cell_type": "code",
      "execution_count": null,
      "metadata": {
        "id": "nc-sej4hjKW1",
        "outputId": "dfbae35d-a250-4b27-e2e0-ec798096e9d0"
      },
      "outputs": [
        {
          "data": {
            "text/plain": [
              "(500000, 10)"
            ]
          },
          "execution_count": 15,
          "metadata": {},
          "output_type": "execute_result"
        }
      ],
      "source": [
        "output_filepath = \"ton_iot_datablockI_1897.pkl\"\n",
        "with open(output_filepath, 'rb') as f:\n",
        "    groupI_block = pickle.load(f)\n",
        "groupI_block.shape"
      ]
    },
    {
      "cell_type": "code",
      "execution_count": null,
      "metadata": {
        "id": "aZRb2G5DjKW1",
        "outputId": "4ea3ccc2-b2e4-490b-839e-ffd84f0ee728"
      },
      "outputs": [
        {
          "data": {
            "text/plain": [
              "((350000, 10), (75000, 10), (75000, 10))"
            ]
          },
          "execution_count": 16,
          "metadata": {},
          "output_type": "execute_result"
        }
      ],
      "source": [
        "groupI_train = groupI_block[0:350000,:]\n",
        "groupI_valid = groupI_block[350000:425000,:]\n",
        "groupI_test = groupI_block[425000:,:]\n",
        "groupI_train.shape,groupI_valid.shape,groupI_test.shape"
      ]
    },
    {
      "cell_type": "code",
      "execution_count": null,
      "metadata": {
        "id": "XTOjVGJWjKW1",
        "outputId": "1e0a2093-486a-4f12-b435-a16468d09f6e"
      },
      "outputs": [
        {
          "data": {
            "text/plain": [
              "(0.0, 1.0)"
            ]
          },
          "execution_count": 17,
          "metadata": {},
          "output_type": "execute_result"
        }
      ],
      "source": [
        "np.min(groupI_train), np.max(groupI_train)"
      ]
    },
    {
      "cell_type": "code",
      "execution_count": null,
      "metadata": {
        "id": "liHDX182jKW1",
        "outputId": "0f18297c-8d58-4d0c-e328-0b89b5811837"
      },
      "outputs": [
        {
          "data": {
            "text/plain": [
              "(500000, 7)"
            ]
          },
          "execution_count": 18,
          "metadata": {},
          "output_type": "execute_result"
        }
      ],
      "source": [
        "output_filepath = \"GroupII_1897_tvals.pkl\"\n",
        "\n",
        "with open(output_filepath, 'rb') as f:\n",
        "    groupII_block = pickle.load(f)\n",
        "groupII_block.shape"
      ]
    },
    {
      "cell_type": "code",
      "execution_count": null,
      "metadata": {
        "id": "O80UO3hrjKW1",
        "outputId": "fd6bb7a4-5024-4b14-9bd2-c6623ef118cc"
      },
      "outputs": [
        {
          "data": {
            "text/plain": [
              "((350000, 7), (75000, 7), (75000, 7))"
            ]
          },
          "execution_count": 19,
          "metadata": {},
          "output_type": "execute_result"
        }
      ],
      "source": [
        "groupII_train = groupII_block[0:350000,:]\n",
        "groupII_valid = groupII_block[350000:425000,:]\n",
        "groupII_test = groupII_block[425000:,:]\n",
        "groupII_train.shape,groupII_valid.shape,groupII_test.shape"
      ]
    },
    {
      "cell_type": "code",
      "execution_count": null,
      "metadata": {
        "id": "c7OBoMpnjKW2",
        "outputId": "2e7a740b-ec40-4e6f-bdd2-912b7cb71a6c"
      },
      "outputs": [
        {
          "data": {
            "text/plain": [
              "(0.0, 1.0)"
            ]
          },
          "execution_count": 20,
          "metadata": {},
          "output_type": "execute_result"
        }
      ],
      "source": [
        "np.min(groupII_train), np.max(groupII_train)"
      ]
    },
    {
      "cell_type": "code",
      "execution_count": null,
      "metadata": {
        "id": "5SJhs-bPjKW2",
        "outputId": "65e16d1e-d669-45e5-f93b-6361ec59ab53"
      },
      "outputs": [
        {
          "data": {
            "text/plain": [
              "(500000,)"
            ]
          },
          "execution_count": 21,
          "metadata": {},
          "output_type": "execute_result"
        }
      ],
      "source": [
        "labels_block = np.load('labels_seeded_1897.npy')\n",
        "labels_block.shape"
      ]
    },
    {
      "cell_type": "code",
      "execution_count": null,
      "metadata": {
        "id": "4GgsEfCmjKW2",
        "outputId": "f3eb3881-9a0e-4c0c-a69b-16b2c8de4e4b"
      },
      "outputs": [
        {
          "data": {
            "text/plain": [
              "((350000,), (75000,), (75000,))"
            ]
          },
          "execution_count": 22,
          "metadata": {},
          "output_type": "execute_result"
        }
      ],
      "source": [
        "labels_tr = labels_block[0:350000,]\n",
        "labels_va = labels_block[350000:425000,]\n",
        "labels_te = labels_block[425000:,]\n",
        "labels_tr.shape,labels_va.shape,labels_te.shape"
      ]
    },
    {
      "cell_type": "code",
      "execution_count": null,
      "metadata": {
        "id": "RIOfTmunjKW2",
        "outputId": "d364acdc-f8f5-4416-f7cd-df68c5ea2b49"
      },
      "outputs": [
        {
          "name": "stdout",
          "output_type": "stream",
          "text": [
            "Epoch 1/200\n",
            "5469/5469 [==============================] - 47s 8ms/step - loss: 0.1589 - accuracy: 0.9421 - val_loss: 0.1233 - val_accuracy: 0.9513\n",
            "Epoch 2/200\n",
            "5469/5469 [==============================] - 46s 8ms/step - loss: 0.1176 - accuracy: 0.9556 - val_loss: 0.0990 - val_accuracy: 0.9611\n",
            "Epoch 3/200\n",
            "5469/5469 [==============================] - 45s 8ms/step - loss: 0.1085 - accuracy: 0.9595 - val_loss: 0.1020 - val_accuracy: 0.9644\n",
            "Epoch 4/200\n",
            "5469/5469 [==============================] - 45s 8ms/step - loss: 0.1058 - accuracy: 0.9598 - val_loss: 0.1029 - val_accuracy: 0.9650\n",
            "Epoch 5/200\n",
            "5469/5469 [==============================] - 50s 9ms/step - loss: 0.1026 - accuracy: 0.9617 - val_loss: 0.0899 - val_accuracy: 0.9665\n",
            "Epoch 6/200\n",
            "5469/5469 [==============================] - 45s 8ms/step - loss: 0.0961 - accuracy: 0.9647 - val_loss: 0.0907 - val_accuracy: 0.9681\n",
            "Epoch 7/200\n",
            "5469/5469 [==============================] - 45s 8ms/step - loss: 0.0870 - accuracy: 0.9680 - val_loss: 0.0970 - val_accuracy: 0.9627\n",
            "Epoch 8/200\n",
            "5469/5469 [==============================] - 48s 9ms/step - loss: 0.0782 - accuracy: 0.9708 - val_loss: 0.0744 - val_accuracy: 0.9722\n",
            "Epoch 9/200\n",
            "5469/5469 [==============================] - 45s 8ms/step - loss: 0.0763 - accuracy: 0.9716 - val_loss: 0.0723 - val_accuracy: 0.9725\n",
            "Epoch 10/200\n",
            "5469/5469 [==============================] - 48s 9ms/step - loss: 0.0742 - accuracy: 0.9723 - val_loss: 0.0775 - val_accuracy: 0.9682\n",
            "Epoch 11/200\n",
            "5469/5469 [==============================] - 44s 8ms/step - loss: 0.0713 - accuracy: 0.9732 - val_loss: 0.0655 - val_accuracy: 0.9764\n",
            "Epoch 12/200\n",
            "5469/5469 [==============================] - 46s 8ms/step - loss: 0.0697 - accuracy: 0.9741 - val_loss: 0.0674 - val_accuracy: 0.9759\n",
            "Epoch 13/200\n",
            "5469/5469 [==============================] - 47s 9ms/step - loss: 0.0705 - accuracy: 0.9738 - val_loss: 0.0684 - val_accuracy: 0.9734\n",
            "Epoch 14/200\n",
            "5469/5469 [==============================] - 46s 8ms/step - loss: 0.0708 - accuracy: 0.9742 - val_loss: 0.0671 - val_accuracy: 0.9746\n",
            "Epoch 15/200\n",
            "5469/5469 [==============================] - 49s 9ms/step - loss: 0.0684 - accuracy: 0.9750 - val_loss: 0.0641 - val_accuracy: 0.9755\n",
            "Epoch 16/200\n",
            "5469/5469 [==============================] - 45s 8ms/step - loss: 0.0657 - accuracy: 0.9756 - val_loss: 0.0634 - val_accuracy: 0.9764\n"
          ]
        }
      ],
      "source": [
        "#for en_mod_s\n",
        "EPOCHS = 200\n",
        "batchSize = 64\n",
        "early_stopping = tf.keras.callbacks.EarlyStopping(monitor='val_accuracy', patience=5, restore_best_weights=True)\n",
        "history = en_mod_II.fit(\n",
        "    x=[groupI_train,groupII_train],\n",
        "    y=labels_tr,\n",
        "    batch_size=batchSize,\n",
        "    epochs=EPOCHS,\n",
        "    validation_data=([groupI_valid,groupII_valid], labels_va),\n",
        "    callbacks=[early_stopping],\n",
        "    verbose=1\n",
        ")"
      ]
    },
    {
      "cell_type": "code",
      "execution_count": null,
      "metadata": {
        "id": "IwBrGNKojKW3"
      },
      "outputs": [],
      "source": []
    }
  ],
  "metadata": {
    "colab": {
      "provenance": []
    },
    "kernelspec": {
      "display_name": "Python 3 (ipykernel)",
      "language": "python",
      "name": "python3"
    },
    "language_info": {
      "codemirror_mode": {
        "name": "ipython",
        "version": 3
      },
      "file_extension": ".py",
      "mimetype": "text/x-python",
      "name": "python",
      "nbconvert_exporter": "python",
      "pygments_lexer": "ipython3",
      "version": "3.9.13"
    }
  },
  "nbformat": 4,
  "nbformat_minor": 0
}