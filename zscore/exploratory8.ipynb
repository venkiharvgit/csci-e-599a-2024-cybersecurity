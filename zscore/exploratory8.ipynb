{
  "nbformat": 4,
  "nbformat_minor": 0,
  "metadata": {
    "colab": {
      "provenance": [],
      "include_colab_link": true
    },
    "kernelspec": {
      "name": "python3",
      "display_name": "Python 3"
    },
    "language_info": {
      "name": "python"
    }
  },
  "cells": [
    {
      "cell_type": "markdown",
      "metadata": {
        "id": "view-in-github",
        "colab_type": "text"
      },
      "source": [
        "<a href=\"https://colab.research.google.com/github/venkiharvgit/csci-e-599a-2024-cybersecurity/blob/main/zscore/exploratory8.ipynb\" target=\"_parent\"><img src=\"https://colab.research.google.com/assets/colab-badge.svg\" alt=\"Open In Colab\"/></a>"
      ]
    },
    {
      "cell_type": "code",
      "execution_count": null,
      "metadata": {
        "id": "Ili9ZX4iKWhK"
      },
      "outputs": [],
      "source": [
        "import os\n",
        "import pandas as pd\n",
        "import numpy as np\n",
        "import random\n",
        "\n",
        "import seaborn as sns\n",
        "import matplotlib.pyplot as plt\n",
        "\n",
        "from matplotlib import pyplot as plt\n",
        "\n",
        "from sklearn.decomposition import PCA\n",
        "from sklearn.preprocessing import StandardScaler\n",
        "\n",
        "\n",
        "import dask.dataframe as dd\n",
        "import socket\n",
        "import struct\n",
        "import random\n",
        "import pandas as pd\n",
        "import pyarrow as pa\n",
        "import pyarrow.parquet as pq\n",
        "import pickle\n",
        "from scipy.stats import normaltest"
      ]
    },
    {
      "cell_type": "code",
      "source": [
        "from google.colab import drive\n",
        "drive.mount('/content/gdrive')"
      ],
      "metadata": {
        "colab": {
          "base_uri": "https://localhost:8080/"
        },
        "id": "YzIAABpUKidz",
        "outputId": "796acec0-1cfa-40f4-fefa-fd828bdba0e8"
      },
      "execution_count": null,
      "outputs": [
        {
          "output_type": "stream",
          "name": "stdout",
          "text": [
            "Mounted at /content/gdrive\n"
          ]
        }
      ]
    },
    {
      "cell_type": "code",
      "source": [
        "import os\n",
        "zepa = '/content/gdrive/MyDrive/NF_ToN_IoT_v2_full170chunks'\n",
        "os.chdir(zepa)\n",
        "parquet_files = [filename for filename in os.listdir(zepa) if filename.endswith('.parquet')]\n",
        "parquet_files = parquet_files[:-1]\n",
        "print(parquet_files)\n",
        "print(len(parquet_files))"
      ],
      "metadata": {
        "colab": {
          "base_uri": "https://localhost:8080/"
        },
        "id": "THQ5qh1TKppt",
        "outputId": "2f117fef-1540-4ae3-c974-f77eb4956b7a"
      },
      "execution_count": null,
      "outputs": [
        {
          "output_type": "stream",
          "name": "stdout",
          "text": [
            "['NF-ToN-IoT-v2_CH_0.parquet', 'NF-ToN-IoT-v2_CH_1.parquet', 'NF-ToN-IoT-v2_CH_2.parquet', 'NF-ToN-IoT-v2_CH_3.parquet', 'NF-ToN-IoT-v2_CH_4.parquet', 'NF-ToN-IoT-v2_CH_5.parquet', 'NF-ToN-IoT-v2_CH_6.parquet', 'NF-ToN-IoT-v2_CH_7.parquet', 'NF-ToN-IoT-v2_CH_8.parquet', 'NF-ToN-IoT-v2_CH_9.parquet', 'NF-ToN-IoT-v2_CH_10.parquet', 'NF-ToN-IoT-v2_CH_11.parquet', 'NF-ToN-IoT-v2_CH_12.parquet', 'NF-ToN-IoT-v2_CH_13.parquet', 'NF-ToN-IoT-v2_CH_14.parquet', 'NF-ToN-IoT-v2_CH_15.parquet', 'NF-ToN-IoT-v2_CH_16.parquet', 'NF-ToN-IoT-v2_CH_17.parquet', 'NF-ToN-IoT-v2_CH_18.parquet', 'NF-ToN-IoT-v2_CH_19.parquet', 'NF-ToN-IoT-v2_CH_20.parquet', 'NF-ToN-IoT-v2_CH_21.parquet', 'NF-ToN-IoT-v2_CH_22.parquet', 'NF-ToN-IoT-v2_CH_23.parquet', 'NF-ToN-IoT-v2_CH_24.parquet', 'NF-ToN-IoT-v2_CH_25.parquet', 'NF-ToN-IoT-v2_CH_26.parquet', 'NF-ToN-IoT-v2_CH_27.parquet', 'NF-ToN-IoT-v2_CH_28.parquet', 'NF-ToN-IoT-v2_CH_29.parquet', 'NF-ToN-IoT-v2_CH_30.parquet', 'NF-ToN-IoT-v2_CH_31.parquet', 'NF-ToN-IoT-v2_CH_32.parquet', 'NF-ToN-IoT-v2_CH_33.parquet', 'NF-ToN-IoT-v2_CH_34.parquet', 'NF-ToN-IoT-v2_CH_35.parquet', 'NF-ToN-IoT-v2_CH_36.parquet', 'NF-ToN-IoT-v2_CH_37.parquet', 'NF-ToN-IoT-v2_CH_38.parquet', 'NF-ToN-IoT-v2_CH_39.parquet', 'NF-ToN-IoT-v2_CH_40.parquet', 'NF-ToN-IoT-v2_CH_41.parquet', 'NF-ToN-IoT-v2_CH_42.parquet', 'NF-ToN-IoT-v2_CH_43.parquet', 'NF-ToN-IoT-v2_CH_44.parquet', 'NF-ToN-IoT-v2_CH_45.parquet', 'NF-ToN-IoT-v2_CH_46.parquet', 'NF-ToN-IoT-v2_CH_47.parquet', 'NF-ToN-IoT-v2_CH_48.parquet', 'NF-ToN-IoT-v2_CH_49.parquet', 'NF-ToN-IoT-v2_CH_50.parquet', 'NF-ToN-IoT-v2_CH_51.parquet', 'NF-ToN-IoT-v2_CH_52.parquet', 'NF-ToN-IoT-v2_CH_53.parquet', 'NF-ToN-IoT-v2_CH_54.parquet', 'NF-ToN-IoT-v2_CH_55.parquet', 'NF-ToN-IoT-v2_CH_56.parquet', 'NF-ToN-IoT-v2_CH_57.parquet', 'NF-ToN-IoT-v2_CH_58.parquet', 'NF-ToN-IoT-v2_CH_59.parquet', 'NF-ToN-IoT-v2_CH_60.parquet', 'NF-ToN-IoT-v2_CH_61.parquet', 'NF-ToN-IoT-v2_CH_62.parquet', 'NF-ToN-IoT-v2_CH_63.parquet', 'NF-ToN-IoT-v2_CH_64.parquet', 'NF-ToN-IoT-v2_CH_65.parquet', 'NF-ToN-IoT-v2_CH_66.parquet', 'NF-ToN-IoT-v2_CH_67.parquet', 'NF-ToN-IoT-v2_CH_68.parquet', 'NF-ToN-IoT-v2_CH_69.parquet', 'NF-ToN-IoT-v2_CH_70.parquet', 'NF-ToN-IoT-v2_CH_71.parquet', 'NF-ToN-IoT-v2_CH_72.parquet', 'NF-ToN-IoT-v2_CH_73.parquet', 'NF-ToN-IoT-v2_CH_74.parquet', 'NF-ToN-IoT-v2_CH_75.parquet', 'NF-ToN-IoT-v2_CH_76.parquet', 'NF-ToN-IoT-v2_CH_77.parquet', 'NF-ToN-IoT-v2_CH_78.parquet', 'NF-ToN-IoT-v2_CH_79.parquet', 'NF-ToN-IoT-v2_CH_80.parquet', 'NF-ToN-IoT-v2_CH_81.parquet', 'NF-ToN-IoT-v2_CH_82.parquet', 'NF-ToN-IoT-v2_CH_83.parquet', 'NF-ToN-IoT-v2_CH_84.parquet', 'NF-ToN-IoT-v2_CH_85.parquet', 'NF-ToN-IoT-v2_CH_86.parquet', 'NF-ToN-IoT-v2_CH_87.parquet', 'NF-ToN-IoT-v2_CH_88.parquet', 'NF-ToN-IoT-v2_CH_89.parquet', 'NF-ToN-IoT-v2_CH_90.parquet', 'NF-ToN-IoT-v2_CH_91.parquet', 'NF-ToN-IoT-v2_CH_92.parquet', 'NF-ToN-IoT-v2_CH_93.parquet', 'NF-ToN-IoT-v2_CH_94.parquet', 'NF-ToN-IoT-v2_CH_95.parquet', 'NF-ToN-IoT-v2_CH_96.parquet', 'NF-ToN-IoT-v2_CH_97.parquet', 'NF-ToN-IoT-v2_CH_98.parquet', 'NF-ToN-IoT-v2_CH_99.parquet', 'NF-ToN-IoT-v2_CH_100.parquet', 'NF-ToN-IoT-v2_CH_101.parquet', 'NF-ToN-IoT-v2_CH_102.parquet', 'NF-ToN-IoT-v2_CH_103.parquet', 'NF-ToN-IoT-v2_CH_104.parquet', 'NF-ToN-IoT-v2_CH_105.parquet', 'NF-ToN-IoT-v2_CH_106.parquet', 'NF-ToN-IoT-v2_CH_107.parquet', 'NF-ToN-IoT-v2_CH_108.parquet', 'NF-ToN-IoT-v2_CH_109.parquet', 'NF-ToN-IoT-v2_CH_110.parquet', 'NF-ToN-IoT-v2_CH_111.parquet', 'NF-ToN-IoT-v2_CH_112.parquet', 'NF-ToN-IoT-v2_CH_113.parquet', 'NF-ToN-IoT-v2_CH_114.parquet', 'NF-ToN-IoT-v2_CH_115.parquet', 'NF-ToN-IoT-v2_CH_116.parquet', 'NF-ToN-IoT-v2_CH_117.parquet', 'NF-ToN-IoT-v2_CH_118.parquet', 'NF-ToN-IoT-v2_CH_119.parquet', 'NF-ToN-IoT-v2_CH_120.parquet', 'NF-ToN-IoT-v2_CH_121.parquet', 'NF-ToN-IoT-v2_CH_122.parquet', 'NF-ToN-IoT-v2_CH_123.parquet', 'NF-ToN-IoT-v2_CH_124.parquet', 'NF-ToN-IoT-v2_CH_125.parquet', 'NF-ToN-IoT-v2_CH_126.parquet', 'NF-ToN-IoT-v2_CH_127.parquet', 'NF-ToN-IoT-v2_CH_128.parquet', 'NF-ToN-IoT-v2_CH_129.parquet', 'NF-ToN-IoT-v2_CH_130.parquet', 'NF-ToN-IoT-v2_CH_131.parquet', 'NF-ToN-IoT-v2_CH_132.parquet', 'NF-ToN-IoT-v2_CH_133.parquet', 'NF-ToN-IoT-v2_CH_134.parquet', 'NF-ToN-IoT-v2_CH_135.parquet', 'NF-ToN-IoT-v2_CH_136.parquet', 'NF-ToN-IoT-v2_CH_137.parquet', 'NF-ToN-IoT-v2_CH_138.parquet', 'NF-ToN-IoT-v2_CH_139.parquet', 'NF-ToN-IoT-v2_CH_140.parquet', 'NF-ToN-IoT-v2_CH_141.parquet', 'NF-ToN-IoT-v2_CH_142.parquet', 'NF-ToN-IoT-v2_CH_143.parquet', 'NF-ToN-IoT-v2_CH_144.parquet', 'NF-ToN-IoT-v2_CH_145.parquet', 'NF-ToN-IoT-v2_CH_146.parquet', 'NF-ToN-IoT-v2_CH_147.parquet', 'NF-ToN-IoT-v2_CH_148.parquet', 'NF-ToN-IoT-v2_CH_149.parquet', 'NF-ToN-IoT-v2_CH_150.parquet', 'NF-ToN-IoT-v2_CH_151.parquet', 'NF-ToN-IoT-v2_CH_152.parquet', 'NF-ToN-IoT-v2_CH_153.parquet', 'NF-ToN-IoT-v2_CH_154.parquet', 'NF-ToN-IoT-v2_CH_155.parquet', 'NF-ToN-IoT-v2_CH_156.parquet', 'NF-ToN-IoT-v2_CH_157.parquet', 'NF-ToN-IoT-v2_CH_158.parquet', 'NF-ToN-IoT-v2_CH_159.parquet', 'NF-ToN-IoT-v2_CH_160.parquet', 'NF-ToN-IoT-v2_CH_161.parquet', 'NF-ToN-IoT-v2_CH_162.parquet', 'NF-ToN-IoT-v2_CH_163.parquet', 'NF-ToN-IoT-v2_CH_164.parquet', 'NF-ToN-IoT-v2_CH_165.parquet', 'NF-ToN-IoT-v2_CH_166.parquet', 'NF-ToN-IoT-v2_CH_167.parquet', 'NF-ToN-IoT-v2_CH_168.parquet', 'NF-ToN-IoT-v2_CH_169.parquet']\n",
            "170\n"
          ]
        }
      ]
    },
    {
      "cell_type": "code",
      "source": [],
      "metadata": {
        "id": "I14q5TEu87fN"
      },
      "execution_count": null,
      "outputs": []
    },
    {
      "cell_type": "code",
      "source": [
        "p_file0 = parquet_files[0:43]\n",
        "p_file1 = parquet_files[43:85]\n",
        "p_file2 = parquet_files[85:127]\n",
        "p_file3 = parquet_files[127:]"
      ],
      "metadata": {
        "id": "74C839teffqU"
      },
      "execution_count": null,
      "outputs": []
    },
    {
      "cell_type": "code",
      "source": [
        "import os\n",
        "import pandas as pd\n",
        "from scipy.stats import moment, normaltest\n",
        "def query_gaussian_dist(directory,p):\n",
        "    column_stats = {}\n",
        "    alpha = 0.05\n",
        "    non_gaussian_columns = []\n",
        "\n",
        "    combined_df = pd.DataFrame()\n",
        "\n",
        "    for filename in os.listdir(directory):\n",
        "        if filename.endswith(\".parquet\"):\n",
        "            filepath = os.path.join(directory, filename)\n",
        "            file_chunks = pd.read_parquet(filepath, engine='pyarrow')\n",
        "            excluded_columns = list(range(4)) + [21, 22] + list(range(len(file_chunks.columns)-2, len(file_chunks.columns)))\n",
        "            file_chunks = file_chunks.drop(file_chunks.columns[excluded_columns], axis=1)\n",
        "            file_chunks = pd.DataFrame(file_chunks.iloc[:,p])\n",
        "            combined_df = pd.concat([combined_df, file_chunks])\n",
        "            #print(combined_df.columns)\n",
        "\n",
        "    # skewness and kurtosis for each column\n",
        "    for column in combined_df.columns:\n",
        "        #print(column)\n",
        "        skewness = combined_df[column].skew()\n",
        "        kurtosis = combined_df[column].kurtosis()\n",
        "        _, p_value = normaltest(combined_df[column].dropna())\n",
        "        if p_value < alpha:\n",
        "            non_gaussian_columns.append(column)\n",
        "\n",
        "\n",
        "        column_stats[column] = (skewness, kurtosis)\n",
        "\n",
        "    return column_stats, non_gaussian_columns\n",
        "\n",
        "\n",
        "directory = '/content/gdrive/MyDrive/NF_ToN_IoT_v2_full170chunks'\n",
        "\n",
        "column_stats, non_gaussian_columns = query_gaussian_dist(directory,36)\n",
        "print(\"Column Statistics:\")\n",
        "for column, stats in column_stats.items():\n",
        "    print(f\"Column: {column}, Skewness: {stats[0]}, Kurtosis: {stats[1]}\")\n",
        "\n",
        "print(\"\\nNon-Gaussian Columns:\")\n",
        "print(non_gaussian_columns)\n"
      ],
      "metadata": {
        "id": "eiu9nYTaSXqL",
        "colab": {
          "base_uri": "https://localhost:8080/"
        },
        "outputId": "5f168aac-eea6-4c0f-feec-d2a8e81a07e0"
      },
      "execution_count": null,
      "outputs": [
        {
          "output_type": "stream",
          "name": "stdout",
          "text": [
            "Column Statistics:\n",
            "Column: FTP_COMMAND_RET_CODE, Skewness: 16.696083863027678, Kurtosis: 286.9224481177695\n",
            "\n",
            "Non-Gaussian Columns:\n",
            "['FTP_COMMAND_RET_CODE']\n"
          ]
        }
      ]
    },
    {
      "cell_type": "code",
      "source": [
        "summary_skew_kurt_ton_iot = [('PROTOCOL', 1.9149675775567443, 2.4348968886245093),('L7_PROTO',2.4422737316052014,5.385377723612189),('IN_BYTES', 2091.8913538151223, 5118394.058062917),\n",
        " ('IN_PKTS', 642.7976923252733, 533454.5635688438),('OUT_BYTES', 1222.199576053088, 1899723.9914904784),('OUT_PKTS', 1083.502912398086, 1674982.96152919),\n",
        "  ('TCP_FLAGS', 0.08325172054954655, 0.34833533068371647),('CLIENT_TCP_FLAGS', 0.6424937660793497, 0.7722191278446333),\n",
        "   ('SERVER_TCP_FLAGS', 0.11276407172414298, -1.6665525916828658),('FLOW_DURATION_MILLISECONDS', 1.4428585264868103, 0.08184077049382577),('DURATION_IN', 146.57791300212475, 88185.46845143681),\n",
        "    ('DURATION_OUT', 126.63618867925186, 82679.0905358097),('MIN_TTL', 1.2094821161897436, 3.2872734835853814),('MAX_TTL', 1.2096179289505287, 3.2897180791449143),\n",
        "     ('LONGEST_FLOW_PKT', 3.3969290140540127, 154.19814400038388),('SHORTEST_FLOW_PKT', 23.87775846533571, 1477.3412350304363),('MIN_IP_PKT_LEN', -0.3686019166542454, -1.2954170336284376),\n",
        "      ('DST_TO_SRC_SECOND_BYTES(ind:17)',-100000,-10000),('RETRANSMITTED_IN_BYTES', 2463.2716008429493, 7794197.748609887),('RETRANSMITTED_IN_PKTS', 2637.4901658344584, 8498724.014372697),\n",
        "       ('RETRANSMITTED_OUT_BYTES', 1233.3835243655456, 1800219.9660851352),('RETRANSMITTED_OUT_PKTS', 818.5462122045028, 1008515.1215262567),\n",
        "        ('SRC_TO_DST_AVG_THROUGHPUT', 68.33597042608628, 13059.261583829073),('DST_TO_SRC_AVG_THROUGHPUT', 103.18136989100815, 20110.642829146895),\n",
        "         ('NUM_PKTS_UP_TO_128_BYTES', 56.93122339293338, 3664.5301413489133),('NUM_PKTS_128_TO_256_BYTES', 1107.3207460975814, 2394715.6127968836),\n",
        "          ('NUM_PKTS_256_TO_512_BYTES', 1149.337168536942, 2404756.3008631757),('NUM_PKTS_512_TO_1024_BYTES', 797.9482456398467, 862248.0787584367),\n",
        "           ('NUM_PKTS_1024_TO_1514_BYTES', 1751.4536650388557, 3584483.1916949023),('TCP_WIN_MAX_IN', 0.618254622683918,  -1.1299603235670617),\n",
        "            ('TCP_WIN_MAX_OUT', 1.5466721641684853, 1.5840030752914718),('ICMP_TYPE', 10.630510278429774, 120.19381403972858),('ICMP_IPV4_TYPE', 10.630510548381356, 120.19381651883388),\n",
        "             ('DNS_QUERY_ID', 2.8131873782306354, 6.806962904875929),('DNS_QUERY_TYPE', 14.401488622804306, 400.98125237392617),('DNS_TTL_ANSWER', 16.278607796894338, 326.3073399035701),\n",
        "              ('FTP_COMMAND_RET_CODE', 16.696083863027678, 286.9224481177695)]\n",
        "\n",
        "\n"
      ],
      "metadata": {
        "id": "P9tDlC_SatNJ"
      },
      "execution_count": null,
      "outputs": []
    },
    {
      "cell_type": "code",
      "source": [
        "'''import pickle\n",
        "output_filepath = zepa + \"/skew_kurt_ton_iot.pkl\"\n",
        "with open(output_filepath, 'wb') as f:\n",
        "    pickle.dump(summary_skew_kurt_ton_iot, f)'''"
      ],
      "metadata": {
        "id": "sIy7redrq4pG"
      },
      "execution_count": null,
      "outputs": []
    },
    {
      "cell_type": "code",
      "source": [
        "import os\n",
        "import pandas as pd\n",
        "import numpy as np\n",
        "\n",
        "def give_column(directory, p, chunk_size=10000):\n",
        "    column_data = []\n",
        "\n",
        "    for filename in os.listdir(directory):\n",
        "        filepath = os.path.join(directory, filename)\n",
        "        reader = pd.read_parquet(filepath, engine='pyarrow')\n",
        "        for chunk in np.array_split(reader, len(reader) // chunk_size + 1):\n",
        "            excluded_columns = list(range(4)) + [21, 22] + list(range(len(chunk.columns)-2, len(chunk.columns)))\n",
        "            chunk = chunk.drop(chunk.columns[excluded_columns], axis=1)\n",
        "            chunk = chunk.iloc[:, p].tolist()\n",
        "            column_data.extend(chunk)\n",
        "\n",
        "    return np.array(column_data)\n",
        "\n",
        "\n",
        "\n",
        "\n",
        "directory = '/content/gdrive/MyDrive/NF_ToN_IoT_v2_full170chunks'\n",
        "\n",
        "the_column = give_column(directory,0)"
      ],
      "metadata": {
        "id": "-1R9TgZ9bYmg"
      },
      "execution_count": null,
      "outputs": []
    },
    {
      "cell_type": "code",
      "source": [
        "directory = '/content/gdrive/MyDrive/NF_ToN_IoT_v2_full170chunks'\n",
        "varta = [4,  5,  6,  7,  8,  9, 10, 11, 12, 13, 14, 15, 16, 17, 18, 19, 20, 23, 24, 25, 26, 27, 28, 29, 30, 31,\n",
        "         32, 33, 34, 35, 36, 37, 38, 39, 40, 41, 42]\n",
        "daList = ['IPV4_SRC_ADDR', 'L4_SRC_PORT', 'IPV4_DST_ADDR', 'L4_DST_PORT','PROTOCOL', 'L7_PROTO', 'IN_BYTES', 'IN_PKTS', 'OUT_BYTES', 'OUT_PKTS','TCP_FLAGS',\n",
        "          'CLIENT_TCP_FLAGS', 'SERVER_TCP_FLAGS','FLOW_DURATION_MILLISECONDS', 'DURATION_IN', 'DURATION_OUT', 'MIN_TTL','MAX_TTL', 'LONGEST_FLOW_PKT', 'SHORTEST_FLOW_PKT',\n",
        "          'MIN_IP_PKT_LEN','MAX_IP_PKT_LEN', 'SRC_TO_DST_SECOND_BYTES', 'DST_TO_SRC_SECOND_BYTES','RETRANSMITTED_IN_BYTES', 'RETRANSMITTED_IN_PKTS','RETRANSMITTED_OUT_BYTES',\n",
        "          'RETRANSMITTED_OUT_PKTS','SRC_TO_DST_AVG_THROUGHPUT', 'DST_TO_SRC_AVG_THROUGHPUT','NUM_PKTS_UP_TO_128_BYTES', 'NUM_PKTS_128_TO_256_BYTES','NUM_PKTS_256_TO_512_BYTES',\n",
        "          'NUM_PKTS_512_TO_1024_BYTES','NUM_PKTS_1024_TO_1514_BYTES', 'TCP_WIN_MAX_IN', 'TCP_WIN_MAX_OUT','ICMP_TYPE', 'ICMP_IPV4_TYPE', 'DNS_QUERY_ID', 'DNS_QUERY_TYPE',\n",
        "          'DNS_TTL_ANSWER', 'FTP_COMMAND_RET_CODE', 'Label', 'Attack']"
      ],
      "metadata": {
        "id": "BXebexQnDgoO"
      },
      "execution_count": null,
      "outputs": []
    },
    {
      "cell_type": "code",
      "source": [
        "import os\n",
        "import pandas as pd\n",
        "import numpy as np\n",
        "\n",
        "setter = \"\"\n",
        "\n",
        "def give_column(directory, p):\n",
        "    column_data = []\n",
        "    z = 0\n",
        "\n",
        "    for filename in setter:\n",
        "        filepath = os.path.join(directory, filename)\n",
        "        df = pd.read_parquet(filepath, engine='pyarrow')\n",
        "        df = df.iloc[:,p].tolist()\n",
        "        column_data = column_data + df\n",
        "        z+=1\n",
        "\n",
        "\n",
        "    return np.array(column_data)\n",
        "\n",
        "\n",
        "\n",
        "directory = '/content/gdrive/MyDrive/NF_ToN_IoT_v2_full170chunks'\n",
        "varta = [4,  5,  6,  7,  8,  9, 10, 11, 12, 13, 14, 15, 16, 17, 18, 19, 20, 23, 24, 25, 26, 27, 28, 29, 30, 31,\n",
        "         32, 33, 34, 35, 36, 37, 38, 39, 40, 41, 42]\n",
        "daList = ['IPV4_SRC_ADDR', 'L4_SRC_PORT', 'IPV4_DST_ADDR', 'L4_DST_PORT','PROTOCOL', 'L7_PROTO', 'IN_BYTES', 'IN_PKTS', 'OUT_BYTES', 'OUT_PKTS','TCP_FLAGS',\n",
        "          'CLIENT_TCP_FLAGS', 'SERVER_TCP_FLAGS','FLOW_DURATION_MILLISECONDS', 'DURATION_IN', 'DURATION_OUT', 'MIN_TTL','MAX_TTL', 'LONGEST_FLOW_PKT', 'SHORTEST_FLOW_PKT',\n",
        "          'MIN_IP_PKT_LEN','MAX_IP_PKT_LEN', 'SRC_TO_DST_SECOND_BYTES', 'DST_TO_SRC_SECOND_BYTES','RETRANSMITTED_IN_BYTES', 'RETRANSMITTED_IN_PKTS','RETRANSMITTED_OUT_BYTES',\n",
        "          'RETRANSMITTED_OUT_PKTS','SRC_TO_DST_AVG_THROUGHPUT', 'DST_TO_SRC_AVG_THROUGHPUT','NUM_PKTS_UP_TO_128_BYTES', 'NUM_PKTS_128_TO_256_BYTES','NUM_PKTS_256_TO_512_BYTES',\n",
        "          'NUM_PKTS_512_TO_1024_BYTES','NUM_PKTS_1024_TO_1514_BYTES', 'TCP_WIN_MAX_IN', 'TCP_WIN_MAX_OUT','ICMP_TYPE', 'ICMP_IPV4_TYPE', 'DNS_QUERY_ID', 'DNS_QUERY_TYPE',\n",
        "          'DNS_TTL_ANSWER', 'FTP_COMMAND_RET_CODE', 'Label', 'Attack']\n",
        "\n",
        "for p in range(len(varta)):\n",
        "\n",
        "  dis_one = 0\n",
        "  setter = p_file0\n",
        "  the_column0 = give_column(directory,varta[dis_one])\n",
        "  setter = p_file1\n",
        "  the_column1 = give_column(directory,varta[dis_one])\n",
        "  setter = p_file2\n",
        "  the_column2 = give_column(directory,varta[dis_one])\n",
        "  setter = p_file3\n",
        "  the_column3 = give_column(directory,varta[dis_one])\n",
        "\n",
        "  col_namer = daList[varta[dis_one]]\n",
        "  ella = np.concatenate(( np.array(the_column0),np.array(the_column1),np.array(the_column2), the_column3),axis = 0)\n",
        "  the_column0 = []\n",
        "  the_column1 = []\n",
        "  the_column2 = []\n",
        "  the_column3 = []\n",
        "  file_name = \"/ton_iot_\" + col_namer + \"_orig.pkl\"\n",
        "\n",
        "  output_filepath = zepa + file_name\n",
        "  with open(output_filepath, 'wb') as f:\n",
        "      pickle.dump(ella, f)\n",
        "\n",
        "  print(col_namer,p)"
      ],
      "metadata": {
        "colab": {
          "base_uri": "https://localhost:8080/"
        },
        "id": "o7eX7oRzc8UE",
        "outputId": "78328864-6987-4ce8-b225-4362c344b513"
      },
      "execution_count": null,
      "outputs": [
        {
          "output_type": "stream",
          "name": "stdout",
          "text": [
            "PROTOCOL 0\n",
            "L7_PROTO 1\n",
            "IN_BYTES 2\n",
            "IN_PKTS 3\n",
            "OUT_BYTES 4\n",
            "OUT_PKTS 5\n",
            "TCP_FLAGS 6\n",
            "CLIENT_TCP_FLAGS 7\n",
            "SERVER_TCP_FLAGS 8\n",
            "FLOW_DURATION_MILLISECONDS 9\n",
            "DURATION_IN 10\n",
            "DURATION_OUT 11\n",
            "MIN_TTL 12\n",
            "MAX_TTL 13\n",
            "LONGEST_FLOW_PKT 14\n",
            "SHORTEST_FLOW_PKT 15\n",
            "MIN_IP_PKT_LEN 16\n",
            "DST_TO_SRC_SECOND_BYTES 17\n",
            "RETRANSMITTED_IN_BYTES 18\n",
            "RETRANSMITTED_IN_PKTS 19\n",
            "RETRANSMITTED_OUT_BYTES 20\n",
            "RETRANSMITTED_OUT_PKTS 21\n",
            "SRC_TO_DST_AVG_THROUGHPUT 22\n",
            "DST_TO_SRC_AVG_THROUGHPUT 23\n",
            "NUM_PKTS_UP_TO_128_BYTES 24\n",
            "NUM_PKTS_128_TO_256_BYTES 25\n",
            "NUM_PKTS_256_TO_512_BYTES 26\n",
            "NUM_PKTS_512_TO_1024_BYTES 27\n",
            "NUM_PKTS_1024_TO_1514_BYTES 28\n",
            "TCP_WIN_MAX_IN 29\n",
            "TCP_WIN_MAX_OUT 30\n",
            "ICMP_TYPE 31\n",
            "ICMP_IPV4_TYPE 32\n",
            "DNS_QUERY_ID 33\n",
            "DNS_QUERY_TYPE 34\n",
            "DNS_TTL_ANSWER 35\n",
            "FTP_COMMAND_RET_CODE 36\n"
          ]
        }
      ]
    },
    {
      "cell_type": "code",
      "source": [
        "import pickle\n",
        "import numpy as np\n",
        "directory = '/content/gdrive/MyDrive/NF_ToN_IoT_v2_full170chunks'\n",
        "varta = [4,  5,  6,  7,  8,  9, 10, 11, 12, 13, 14, 15, 16, 17, 18, 19, 20, 23, 24, 25, 26, 27, 28, 29, 30, 31,\n",
        "         32, 33, 34, 35, 36, 37, 38, 39, 40, 41, 42]\n",
        "daList = ['IPV4_SRC_ADDR', 'L4_SRC_PORT', 'IPV4_DST_ADDR', 'L4_DST_PORT','PROTOCOL', 'L7_PROTO', 'IN_BYTES', 'IN_PKTS', 'OUT_BYTES', 'OUT_PKTS','TCP_FLAGS',\n",
        "          'CLIENT_TCP_FLAGS', 'SERVER_TCP_FLAGS','FLOW_DURATION_MILLISECONDS', 'DURATION_IN', 'DURATION_OUT', 'MIN_TTL','MAX_TTL', 'LONGEST_FLOW_PKT', 'SHORTEST_FLOW_PKT',\n",
        "          'MIN_IP_PKT_LEN','MAX_IP_PKT_LEN', 'SRC_TO_DST_SECOND_BYTES', 'DST_TO_SRC_SECOND_BYTES','RETRANSMITTED_IN_BYTES', 'RETRANSMITTED_IN_PKTS','RETRANSMITTED_OUT_BYTES',\n",
        "          'RETRANSMITTED_OUT_PKTS','SRC_TO_DST_AVG_THROUGHPUT', 'DST_TO_SRC_AVG_THROUGHPUT','NUM_PKTS_UP_TO_128_BYTES', 'NUM_PKTS_128_TO_256_BYTES','NUM_PKTS_256_TO_512_BYTES',\n",
        "          'NUM_PKTS_512_TO_1024_BYTES','NUM_PKTS_1024_TO_1514_BYTES', 'TCP_WIN_MAX_IN', 'TCP_WIN_MAX_OUT','ICMP_TYPE', 'ICMP_IPV4_TYPE', 'DNS_QUERY_ID', 'DNS_QUERY_TYPE',\n",
        "          'DNS_TTL_ANSWER', 'FTP_COMMAND_RET_CODE', 'Label', 'Attack']"
      ],
      "metadata": {
        "id": "tRf6pq1IChO8"
      },
      "execution_count": null,
      "outputs": []
    },
    {
      "cell_type": "code",
      "source": [
        "col_namer = daList[varta[1]]\n",
        "file_name = \"/ton_iot_\" + col_namer + \"_orig.pkl\"\n",
        "\n",
        "output_filepath = zepa + file_name\n",
        "with open(output_filepath, 'rb') as f:\n",
        "    working_column = pickle.load(f)\n",
        "\n",
        "print(working_column.shape,col_namer)\n",
        "print(len(np.unique(working_column)), np.min(working_column), np.max(working_column))\n",
        "\n"
      ],
      "metadata": {
        "colab": {
          "base_uri": "https://localhost:8080/"
        },
        "id": "Uuz-ovQxiPO8",
        "outputId": "56d20fa1-07e3-4ea0-edc0-954d8000add3"
      },
      "execution_count": null,
      "outputs": [
        {
          "output_type": "stream",
          "name": "stdout",
          "text": [
            "(16940496,) L7_PROTO\n",
            "213 0.0 248.0\n"
          ]
        }
      ]
    },
    {
      "cell_type": "code",
      "source": [
        "passim = np.array([item for item in working_column if item > 0])"
      ],
      "metadata": {
        "id": "mH5LckHAztlZ"
      },
      "execution_count": null,
      "outputs": []
    },
    {
      "cell_type": "code",
      "source": [
        "passim = np.unique(working_column)\n",
        "passim[0:300]"
      ],
      "metadata": {
        "colab": {
          "base_uri": "https://localhost:8080/"
        },
        "id": "i4EZzrGlz1qC",
        "outputId": "427a5b9d-acb2-418b-dade-8e56c4e283d5"
      },
      "execution_count": null,
      "outputs": [
        {
          "output_type": "execute_result",
          "data": {
            "text/plain": [
              "array([  0.   ,   1.   ,   1.178,   2.   ,   2.178,   3.   ,   3.178,\n",
              "         4.   ,   4.178,   5.   ,   5.119,   5.12 ,   5.124,   5.125,\n",
              "         5.126,   5.14 ,   5.147,   5.169,   5.176,   5.178,   5.203,\n",
              "         5.212,   5.219,   5.22 ,   5.221,   5.233,   5.239,   5.24 ,\n",
              "         5.68 ,   5.7  ,   7.   ,   7.119,   7.125,   7.126,   7.13 ,\n",
              "         7.131,   7.133,   7.14 ,   7.141,   7.147,   7.169,   7.178,\n",
              "         7.212,   7.213,   7.219,   7.22 ,   7.221,   7.225,   7.239,\n",
              "         7.246,   7.68 ,   7.7  ,   9.169,   9.178,  10.   ,  10.178,\n",
              "        11.   ,  11.178,  13.   ,  13.178,  15.   ,  15.178,  17.   ,\n",
              "        17.178,  19.   ,  19.178,  20.   ,  23.   ,  28.   ,  29.   ,\n",
              "        29.178,  37.   ,  37.7  ,  40.   ,  41.   ,  41.178,  42.   ,\n",
              "        43.   ,  44.   ,  44.178,  47.   ,  47.178,  50.   ,  51.   ,\n",
              "        65.   ,  65.178,  77.   ,  77.178,  78.   ,  79.   ,  79.178,\n",
              "        81.119,  81.125,  81.126,  81.169,  81.178,  81.212,  81.219,\n",
              "        81.22 ,  81.221,  85.   ,  85.178,  88.   ,  88.178,  89.   ,\n",
              "        89.178,  89.7  ,  91.   ,  91.119,  91.12 ,  91.124,  91.125,\n",
              "        91.126,  91.14 ,  91.147,  91.169,  91.176,  91.178,  91.212,\n",
              "        91.219,  91.22 ,  91.221,  91.23 ,  91.233,  91.239,  91.24 ,\n",
              "        91.241,  91.29 ,  91.51 ,  91.68 ,  91.7  ,  92.   ,  92.178,\n",
              "        95.   ,  95.178,  97.   ,  97.178, 100.   , 100.178, 111.   ,\n",
              "       111.178, 112.   , 112.178, 114.   , 114.178, 127.   , 127.178,\n",
              "       131.   , 131.178, 131.7  , 132.   , 138.   , 139.   , 139.7  ,\n",
              "       144.   , 146.   , 146.178, 148.   , 150.   , 150.178, 151.   ,\n",
              "       151.178, 153.   , 154.   , 155.   , 155.178, 158.   , 158.178,\n",
              "       159.   , 161.   , 164.   , 164.178, 166.   , 166.178, 167.   ,\n",
              "       167.178, 170.   , 170.126, 170.178, 170.22 , 172.   , 172.178,\n",
              "       174.   , 174.178, 175.   , 175.178, 178.   , 182.   , 184.   ,\n",
              "       190.   , 196.   , 196.178, 204.   , 206.   , 209.   , 213.   ,\n",
              "       213.178, 222.   , 222.178, 222.7  , 226.   , 229.   , 231.   ,\n",
              "       231.178, 237.   , 237.178, 238.   , 238.178, 243.178, 244.   ,\n",
              "       245.   , 245.178, 248.   ])"
            ]
          },
          "metadata": {},
          "execution_count": 7
        }
      ]
    },
    {
      "cell_type": "code",
      "source": [
        "working_column.shape, len(np.unique(working_column)), np.min(working_column), np.max(working_column),np.sum([1 for item in working_column if item ==0])"
      ],
      "metadata": {
        "colab": {
          "base_uri": "https://localhost:8080/"
        },
        "id": "zLAicml2SaD4",
        "outputId": "d7c12770-e86c-4a9d-ff40-6f286a05c735"
      },
      "execution_count": null,
      "outputs": [
        {
          "output_type": "execute_result",
          "data": {
            "text/plain": [
              "((16940496,), 14720, 0, 4294328704, 6713832)"
            ]
          },
          "metadata": {},
          "execution_count": 13
        }
      ]
    },
    {
      "cell_type": "code",
      "source": [
        "from scipy.stats import skew, kurtosis\n",
        "from scipy.stats import boxcox\n",
        "from scipy.stats import yeojohnson\n",
        "\n",
        "\n",
        "\n",
        "def give_sandk(incoming):\n",
        "  return (skew(incoming),kurtosis(incoming))\n",
        "\n",
        "\n"
      ],
      "metadata": {
        "id": "AK95AwbzsLE1"
      },
      "execution_count": null,
      "outputs": []
    },
    {
      "cell_type": "code",
      "source": [
        "import matplotlib.pyplot as plt\n",
        "\n",
        "\n",
        "def plot_hist(the_data,ena):\n",
        "  plt.hist(the_data, bins=70, color='skyblue', edgecolor='black')\n",
        "  plt.xlim(np.min(the_data), np.max(the_data))\n",
        "  print(np.min(the_data), np.max(the_data))\n",
        "\n",
        "\n",
        "  #plt.xlabel('Log Transformed Values')\n",
        "  plt.ylabel('Frequency')\n",
        "  if ena == 1:\n",
        "    plt.title('Histogram of Log Transformed Data. ' + file_name)\n",
        "    plt.xlabel('Log Transformed Values')\n",
        "  elif ena == 2:\n",
        "    plt.title('Histogram of Sqrt Transformed Data. ' + file_name)\n",
        "    plt.xlabel('Sqrt Transformed Values')\n",
        "  elif ena == 3:\n",
        "    plt.title('Histogram of Cubrt Data. ' + file_name)\n",
        "    plt.xlabel('Cubrt Transformed Values')\n",
        "  elif ena ==4:\n",
        "    plt.title('Histogram of Box Cox Data. ' + file_name)\n",
        "    plt.xlabel('Box Cox Transformed Values')\n",
        "  elif ena ==5:\n",
        "    plt.title('Histogram of log(Box Cox Data). ' + file_name)\n",
        "    plt.xlabel('Log Transformed Values')\n",
        "  elif ena == 6:\n",
        "    plt.title('Histogram of sqrt(Box Cox Data). ' + file_name)\n",
        "    plt.xlabel('Sqrt(Box Cox Transformed)  Values')\n",
        "  elif ena == 7:\n",
        "    plt.title('Histogram of cbrt(Box Cox Data). ' + file_name)\n",
        "    plt.xlabel('Cbrt(Box Cox Transformed)  Values')\n",
        "  elif ena == 8:\n",
        "    plt.title('Histogram of log(Cbrt(Data)). ' + file_name)\n",
        "    plt.xlabel('log(Cbrt(Data))  Values')\n",
        "  elif ena == 9:\n",
        "    plt.title('Histogram of Sqrt(Cbrt(Data)). ' + file_name)\n",
        "    plt.xlabel('Sqrt(Cbrt(Data))  Values')\n",
        "  elif ena == 10:\n",
        "    plt.title('Histogram of Cbrt(Cbrt(Data)). ' + file_name)\n",
        "    plt.xlabel('Cbrt(Cbrt(Data))  Values')\n",
        "  elif ena == 11:\n",
        "    plt.title('Histogram of Sqrt(Cbrt(Data)). ' + file_name)\n",
        "    plt.xlabel('Sqrt(Cbrt(Data))  Values')\n",
        "  elif ena == -1:\n",
        "    plt.title('Histogram of Partitioned Data. ' + file_name)\n",
        "    plt.xlabel('Partitioned Data Values')\n",
        "  elif ena == -2:\n",
        "    plt.title('Histogram of Box Cox(Partitioned Data). ' + file_name)\n",
        "    plt.xlabel('Box Cox Transformed Partitioned Data Values')\n",
        "  elif ena == -3:\n",
        "    plt.title('Histogram of Log(Partitioned Data). ' + file_name)\n",
        "    plt.xlabel('Log Transformed Partitioned Data Values')\n",
        "  elif ena == -4:\n",
        "    plt.title('Histogram of Sqrt(Partitioned Data). ' + file_name)\n",
        "    plt.xlabel('Sqrt Transformed Partitioned Data Values')\n",
        "  elif ena == -5:\n",
        "    plt.title('Histogram of Yeo-Johnson Xformed data. ' + file_name)\n",
        "    plt.xlabel('Yeo-Johnson Xformed Data Values')\n",
        "  elif ena == -6:\n",
        "    plt.title('Histogram of Cbrt(Partitioned Data). ' + file_name)\n",
        "    plt.xlabel('Cbrt Transformed Partitioned Data Values')\n",
        "  else:\n",
        "    plt.title('Histogram of Orig Data. ' + file_name)\n",
        "    plt.xlabel('Original Values')\n",
        "\n",
        "  plt.show()\n",
        "\n",
        "\n"
      ],
      "metadata": {
        "id": "TLNZhx1fvbiz"
      },
      "execution_count": null,
      "outputs": []
    },
    {
      "cell_type": "code",
      "source": [
        "the_vals = np.unique(working_column)\n",
        "print(the_vals, len(the_vals))\n"
      ],
      "metadata": {
        "colab": {
          "base_uri": "https://localhost:8080/"
        },
        "id": "PpdsHSHbQq3E",
        "outputId": "5ed3fbca-e1fd-46fc-d640-4257cc79920a"
      },
      "execution_count": null,
      "outputs": [
        {
          "output_type": "stream",
          "name": "stdout",
          "text": [
            "[  0   1   2   3   4   5   6   7   8   9  10  11  12  13  14  15  16  17\n",
            "  18  19  20  21  22  23  24  25  26  27  28  29  30  31  32  33  34  35\n",
            "  36  37  38  39  40  41  42  43  44  45  46  47  48  49  50  51  52  53\n",
            "  54  55  56  57  58  59  60  61  62  63  64  65  66  67  68  69  70  71\n",
            "  72  73  74  75  76  77  78  79  80  81  82  83  84  85  86  87  88  89\n",
            "  90  91  92  93  94  95  96  97  98  99 100 101 102 103 104 105 106 107\n",
            " 108 109 110 111 112 113 114 115 116 117 118 119 120 121 122 123 124 125\n",
            " 126 127 128 129 130 131 132 133 134 135 136 137 138 139 140 141 142 143\n",
            " 144 145 146 147 148 149 150 151 152 153 154 155 156 157 158 159 160 161\n",
            " 162 163 164 165 166 167 168 169 170 171 172 173 174 175 176 177 178 179\n",
            " 180 181 182 183 184 185 186 187 188 189 190 191 192 193 194 195 196 197\n",
            " 198 199 200 201 202 203 204 205 206 207 208 209 210 211 212 213 214 215\n",
            " 216 217 218 219 220 221 222 223 224 225 226 227 228 229 230 231 232 233\n",
            " 234 235 236 237 238 239 240 241 242 243 244 245 246 247 248 249 250 251\n",
            " 252 253 254 255] 256\n"
          ]
        }
      ]
    },
    {
      "cell_type": "code",
      "source": [
        "plot_hist(working_column,0)"
      ],
      "metadata": {
        "colab": {
          "base_uri": "https://localhost:8080/",
          "height": 504
        },
        "id": "-YHChmWmv1dc",
        "outputId": "33467fbd-c080-425c-a7d9-6559f9cb4051"
      },
      "execution_count": null,
      "outputs": [
        {
          "output_type": "stream",
          "name": "stdout",
          "text": [
            "0 25527\n"
          ]
        },
        {
          "output_type": "display_data",
          "data": {
            "text/plain": [
              "<Figure size 640x480 with 1 Axes>"
            ],
            "image/png": "[encoded data removed]"
          },
          "metadata": {}
        }
      ]
    },
    {
      "cell_type": "code",
      "source": [
        "(a_skewness,a_kurtosis) = give_sandk(working_column)\n",
        "print(col_namer,\":\",a_skewness,a_kurtosis)"
      ],
      "metadata": {
        "colab": {
          "base_uri": "https://localhost:8080/"
        },
        "id": "xhi2BA6msZXO",
        "outputId": "ee3817b5-62c0-42c6-f57d-bc5e9d582244"
      },
      "execution_count": null,
      "outputs": [
        {
          "output_type": "stream",
          "name": "stdout",
          "text": [
            "NUM_PKTS_512_TO_1024_BYTES : 645.8641283918085 553376.1623185044\n"
          ]
        }
      ]
    },
    {
      "cell_type": "code",
      "source": [
        "full_array_shape = working_column.shape\n",
        "zero_array_shape = len([p  for p in range(working_column.shape[0]) if working_column[p] <= 0])\n",
        "print(full_array_shape[0],zero_array_shape, full_array_shape[0] - zero_array_shape)"
      ],
      "metadata": {
        "colab": {
          "base_uri": "https://localhost:8080/"
        },
        "id": "xgokd0pAHWat",
        "outputId": "aad6373c-0ffc-4068-a97c-0c01ba7a7c94"
      },
      "execution_count": null,
      "outputs": [
        {
          "output_type": "stream",
          "name": "stdout",
          "text": [
            "16940496 14268532 2671964\n"
          ]
        }
      ]
    },
    {
      "cell_type": "code",
      "source": [
        "transformed_data, lambda_value = boxcox(working_column)\n",
        "print(\"Lambda value:\", lambda_value)\n",
        "(b_skewness,b_kurtosis) = give_sandk(transformed_data)\n",
        "print(col_namer,\":\",b_skewness,b_kurtosis)\n"
      ],
      "metadata": {
        "colab": {
          "base_uri": "https://localhost:8080/",
          "height": 309
        },
        "id": "dKWirVXnrsz1",
        "outputId": "13e97872-6e8d-40d1-9310-aa5c9e84a9d9"
      },
      "execution_count": null,
      "outputs": [
        {
          "output_type": "error",
          "ename": "ValueError",
          "evalue": "Data must be positive.",
          "traceback": [
            "\u001b[0;31m---------------------------------------------------------------------------\u001b[0m",
            "\u001b[0;31mValueError\u001b[0m                                Traceback (most recent call last)",
            "\u001b[0;32m<ipython-input-9-db57e1107612>\u001b[0m in \u001b[0;36m<cell line: 1>\u001b[0;34m()\u001b[0m\n\u001b[0;32m----> 1\u001b[0;31m \u001b[0mtransformed_data\u001b[0m\u001b[0;34m,\u001b[0m \u001b[0mlambda_value\u001b[0m \u001b[0;34m=\u001b[0m \u001b[0mboxcox\u001b[0m\u001b[0;34m(\u001b[0m\u001b[0mworking_column\u001b[0m\u001b[0;34m)\u001b[0m\u001b[0;34m\u001b[0m\u001b[0;34m\u001b[0m\u001b[0m\n\u001b[0m\u001b[1;32m      2\u001b[0m \u001b[0mprint\u001b[0m\u001b[0;34m(\u001b[0m\u001b[0;34m\"Lambda value:\"\u001b[0m\u001b[0;34m,\u001b[0m \u001b[0mlambda_value\u001b[0m\u001b[0;34m)\u001b[0m\u001b[0;34m\u001b[0m\u001b[0;34m\u001b[0m\u001b[0m\n\u001b[1;32m      3\u001b[0m \u001b[0;34m(\u001b[0m\u001b[0mb_skewness\u001b[0m\u001b[0;34m,\u001b[0m\u001b[0mb_kurtosis\u001b[0m\u001b[0;34m)\u001b[0m \u001b[0;34m=\u001b[0m \u001b[0mgive_sandk\u001b[0m\u001b[0;34m(\u001b[0m\u001b[0mtransformed_data\u001b[0m\u001b[0;34m)\u001b[0m\u001b[0;34m\u001b[0m\u001b[0;34m\u001b[0m\u001b[0m\n\u001b[1;32m      4\u001b[0m \u001b[0mprint\u001b[0m\u001b[0;34m(\u001b[0m\u001b[0mcol_namer\u001b[0m\u001b[0;34m,\u001b[0m\u001b[0;34m\":\"\u001b[0m\u001b[0;34m,\u001b[0m\u001b[0mb_skewness\u001b[0m\u001b[0;34m,\u001b[0m\u001b[0mb_kurtosis\u001b[0m\u001b[0;34m)\u001b[0m\u001b[0;34m\u001b[0m\u001b[0;34m\u001b[0m\u001b[0m\n",
            "\u001b[0;32m/usr/local/lib/python3.10/dist-packages/scipy/stats/_morestats.py\u001b[0m in \u001b[0;36mboxcox\u001b[0;34m(x, lmbda, alpha, optimizer)\u001b[0m\n\u001b[1;32m   1100\u001b[0m \u001b[0;34m\u001b[0m\u001b[0m\n\u001b[1;32m   1101\u001b[0m     \u001b[0;32mif\u001b[0m \u001b[0mnp\u001b[0m\u001b[0;34m.\u001b[0m\u001b[0many\u001b[0m\u001b[0;34m(\u001b[0m\u001b[0mx\u001b[0m \u001b[0;34m<=\u001b[0m \u001b[0;36m0\u001b[0m\u001b[0;34m)\u001b[0m\u001b[0;34m:\u001b[0m\u001b[0;34m\u001b[0m\u001b[0;34m\u001b[0m\u001b[0m\n\u001b[0;32m-> 1102\u001b[0;31m         \u001b[0;32mraise\u001b[0m \u001b[0mValueError\u001b[0m\u001b[0;34m(\u001b[0m\u001b[0;34m\"Data must be positive.\"\u001b[0m\u001b[0;34m)\u001b[0m\u001b[0;34m\u001b[0m\u001b[0;34m\u001b[0m\u001b[0m\n\u001b[0m\u001b[1;32m   1103\u001b[0m \u001b[0;34m\u001b[0m\u001b[0m\n\u001b[1;32m   1104\u001b[0m     \u001b[0;31m# If lmbda=None, find the lmbda that maximizes the log-likelihood function.\u001b[0m\u001b[0;34m\u001b[0m\u001b[0;34m\u001b[0m\u001b[0m\n",
            "\u001b[0;31mValueError\u001b[0m: Data must be positive."
          ]
        }
      ]
    },
    {
      "cell_type": "code",
      "source": [
        "import numpy as np\n",
        "def check_xforms(incoming):\n",
        "  #log\n",
        "  print('log',give_sandk(np.log(incoming)))\n",
        "  #sq root\n",
        "  print('sqroot',give_sandk(np.sqrt(incoming)))\n",
        "  #cube root\n",
        "  print('cuberoot',give_sandk(np.cbrt(incoming)))\n"
      ],
      "metadata": {
        "id": "xPnYpAouuBm6"
      },
      "execution_count": null,
      "outputs": []
    },
    {
      "cell_type": "code",
      "source": [
        "check_xforms(working_column)"
      ],
      "metadata": {
        "colab": {
          "base_uri": "https://localhost:8080/"
        },
        "id": "0VTcgyjfupFx",
        "outputId": "82b8f5cc-b1ff-4b26-dfe5-5b555f06c9bf"
      },
      "execution_count": null,
      "outputs": [
        {
          "output_type": "stream",
          "name": "stderr",
          "text": [
            "<ipython-input-10-27a669edf4a1>:4: RuntimeWarning: divide by zero encountered in log\n",
            "  print('log',give_sandk(np.log(incoming)))\n",
            "/usr/local/lib/python3.10/dist-packages/scipy/stats/_stats_py.py:1070: RuntimeWarning: invalid value encountered in subtract\n",
            "  a_zero_mean = a - mean\n"
          ]
        },
        {
          "output_type": "stream",
          "name": "stdout",
          "text": [
            "log (nan, nan)\n",
            "sqroot (60.87706988497253, 11869.422664788328)\n",
            "cuberoot (4.595747901364787, 102.73962737206854)\n"
          ]
        }
      ]
    },
    {
      "cell_type": "code",
      "source": [
        "#transformed_data = np.log(working_column)\n",
        "#transformed_data = np.sqrt(working_column)\n",
        "transformed_data = np.cbrt(working_column)"
      ],
      "metadata": {
        "id": "8ejWyIWMDpPy"
      },
      "execution_count": null,
      "outputs": []
    },
    {
      "cell_type": "code",
      "source": [
        "check_xforms(transformed_data)"
      ],
      "metadata": {
        "colab": {
          "base_uri": "https://localhost:8080/"
        },
        "id": "FwOg40ugNddi",
        "outputId": "bc1f43cb-46fe-4511-973b-463fce556d52"
      },
      "execution_count": null,
      "outputs": [
        {
          "output_type": "stream",
          "name": "stderr",
          "text": [
            "<ipython-input-10-27a669edf4a1>:4: RuntimeWarning: divide by zero encountered in log\n",
            "  print('log',give_sandk(np.log(incoming)))\n"
          ]
        },
        {
          "output_type": "stream",
          "name": "stdout",
          "text": [
            "log (nan, nan)\n",
            "sqroot (2.619930478944066, 5.214600264929203)\n",
            "cuberoot (2.586307737261233, 4.740291712724578)\n"
          ]
        }
      ]
    },
    {
      "cell_type": "code",
      "source": [
        "#log_xformed_data = np.log(working_column)\n",
        "#plot_hist(log_xformed_data,1)\n",
        "#sqrt_transformed_data = np.sqrt(working_column)\n",
        "#plot_hist(sqrt_transformed_data,2)\n",
        "cbrt_transformed_data = np.cbrt(working_column)\n",
        "plot_hist(cbrt_transformed_data,3)\n",
        "\n",
        "\n",
        "#plot_hist(transformed_data,4) # BOX COX\n",
        "#log_bc_xformed_data = np.log(transformed_data)\n",
        "#plot_hist(log_bc_xformed_data,5)\n",
        "#sqrt_bc_transformed_data = np.sqrt(transformed_data)\n",
        "#plot_hist(sqrt_bc_transformed_data,6)\n",
        "#cbrt_bc_transformed_data = np.cbrt(transformed_data)\n",
        "#plot_hist(cbrt_bc_transformed_data,7)\n",
        "\n",
        "#Cube Root\n",
        "\n",
        "#log_cbrt_xformed_data = np.log(transformed_data)\n",
        "#plot_hist(log_bc_xformed_data,8)\n",
        "#sqrt_cbrt_transformed_data = np.sqrt(transformed_data)\n",
        "#plot_hist(sqrt_cbrt_transformed_data,9)\n",
        "cbrt_cbrt_transformed_data = np.cbrt(transformed_data)\n",
        "plot_hist(cbrt_cbrt_transformed_data,10)\n",
        "#cbrt_sqrt_transformed_data = np.sqrt(transformed_data)\n",
        "#plot_hist(cbrt_sqrt_transformed_data,11)\n",
        "\n",
        "\n"
      ],
      "metadata": {
        "colab": {
          "base_uri": "https://localhost:8080/",
          "height": 991
        },
        "id": "w-9V6EYCwE2X",
        "outputId": "c00c19fb-23d7-428c-97f2-c7914e217689"
      },
      "execution_count": null,
      "outputs": [
        {
          "output_type": "stream",
          "name": "stdout",
          "text": [
            "0.0 5.720683891268811e+85\n"
          ]
        },
        {
          "output_type": "display_data",
          "data": {
            "text/plain": [
              "<Figure size 640x480 with 1 Axes>"
            ],
            "image/png": "[encoded data removed]"
          },
          "metadata": {}
        },
        {
          "output_type": "stream",
          "name": "stdout",
          "text": [
            "0.0 3.853150598369481e+28\n"
          ]
        },
        {
          "output_type": "display_data",
          "data": {
            "text/plain": [
              "<Figure size 640x480 with 1 Axes>"
            ],
            "image/png": "[encoded data removed]"
          },
          "metadata": {}
        }
      ]
    },
    {
      "cell_type": "code",
      "source": [
        "data = working_column\n",
        "\n",
        "threshold = 0\n",
        "\n",
        "partition_1 = data[data <= threshold]\n",
        "partition_2 = data[data > threshold]\n"
      ],
      "metadata": {
        "id": "tcB2WXuQW_6J"
      },
      "execution_count": null,
      "outputs": []
    },
    {
      "cell_type": "code",
      "source": [
        "partition_1.shape,partition_2.shape, partition_1.shape[0]+partition_2.shape[0],working_column.shape"
      ],
      "metadata": {
        "colab": {
          "base_uri": "https://localhost:8080/"
        },
        "id": "bvmR0kfXXGye",
        "outputId": "51e510c3-7da4-4d38-aa90-f924e3b43999"
      },
      "execution_count": null,
      "outputs": [
        {
          "output_type": "execute_result",
          "data": {
            "text/plain": [
              "((6713832,), (10226664,), 16940496, (16940496,))"
            ]
          },
          "metadata": {},
          "execution_count": 139
        }
      ]
    },
    {
      "cell_type": "code",
      "source": [
        "np.unique(partition_1), partition_1[0]"
      ],
      "metadata": {
        "colab": {
          "base_uri": "https://localhost:8080/"
        },
        "id": "ZudFb56eQa-x",
        "outputId": "90173f45-8814-4f0e-f849-d1eeda7249d9"
      },
      "execution_count": null,
      "outputs": [
        {
          "output_type": "execute_result",
          "data": {
            "text/plain": [
              "(array([0]), 0)"
            ]
          },
          "metadata": {},
          "execution_count": 140
        }
      ]
    },
    {
      "cell_type": "code",
      "source": [
        "(b_skewness,b_kurtosis) = give_sandk(partition_2)\n",
        "print(col_namer,\":\",b_skewness,b_kurtosis)\n",
        "\n",
        "p2transformed_data, lambda_value = boxcox(partition_2)\n",
        "print(\"Lambda value:\", lambda_value)\n",
        "(ab_skewness,ab_kurtosis) = give_sandk(p2transformed_data)\n",
        "print('box cox modif', col_namer,\":\",ab_skewness,ab_kurtosis)\n"
      ],
      "metadata": {
        "colab": {
          "base_uri": "https://localhost:8080/"
        },
        "id": "Zi236y31Xelc",
        "outputId": "7133ab6c-a676-4141-feb8-04753b52aa22"
      },
      "execution_count": null,
      "outputs": [
        {
          "output_type": "stream",
          "name": "stdout",
          "text": [
            "DST_TO_SRC_AVG_THROUGHPUT : 84.72611769927757 11942.983624900511\n",
            "Lambda value: -0.004957212055951191\n",
            "box cox modif DST_TO_SRC_AVG_THROUGHPUT : -0.0006377948829397946 0.1994833117430166\n"
          ]
        }
      ]
    },
    {
      "cell_type": "code",
      "source": [
        "check_xforms(partition_2)"
      ],
      "metadata": {
        "colab": {
          "base_uri": "https://localhost:8080/"
        },
        "id": "bHWQ_5ELXthO",
        "outputId": "cd8a32c0-705c-4648-d70e-d49cdb6080ca"
      },
      "execution_count": null,
      "outputs": [
        {
          "output_type": "stream",
          "name": "stdout",
          "text": [
            "log (0.03147668975014955, 0.1865042959807819)\n",
            "sqroot (3.9770058205079706, 49.224608480020144)\n",
            "cuberoot (2.014826197548907, 6.9291479379831085)\n"
          ]
        }
      ]
    },
    {
      "cell_type": "code",
      "source": [
        "plot_hist((partition_2),-1)"
      ],
      "metadata": {
        "colab": {
          "base_uri": "https://localhost:8080/",
          "height": 504
        },
        "id": "T2O5rv9vX4Ic",
        "outputId": "16519679-5454-46e7-a4a5-d1f730dceb11"
      },
      "execution_count": null,
      "outputs": [
        {
          "output_type": "stream",
          "name": "stdout",
          "text": [
            "8000 4294328704\n"
          ]
        },
        {
          "output_type": "display_data",
          "data": {
            "text/plain": [
              "<Figure size 640x480 with 1 Axes>"
            ],
            "image/png": "[encoded data removed]"
          },
          "metadata": {}
        }
      ]
    },
    {
      "cell_type": "code",
      "source": [
        "#p2transformed_data = np.log(partition_2)\n",
        "#plot_hist((p2transformed_data),-3)\n",
        "plot_hist((p2transformed_data),-2)  #boxcox\n",
        "#p2transformed_data = np.sqrt(partition_2)\n",
        "#plot_hist((p2transformed_data),-4)\n",
        "p2transformed_data = np.cbrt(partition_2)\n",
        "plot_hist((p2transformed_data),-6)"
      ],
      "metadata": {
        "colab": {
          "base_uri": "https://localhost:8080/",
          "height": 991
        },
        "id": "kczrknWpOG_2",
        "outputId": "359e0dd8-c088-47f0-8738-78f213cd4317"
      },
      "execution_count": null,
      "outputs": [
        {
          "output_type": "stream",
          "name": "stdout",
          "text": [
            "8.789940729572614 21.004634377280386\n"
          ]
        },
        {
          "output_type": "display_data",
          "data": {
            "text/plain": [
              "<Figure size 640x480 with 1 Axes>"
            ],
            "image/png": "[encoded data removed]"
          },
          "metadata": {}
        },
        {
          "output_type": "stream",
          "name": "stdout",
          "text": [
            "20.0 1625.4181114563291\n"
          ]
        },
        {
          "output_type": "display_data",
          "data": {
            "text/plain": [
              "<Figure size 640x480 with 1 Axes>"
            ],
            "image/png": "[encoded data removed]"
          },
          "metadata": {}
        }
      ]
    },
    {
      "cell_type": "code",
      "source": [
        "len(np.unique(partition_2)), np.min(partition_2), np.max(partition_2)"
      ],
      "metadata": {
        "colab": {
          "base_uri": "https://localhost:8080/"
        },
        "id": "ZYS47hv-BKPd",
        "outputId": "bf2c75fc-01f3-43d0-fd2c-b3543e2edd9a"
      },
      "execution_count": null,
      "outputs": [
        {
          "output_type": "execute_result",
          "data": {
            "text/plain": [
              "(14719, 8000, 4294328704)"
            ]
          },
          "metadata": {},
          "execution_count": 145
        }
      ]
    },
    {
      "cell_type": "code",
      "source": [
        "len(np.unique(p2transformed_data)),np.min(p2transformed_data), np.max(p2transformed_data)"
      ],
      "metadata": {
        "colab": {
          "base_uri": "https://localhost:8080/"
        },
        "id": "l0XbFChIA2sM",
        "outputId": "d979dab6-aaa3-4efb-b3e9-d6a8d391a4da"
      },
      "execution_count": null,
      "outputs": [
        {
          "output_type": "execute_result",
          "data": {
            "text/plain": [
              "(14719, 20.0, 1625.4181114563291)"
            ]
          },
          "metadata": {},
          "execution_count": 146
        }
      ]
    },
    {
      "cell_type": "code",
      "source": [
        "\n",
        "values, counts = np.unique(partition_2, return_counts=True)\n",
        "most_frequent_value = values[np.argmax(counts)]\n",
        "print(most_frequent_value)"
      ],
      "metadata": {
        "id": "oEc4RVtSYeOG",
        "colab": {
          "base_uri": "https://localhost:8080/"
        },
        "outputId": "f3cadf23-7dcc-46de-f671-5e7d053186d8"
      },
      "execution_count": null,
      "outputs": [
        {
          "output_type": "stream",
          "name": "stdout",
          "text": [
            "1\n"
          ]
        }
      ]
    },
    {
      "cell_type": "code",
      "source": [
        "import scipy.stats as statists\n",
        "lambda_values = np.linspace(-5, 5, 101)  # Generates values between -5 and 5\n",
        "\n",
        "results = {}\n",
        "\n",
        "# boxcox Xfor for each λ\n",
        "for lmbda in lambda_values:\n",
        "    transformed = boxcox(partition_2, lmbda=lmbda)\n",
        "    skewness = skew(transformed)\n",
        "    kurtosis = statists.kurtosis(transformed)\n",
        "    results[lmbda] = (transformed, skewness, kurtosis)\n",
        "\n",
        "#skewness and kurtosis for each λ\n",
        "for lmbda in lambda_values:\n",
        "    _, skewness, kurtosis = results[lmbda]\n",
        "    print(f\"Lambda={lmbda:.2f}: Skewness={skewness:.4f}, Kurtosis={kurtosis:.4f}\")\n"
      ],
      "metadata": {
        "colab": {
          "base_uri": "https://localhost:8080/"
        },
        "id": "JSZqIqMOTViB",
        "outputId": "bbe79849-e644-4e6f-e8ef-31dcce7f140c"
      },
      "execution_count": null,
      "outputs": [
        {
          "output_type": "stream",
          "name": "stderr",
          "text": [
            "/usr/local/lib/python3.10/dist-packages/scipy/stats/_stats_py.py:1092: RuntimeWarning: overflow encountered in square\n",
            "  s = s**2\n",
            "/usr/local/lib/python3.10/dist-packages/scipy/stats/_stats_py.py:1094: RuntimeWarning: overflow encountered in multiply\n",
            "  s *= a_zero_mean\n",
            "/usr/local/lib/python3.10/dist-packages/numpy/core/_methods.py:118: RuntimeWarning: invalid value encountered in reduce\n",
            "  ret = umr_sum(arr, axis, dtype, out, keepdims, where=where)\n",
            "/usr/local/lib/python3.10/dist-packages/scipy/stats/_stats_py.py:1088: RuntimeWarning: overflow encountered in square\n",
            "  s = a_zero_mean**2\n",
            "/usr/local/lib/python3.10/dist-packages/scipy/stats/_stats_py.py:1070: RuntimeWarning: invalid value encountered in subtract\n",
            "  a_zero_mean = a - mean\n"
          ]
        },
        {
          "output_type": "stream",
          "name": "stdout",
          "text": [
            "Lambda=-5.00: Skewness=-1.1653, Kurtosis=-0.5311\n",
            "Lambda=-4.90: Skewness=-1.1621, Kurtosis=-0.5444\n",
            "Lambda=-4.80: Skewness=-1.1588, Kurtosis=-0.5566\n",
            "Lambda=-4.70: Skewness=-1.1554, Kurtosis=-0.5679\n",
            "Lambda=-4.60: Skewness=-1.1517, Kurtosis=-0.5786\n",
            "Lambda=-4.50: Skewness=-1.1479, Kurtosis=-0.5887\n",
            "Lambda=-4.40: Skewness=-1.1438, Kurtosis=-0.5984\n",
            "Lambda=-4.30: Skewness=-1.1396, Kurtosis=-0.6078\n",
            "Lambda=-4.20: Skewness=-1.1350, Kurtosis=-0.6171\n",
            "Lambda=-4.10: Skewness=-1.1302, Kurtosis=-0.6263\n",
            "Lambda=-4.00: Skewness=-1.1250, Kurtosis=-0.6355\n",
            "Lambda=-3.90: Skewness=-1.1195, Kurtosis=-0.6449\n",
            "Lambda=-3.80: Skewness=-1.1136, Kurtosis=-0.6545\n",
            "Lambda=-3.70: Skewness=-1.1072, Kurtosis=-0.6644\n",
            "Lambda=-3.60: Skewness=-1.1004, Kurtosis=-0.6746\n",
            "Lambda=-3.50: Skewness=-1.0930, Kurtosis=-0.6854\n",
            "Lambda=-3.40: Skewness=-1.0850, Kurtosis=-0.6967\n",
            "Lambda=-3.30: Skewness=-1.0765, Kurtosis=-0.7086\n",
            "Lambda=-3.20: Skewness=-1.0672, Kurtosis=-0.7213\n",
            "Lambda=-3.10: Skewness=-1.0571, Kurtosis=-0.7349\n",
            "Lambda=-3.00: Skewness=-1.0462, Kurtosis=-0.7493\n",
            "Lambda=-2.90: Skewness=-1.0344, Kurtosis=-0.7648\n",
            "Lambda=-2.80: Skewness=-1.0215, Kurtosis=-0.7814\n",
            "Lambda=-2.70: Skewness=-1.0075, Kurtosis=-0.7992\n",
            "Lambda=-2.60: Skewness=-0.9922, Kurtosis=-0.8185\n",
            "Lambda=-2.50: Skewness=-0.9756, Kurtosis=-0.8392\n",
            "Lambda=-2.40: Skewness=-0.9575, Kurtosis=-0.8615\n",
            "Lambda=-2.30: Skewness=-0.9376, Kurtosis=-0.8855\n",
            "Lambda=-2.20: Skewness=-0.9160, Kurtosis=-0.9114\n",
            "Lambda=-2.10: Skewness=-0.8922, Kurtosis=-0.9394\n",
            "Lambda=-2.00: Skewness=-0.8662, Kurtosis=-0.9694\n",
            "Lambda=-1.90: Skewness=-0.8377, Kurtosis=-1.0016\n",
            "Lambda=-1.80: Skewness=-0.8064, Kurtosis=-1.0361\n",
            "Lambda=-1.70: Skewness=-0.7721, Kurtosis=-1.0729\n",
            "Lambda=-1.60: Skewness=-0.7344, Kurtosis=-1.1119\n",
            "Lambda=-1.50: Skewness=-0.6929, Kurtosis=-1.1532\n",
            "Lambda=-1.40: Skewness=-0.6472, Kurtosis=-1.1964\n",
            "Lambda=-1.30: Skewness=-0.5970, Kurtosis=-1.2413\n",
            "Lambda=-1.20: Skewness=-0.5416, Kurtosis=-1.2871\n",
            "Lambda=-1.10: Skewness=-0.4806, Kurtosis=-1.3329\n",
            "Lambda=-1.00: Skewness=-0.4133, Kurtosis=-1.3775\n",
            "Lambda=-0.90: Skewness=-0.3389, Kurtosis=-1.4188\n",
            "Lambda=-0.80: Skewness=-0.2563, Kurtosis=-1.4538\n",
            "Lambda=-0.70: Skewness=-0.1640, Kurtosis=-1.4777\n",
            "Lambda=-0.60: Skewness=-0.0595, Kurtosis=-1.4828\n",
            "Lambda=-0.50: Skewness=0.0617, Kurtosis=-1.4542\n",
            "Lambda=-0.40: Skewness=0.2089, Kurtosis=-1.3599\n",
            "Lambda=-0.30: Skewness=0.4031, Kurtosis=-1.1195\n",
            "Lambda=-0.20: Skewness=0.6941, Kurtosis=-0.5019\n",
            "Lambda=-0.10: Skewness=1.2007, Kurtosis=1.2150\n",
            "Lambda=0.00: Skewness=10.0568, Kurtosis=1348.1440\n",
            "Lambda=0.10: Skewness=2909.6583, Kurtosis=8844972.9808\n",
            "Lambda=0.20: Skewness=3217.6360, Kurtosis=10443378.9828\n",
            "Lambda=0.30: Skewness=3261.1723, Kurtosis=inf\n",
            "Lambda=0.40: Skewness=inf, Kurtosis=nan\n",
            "Lambda=0.50: Skewness=nan, Kurtosis=nan\n",
            "Lambda=0.60: Skewness=nan, Kurtosis=nan\n",
            "Lambda=0.70: Skewness=nan, Kurtosis=nan\n",
            "Lambda=0.80: Skewness=nan, Kurtosis=nan\n",
            "Lambda=0.90: Skewness=nan, Kurtosis=nan\n",
            "Lambda=1.00: Skewness=nan, Kurtosis=nan\n",
            "Lambda=1.10: Skewness=nan, Kurtosis=nan\n",
            "Lambda=1.20: Skewness=nan, Kurtosis=nan\n",
            "Lambda=1.30: Skewness=nan, Kurtosis=nan\n",
            "Lambda=1.40: Skewness=nan, Kurtosis=nan\n",
            "Lambda=1.50: Skewness=nan, Kurtosis=nan\n",
            "Lambda=1.60: Skewness=nan, Kurtosis=nan\n",
            "Lambda=1.70: Skewness=nan, Kurtosis=nan\n",
            "Lambda=1.80: Skewness=nan, Kurtosis=nan\n",
            "Lambda=1.90: Skewness=nan, Kurtosis=nan\n",
            "Lambda=2.00: Skewness=nan, Kurtosis=nan\n",
            "Lambda=2.10: Skewness=nan, Kurtosis=nan\n",
            "Lambda=2.20: Skewness=nan, Kurtosis=nan\n",
            "Lambda=2.30: Skewness=nan, Kurtosis=nan\n",
            "Lambda=2.40: Skewness=nan, Kurtosis=nan\n",
            "Lambda=2.50: Skewness=nan, Kurtosis=nan\n",
            "Lambda=2.60: Skewness=nan, Kurtosis=nan\n",
            "Lambda=2.70: Skewness=nan, Kurtosis=nan\n",
            "Lambda=2.80: Skewness=nan, Kurtosis=nan\n",
            "Lambda=2.90: Skewness=nan, Kurtosis=nan\n",
            "Lambda=3.00: Skewness=nan, Kurtosis=nan\n",
            "Lambda=3.10: Skewness=nan, Kurtosis=nan\n",
            "Lambda=3.20: Skewness=nan, Kurtosis=nan\n",
            "Lambda=3.30: Skewness=nan, Kurtosis=nan\n",
            "Lambda=3.40: Skewness=nan, Kurtosis=nan\n",
            "Lambda=3.50: Skewness=nan, Kurtosis=nan\n",
            "Lambda=3.60: Skewness=nan, Kurtosis=nan\n",
            "Lambda=3.70: Skewness=nan, Kurtosis=nan\n",
            "Lambda=3.80: Skewness=nan, Kurtosis=nan\n",
            "Lambda=3.90: Skewness=nan, Kurtosis=nan\n",
            "Lambda=4.00: Skewness=nan, Kurtosis=nan\n",
            "Lambda=4.10: Skewness=nan, Kurtosis=nan\n",
            "Lambda=4.20: Skewness=nan, Kurtosis=nan\n",
            "Lambda=4.30: Skewness=nan, Kurtosis=nan\n",
            "Lambda=4.40: Skewness=nan, Kurtosis=nan\n",
            "Lambda=4.50: Skewness=nan, Kurtosis=nan\n",
            "Lambda=4.60: Skewness=nan, Kurtosis=nan\n",
            "Lambda=4.70: Skewness=nan, Kurtosis=nan\n",
            "Lambda=4.80: Skewness=nan, Kurtosis=nan\n",
            "Lambda=4.90: Skewness=nan, Kurtosis=nan\n",
            "Lambda=5.00: Skewness=nan, Kurtosis=nan\n"
          ]
        }
      ]
    },
    {
      "cell_type": "code",
      "source": [
        "\n",
        "p3transformed_data = statists.boxcox(partition_2, lmbda=-3.6)\n"
      ],
      "metadata": {
        "id": "5j3sc_2dVW3k"
      },
      "execution_count": null,
      "outputs": []
    },
    {
      "cell_type": "code",
      "source": [
        "plot_hist(p3transformed_data,-2)"
      ],
      "metadata": {
        "colab": {
          "base_uri": "https://localhost:8080/",
          "height": 504
        },
        "id": "I2l-Rb-3Viqv",
        "outputId": "c5389eaf-85a5-4320-9879-d9a352d22355"
      },
      "execution_count": null,
      "outputs": [
        {
          "output_type": "stream",
          "name": "stdout",
          "text": [
            "0.27777606410228317 0.2777777777777778\n"
          ]
        },
        {
          "output_type": "display_data",
          "data": {
            "text/plain": [
              "<Figure size 640x480 with 1 Axes>"
            ],
            "image/png": "[encoded data removed]"
          },
          "metadata": {}
        }
      ]
    },
    {
      "cell_type": "code",
      "source": [
        " len(np.unique(p3transformed_data)), np.min(p3transformed_data), np.max(p3transformed_data)"
      ],
      "metadata": {
        "colab": {
          "base_uri": "https://localhost:8080/"
        },
        "id": "UqA4EKzjVqN1",
        "outputId": "7467e41e-41d6-402a-b2ed-1114513af28e"
      },
      "execution_count": null,
      "outputs": [
        {
          "output_type": "execute_result",
          "data": {
            "text/plain": [
              "(4303, 0.27777606410228317, 0.2777777777777778)"
            ]
          },
          "metadata": {},
          "execution_count": 47
        }
      ]
    },
    {
      "cell_type": "code",
      "source": [
        "# Yeo-Johnson transformation (scipy automatically finds the best lambda)\n",
        "transformed_data, best_lambda = yeojohnson(working_column)\n",
        "print(f\"Best lambda for Yeo-Johnson transformation: {best_lambda}\")\n"
      ],
      "metadata": {
        "id": "c9hPL_GmYewd",
        "colab": {
          "base_uri": "https://localhost:8080/",
          "height": 350
        },
        "outputId": "df8d687a-4342-4277-cfcb-024659619a0d"
      },
      "execution_count": null,
      "outputs": [
        {
          "output_type": "stream",
          "name": "stderr",
          "text": [
            "/usr/local/lib/python3.10/dist-packages/scipy/stats/_morestats.py:1496: RuntimeWarning: overflow encountered in power\n",
            "  out[pos] = (np.power(x[pos] + 1, lmbda) - 1) / lmbda\n"
          ]
        },
        {
          "output_type": "error",
          "ename": "BracketError",
          "evalue": "The algorithm terminated without finding a valid bracket. Consider trying different initial points.",
          "traceback": [
            "\u001b[0;31m---------------------------------------------------------------------------\u001b[0m",
            "\u001b[0;31mBracketError\u001b[0m                              Traceback (most recent call last)",
            "\u001b[0;32m<ipython-input-48-be3c3d447c86>\u001b[0m in \u001b[0;36m<cell line: 2>\u001b[0;34m()\u001b[0m\n\u001b[1;32m      1\u001b[0m \u001b[0;31m# Yeo-Johnson transformation (scipy automatically finds the best lambda)\u001b[0m\u001b[0;34m\u001b[0m\u001b[0;34m\u001b[0m\u001b[0m\n\u001b[0;32m----> 2\u001b[0;31m \u001b[0mtransformed_data\u001b[0m\u001b[0;34m,\u001b[0m \u001b[0mbest_lambda\u001b[0m \u001b[0;34m=\u001b[0m \u001b[0myeojohnson\u001b[0m\u001b[0;34m(\u001b[0m\u001b[0mworking_column\u001b[0m\u001b[0;34m)\u001b[0m\u001b[0;34m\u001b[0m\u001b[0;34m\u001b[0m\u001b[0m\n\u001b[0m\u001b[1;32m      3\u001b[0m \u001b[0mprint\u001b[0m\u001b[0;34m(\u001b[0m\u001b[0;34mf\"Best lambda for Yeo-Johnson transformation: {best_lambda}\"\u001b[0m\u001b[0;34m)\u001b[0m\u001b[0;34m\u001b[0m\u001b[0;34m\u001b[0m\u001b[0m\n",
            "\u001b[0;32m/usr/local/lib/python3.10/dist-packages/scipy/stats/_morestats.py\u001b[0m in \u001b[0;36myeojohnson\u001b[0;34m(x, lmbda)\u001b[0m\n\u001b[1;32m   1477\u001b[0m \u001b[0;34m\u001b[0m\u001b[0m\n\u001b[1;32m   1478\u001b[0m     \u001b[0;31m# if lmbda=None, find the lmbda that maximizes the log-likelihood function.\u001b[0m\u001b[0;34m\u001b[0m\u001b[0;34m\u001b[0m\u001b[0m\n\u001b[0;32m-> 1479\u001b[0;31m     \u001b[0mlmax\u001b[0m \u001b[0;34m=\u001b[0m \u001b[0myeojohnson_normmax\u001b[0m\u001b[0;34m(\u001b[0m\u001b[0mx\u001b[0m\u001b[0;34m)\u001b[0m\u001b[0;34m\u001b[0m\u001b[0;34m\u001b[0m\u001b[0m\n\u001b[0m\u001b[1;32m   1480\u001b[0m     \u001b[0my\u001b[0m \u001b[0;34m=\u001b[0m \u001b[0m_yeojohnson_transform\u001b[0m\u001b[0;34m(\u001b[0m\u001b[0mx\u001b[0m\u001b[0;34m,\u001b[0m \u001b[0mlmax\u001b[0m\u001b[0;34m)\u001b[0m\u001b[0;34m\u001b[0m\u001b[0;34m\u001b[0m\u001b[0m\n\u001b[1;32m   1481\u001b[0m \u001b[0;34m\u001b[0m\u001b[0m\n",
            "\u001b[0;32m/usr/local/lib/python3.10/dist-packages/scipy/stats/_morestats.py\u001b[0m in \u001b[0;36myeojohnson_normmax\u001b[0;34m(x, brack)\u001b[0m\n\u001b[1;32m   1664\u001b[0m \u001b[0;34m\u001b[0m\u001b[0m\n\u001b[1;32m   1665\u001b[0m     \u001b[0;32mwith\u001b[0m \u001b[0mnp\u001b[0m\u001b[0;34m.\u001b[0m\u001b[0merrstate\u001b[0m\u001b[0;34m(\u001b[0m\u001b[0minvalid\u001b[0m\u001b[0;34m=\u001b[0m\u001b[0;34m'ignore'\u001b[0m\u001b[0;34m)\u001b[0m\u001b[0;34m:\u001b[0m\u001b[0;34m\u001b[0m\u001b[0;34m\u001b[0m\u001b[0m\n\u001b[0;32m-> 1666\u001b[0;31m         \u001b[0;32mreturn\u001b[0m \u001b[0moptimize\u001b[0m\u001b[0;34m.\u001b[0m\u001b[0mbrent\u001b[0m\u001b[0;34m(\u001b[0m\u001b[0m_neg_llf\u001b[0m\u001b[0;34m,\u001b[0m \u001b[0mbrack\u001b[0m\u001b[0;34m=\u001b[0m\u001b[0mbrack\u001b[0m\u001b[0;34m,\u001b[0m \u001b[0margs\u001b[0m\u001b[0;34m=\u001b[0m\u001b[0;34m(\u001b[0m\u001b[0mx\u001b[0m\u001b[0;34m,\u001b[0m\u001b[0;34m)\u001b[0m\u001b[0;34m)\u001b[0m\u001b[0;34m\u001b[0m\u001b[0;34m\u001b[0m\u001b[0m\n\u001b[0m\u001b[1;32m   1667\u001b[0m \u001b[0;34m\u001b[0m\u001b[0m\n\u001b[1;32m   1668\u001b[0m \u001b[0;34m\u001b[0m\u001b[0m\n",
            "\u001b[0;32m/usr/local/lib/python3.10/dist-packages/scipy/optimize/_optimize.py\u001b[0m in \u001b[0;36mbrent\u001b[0;34m(func, args, brack, tol, full_output, maxiter)\u001b[0m\n\u001b[1;32m   2640\u001b[0m     options = {'xtol': tol,\n\u001b[1;32m   2641\u001b[0m                'maxiter': maxiter}\n\u001b[0;32m-> 2642\u001b[0;31m     \u001b[0mres\u001b[0m \u001b[0;34m=\u001b[0m \u001b[0m_minimize_scalar_brent\u001b[0m\u001b[0;34m(\u001b[0m\u001b[0mfunc\u001b[0m\u001b[0;34m,\u001b[0m \u001b[0mbrack\u001b[0m\u001b[0;34m,\u001b[0m \u001b[0margs\u001b[0m\u001b[0;34m,\u001b[0m \u001b[0;34m**\u001b[0m\u001b[0moptions\u001b[0m\u001b[0;34m)\u001b[0m\u001b[0;34m\u001b[0m\u001b[0;34m\u001b[0m\u001b[0m\n\u001b[0m\u001b[1;32m   2643\u001b[0m     \u001b[0;32mif\u001b[0m \u001b[0mfull_output\u001b[0m\u001b[0;34m:\u001b[0m\u001b[0;34m\u001b[0m\u001b[0;34m\u001b[0m\u001b[0m\n\u001b[1;32m   2644\u001b[0m         \u001b[0;32mreturn\u001b[0m \u001b[0mres\u001b[0m\u001b[0;34m[\u001b[0m\u001b[0;34m'x'\u001b[0m\u001b[0;34m]\u001b[0m\u001b[0;34m,\u001b[0m \u001b[0mres\u001b[0m\u001b[0;34m[\u001b[0m\u001b[0;34m'fun'\u001b[0m\u001b[0;34m]\u001b[0m\u001b[0;34m,\u001b[0m \u001b[0mres\u001b[0m\u001b[0;34m[\u001b[0m\u001b[0;34m'nit'\u001b[0m\u001b[0;34m]\u001b[0m\u001b[0;34m,\u001b[0m \u001b[0mres\u001b[0m\u001b[0;34m[\u001b[0m\u001b[0;34m'nfev'\u001b[0m\u001b[0;34m]\u001b[0m\u001b[0;34m\u001b[0m\u001b[0;34m\u001b[0m\u001b[0m\n",
            "\u001b[0;32m/usr/local/lib/python3.10/dist-packages/scipy/optimize/_optimize.py\u001b[0m in \u001b[0;36m_minimize_scalar_brent\u001b[0;34m(func, brack, args, xtol, maxiter, disp, **unknown_options)\u001b[0m\n\u001b[1;32m   2677\u001b[0m                   full_output=True, maxiter=maxiter, disp=disp)\n\u001b[1;32m   2678\u001b[0m     \u001b[0mbrent\u001b[0m\u001b[0;34m.\u001b[0m\u001b[0mset_bracket\u001b[0m\u001b[0;34m(\u001b[0m\u001b[0mbrack\u001b[0m\u001b[0;34m)\u001b[0m\u001b[0;34m\u001b[0m\u001b[0;34m\u001b[0m\u001b[0m\n\u001b[0;32m-> 2679\u001b[0;31m     \u001b[0mbrent\u001b[0m\u001b[0;34m.\u001b[0m\u001b[0moptimize\u001b[0m\u001b[0;34m(\u001b[0m\u001b[0;34m)\u001b[0m\u001b[0;34m\u001b[0m\u001b[0;34m\u001b[0m\u001b[0m\n\u001b[0m\u001b[1;32m   2680\u001b[0m     \u001b[0mx\u001b[0m\u001b[0;34m,\u001b[0m \u001b[0mfval\u001b[0m\u001b[0;34m,\u001b[0m \u001b[0mnit\u001b[0m\u001b[0;34m,\u001b[0m \u001b[0mnfev\u001b[0m \u001b[0;34m=\u001b[0m \u001b[0mbrent\u001b[0m\u001b[0;34m.\u001b[0m\u001b[0mget_result\u001b[0m\u001b[0;34m(\u001b[0m\u001b[0mfull_output\u001b[0m\u001b[0;34m=\u001b[0m\u001b[0;32mTrue\u001b[0m\u001b[0;34m)\u001b[0m\u001b[0;34m\u001b[0m\u001b[0;34m\u001b[0m\u001b[0m\n\u001b[1;32m   2681\u001b[0m \u001b[0;34m\u001b[0m\u001b[0m\n",
            "\u001b[0;32m/usr/local/lib/python3.10/dist-packages/scipy/optimize/_optimize.py\u001b[0m in \u001b[0;36moptimize\u001b[0;34m(self)\u001b[0m\n\u001b[1;32m   2447\u001b[0m         \u001b[0;31m# set up for optimization\u001b[0m\u001b[0;34m\u001b[0m\u001b[0;34m\u001b[0m\u001b[0m\n\u001b[1;32m   2448\u001b[0m         \u001b[0mfunc\u001b[0m \u001b[0;34m=\u001b[0m \u001b[0mself\u001b[0m\u001b[0;34m.\u001b[0m\u001b[0mfunc\u001b[0m\u001b[0;34m\u001b[0m\u001b[0;34m\u001b[0m\u001b[0m\n\u001b[0;32m-> 2449\u001b[0;31m         \u001b[0mxa\u001b[0m\u001b[0;34m,\u001b[0m \u001b[0mxb\u001b[0m\u001b[0;34m,\u001b[0m \u001b[0mxc\u001b[0m\u001b[0;34m,\u001b[0m \u001b[0mfa\u001b[0m\u001b[0;34m,\u001b[0m \u001b[0mfb\u001b[0m\u001b[0;34m,\u001b[0m \u001b[0mfc\u001b[0m\u001b[0;34m,\u001b[0m \u001b[0mfuncalls\u001b[0m \u001b[0;34m=\u001b[0m \u001b[0mself\u001b[0m\u001b[0;34m.\u001b[0m\u001b[0mget_bracket_info\u001b[0m\u001b[0;34m(\u001b[0m\u001b[0;34m)\u001b[0m\u001b[0;34m\u001b[0m\u001b[0;34m\u001b[0m\u001b[0m\n\u001b[0m\u001b[1;32m   2450\u001b[0m         \u001b[0m_mintol\u001b[0m \u001b[0;34m=\u001b[0m \u001b[0mself\u001b[0m\u001b[0;34m.\u001b[0m\u001b[0m_mintol\u001b[0m\u001b[0;34m\u001b[0m\u001b[0;34m\u001b[0m\u001b[0m\n\u001b[1;32m   2451\u001b[0m         \u001b[0m_cg\u001b[0m \u001b[0;34m=\u001b[0m \u001b[0mself\u001b[0m\u001b[0;34m.\u001b[0m\u001b[0m_cg\u001b[0m\u001b[0;34m\u001b[0m\u001b[0;34m\u001b[0m\u001b[0m\n",
            "\u001b[0;32m/usr/local/lib/python3.10/dist-packages/scipy/optimize/_optimize.py\u001b[0m in \u001b[0;36mget_bracket_info\u001b[0;34m(self)\u001b[0m\n\u001b[1;32m   2416\u001b[0m             \u001b[0mxa\u001b[0m\u001b[0;34m,\u001b[0m \u001b[0mxb\u001b[0m\u001b[0;34m,\u001b[0m \u001b[0mxc\u001b[0m\u001b[0;34m,\u001b[0m \u001b[0mfa\u001b[0m\u001b[0;34m,\u001b[0m \u001b[0mfb\u001b[0m\u001b[0;34m,\u001b[0m \u001b[0mfc\u001b[0m\u001b[0;34m,\u001b[0m \u001b[0mfuncalls\u001b[0m \u001b[0;34m=\u001b[0m \u001b[0mbracket\u001b[0m\u001b[0;34m(\u001b[0m\u001b[0mfunc\u001b[0m\u001b[0;34m,\u001b[0m \u001b[0margs\u001b[0m\u001b[0;34m=\u001b[0m\u001b[0margs\u001b[0m\u001b[0;34m)\u001b[0m\u001b[0;34m\u001b[0m\u001b[0;34m\u001b[0m\u001b[0m\n\u001b[1;32m   2417\u001b[0m         \u001b[0;32melif\u001b[0m \u001b[0mlen\u001b[0m\u001b[0;34m(\u001b[0m\u001b[0mbrack\u001b[0m\u001b[0;34m)\u001b[0m \u001b[0;34m==\u001b[0m \u001b[0;36m2\u001b[0m\u001b[0;34m:\u001b[0m\u001b[0;34m\u001b[0m\u001b[0;34m\u001b[0m\u001b[0m\n\u001b[0;32m-> 2418\u001b[0;31m             xa, xb, xc, fa, fb, fc, funcalls = bracket(func, xa=brack[0],\n\u001b[0m\u001b[1;32m   2419\u001b[0m                                                        xb=brack[1], args=args)\n\u001b[1;32m   2420\u001b[0m         \u001b[0;32melif\u001b[0m \u001b[0mlen\u001b[0m\u001b[0;34m(\u001b[0m\u001b[0mbrack\u001b[0m\u001b[0;34m)\u001b[0m \u001b[0;34m==\u001b[0m \u001b[0;36m3\u001b[0m\u001b[0;34m:\u001b[0m\u001b[0;34m\u001b[0m\u001b[0;34m\u001b[0m\u001b[0m\n",
            "\u001b[0;32m/usr/local/lib/python3.10/dist-packages/scipy/optimize/_optimize.py\u001b[0m in \u001b[0;36mbracket\u001b[0;34m(func, xa, xb, args, grow_limit, maxiter)\u001b[0m\n\u001b[1;32m   3046\u001b[0m         \u001b[0me\u001b[0m \u001b[0;34m=\u001b[0m \u001b[0mBracketError\u001b[0m\u001b[0;34m(\u001b[0m\u001b[0mmsg\u001b[0m\u001b[0;34m)\u001b[0m\u001b[0;34m\u001b[0m\u001b[0;34m\u001b[0m\u001b[0m\n\u001b[1;32m   3047\u001b[0m         \u001b[0me\u001b[0m\u001b[0;34m.\u001b[0m\u001b[0mdata\u001b[0m \u001b[0;34m=\u001b[0m \u001b[0;34m(\u001b[0m\u001b[0mxa\u001b[0m\u001b[0;34m,\u001b[0m \u001b[0mxb\u001b[0m\u001b[0;34m,\u001b[0m \u001b[0mxc\u001b[0m\u001b[0;34m,\u001b[0m \u001b[0mfa\u001b[0m\u001b[0;34m,\u001b[0m \u001b[0mfb\u001b[0m\u001b[0;34m,\u001b[0m \u001b[0mfc\u001b[0m\u001b[0;34m,\u001b[0m \u001b[0mfuncalls\u001b[0m\u001b[0;34m)\u001b[0m\u001b[0;34m\u001b[0m\u001b[0;34m\u001b[0m\u001b[0m\n\u001b[0;32m-> 3048\u001b[0;31m         \u001b[0;32mraise\u001b[0m \u001b[0me\u001b[0m\u001b[0;34m\u001b[0m\u001b[0;34m\u001b[0m\u001b[0m\n\u001b[0m\u001b[1;32m   3049\u001b[0m \u001b[0;34m\u001b[0m\u001b[0m\n\u001b[1;32m   3050\u001b[0m     \u001b[0;32mreturn\u001b[0m \u001b[0mxa\u001b[0m\u001b[0;34m,\u001b[0m \u001b[0mxb\u001b[0m\u001b[0;34m,\u001b[0m \u001b[0mxc\u001b[0m\u001b[0;34m,\u001b[0m \u001b[0mfa\u001b[0m\u001b[0;34m,\u001b[0m \u001b[0mfb\u001b[0m\u001b[0;34m,\u001b[0m \u001b[0mfc\u001b[0m\u001b[0;34m,\u001b[0m \u001b[0mfuncalls\u001b[0m\u001b[0;34m\u001b[0m\u001b[0;34m\u001b[0m\u001b[0m\n",
            "\u001b[0;31mBracketError\u001b[0m: The algorithm terminated without finding a valid bracket. Consider trying different initial points."
          ]
        }
      ]
    },
    {
      "cell_type": "code",
      "source": [],
      "metadata": {
        "id": "rkV52DghCAXY"
      },
      "execution_count": null,
      "outputs": []
    },
    {
      "cell_type": "code",
      "source": [
        "plot_hist(transformed_data,-5)"
      ],
      "metadata": {
        "colab": {
          "base_uri": "https://localhost:8080/",
          "height": 504
        },
        "id": "c1k_KAnG1inB",
        "outputId": "dfa1e9d0-df62-4a09-b9c3-5842d8ca1a01"
      },
      "execution_count": null,
      "outputs": [
        {
          "output_type": "stream",
          "name": "stdout",
          "text": [
            "-0.0 0.7976118869091233\n"
          ]
        },
        {
          "output_type": "display_data",
          "data": {
            "text/plain": [
              "<Figure size 640x480 with 1 Axes>"
            ],
            "image/png": "[encoded data removed]"
          },
          "metadata": {}
        }
      ]
    },
    {
      "cell_type": "code",
      "source": [
        "statists.skew(p3transformed_data),statists.kurtosis(p3transformed_data)"
      ],
      "metadata": {
        "colab": {
          "base_uri": "https://localhost:8080/"
        },
        "id": "U9Yu94DiRz05",
        "outputId": "6b5d9f56-760f-4dee-a716-190e486ae561"
      },
      "execution_count": null,
      "outputs": [
        {
          "output_type": "execute_result",
          "data": {
            "text/plain": [
              "(-1.1003530549277012, -0.6746318487745548)"
            ]
          },
          "metadata": {},
          "execution_count": 51
        }
      ]
    },
    {
      "cell_type": "code",
      "source": [
        "give_sandk(p3transformed_data)"
      ],
      "metadata": {
        "colab": {
          "base_uri": "https://localhost:8080/",
          "height": 258
        },
        "id": "MkcP6QUV1_sa",
        "outputId": "6db05b3e-6dcb-4dc3-c6e9-76ddff649ed0"
      },
      "execution_count": null,
      "outputs": [
        {
          "output_type": "error",
          "ename": "TypeError",
          "evalue": "'numpy.float64' object is not callable",
          "traceback": [
            "\u001b[0;31m---------------------------------------------------------------------------\u001b[0m",
            "\u001b[0;31mTypeError\u001b[0m                                 Traceback (most recent call last)",
            "\u001b[0;32m<ipython-input-49-5bacc00de8e0>\u001b[0m in \u001b[0;36m<cell line: 1>\u001b[0;34m()\u001b[0m\n\u001b[0;32m----> 1\u001b[0;31m \u001b[0mgive_sandk\u001b[0m\u001b[0;34m(\u001b[0m\u001b[0mp3transformed_data\u001b[0m\u001b[0;34m)\u001b[0m\u001b[0;34m\u001b[0m\u001b[0;34m\u001b[0m\u001b[0m\n\u001b[0m",
            "\u001b[0;32m<ipython-input-5-d58979a0738e>\u001b[0m in \u001b[0;36mgive_sandk\u001b[0;34m(incoming)\u001b[0m\n\u001b[1;32m      6\u001b[0m \u001b[0;34m\u001b[0m\u001b[0m\n\u001b[1;32m      7\u001b[0m \u001b[0;32mdef\u001b[0m \u001b[0mgive_sandk\u001b[0m\u001b[0;34m(\u001b[0m\u001b[0mincoming\u001b[0m\u001b[0;34m)\u001b[0m\u001b[0;34m:\u001b[0m\u001b[0;34m\u001b[0m\u001b[0;34m\u001b[0m\u001b[0m\n\u001b[0;32m----> 8\u001b[0;31m   \u001b[0;32mreturn\u001b[0m \u001b[0;34m(\u001b[0m\u001b[0mskew\u001b[0m\u001b[0;34m(\u001b[0m\u001b[0mincoming\u001b[0m\u001b[0;34m)\u001b[0m\u001b[0;34m,\u001b[0m\u001b[0mkurtosis\u001b[0m\u001b[0;34m(\u001b[0m\u001b[0mincoming\u001b[0m\u001b[0;34m)\u001b[0m\u001b[0;34m)\u001b[0m\u001b[0;34m\u001b[0m\u001b[0;34m\u001b[0m\u001b[0m\n\u001b[0m\u001b[1;32m      9\u001b[0m \u001b[0;34m\u001b[0m\u001b[0m\n\u001b[1;32m     10\u001b[0m \u001b[0;34m\u001b[0m\u001b[0m\n",
            "\u001b[0;31mTypeError\u001b[0m: 'numpy.float64' object is not callable"
          ]
        }
      ]
    },
    {
      "cell_type": "code",
      "source": [
        "check_xforms(transformed_data)"
      ],
      "metadata": {
        "colab": {
          "base_uri": "https://localhost:8080/"
        },
        "id": "DkqGfL1K2SrO",
        "outputId": "204bca5f-540d-4fd3-f1c9-d6b417d466ba"
      },
      "execution_count": null,
      "outputs": [
        {
          "output_type": "stream",
          "name": "stderr",
          "text": [
            "<ipython-input-11-27a669edf4a1>:4: RuntimeWarning: divide by zero encountered in log\n",
            "  print('log',give_sandk(np.log(incoming)))\n",
            "/usr/local/lib/python3.10/dist-packages/scipy/stats/_stats_py.py:1070: RuntimeWarning: invalid value encountered in subtract\n",
            "  a_zero_mean = a - mean\n"
          ]
        },
        {
          "output_type": "stream",
          "name": "stdout",
          "text": [
            "log (nan, nan)\n",
            "sqroot (1.6257831335717214, 0.6431707974063263)\n",
            "cuberoot (1.6257831335717063, 0.6431707974062597)\n"
          ]
        }
      ]
    },
    {
      "cell_type": "code",
      "source": [
        "len(np.unique(transformed_data)), np.min(transformed_data), np.max(transformed_data), np.mean(transformed_data), np.std(transformed_data)"
      ],
      "metadata": {
        "colab": {
          "base_uri": "https://localhost:8080/"
        },
        "id": "Cr0xN14jEeka",
        "outputId": "1d10d7e2-4541-4070-e1cc-3b43e25b170a"
      },
      "execution_count": null,
      "outputs": [
        {
          "output_type": "execute_result",
          "data": {
            "text/plain": [
              "(1799, -0.0, 2.8836793357652435, 0.5323622945640956, 1.118817405354923)"
            ]
          },
          "metadata": {},
          "execution_count": 31
        }
      ]
    },
    {
      "cell_type": "code",
      "source": [
        "def rank_xformation_mandsd(incoming):\n",
        "\n",
        "  ranked_data = (np.argsort(incoming))\n",
        "  mean_rank = np.mean(ranked_data)\n",
        "  std_dev_rank = np.std(ranked_data)\n",
        "\n",
        "  return (mean_rank,std_dev_rank)\n",
        "\n",
        "#z_scores = (ranked_data - mean_rank) / std_dev_rank\n"
      ],
      "metadata": {
        "id": "AMfwmR-0xmor"
      },
      "execution_count": null,
      "outputs": []
    },
    {
      "cell_type": "code",
      "source": [
        "def rank_xformation_mandsd2(incoming):\n",
        "  ranked_data = np.argsort(np.argsort(incoming))\n",
        "\n",
        "\n",
        "  N = len(incoming)\n",
        "\n",
        "  mean_rank = (N - 1) / 2  # Mean rank for continuous data\n",
        "  std_dev_rank = np.sqrt((N**2 - 1) / 12)  # Standard deviation of rank for continuous data\n",
        "  z_scores = (ranked_data - mean_rank) / std_dev_rank\n",
        "  print(mean_rank,std_dev_rank,z_scores.shape,z_scores[0:100])\n",
        "\n",
        "\n"
      ],
      "metadata": {
        "id": "754UJc3NzhGt"
      },
      "execution_count": null,
      "outputs": []
    },
    {
      "cell_type": "code",
      "source": [
        "#(amean,asd)= rank_xformation_mandsd2(working_column)\n",
        "rank_xformation_mandsd2(working_column)\n",
        "#print(working_column[0:100])\n",
        "#print(col_namer,\": \", amean,asd)"
      ],
      "metadata": {
        "colab": {
          "base_uri": "https://localhost:8080/"
        },
        "id": "YInMbPMLyBHA",
        "outputId": "46e121de-5088-40dc-eaae-ef04e0a478f0"
      },
      "execution_count": null,
      "outputs": [
        {
          "output_type": "stream",
          "name": "stdout",
          "text": [
            "8470247.5 4890299.962902881 (16940496,) [1.71437776 1.6894662  0.67131945 0.67131925 0.67182126 0.67193639\n",
            " 0.67160737 0.67175317 0.67168078 0.67071295 0.67074219 0.67070661\n",
            " 0.67068371 0.67076182 0.67050335 0.6706197  0.67064444 0.67089146\n",
            " 0.67092807 0.67091907 0.67087531 0.67287253 0.67290668 0.67288868\n",
            " 0.67270914 0.6728394  0.67284083 0.67308254 0.67317762 0.67317742\n",
            " 0.67218811 0.6721875  0.67214967 0.66834111 0.6683407  0.66866522\n",
            " 0.66776487 0.66776977 0.66783746 0.66762479 0.66811372 0.66809552\n",
            " 0.66813376 0.66793868 0.66800841 0.668008   0.66980625 0.6697492\n",
            " 0.66977988 0.66990052 0.66988007 0.67021952 0.66918093 0.66917521\n",
            " 0.66910855 0.67764913 0.67780904 0.67668047 0.6766316  0.67667045\n",
            " 0.67644102 0.67638376 0.67638356 0.67883474 0.67886684 0.67886664\n",
            " 0.67858138 0.67870837 0.67916212 0.67916192 0.67917132 0.67917112\n",
            " 0.67917051 0.67927091 0.6792707  0.67899935 0.67803581 0.67803561\n",
            " 0.6780354  0.6780352  0.67803356 0.67803315 0.67803295 0.67803274\n",
            " 0.67803172 0.67815584 0.67815257 0.67815155 0.67816014 0.67813969\n",
            " 0.67810697 0.67811576 0.67811556 0.67811331 0.67810472 0.6781037\n",
            " 0.67846891 0.67846769 0.67846728 0.67848384]\n"
          ]
        }
      ]
    },
    {
      "cell_type": "code",
      "source": [
        "import numpy as np\n",
        "from sklearn.neighbors import KernelDensity\n",
        "import matplotlib.pyplot as plt\n",
        "\n",
        "# Assuming your data is stored in a NumPy array called 'data'\n",
        "data = working_column\n",
        "\n",
        "# Reshape the data if it's in a single column format\n",
        "data = data.reshape(-1, 1)\n",
        "\n",
        "# Fit the kernel density estimation\n",
        "kde = KernelDensity(kernel='gaussian').fit(data)\n",
        "\n",
        "# Generate points for the density estimation curve\n",
        "x = np.linspace(min(data), max(data), 1000).reshape(-1, 1)\n",
        "\n",
        "# Calculate the density estimates for these points\n",
        "log_dens = kde.score_samples(x)\n",
        "\n",
        "# Plot the results\n",
        "plt.fill_between(x[:, 0], np.exp(log_dens), alpha=0.5)\n",
        "plt.xlabel('Value')\n",
        "plt.ylabel('Density')\n",
        "plt.title('Kernel Density Estimation')\n",
        "plt.show()\n"
      ],
      "metadata": {
        "colab": {
          "base_uri": "https://localhost:8080/",
          "height": 472
        },
        "id": "xKT9DAxfWP_D",
        "outputId": "ea907c11-34bb-4447-e4e3-bcb9a119e749"
      },
      "execution_count": null,
      "outputs": [
        {
          "output_type": "display_data",
          "data": {
            "text/plain": [
              "<Figure size 640x480 with 1 Axes>"
            ],
            "image/png": "[encoded data removed]"
          },
          "metadata": {}
        }
      ]
    },
    {
      "cell_type": "code",
      "source": [
        "'''import os\n",
        "import pandas as pd\n",
        "from scipy.stats import moment, normaltest\n",
        "directory = '/content/gdrive/MyDrive/NF_ToN_IoT_v2_full170chunks'\n",
        "\n",
        "\n",
        "def incremental_moments(data, current_moments, count):\n",
        "    # incremental computation of mean, variance, skewness, and kurtosis\n",
        "    delta = data - current_moments[0]\n",
        "    delta_n = delta / (count + 1)\n",
        "    delta_n2 = delta_n ** 2\n",
        "    term1 = delta * delta_n * count\n",
        "    current_moments[3] += term1 * delta_n2 * (count ** 2 - 3 * count + 3) + 6 * delta_n2 * current_moments[1] - 4 * delta_n * current_moments[2]\n",
        "    current_moments[2] += term1\n",
        "    current_moments[1] += delta_n * count\n",
        "    current_moments[0] += delta_n\n",
        "    return current_moments\n",
        "\n",
        "def query_gaussian_dist(directory,p):\n",
        "    column_stats = {}\n",
        "    alpha = 0.05\n",
        "    non_gaussian_columns = []\n",
        "\n",
        "    # initializing moments for each column\n",
        "    moments = {}\n",
        "\n",
        "    for filename in os.listdir(directory):\n",
        "        if filename.endswith(\".parquet\"):\n",
        "            filepath = os.path.join(directory, filename)\n",
        "            file_chunks = pd.read_parquet(filepath, engine='pyarrow')\n",
        "            excluded_columns = list(range(4)) + [21, 22] + list(range(len(file_chunks.columns)-2, len(file_chunks.columns)))\n",
        "            file_chunks = file_chunks.drop(file_chunks.columns[excluded_columns], axis=1)\n",
        "            #print(type(file_chunks))\n",
        "            file_chunks =  pd.DataFrame(  file_chunks.iloc[:,p])\n",
        "            #print(type(file_chunks))\n",
        "\n",
        "            for column in file_chunks.columns:\n",
        "                data = file_chunks[column].dropna()\n",
        "                count = len(data)\n",
        "                # initializing moments if not already done\n",
        "                if column not in moments:\n",
        "                    moments[column] = [0.0, 0.0, 0.0, 0.0]  # mean, variance, skewness, kurtosis\n",
        "                # update moments incrementally\n",
        "                moments[column] = incremental_moments(data, moments[column], count)\n",
        "\n",
        "    # computing skewness and kurtosis for each column\n",
        "    for column, m in moments.items():\n",
        "        mean, variance, skewness, kurtosis = m[0], m[1], m[2], m[3]\n",
        "        skewness = skewness / ((variance ** 1.5) * count)\n",
        "        kurtosis = kurtosis / (variance ** 2) - 3\n",
        "        _, p_value = normaltest(data)\n",
        "        if p_value < alpha:\n",
        "            non_gaussian_columns.append(column)\n",
        "\n",
        "        column_stats[column] = (skewness, kurtosis)\n",
        "\n",
        "    print(p,column_stats)\n",
        "    return column_stats, non_gaussian_columns\n",
        "\n",
        "\n",
        "\n",
        "\n",
        "\n",
        "\n",
        "\n",
        "for z in range(1):\n",
        "  column_stats, non_gaussian_columns = query_gaussian_dist(directory,z)\n",
        "print(\"Column Statistics:\")\n",
        "for column, stats in column_stats.items():\n",
        "    print(f\"Column: {column}, Skewness: {stats[0]}, Kurtosis: {stats[1]}\")\n",
        "\n",
        "print(\"\\nNon-Gaussian Columns:\")\n",
        "print(non_gaussian_columns)\n",
        "'''"
      ],
      "metadata": {
        "colab": {
          "base_uri": "https://localhost:8080/",
          "height": 120
        },
        "id": "xhv9Fxp9aQyH",
        "outputId": "842ca897-4ffa-4da2-bf97-5727f85fc2cb"
      },
      "execution_count": null,
      "outputs": [
        {
          "output_type": "execute_result",
          "data": {
            "text/plain": [
              "'import os\\nimport pandas as pd\\nfrom scipy.stats import moment, normaltest\\ndirectory = \\'/content/gdrive/MyDrive/NF_ToN_IoT_v2_full170chunks\\'\\n\\n\\ndef incremental_moments(data, current_moments, count):\\n    # incremental computation of mean, variance, skewness, and kurtosis\\n    delta = data - current_moments[0]\\n    delta_n = delta / (count + 1)\\n    delta_n2 = delta_n ** 2\\n    term1 = delta * delta_n * count\\n    current_moments[3] += term1 * delta_n2 * (count ** 2 - 3 * count + 3) + 6 * delta_n2 * current_moments[1] - 4 * delta_n * current_moments[2]\\n    current_moments[2] += term1\\n    current_moments[1] += delta_n * count\\n    current_moments[0] += delta_n\\n    return current_moments\\n\\ndef query_gaussian_dist(directory,p):\\n    column_stats = {}\\n    alpha = 0.05\\n    non_gaussian_columns = []\\n\\n    # initializing moments for each column\\n    moments = {}\\n\\n    for filename in os.listdir(directory):\\n        if filename.endswith(\".parquet\"):\\n            filepath = os.path.join(directory, filename)\\n            file_chunks = pd.read_parquet(filepath, engine=\\'pyarrow\\')\\n            excluded_columns = list(range(4)) + [21, 22] + list(range(len(file_chunks.columns)-2, len(file_chunks.columns)))\\n            file_chunks = file_chunks.drop(file_chunks.columns[excluded_columns], axis=1)\\n            #print(type(file_chunks))\\n            file_chunks =  pd.DataFrame(  file_chunks.iloc[:,p])\\n            #print(type(file_chunks))\\n\\n            for column in file_chunks.columns:\\n                data = file_chunks[column].dropna()\\n                count = len(data)\\n                # initializing moments if not already done\\n                if column not in moments:\\n                    moments[column] = [0.0, 0.0, 0.0, 0.0]  # mean, variance, skewness, kurtosis\\n                # update moments incrementally\\n                moments[column] = incremental_moments(data, moments[column], count)\\n\\n    # computing skewness and kurtosis for each column\\n    for column, m in moments.items():\\n        mean, variance, skewness, kurtosis = m[0], m[1], m[2], m[3]\\n        skewness = skewness / ((variance ** 1.5) * count)\\n        kurtosis = kurtosis / (variance ** 2) - 3\\n        _, p_value = normaltest(data)\\n        if p_value < alpha:\\n            non_gaussian_columns.append(column)\\n\\n        column_stats[column] = (skewness, kurtosis)\\n        \\n    print(p,column_stats)\\n    return column_stats, non_gaussian_columns\\n\\n\\n\\n\\n\\n\\n\\nfor z in range(1):\\n  column_stats, non_gaussian_columns = query_gaussian_dist(directory,z)\\nprint(\"Column Statistics:\")\\nfor column, stats in column_stats.items():\\n    print(f\"Column: {column}, Skewness: {stats[0]}, Kurtosis: {stats[1]}\")\\n\\nprint(\"\\nNon-Gaussian Columns:\")\\nprint(non_gaussian_columns)\\n'"
            ],
            "application/vnd.google.colaboratory.intrinsic+json": {
              "type": "string"
            }
          },
          "metadata": {},
          "execution_count": 7
        }
      ]
    }
  ]
}