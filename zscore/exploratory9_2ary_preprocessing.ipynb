{
  "nbformat": 4,
  "nbformat_minor": 0,
  "metadata": {
    "colab": {
      "provenance": []
    },
    "kernelspec": {
      "name": "python3",
      "display_name": "Python 3"
    },
    "language_info": {
      "name": "python"
    }
  },
  "cells": [
    {
      "cell_type": "code",
      "execution_count": null,
      "metadata": {
        "colab": {
          "base_uri": "https://localhost:8080/"
        },
        "id": "T9EEouORm0hF",
        "outputId": "eb4214f3-3b02-41de-d7c8-3119c70cec8b"
      },
      "outputs": [
        {
          "output_type": "stream",
          "name": "stdout",
          "text": [
            "Drive already mounted at /content/gdrive; to attempt to forcibly remount, call drive.mount(\"/content/gdrive\", force_remount=True).\n"
          ]
        }
      ],
      "source": [
        "from google.colab import drive\n",
        "drive.mount('/content/gdrive')"
      ]
    },
    {
      "cell_type": "code",
      "source": [
        "import os\n",
        "import gc\n",
        "\n",
        "zepa = '/content/gdrive/MyDrive/NF_ToN_IoT_v2_full170chunks'\n",
        "\n",
        "os.chdir(zepa)\n",
        "parquet_files = [filename for filename in os.listdir(zepa) if filename.endswith('.parquet')]\n",
        "parquet_files = parquet_files[:-1]\n",
        "print(parquet_files)\n",
        "print(len(parquet_files))"
      ],
      "metadata": {
        "colab": {
          "base_uri": "https://localhost:8080/"
        },
        "id": "V2Mu_dfdm8Ft",
        "outputId": "47191965-9f8a-4c66-b912-544266d5ef6b"
      },
      "execution_count": null,
      "outputs": [
        {
          "output_type": "stream",
          "name": "stdout",
          "text": [
            "['NF-ToN-IoT-v2_CH_0.parquet', 'NF-ToN-IoT-v2_CH_1.parquet', 'NF-ToN-IoT-v2_CH_2.parquet', 'NF-ToN-IoT-v2_CH_3.parquet', 'NF-ToN-IoT-v2_CH_4.parquet', 'NF-ToN-IoT-v2_CH_5.parquet', 'NF-ToN-IoT-v2_CH_6.parquet', 'NF-ToN-IoT-v2_CH_7.parquet', 'NF-ToN-IoT-v2_CH_8.parquet', 'NF-ToN-IoT-v2_CH_9.parquet', 'NF-ToN-IoT-v2_CH_10.parquet', 'NF-ToN-IoT-v2_CH_11.parquet', 'NF-ToN-IoT-v2_CH_12.parquet', 'NF-ToN-IoT-v2_CH_13.parquet', 'NF-ToN-IoT-v2_CH_14.parquet', 'NF-ToN-IoT-v2_CH_15.parquet', 'NF-ToN-IoT-v2_CH_16.parquet', 'NF-ToN-IoT-v2_CH_17.parquet', 'NF-ToN-IoT-v2_CH_18.parquet', 'NF-ToN-IoT-v2_CH_19.parquet', 'NF-ToN-IoT-v2_CH_20.parquet', 'NF-ToN-IoT-v2_CH_21.parquet', 'NF-ToN-IoT-v2_CH_22.parquet', 'NF-ToN-IoT-v2_CH_23.parquet', 'NF-ToN-IoT-v2_CH_24.parquet', 'NF-ToN-IoT-v2_CH_25.parquet', 'NF-ToN-IoT-v2_CH_26.parquet', 'NF-ToN-IoT-v2_CH_27.parquet', 'NF-ToN-IoT-v2_CH_28.parquet', 'NF-ToN-IoT-v2_CH_29.parquet', 'NF-ToN-IoT-v2_CH_30.parquet', 'NF-ToN-IoT-v2_CH_31.parquet', 'NF-ToN-IoT-v2_CH_32.parquet', 'NF-ToN-IoT-v2_CH_33.parquet', 'NF-ToN-IoT-v2_CH_34.parquet', 'NF-ToN-IoT-v2_CH_35.parquet', 'NF-ToN-IoT-v2_CH_36.parquet', 'NF-ToN-IoT-v2_CH_37.parquet', 'NF-ToN-IoT-v2_CH_38.parquet', 'NF-ToN-IoT-v2_CH_39.parquet', 'NF-ToN-IoT-v2_CH_40.parquet', 'NF-ToN-IoT-v2_CH_41.parquet', 'NF-ToN-IoT-v2_CH_42.parquet', 'NF-ToN-IoT-v2_CH_43.parquet', 'NF-ToN-IoT-v2_CH_44.parquet', 'NF-ToN-IoT-v2_CH_45.parquet', 'NF-ToN-IoT-v2_CH_46.parquet', 'NF-ToN-IoT-v2_CH_47.parquet', 'NF-ToN-IoT-v2_CH_48.parquet', 'NF-ToN-IoT-v2_CH_49.parquet', 'NF-ToN-IoT-v2_CH_50.parquet', 'NF-ToN-IoT-v2_CH_51.parquet', 'NF-ToN-IoT-v2_CH_52.parquet', 'NF-ToN-IoT-v2_CH_53.parquet', 'NF-ToN-IoT-v2_CH_54.parquet', 'NF-ToN-IoT-v2_CH_55.parquet', 'NF-ToN-IoT-v2_CH_56.parquet', 'NF-ToN-IoT-v2_CH_57.parquet', 'NF-ToN-IoT-v2_CH_58.parquet', 'NF-ToN-IoT-v2_CH_59.parquet', 'NF-ToN-IoT-v2_CH_60.parquet', 'NF-ToN-IoT-v2_CH_61.parquet', 'NF-ToN-IoT-v2_CH_62.parquet', 'NF-ToN-IoT-v2_CH_63.parquet', 'NF-ToN-IoT-v2_CH_64.parquet', 'NF-ToN-IoT-v2_CH_65.parquet', 'NF-ToN-IoT-v2_CH_66.parquet', 'NF-ToN-IoT-v2_CH_67.parquet', 'NF-ToN-IoT-v2_CH_68.parquet', 'NF-ToN-IoT-v2_CH_69.parquet', 'NF-ToN-IoT-v2_CH_70.parquet', 'NF-ToN-IoT-v2_CH_71.parquet', 'NF-ToN-IoT-v2_CH_72.parquet', 'NF-ToN-IoT-v2_CH_73.parquet', 'NF-ToN-IoT-v2_CH_74.parquet', 'NF-ToN-IoT-v2_CH_75.parquet', 'NF-ToN-IoT-v2_CH_76.parquet', 'NF-ToN-IoT-v2_CH_77.parquet', 'NF-ToN-IoT-v2_CH_78.parquet', 'NF-ToN-IoT-v2_CH_79.parquet', 'NF-ToN-IoT-v2_CH_80.parquet', 'NF-ToN-IoT-v2_CH_81.parquet', 'NF-ToN-IoT-v2_CH_82.parquet', 'NF-ToN-IoT-v2_CH_83.parquet', 'NF-ToN-IoT-v2_CH_84.parquet', 'NF-ToN-IoT-v2_CH_85.parquet', 'NF-ToN-IoT-v2_CH_86.parquet', 'NF-ToN-IoT-v2_CH_87.parquet', 'NF-ToN-IoT-v2_CH_88.parquet', 'NF-ToN-IoT-v2_CH_89.parquet', 'NF-ToN-IoT-v2_CH_90.parquet', 'NF-ToN-IoT-v2_CH_91.parquet', 'NF-ToN-IoT-v2_CH_92.parquet', 'NF-ToN-IoT-v2_CH_93.parquet', 'NF-ToN-IoT-v2_CH_94.parquet', 'NF-ToN-IoT-v2_CH_95.parquet', 'NF-ToN-IoT-v2_CH_96.parquet', 'NF-ToN-IoT-v2_CH_97.parquet', 'NF-ToN-IoT-v2_CH_98.parquet', 'NF-ToN-IoT-v2_CH_99.parquet', 'NF-ToN-IoT-v2_CH_100.parquet', 'NF-ToN-IoT-v2_CH_101.parquet', 'NF-ToN-IoT-v2_CH_102.parquet', 'NF-ToN-IoT-v2_CH_103.parquet', 'NF-ToN-IoT-v2_CH_104.parquet', 'NF-ToN-IoT-v2_CH_105.parquet', 'NF-ToN-IoT-v2_CH_106.parquet', 'NF-ToN-IoT-v2_CH_107.parquet', 'NF-ToN-IoT-v2_CH_108.parquet', 'NF-ToN-IoT-v2_CH_109.parquet', 'NF-ToN-IoT-v2_CH_110.parquet', 'NF-ToN-IoT-v2_CH_111.parquet', 'NF-ToN-IoT-v2_CH_112.parquet', 'NF-ToN-IoT-v2_CH_113.parquet', 'NF-ToN-IoT-v2_CH_114.parquet', 'NF-ToN-IoT-v2_CH_115.parquet', 'NF-ToN-IoT-v2_CH_116.parquet', 'NF-ToN-IoT-v2_CH_117.parquet', 'NF-ToN-IoT-v2_CH_118.parquet', 'NF-ToN-IoT-v2_CH_119.parquet', 'NF-ToN-IoT-v2_CH_120.parquet', 'NF-ToN-IoT-v2_CH_121.parquet', 'NF-ToN-IoT-v2_CH_122.parquet', 'NF-ToN-IoT-v2_CH_123.parquet', 'NF-ToN-IoT-v2_CH_124.parquet', 'NF-ToN-IoT-v2_CH_125.parquet', 'NF-ToN-IoT-v2_CH_126.parquet', 'NF-ToN-IoT-v2_CH_127.parquet', 'NF-ToN-IoT-v2_CH_128.parquet', 'NF-ToN-IoT-v2_CH_129.parquet', 'NF-ToN-IoT-v2_CH_130.parquet', 'NF-ToN-IoT-v2_CH_131.parquet', 'NF-ToN-IoT-v2_CH_132.parquet', 'NF-ToN-IoT-v2_CH_133.parquet', 'NF-ToN-IoT-v2_CH_134.parquet', 'NF-ToN-IoT-v2_CH_135.parquet', 'NF-ToN-IoT-v2_CH_136.parquet', 'NF-ToN-IoT-v2_CH_137.parquet', 'NF-ToN-IoT-v2_CH_138.parquet', 'NF-ToN-IoT-v2_CH_139.parquet', 'NF-ToN-IoT-v2_CH_140.parquet', 'NF-ToN-IoT-v2_CH_141.parquet', 'NF-ToN-IoT-v2_CH_142.parquet', 'NF-ToN-IoT-v2_CH_143.parquet', 'NF-ToN-IoT-v2_CH_144.parquet', 'NF-ToN-IoT-v2_CH_145.parquet', 'NF-ToN-IoT-v2_CH_146.parquet', 'NF-ToN-IoT-v2_CH_147.parquet', 'NF-ToN-IoT-v2_CH_148.parquet', 'NF-ToN-IoT-v2_CH_149.parquet', 'NF-ToN-IoT-v2_CH_150.parquet', 'NF-ToN-IoT-v2_CH_151.parquet', 'NF-ToN-IoT-v2_CH_152.parquet', 'NF-ToN-IoT-v2_CH_153.parquet', 'NF-ToN-IoT-v2_CH_154.parquet', 'NF-ToN-IoT-v2_CH_155.parquet', 'NF-ToN-IoT-v2_CH_156.parquet', 'NF-ToN-IoT-v2_CH_157.parquet', 'NF-ToN-IoT-v2_CH_158.parquet', 'NF-ToN-IoT-v2_CH_159.parquet', 'NF-ToN-IoT-v2_CH_160.parquet', 'NF-ToN-IoT-v2_CH_161.parquet', 'NF-ToN-IoT-v2_CH_162.parquet', 'NF-ToN-IoT-v2_CH_163.parquet', 'NF-ToN-IoT-v2_CH_164.parquet', 'NF-ToN-IoT-v2_CH_165.parquet', 'NF-ToN-IoT-v2_CH_166.parquet', 'NF-ToN-IoT-v2_CH_167.parquet', 'NF-ToN-IoT-v2_CH_168.parquet', 'NF-ToN-IoT-v2_CH_169.parquet']\n",
            "170\n"
          ]
        }
      ]
    },
    {
      "cell_type": "code",
      "source": [
        "import pickle\n",
        "import numpy as np\n",
        "import scipy.stats as statists\n",
        "from scipy.stats import skew, kurtosis\n",
        "from scipy.stats import boxcox\n",
        "from scipy.stats import yeojohnson\n",
        "directory = '/content/gdrive/MyDrive/NF_ToN_IoT_v2_full170chunks'\n",
        "varta = [4,  5,  6,  7,  8,  9, 10, 11, 12, 13, 14, 15, 16, 17, 18, 19, 20, 23, 24, 25, 26, 27, 28, 29, 30, 31,\n",
        "         32, 33, 34, 35, 36, 37, 38, 39, 40, 41, 42]\n",
        "daList = ['IPV4_SRC_ADDR', 'L4_SRC_PORT', 'IPV4_DST_ADDR', 'L4_DST_PORT','PROTOCOL', 'L7_PROTO', 'IN_BYTES', 'IN_PKTS', 'OUT_BYTES', 'OUT_PKTS','TCP_FLAGS',\n",
        "          'CLIENT_TCP_FLAGS', 'SERVER_TCP_FLAGS','FLOW_DURATION_MILLISECONDS', 'DURATION_IN', 'DURATION_OUT', 'MIN_TTL','MAX_TTL', 'LONGEST_FLOW_PKT', 'SHORTEST_FLOW_PKT',\n",
        "          'MIN_IP_PKT_LEN','MAX_IP_PKT_LEN', 'SRC_TO_DST_SECOND_BYTES', 'DST_TO_SRC_SECOND_BYTES','RETRANSMITTED_IN_BYTES', 'RETRANSMITTED_IN_PKTS','RETRANSMITTED_OUT_BYTES',\n",
        "          'RETRANSMITTED_OUT_PKTS','SRC_TO_DST_AVG_THROUGHPUT', 'DST_TO_SRC_AVG_THROUGHPUT','NUM_PKTS_UP_TO_128_BYTES', 'NUM_PKTS_128_TO_256_BYTES','NUM_PKTS_256_TO_512_BYTES',\n",
        "          'NUM_PKTS_512_TO_1024_BYTES','NUM_PKTS_1024_TO_1514_BYTES', 'TCP_WIN_MAX_IN', 'TCP_WIN_MAX_OUT','ICMP_TYPE', 'ICMP_IPV4_TYPE', 'DNS_QUERY_ID', 'DNS_QUERY_TYPE',\n",
        "          'DNS_TTL_ANSWER', 'FTP_COMMAND_RET_CODE', 'Label', 'Attack']"
      ],
      "metadata": {
        "id": "K2h2c0pSm_hw"
      },
      "execution_count": null,
      "outputs": []
    },
    {
      "cell_type": "code",
      "source": [
        "def open_pkl(a_path,column_no, a_tail):\n",
        "  outPut_filePath = a_path + \"/ton_iot_\" + daList[varta[column_no]] + a_tail\n",
        "  with open(outPut_filePath, 'rb') as f:\n",
        "    a_work_column = pickle.load(f)\n",
        "    print(a_work_column.shape,daList[varta[column_no]])\n",
        "    return a_work_column\n",
        "\n",
        "\n",
        "def save_pkl(a_path,column_no,this_data,a_tail):# e.g. a_tail = '_mod.pkl'\n",
        "  modFileName = a_path + \"/ton_iot_\" + daList[varta[column_no]] + a_tail\n",
        "  with open(modFileName, 'wb') as f:\n",
        "    pickle.dump(this_data,f)"
      ],
      "metadata": {
        "id": "GSLt_JvBFS_C"
      },
      "execution_count": null,
      "outputs": []
    },
    {
      "cell_type": "code",
      "source": [
        "groupI = [0,6,7,8,12,13,32,36,33,1]\n",
        "groupII = [2,3,14,15,17,9,4]\n",
        "groupIII = [5,10,11,16,18,19,20,21,22,23,24,25,26,27,28,29,30,31,34,35]\n",
        "\n",
        "def zij(x_value, a_mean,a_sig):\n",
        "  return (x_value-a_mean)/a_sig"
      ],
      "metadata": {
        "id": "w1kJdAhCnLxX"
      },
      "execution_count": null,
      "outputs": []
    },
    {
      "cell_type": "code",
      "source": [
        "#16940496; seeds = 1066, 1458,1897, 1908,1916, 1935, 1938\n",
        "the_seed = 1897\n",
        "a_tail =  str(the_seed)\n",
        "outPut_filePath = zepa + \"/ton_iot_indices_set\" + a_tail + '.pkl'\n",
        "with open(outPut_filePath,'rb') as f:\n",
        "    full_set = pickle.load(f)\n",
        "    print(full_set[1].shape,full_set[2].shape,full_set[3].shape)\n",
        "    stdize_set = np.hstack((full_set[1],full_set[2],full_set[3]))\n",
        "\n",
        "print(stdize_set.shape)\n",
        "\n",
        "mean_std_FileName = zepa + \"/ton_iot_mean_std_\" + a_tail + '.pkl'\n",
        "with open(mean_std_FileName, 'rb') as f:\n",
        "  mus_stds = pickle.load(f)\n",
        "mus_stds"
      ],
      "metadata": {
        "colab": {
          "base_uri": "https://localhost:8080/"
        },
        "id": "bOjGj54_nYng",
        "outputId": "effb0399-5416-4c48-a4ed-54398845e9b3"
      },
      "execution_count": null,
      "outputs": [
        {
          "output_type": "stream",
          "name": "stdout",
          "text": [
            "(350000,) (75000,) (75000,)\n",
            "(500000,)\n"
          ]
        },
        {
          "output_type": "execute_result",
          "data": {
            "text/plain": [
              "[(0.11609112280701757, 0.06890933633963435),\n",
              " (0.05558305445967742, 0.1292883994281019),\n",
              " (1.8698749854676902, 0.11933687008241456),\n",
              " (0.26153404596861174, 0.35709070849454483),\n",
              " (13.105746505574668, 24.569734319516304),\n",
              " (-0.7983941491593948, 0.7418473933452729),\n",
              " (0.05744515695067264, 0.05056397978345212),\n",
              " (0.04265828699551571, 0.04891578652986445),\n",
              " (0.049503461883408095, 0.05173963003631392),\n",
              " (0.5353492496171889, 1.1212388685560315),\n",
              " (0.8887579435586836, 2.2321610189490153),\n",
              " (0.8495847239309142, 2.171676659953891),\n",
              " (0.09387105098039213, 0.13377790749198712),\n",
              " (0.09396408627450979, 0.13386850478313608),\n",
              " (0.9349015252767617, 0.006468855869888384),\n",
              " (0.4322573085679701, 2.0542338482471724e-05),\n",
              " (2.3278874948427126, 1.7929733158151875),\n",
              " (0.1751260282889828, 0.13407822410360573),\n",
              " (0.13492994390616164, 1.17313859119306),\n",
              " (0.01986824366085367, 0.16615469869553498),\n",
              " (0.24699205516913617, 1.8971733185647595),\n",
              " (0.03537427970282524, 0.2665813787380075),\n",
              " (91.90079135631467, 61.42420942048311),\n",
              " (67.75284605879719, 83.93819777156351),\n",
              " (1.5067852369667827, 1.4630276939709634),\n",
              " (0.11051748028848217, 0.37881464530861986),\n",
              " (0.17245767049331628, 0.45695999539287774),\n",
              " (0.10899022434664134, 0.3259431418589436),\n",
              " (0.15746928058565504, 0.44595263138277635),\n",
              " (16.111865153999023, 11.296644836768023),\n",
              " (413.17040789994996, 656.1364519308225),\n",
              " (0.45289281176426915, 3.6604698358949284),\n",
              " (0.006695317647058824, 0.06364646638391037),\n",
              " (0.141602, 0.3486414685547317),\n",
              " (0.2402922409299393, 0.7004011202770583),\n",
              " (1.1433586901166415, 7.426273841274531),\n",
              " (0.0026644846292947556, 0.046550724842022516)]"
            ]
          },
          "metadata": {},
          "execution_count": 45
        }
      ]
    },
    {
      "cell_type": "code",
      "source": [
        "groupI_datablock = []\n",
        "for p in range(len(groupI)):\n",
        "    working_column = open_pkl(zepa,groupI[p],'_mod.pkl')\n",
        "    working_column = working_column.T\n",
        "    ind_column = working_column[stdize_set,1]\n",
        "    groupI_datablock.append(ind_column)\n",
        "    del working_column\n",
        "    gc.collect()\n",
        "groupI_datablock = np.array(groupI_datablock)\n",
        "groupI_datablock = groupI_datablock.T\n",
        "print(groupI_datablock.shape)"
      ],
      "metadata": {
        "colab": {
          "base_uri": "https://localhost:8080/"
        },
        "id": "tNahNovoW3YG",
        "outputId": "ccf641ab-4196-474f-98b1-fd7e1cb05c1c"
      },
      "execution_count": null,
      "outputs": [
        {
          "output_type": "stream",
          "name": "stdout",
          "text": [
            "(2, 16940496) PROTOCOL\n",
            "(2, 16940496) TCP_FLAGS\n",
            "(2, 16940496) CLIENT_TCP_FLAGS\n",
            "(2, 16940496) SERVER_TCP_FLAGS\n",
            "(2, 16940496) MIN_TTL\n",
            "(2, 16940496) MAX_TTL\n",
            "(2, 16940496) ICMP_IPV4_TYPE\n",
            "(2, 16940496) FTP_COMMAND_RET_CODE\n",
            "(2, 16940496) DNS_QUERY_ID\n",
            "(2, 16940496) L7_PROTO\n",
            "(500000, 10)\n"
          ]
        }
      ]
    },
    {
      "cell_type": "code",
      "source": [
        "outPut_filePath = zepa + \"/ton_iot_datablockI_\" + a_tail + '.pkl'\n",
        "with open(outPut_filePath, 'wb') as f:\n",
        "  pickle.dump(groupI_datablock,f)\n"
      ],
      "metadata": {
        "id": "zM_-sY53YFZd"
      },
      "execution_count": null,
      "outputs": []
    },
    {
      "cell_type": "code",
      "source": [
        "groupII_datablock = []\n",
        "for p in range(len(groupII)):\n",
        "    en_mean = mus_stds[groupII[p]][0]\n",
        "    en_std = mus_stds[groupII[p]][1]\n",
        "    working_column = open_pkl(zepa,groupII[p],'mod.pkl')\n",
        "    working_column = working_column.T\n",
        "    ind_column = working_column[stdize_set,1]\n",
        "    ind_column = [0 if item == 0 else zij(item,en_mean,en_std) for item in ind_column]\n",
        "    groupII_datablock.append(ind_column)\n",
        "\n",
        "    del working_column\n",
        "    gc.collect()\n",
        "groupII_datablock = np.array(groupII_datablock)\n",
        "groupII_datablock = groupII_datablock.T\n",
        "print(groupII_datablock.shape)"
      ],
      "metadata": {
        "colab": {
          "base_uri": "https://localhost:8080/"
        },
        "id": "-cY8fA6sZTLc",
        "outputId": "d69c8b48-fb99-41ab-843e-068c8ccf5fd5"
      },
      "execution_count": null,
      "outputs": [
        {
          "output_type": "stream",
          "name": "stdout",
          "text": [
            "(2, 16940496) IN_BYTES\n",
            "(2, 16940496) IN_PKTS\n",
            "(2, 16940496) LONGEST_FLOW_PKT\n",
            "(2, 16940496) SHORTEST_FLOW_PKT\n",
            "(2, 16940496) DST_TO_SRC_SECOND_BYTES\n",
            "(2, 16940496) FLOW_DURATION_MILLISECONDS\n",
            "(2, 16940496) OUT_BYTES\n",
            "(500000, 7)\n"
          ]
        }
      ]
    },
    {
      "cell_type": "code",
      "source": [
        "outPut_filePath = zepa + \"/ton_iot_datablockII_\" + a_tail + '.pkl'\n",
        "with open(outPut_filePath, 'wb') as f:\n",
        "  pickle.dump(groupII_datablock,f)"
      ],
      "metadata": {
        "id": "ugokgu73bdRs"
      },
      "execution_count": null,
      "outputs": []
    },
    {
      "cell_type": "code",
      "source": [
        "groupIII_datablock = []\n",
        "for p in range(len(groupIII)):\n",
        "    en_mean = mus_stds[groupIII[p]][0]\n",
        "    en_std = mus_stds[groupIII[p]][1]\n",
        "    working_column = open_pkl(zepa,groupIII[p],'mod.pkl')\n",
        "    working_column = working_column.T\n",
        "    dop_column = working_column[stdize_set,1]\n",
        "    ind_column = working_column[stdize_set,2]\n",
        "    ind_column = [0 if dop_column[p] == 1 and ind_column[p] == 0 else zij(ind_column[p],en_mean,en_std) for p in range(len(ind_column))]\n",
        "    groupIII_datablock.append(dop_column)\n",
        "    groupIII_datablock.append(ind_column)\n",
        "    del working_column\n",
        "    del dop_column\n",
        "    gc.collect()\n",
        "groupIII_datablock = np.array(groupIII_datablock)\n",
        "groupIII_datablock = groupIII_datablock.T\n",
        "print(groupIII_datablock.shape)"
      ],
      "metadata": {
        "colab": {
          "base_uri": "https://localhost:8080/"
        },
        "id": "CoCFHTxOcCqc",
        "outputId": "782478ec-fa34-4625-a42e-0980dcc779bc"
      },
      "execution_count": null,
      "outputs": [
        {
          "output_type": "stream",
          "name": "stdout",
          "text": [
            "(3, 16940496) OUT_PKTS\n",
            "(3, 16940496) DURATION_IN\n",
            "(3, 16940496) DURATION_OUT\n",
            "(3, 16940496) MIN_IP_PKT_LEN\n",
            "(3, 16940496) RETRANSMITTED_IN_BYTES\n",
            "(3, 16940496) RETRANSMITTED_IN_PKTS\n",
            "(3, 16940496) RETRANSMITTED_OUT_BYTES\n",
            "(3, 16940496) RETRANSMITTED_OUT_PKTS\n",
            "(3, 16940496) SRC_TO_DST_AVG_THROUGHPUT\n",
            "(3, 16940496) DST_TO_SRC_AVG_THROUGHPUT\n",
            "(3, 16940496) NUM_PKTS_UP_TO_128_BYTES\n",
            "(3, 16940496) NUM_PKTS_128_TO_256_BYTES\n",
            "(3, 16940496) NUM_PKTS_256_TO_512_BYTES\n",
            "(3, 16940496) NUM_PKTS_512_TO_1024_BYTES\n",
            "(3, 16940496) NUM_PKTS_1024_TO_1514_BYTES\n",
            "(3, 16940496) TCP_WIN_MAX_IN\n",
            "(3, 16940496) TCP_WIN_MAX_OUT\n",
            "(3, 16940496) ICMP_TYPE\n",
            "(3, 16940496) DNS_QUERY_TYPE\n",
            "(3, 16940496) DNS_TTL_ANSWER\n",
            "(500000, 40)\n"
          ]
        }
      ]
    },
    {
      "cell_type": "code",
      "source": [
        "outPut_filePath = zepa + \"/ton_iot_datablockIII_\" + a_tail + '.pkl'\n",
        "with open(outPut_filePath, 'wb') as f:\n",
        "  pickle.dump(groupIII_datablock,f)"
      ],
      "metadata": {
        "id": "3iA9LvYgdNFP"
      },
      "execution_count": null,
      "outputs": []
    },
    {
      "cell_type": "code",
      "source": [
        "numpyfiles = [filename for filename in os.listdir(zepa) if filename.endswith('.npy')]\n",
        "numpyfiles"
      ],
      "metadata": {
        "colab": {
          "base_uri": "https://localhost:8080/"
        },
        "id": "aMvn2M3To6Kf",
        "outputId": "78a328f0-fcb0-4032-fc5c-5c22d8bdc368"
      },
      "execution_count": null,
      "outputs": [
        {
          "output_type": "execute_result",
          "data": {
            "text/plain": [
              "['all_labels.npy']"
            ]
          },
          "metadata": {},
          "execution_count": 69
        }
      ]
    },
    {
      "cell_type": "code",
      "source": [
        "\n",
        "labels_path = zepa + '/all_labels.npy'\n",
        "my_labels = np.load(labels_path)\n",
        "print(my_labels[0:10])\n"
      ],
      "metadata": {
        "colab": {
          "base_uri": "https://localhost:8080/"
        },
        "id": "_xM-SmudpLON",
        "outputId": "1ca2c585-e935-4f02-9f6e-d4819c00f32d"
      },
      "execution_count": null,
      "outputs": [
        {
          "output_type": "stream",
          "name": "stdout",
          "text": [
            "[1 0 0 0 0 1 0 0 0 0]\n"
          ]
        }
      ]
    },
    {
      "cell_type": "code",
      "source": [
        "print(my_labels.shape)"
      ],
      "metadata": {
        "colab": {
          "base_uri": "https://localhost:8080/"
        },
        "id": "GDG9KCRBqJ7a",
        "outputId": "4bd30f52-f937-4092-b742-726b4447ea0e"
      },
      "execution_count": null,
      "outputs": [
        {
          "output_type": "stream",
          "name": "stdout",
          "text": [
            "(16940496,)\n"
          ]
        }
      ]
    },
    {
      "cell_type": "code",
      "source": [
        "#Need to make analogous entries for labels\n",
        "#16940496; seeds = 1066, 1458,1897, 1908,1916, 1935, 1938\n",
        "the_seed = 1938\n",
        "a_tail =  str(the_seed)\n",
        "outPut_filePath = zepa + \"/ton_iot_indices_set\" + a_tail + '.pkl'\n",
        "with open(outPut_filePath,'rb') as f:\n",
        "    full_set = pickle.load(f)\n",
        "    print(full_set[1].shape,full_set[2].shape,full_set[3].shape)\n",
        "    stdize_set = np.hstack((full_set[1],full_set[2],full_set[3]))\n",
        "\n",
        "print(stdize_set.shape)"
      ],
      "metadata": {
        "colab": {
          "base_uri": "https://localhost:8080/"
        },
        "id": "700lNrFTpykz",
        "outputId": "42081b86-4553-4a01-d13d-4e2f8636ccd0"
      },
      "execution_count": null,
      "outputs": [
        {
          "output_type": "stream",
          "name": "stdout",
          "text": [
            "(350000,) (75000,) (75000,)\n",
            "(500000,)\n"
          ]
        }
      ]
    },
    {
      "cell_type": "code",
      "source": [
        "working_labels = my_labels[stdize_set]\n",
        "labels_newpath = zepa + '/labels_seeded_' + a_tail + '.npy'\n",
        "np.save(labels_newpath,working_labels)"
      ],
      "metadata": {
        "id": "VlBNXWi-qCfh"
      },
      "execution_count": null,
      "outputs": []
    },
    {
      "cell_type": "code",
      "source": [
        "label_files = [filename for filename in os.listdir(zepa) if filename.endswith('.npy')]\n",
        "print(label_files)"
      ],
      "metadata": {
        "colab": {
          "base_uri": "https://localhost:8080/"
        },
        "id": "9LlWYDturOkk",
        "outputId": "2c876021-1af7-4517-9a33-838781ba6209"
      },
      "execution_count": null,
      "outputs": [
        {
          "output_type": "stream",
          "name": "stdout",
          "text": [
            "['all_labels.npy', 'labels_seeded_1066.npy', 'labels_seeded_1458.npy', 'labels_seeded_1897.npy', 'labels_seeded_1908.npy', 'labels_seeded_1916.npy', 'labels_seeded_1935.npy', 'labels_seeded_1938.npy']\n"
          ]
        }
      ]
    }
  ]
}