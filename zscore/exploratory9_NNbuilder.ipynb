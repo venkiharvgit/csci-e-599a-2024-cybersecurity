{
  "cells": [
    {
      "cell_type": "code",
      "execution_count": null,
      "metadata": {
        "id": "EZkqN7Lk8kCo"
      },
      "outputs": [],
      "source": [
        "import tensorflow as tf\n",
        "import math\n",
        "import numpy as np\n",
        "import pickle\n",
        "import gc"
      ]
    },
    {
      "cell_type": "code",
      "execution_count": null,
      "metadata": {
        "colab": {
          "base_uri": "https://localhost:8080/"
        },
        "outputId": "a1204e44-124e-4470-c971-ae41788326d1",
        "id": "DrudncCriv8z"
      },
      "outputs": [
        {
          "name": "stdout",
          "output_type": "stream",
          "text": [
            "Model: \"model\"\n",
            "__________________________________________________________________________________________________\n",
            " Layer (type)                   Output Shape         Param #     Connected to                     \n",
            "==================================================================================================\n",
            " inputI (InputLayer)            [(None, 10)]         0           []                               \n",
            "                                                                                                  \n",
            " inputII (InputLayer)           [(None, 7)]          0           []                               \n",
            "                                                                                                  \n",
            " input_III_0 (InputLayer)       [(None, 2)]          0           []                               \n",
            "                                                                                                  \n",
            " input_III_1 (InputLayer)       [(None, 2)]          0           []                               \n",
            "                                                                                                  \n",
            " input_III_2 (InputLayer)       [(None, 2)]          0           []                               \n",
            "                                                                                                  \n",
            " input_III_3 (InputLayer)       [(None, 2)]          0           []                               \n",
            "                                                                                                  \n",
            " input_III_4 (InputLayer)       [(None, 2)]          0           []                               \n",
            "                                                                                                  \n",
            " input_III_5 (InputLayer)       [(None, 2)]          0           []                               \n",
            "                                                                                                  \n",
            " input_III_6 (InputLayer)       [(None, 2)]          0           []                               \n",
            "                                                                                                  \n",
            " input_III_7 (InputLayer)       [(None, 2)]          0           []                               \n",
            "                                                                                                  \n",
            " input_III_8 (InputLayer)       [(None, 2)]          0           []                               \n",
            "                                                                                                  \n",
            " input_III_9 (InputLayer)       [(None, 2)]          0           []                               \n",
            "                                                                                                  \n",
            " input_III_10 (InputLayer)      [(None, 2)]          0           []                               \n",
            "                                                                                                  \n",
            " input_III_11 (InputLayer)      [(None, 2)]          0           []                               \n",
            "                                                                                                  \n",
            " input_III_12 (InputLayer)      [(None, 2)]          0           []                               \n",
            "                                                                                                  \n",
            " input_III_13 (InputLayer)      [(None, 2)]          0           []                               \n",
            "                                                                                                  \n",
            " input_III_14 (InputLayer)      [(None, 2)]          0           []                               \n",
            "                                                                                                  \n",
            " input_III_15 (InputLayer)      [(None, 2)]          0           []                               \n",
            "                                                                                                  \n",
            " input_III_16 (InputLayer)      [(None, 2)]          0           []                               \n",
            "                                                                                                  \n",
            " input_III_17 (InputLayer)      [(None, 2)]          0           []                               \n",
            "                                                                                                  \n",
            " input_III_18 (InputLayer)      [(None, 2)]          0           []                               \n",
            "                                                                                                  \n",
            " input_III_19 (InputLayer)      [(None, 2)]          0           []                               \n",
            "                                                                                                  \n",
            " inputI_dense1 (Dense)          (None, 4)            44          ['inputI[0][0]']                 \n",
            "                                                                                                  \n",
            " inputII_dense1 (Dense)         (None, 4)            32          ['inputII[0][0]']                \n",
            "                                                                                                  \n",
            " denseIII_1_0 (Dense)           (None, 4)            12          ['input_III_0[0][0]']            \n",
            "                                                                                                  \n",
            " denseIII_1_1 (Dense)           (None, 4)            12          ['input_III_1[0][0]']            \n",
            "                                                                                                  \n",
            " denseIII_1_2 (Dense)           (None, 4)            12          ['input_III_2[0][0]']            \n",
            "                                                                                                  \n",
            " denseIII_1_3 (Dense)           (None, 4)            12          ['input_III_3[0][0]']            \n",
            "                                                                                                  \n",
            " denseIII_1_4 (Dense)           (None, 4)            12          ['input_III_4[0][0]']            \n",
            "                                                                                                  \n",
            " denseIII_1_5 (Dense)           (None, 4)            12          ['input_III_5[0][0]']            \n",
            "                                                                                                  \n",
            " denseIII_1_6 (Dense)           (None, 4)            12          ['input_III_6[0][0]']            \n",
            "                                                                                                  \n",
            " denseIII_1_7 (Dense)           (None, 4)            12          ['input_III_7[0][0]']            \n",
            "                                                                                                  \n",
            " denseIII_1_8 (Dense)           (None, 4)            12          ['input_III_8[0][0]']            \n",
            "                                                                                                  \n",
            " denseIII_1_9 (Dense)           (None, 4)            12          ['input_III_9[0][0]']            \n",
            "                                                                                                  \n",
            " denseIII_1_10 (Dense)          (None, 4)            12          ['input_III_10[0][0]']           \n",
            "                                                                                                  \n",
            " denseIII_1_11 (Dense)          (None, 4)            12          ['input_III_11[0][0]']           \n",
            "                                                                                                  \n",
            " denseIII_1_12 (Dense)          (None, 4)            12          ['input_III_12[0][0]']           \n",
            "                                                                                                  \n",
            " denseIII_1_13 (Dense)          (None, 4)            12          ['input_III_13[0][0]']           \n",
            "                                                                                                  \n",
            " denseIII_1_14 (Dense)          (None, 4)            12          ['input_III_14[0][0]']           \n",
            "                                                                                                  \n",
            " denseIII_1_15 (Dense)          (None, 4)            12          ['input_III_15[0][0]']           \n",
            "                                                                                                  \n"
          ]
        },
        {
          "name": "stdout",
          "output_type": "stream",
          "text": [
            " denseIII_1_16 (Dense)          (None, 4)            12          ['input_III_16[0][0]']           \n",
            "                                                                                                  \n",
            " denseIII_1_17 (Dense)          (None, 4)            12          ['input_III_17[0][0]']           \n",
            "                                                                                                  \n",
            " denseIII_1_18 (Dense)          (None, 4)            12          ['input_III_18[0][0]']           \n",
            "                                                                                                  \n",
            " denseIII_1_19 (Dense)          (None, 4)            12          ['input_III_19[0][0]']           \n",
            "                                                                                                  \n",
            " inputI_dense2 (Dense)          (None, 4)            20          ['inputI_dense1[0][0]']          \n",
            "                                                                                                  \n",
            " inputII_dense2 (Dense)         (None, 4)            20          ['inputII_dense1[0][0]']         \n",
            "                                                                                                  \n",
            " denseIII_2_0 (Dense)           (None, 8)            40          ['denseIII_1_0[0][0]']           \n",
            "                                                                                                  \n",
            " denseIII_2_1 (Dense)           (None, 8)            40          ['denseIII_1_1[0][0]']           \n",
            "                                                                                                  \n",
            " denseIII_2_2 (Dense)           (None, 8)            40          ['denseIII_1_2[0][0]']           \n",
            "                                                                                                  \n",
            " denseIII_2_3 (Dense)           (None, 8)            40          ['denseIII_1_3[0][0]']           \n",
            "                                                                                                  \n",
            " denseIII_2_4 (Dense)           (None, 8)            40          ['denseIII_1_4[0][0]']           \n",
            "                                                                                                  \n",
            " denseIII_2_5 (Dense)           (None, 8)            40          ['denseIII_1_5[0][0]']           \n",
            "                                                                                                  \n",
            " denseIII_2_6 (Dense)           (None, 8)            40          ['denseIII_1_6[0][0]']           \n",
            "                                                                                                  \n",
            " denseIII_2_7 (Dense)           (None, 8)            40          ['denseIII_1_7[0][0]']           \n",
            "                                                                                                  \n",
            " denseIII_2_8 (Dense)           (None, 8)            40          ['denseIII_1_8[0][0]']           \n",
            "                                                                                                  \n",
            " denseIII_2_9 (Dense)           (None, 8)            40          ['denseIII_1_9[0][0]']           \n",
            "                                                                                                  \n",
            " denseIII_2_10 (Dense)          (None, 8)            40          ['denseIII_1_10[0][0]']          \n",
            "                                                                                                  \n",
            " denseIII_2_11 (Dense)          (None, 8)            40          ['denseIII_1_11[0][0]']          \n",
            "                                                                                                  \n",
            " denseIII_2_12 (Dense)          (None, 8)            40          ['denseIII_1_12[0][0]']          \n",
            "                                                                                                  \n",
            " denseIII_2_13 (Dense)          (None, 8)            40          ['denseIII_1_13[0][0]']          \n",
            "                                                                                                  \n",
            " denseIII_2_14 (Dense)          (None, 8)            40          ['denseIII_1_14[0][0]']          \n",
            "                                                                                                  \n",
            " denseIII_2_15 (Dense)          (None, 8)            40          ['denseIII_1_15[0][0]']          \n",
            "                                                                                                  \n",
            " denseIII_2_16 (Dense)          (None, 8)            40          ['denseIII_1_16[0][0]']          \n",
            "                                                                                                  \n",
            " denseIII_2_17 (Dense)          (None, 8)            40          ['denseIII_1_17[0][0]']          \n",
            "                                                                                                  \n",
            " denseIII_2_18 (Dense)          (None, 8)            40          ['denseIII_1_18[0][0]']          \n",
            "                                                                                                  \n",
            " denseIII_2_19 (Dense)          (None, 8)            40          ['denseIII_1_19[0][0]']          \n",
            "                                                                                                  \n",
            " concatenated_output (Concatena  (None, 168)         0           ['inputI_dense2[0][0]',          \n",
            " te)                                                              'inputII_dense2[0][0]',         \n",
            "                                                                  'denseIII_2_0[0][0]',           \n",
            "                                                                  'denseIII_2_1[0][0]',           \n",
            "                                                                  'denseIII_2_2[0][0]',           \n",
            "                                                                  'denseIII_2_3[0][0]',           \n",
            "                                                                  'denseIII_2_4[0][0]',           \n",
            "                                                                  'denseIII_2_5[0][0]',           \n",
            "                                                                  'denseIII_2_6[0][0]',           \n",
            "                                                                  'denseIII_2_7[0][0]',           \n",
            "                                                                  'denseIII_2_8[0][0]',           \n",
            "                                                                  'denseIII_2_9[0][0]',           \n",
            "                                                                  'denseIII_2_10[0][0]',          \n",
            "                                                                  'denseIII_2_11[0][0]',          \n",
            "                                                                  'denseIII_2_12[0][0]',          \n",
            "                                                                  'denseIII_2_13[0][0]',          \n",
            "                                                                  'denseIII_2_14[0][0]',          \n",
            "                                                                  'denseIII_2_15[0][0]',          \n",
            "                                                                  'denseIII_2_16[0][0]',          \n",
            "                                                                  'denseIII_2_17[0][0]',          \n",
            "                                                                  'denseIII_2_18[0][0]',          \n",
            "                                                                  'denseIII_2_19[0][0]']          \n",
            "                                                                                                  \n",
            " dense1cct (Dense)              (None, 1024)         173056      ['concatenated_output[0][0]']    \n",
            "                                                                                                  \n",
            " dense2cct (Dense)              (None, 1024)         1049600     ['dense1cct[0][0]']              \n",
            "                                                                                                  \n",
            " dense3cct (Dense)              (None, 1024)         1049600     ['dense2cct[0][0]']              \n",
            "                                                                                                  \n",
            " dense (Dense)                  (None, 1)            1025        ['dense3cct[0][0]']              \n",
            "                                                                                                  \n"
          ]
        },
        {
          "name": "stdout",
          "output_type": "stream",
          "text": [
            "==================================================================================================\n",
            "Total params: 2,274,437\n",
            "Trainable params: 2,274,437\n",
            "Non-trainable params: 0\n",
            "__________________________________________________________________________________________________\n"
          ]
        }
      ],
      "source": [
        "def create_NN():\n",
        "    #Group I inputs-- 10\n",
        "    input_size_I = (10,)\n",
        "    input_size_II = (7,)\n",
        "    input_size_III = (2,)\n",
        "\n",
        "    input_layers = []\n",
        "    output_layers = []\n",
        "\n",
        "    input_layer_1 = tf.keras.layers.Input(shape = input_size_I, name='inputI')\n",
        "    input_layers.append(input_layer_1)\n",
        "    dense_layer_1_1 = tf.keras.layers.Dense(4, activation='relu', name='inputI_dense1')(input_layer_1)\n",
        "    dense_layer_1_2 = tf.keras.layers.Dense(4, activation='relu', name='inputI_dense2')(dense_layer_1_1)\n",
        "    output_layers.append(dense_layer_1_2)\n",
        "\n",
        "    #Group II\n",
        "    input_layer_2 = tf.keras.layers.Input(shape = input_size_II, name='inputII')\n",
        "    input_layers.append(input_layer_2)\n",
        "    dense_layer_2_1 = tf.keras.layers.Dense(4, activation='relu', name='inputII_dense1')(input_layer_2)\n",
        "    dense_layer_2_2 = tf.keras.layers.Dense(4, activation='relu', name='inputII_dense2')(dense_layer_2_1)\n",
        "    output_layers.append(dense_layer_2_2)\n",
        "\n",
        "    #Group III\n",
        "    for i in range(20):\n",
        "        input_layer = tf.keras.layers.Input(shape=input_size_III, name=f'input_III_{i}')\n",
        "        input_layers.append(input_layer)\n",
        "        dense_layer_1 = tf.keras.layers.Dense(4, activation='relu', name=f'denseIII_1_{i}')(input_layer)\n",
        "        dense_layer_2 = tf.keras.layers.Dense(8, activation='relu', name=f'denseIII_2_{i}')(dense_layer_1)\n",
        "        output_layers.append(dense_layer_2)\n",
        "\n",
        "    concat_output = tf.keras.layers.concatenate(output_layers, name='concatenated_output')\n",
        "\n",
        "    x1 = tf.keras.layers.Dense(1024, activation='relu', name='dense1cct')(concat_output)\n",
        "    x2 = tf.keras.layers.Dense(1024, activation='relu', name='dense2cct')(x1)\n",
        "    x3 = tf.keras.layers.Dense(1024, activation='relu', name='dense3cct')(x2)\n",
        "    output_layer = tf.keras.layers.Dense(1, activation='sigmoid')(x3)\n",
        "\n",
        "    model = tf.keras.models.Model(inputs=input_layers, outputs=output_layer)\n",
        "    return model\n",
        "\n",
        "\n",
        "\n",
        "en_mod = create_NN()\n",
        "en_mod.summary()"
      ]
    },
    {
      "cell_type": "code",
      "execution_count": null,
      "metadata": {
        "id": "uEos5uNCiv80"
      },
      "outputs": [],
      "source": [
        "en_mod.compile(optimizer='adam',loss=\"binary_crossentropy\",metrics=['accuracy'])"
      ]
    },
    {
      "cell_type": "code",
      "execution_count": null,
      "metadata": {
        "id": "dHzExisDiv80"
      },
      "outputs": [],
      "source": [
        "'''def create_NN2():\n",
        "    #Group I inputs-- 10\n",
        "    input_size_I = (10,)\n",
        "    input_size_II = (7,)\n",
        "    input_size_III = (2,)\n",
        "\n",
        "    input_layers = []\n",
        "    output_layers = []\n",
        "\n",
        "    input_layer_1 = tf.keras.layers.Input(shape = input_size_I, name='inputI')\n",
        "    input_layers.append(input_layer_1)\n",
        "    dense_layer_1_1 = tf.keras.layers.Dense(4, activation='relu', name='inputI_dense1')(input_layer_1)\n",
        "    dense_layer_1_2 = tf.keras.layers.Dense(4, activation='relu', name='inputI_dense2')(dense_layer_1_1)\n",
        "    #output_layers.append(dense_layer_1_2)\n",
        "\n",
        "    #Group II\n",
        "    input_layer_2 = tf.keras.layers.Input(shape = input_size_II, name='inputII')\n",
        "    input_layers.append(input_layer_2)\n",
        "    dense_layer_2_1 = tf.keras.layers.Dense(4, activation='relu', name='inputII_dense1')(input_layer_2)\n",
        "    dense_layer_2_2 = tf.keras.layers.Dense(4, activation='relu', name='inputII_dense2')(dense_layer_2_1)\n",
        "    output_layers.append(dense_layer_2_2)\n",
        "\n",
        "    #Group III\n",
        "    for i in range(20):\n",
        "        input_layer = tf.keras.layers.Input(shape=input_size_III, name=f'input_III_{i}')\n",
        "        input_layers.append(input_layer)\n",
        "        dense_layer_1 = tf.keras.layers.Dense(4, activation='relu', name=f'denseIII_1_{i}')(input_layer)\n",
        "        dense_layer_2 = tf.keras.layers.Dense(8, activation='relu', name=f'denseIII_2_{i}')(dense_layer_1)\n",
        "        output_layers.append(dense_layer_2)\n",
        "\n",
        "    concat_output = tf.keras.layers.concatenate(output_layers, name='concatenated_output')\n",
        "\n",
        "    x1 = tf.keras.layers.Dense(1024, activation='relu', name='dense1cct')(concat_output)\n",
        "    x2 = tf.keras.layers.Dense(1024, activation='relu', name='dense2cct')(x1)\n",
        "    x3 = tf.keras.layers.Dense(1024, activation='relu', name='dense3cct')(x2)\n",
        "\n",
        "    concat_output2 = tf.keras.layers.concatenate([dense_layer_1_2,x3], name='concatenated_output2')\n",
        "    x4 = tf.keras.layers.Dense(1080, activation='relu', name='dense4cct')(concat_output2)\n",
        "    x5 = tf.keras.layers.Dense(1080, activation='relu', name='dense5cct')(x4)\n",
        "\n",
        "\n",
        "\n",
        "    output_layer = tf.keras.layers.Dense(1, activation='sigmoid')(x5)\n",
        "\n",
        "    model = tf.keras.models.Model(inputs=input_layers, outputs=output_layer)\n",
        "    return model\n",
        "\n",
        "\n",
        "\n",
        "en_mod2 = create_NN2()\n",
        "en_mod2.summary()\n",
        "'''"
      ]
    },
    {
      "cell_type": "code",
      "execution_count": null,
      "metadata": {
        "id": "XWQ_nFxeiv81"
      },
      "outputs": [],
      "source": [
        "#en_mod2.compile(optimizer='adam',loss=\"binary_crossentropy\",metrics=['accuracy'])"
      ]
    },
    {
      "cell_type": "code",
      "execution_count": null,
      "metadata": {
        "id": "ZfwaZiTtiv81",
        "outputId": "037b3d21-3814-466a-a2a3-c9e694a78d69"
      },
      "outputs": [
        {
          "name": "stdout",
          "output_type": "stream",
          "text": [
            "[name: \"/device:CPU:0\"\n",
            "device_type: \"CPU\"\n",
            "memory_limit: 268435456\n",
            "locality {\n",
            "}\n",
            "incarnation: 1231847368009064543\n",
            "xla_global_id: -1\n",
            ", name: \"/device:GPU:0\"\n",
            "device_type: \"GPU\"\n",
            "memory_limit: 14236516352\n",
            "locality {\n",
            "  bus_id: 1\n",
            "  links {\n",
            "  }\n",
            "}\n",
            "incarnation: 5183096935519418894\n",
            "physical_device_desc: \"device: 0, name: NVIDIA GeForce RTX 3080 Ti Laptop GPU, pci bus id: 0000:01:00.0, compute capability: 8.6\"\n",
            "xla_global_id: 416903419\n",
            "]\n"
          ]
        }
      ],
      "source": [
        "from tensorflow.python.client import device_lib\n",
        "print(device_lib.list_local_devices())"
      ]
    },
    {
      "cell_type": "code",
      "execution_count": null,
      "metadata": {
        "id": "Rznw2_3Aiv81",
        "outputId": "2ee9b0db-f658-4d15-c4f9-8047a2452e90"
      },
      "outputs": [
        {
          "data": {
            "text/plain": [
              "(500000, 10)"
            ]
          },
          "execution_count": 5,
          "metadata": {},
          "output_type": "execute_result"
        }
      ],
      "source": [
        "output_filepath = \"ton_iot_datablockI_1897.pkl\"\n",
        "with open(output_filepath, 'rb') as f:\n",
        "    groupI_block = pickle.load(f)\n",
        "groupI_block.shape"
      ]
    },
    {
      "cell_type": "code",
      "execution_count": null,
      "metadata": {
        "id": "YEkNzR7Piv81",
        "outputId": "ad880f1a-600d-4a37-f132-f8c0b62d542b"
      },
      "outputs": [
        {
          "data": {
            "text/plain": [
              "((350000, 10), (75000, 10), (75000, 10))"
            ]
          },
          "execution_count": 6,
          "metadata": {},
          "output_type": "execute_result"
        }
      ],
      "source": [
        "groupI_train = groupI_block[0:350000,:]\n",
        "groupI_valid = groupI_block[350000:425000,:]\n",
        "groupI_test = groupI_block[425000:,:]\n",
        "groupI_train.shape,groupI_valid.shape,groupI_test.shape"
      ]
    },
    {
      "cell_type": "code",
      "execution_count": null,
      "metadata": {
        "id": "Bb-cEjRhiv81",
        "outputId": "ea26d98e-e3cd-490f-c68b-482f134cd414"
      },
      "outputs": [
        {
          "data": {
            "text/plain": [
              "(0.0, 1.0)"
            ]
          },
          "execution_count": 7,
          "metadata": {},
          "output_type": "execute_result"
        }
      ],
      "source": [
        "np.min(groupI_train), np.max(groupI_train)"
      ]
    },
    {
      "cell_type": "code",
      "execution_count": null,
      "metadata": {
        "id": "PN9kuK4Tiv81",
        "outputId": "52a6aed7-8cc4-4601-847d-4df0207733ba"
      },
      "outputs": [
        {
          "data": {
            "text/plain": [
              "(500000, 7)"
            ]
          },
          "execution_count": 8,
          "metadata": {},
          "output_type": "execute_result"
        }
      ],
      "source": [
        "output_filepath = \"GroupII_1897_tvals.pkl\"\n",
        "\n",
        "with open(output_filepath, 'rb') as f:\n",
        "    groupII_block = pickle.load(f)\n",
        "groupII_block.shape"
      ]
    },
    {
      "cell_type": "code",
      "execution_count": null,
      "metadata": {
        "id": "5GgvzBUDiv82",
        "outputId": "8873fb10-8ac4-42bd-d70e-b7300fb5306a"
      },
      "outputs": [
        {
          "data": {
            "text/plain": [
              "((350000, 7), (75000, 7), (75000, 7))"
            ]
          },
          "execution_count": 9,
          "metadata": {},
          "output_type": "execute_result"
        }
      ],
      "source": [
        "groupII_train = groupII_block[0:350000,:]\n",
        "groupII_valid = groupII_block[350000:425000,:]\n",
        "groupII_test = groupII_block[425000:,:]\n",
        "groupII_train.shape,groupII_valid.shape,groupII_test.shape"
      ]
    },
    {
      "cell_type": "code",
      "execution_count": null,
      "metadata": {
        "id": "4Cg4mwOxiv82",
        "outputId": "981d8118-b6e9-4bcb-8f70-2401421ddd8c"
      },
      "outputs": [
        {
          "data": {
            "text/plain": [
              "(0.0, 1.0)"
            ]
          },
          "execution_count": 10,
          "metadata": {},
          "output_type": "execute_result"
        }
      ],
      "source": [
        "np.min(groupII_train), np.max(groupII_train)"
      ]
    },
    {
      "cell_type": "code",
      "execution_count": null,
      "metadata": {
        "id": "cjKNbo7civ82",
        "outputId": "693952e1-506e-49c5-8cd0-a3c1bcc19501"
      },
      "outputs": [
        {
          "data": {
            "text/plain": [
              "(500000, 40)"
            ]
          },
          "execution_count": 11,
          "metadata": {},
          "output_type": "execute_result"
        }
      ],
      "source": [
        "output_filepath = \"GroupIII_processed_1897\"\n",
        "\n",
        "with open(output_filepath, 'rb') as f:\n",
        "    groupIII_block = pickle.load(f)\n",
        "groupIII_block.shape"
      ]
    },
    {
      "cell_type": "code",
      "execution_count": null,
      "metadata": {
        "id": "ThITfvJWiv82",
        "outputId": "a1aa0b5e-4518-4311-9b61-1ec0323d60cb"
      },
      "outputs": [
        {
          "data": {
            "text/plain": [
              "((350000, 40), (75000, 40), (75000, 40))"
            ]
          },
          "execution_count": 12,
          "metadata": {},
          "output_type": "execute_result"
        }
      ],
      "source": [
        "groupIII_train = groupIII_block[0:350000,:]\n",
        "groupIII_valid = groupIII_block[350000:425000,:]\n",
        "groupIII_test = groupIII_block[425000:,:]\n",
        "groupIII_train.shape,groupIII_valid.shape,groupIII_test.shape"
      ]
    },
    {
      "cell_type": "code",
      "execution_count": null,
      "metadata": {
        "id": "C7GrHsDtiv82",
        "outputId": "c338c281-67c4-48db-b4f1-a0eea5514e99"
      },
      "outputs": [
        {
          "data": {
            "text/plain": [
              "(nan, nan)"
            ]
          },
          "execution_count": 13,
          "metadata": {},
          "output_type": "execute_result"
        }
      ],
      "source": [
        "np.min(groupIII_train), np.max(groupIII_train)"
      ]
    },
    {
      "cell_type": "code",
      "execution_count": null,
      "metadata": {
        "id": "Xaf1zuy5iv82",
        "outputId": "19ee5047-483c-427b-c6e8-ccfdefa187d1"
      },
      "outputs": [
        {
          "name": "stdout",
          "output_type": "stream",
          "text": [
            "[1]\n",
            "[1]\n",
            "Rows with nan minimum or maximum value: [1]\n"
          ]
        }
      ],
      "source": [
        "min_nan_ind = np.where(np.isnan(np.min(groupIII_train, axis=1)))[0]# indices where min value = nan\n",
        "print(min_nan_ind)\n",
        "\n",
        "max_nan_ind = np.where(np.isnan(np.max(groupIII_train, axis=1)))[0]# indices where max value = nan\n",
        "print(max_nan_ind)\n",
        "\n",
        "nan_ind = np.union1d(min_nan_ind, max_nan_ind) #combined\n",
        "print(\"Rows with nan minimum or maximum value:\", nan_ind)\n"
      ]
    },
    {
      "cell_type": "code",
      "execution_count": null,
      "metadata": {
        "id": "Zm5M0-j_iv82",
        "outputId": "7395a54a-daa6-410a-bdfc-84be2dca6dca"
      },
      "outputs": [
        {
          "data": {
            "text/plain": [
              "(349999, 40)"
            ]
          },
          "execution_count": 15,
          "metadata": {},
          "output_type": "execute_result"
        }
      ],
      "source": [
        "groupIII_train = np.delete(groupIII_train,1, axis = 0)\n",
        "groupIII_train.shape"
      ]
    },
    {
      "cell_type": "code",
      "execution_count": null,
      "metadata": {
        "id": "ZRsHRjWwiv83",
        "outputId": "1f05b993-dd0d-4c6b-d82b-5848fd8d3caa"
      },
      "outputs": [
        {
          "data": {
            "text/plain": [
              "((349999, 10), (349999, 7))"
            ]
          },
          "execution_count": 16,
          "metadata": {},
          "output_type": "execute_result"
        }
      ],
      "source": [
        "groupI_train = np.delete(groupI_train,1,axis=0)\n",
        "groupII_train = np.delete(groupII_train,1,axis=0)\n",
        "groupI_train.shape,groupII_train.shape"
      ]
    },
    {
      "cell_type": "code",
      "execution_count": null,
      "metadata": {
        "id": "6Im2hK6Piv83",
        "outputId": "3897079b-d55f-4d25-ac31-e3da16766131"
      },
      "outputs": [
        {
          "data": {
            "text/plain": [
              "491"
            ]
          },
          "execution_count": 17,
          "metadata": {},
          "output_type": "execute_result"
        }
      ],
      "source": [
        "del groupI_block\n",
        "del groupII_block\n",
        "del groupIII_block\n",
        "gc.collect()"
      ]
    },
    {
      "cell_type": "code",
      "execution_count": null,
      "metadata": {
        "id": "zUfv-cOkiv83",
        "outputId": "c1b760a4-1993-4a65-9fa4-b86868028331"
      },
      "outputs": [
        {
          "data": {
            "text/plain": [
              "(500000,)"
            ]
          },
          "execution_count": 18,
          "metadata": {},
          "output_type": "execute_result"
        }
      ],
      "source": [
        "labels_block = np.load('labels_seeded_1897.npy')\n",
        "labels_block.shape"
      ]
    },
    {
      "cell_type": "code",
      "execution_count": null,
      "metadata": {
        "id": "5__OgaaFiv83"
      },
      "outputs": [],
      "source": [
        "the_inputs = [groupI_train,groupII_train]\n",
        "the_valids = [groupI_valid,groupII_valid]\n",
        "the_tests = [groupI_test,groupII_test]"
      ]
    },
    {
      "cell_type": "code",
      "execution_count": null,
      "metadata": {
        "id": "w9gNCYWJiv83",
        "outputId": "bb77f03b-a2c1-4fa1-95a2-f93ff76a3d83"
      },
      "outputs": [
        {
          "data": {
            "text/plain": [
              "((350000,), (75000,), (75000,))"
            ]
          },
          "execution_count": 20,
          "metadata": {},
          "output_type": "execute_result"
        }
      ],
      "source": [
        "labels_tr = labels_block[0:350000,]\n",
        "labels_va = labels_block[350000:425000,]\n",
        "labels_te = labels_block[425000:,]\n",
        "labels_tr.shape,labels_va.shape,labels_te.shape"
      ]
    },
    {
      "cell_type": "code",
      "execution_count": null,
      "metadata": {
        "id": "qxcKwNjsiv83",
        "outputId": "71e3ce4a-06cc-4a7b-af8d-ea945702b817"
      },
      "outputs": [
        {
          "data": {
            "text/plain": [
              "(349999,)"
            ]
          },
          "execution_count": 21,
          "metadata": {},
          "output_type": "execute_result"
        }
      ],
      "source": [
        "labels_tr = np.delete(labels_tr,1, axis = 0)\n",
        "labels_tr.shape"
      ]
    },
    {
      "cell_type": "code",
      "execution_count": null,
      "metadata": {
        "id": "XoxUyWXNiv83"
      },
      "outputs": [],
      "source": [
        "def split_20(incoming:np.array):\n",
        "    split_arrays = np.split(incoming,20,axis=1)\n",
        "    arrays_dict = {}\n",
        "    for i, arr in enumerate(split_arrays):\n",
        "        arrays_dict[f'arr{i:02d}'] = arr\n",
        "    return arrays_dict"
      ]
    },
    {
      "cell_type": "code",
      "execution_count": null,
      "metadata": {
        "id": "O3WGRiAaiv84"
      },
      "outputs": [],
      "source": [
        "the_dict_tr = split_20(groupIII_train)\n",
        "the_dict_va = split_20(groupIII_valid)\n",
        "the_dict_te = split_20(groupIII_test)"
      ]
    },
    {
      "cell_type": "code",
      "execution_count": null,
      "metadata": {
        "id": "sS69pdRhiv84"
      },
      "outputs": [],
      "source": [
        "for i in range(20):\n",
        "    the_inputs.append(the_dict_tr[f'arr{i:02d}'])\n",
        "    the_valids.append(the_dict_va[f'arr{i:02d}'])\n",
        "    the_tests.append(the_dict_te[f'arr{i:02d}'])\n",
        ""
      ]
    },
    {
      "cell_type": "code",
      "execution_count": null,
      "metadata": {
        "id": "LxsbK4Bqiv84",
        "outputId": "74e1dfcc-383f-4dc2-c8cd-dea3fbd9a2b6"
      },
      "outputs": [
        {
          "data": {
            "text/plain": [
              "(22, 22, 22)"
            ]
          },
          "execution_count": 25,
          "metadata": {},
          "output_type": "execute_result"
        }
      ],
      "source": [
        "len(the_inputs), len(the_valids), len(the_tests)"
      ]
    },
    {
      "cell_type": "code",
      "execution_count": null,
      "metadata": {
        "id": "_HZujQ43iv84",
        "outputId": "556b09d8-f938-4bfe-b960-f0892e35c1bd"
      },
      "outputs": [
        {
          "name": "stdout",
          "output_type": "stream",
          "text": [
            "Epoch 1/200\n",
            "5469/5469 [==============================] - 133s 23ms/step - loss: 0.1248 - accuracy: 0.9568 - val_loss: 0.1196 - val_accuracy: 0.9597\n",
            "Epoch 2/200\n",
            "5469/5469 [==============================] - 135s 25ms/step - loss: 0.0844 - accuracy: 0.9693 - val_loss: 0.0752 - val_accuracy: 0.9709\n",
            "Epoch 3/200\n",
            "5469/5469 [==============================] - 127s 23ms/step - loss: 0.0723 - accuracy: 0.9729 - val_loss: 0.0685 - val_accuracy: 0.9754\n",
            "Epoch 4/200\n",
            "5469/5469 [==============================] - 128s 23ms/step - loss: 0.0682 - accuracy: 0.9744 - val_loss: 0.0808 - val_accuracy: 0.9740\n",
            "Epoch 5/200\n",
            "5469/5469 [==============================] - 130s 24ms/step - loss: 0.0637 - accuracy: 0.9762 - val_loss: 0.0577 - val_accuracy: 0.9785\n",
            "Epoch 6/200\n",
            "5469/5469 [==============================] - 130s 24ms/step - loss: 0.0638 - accuracy: 0.9767 - val_loss: 0.0566 - val_accuracy: 0.9786\n",
            "Epoch 7/200\n",
            "5469/5469 [==============================] - 131s 24ms/step - loss: 0.0592 - accuracy: 0.9779 - val_loss: 0.0533 - val_accuracy: 0.9798\n",
            "Epoch 8/200\n",
            "5469/5469 [==============================] - 130s 24ms/step - loss: 0.0608 - accuracy: 0.9783 - val_loss: 0.0536 - val_accuracy: 0.9802\n",
            "Epoch 9/200\n",
            "5469/5469 [==============================] - 125s 23ms/step - loss: 0.0567 - accuracy: 0.9790 - val_loss: 0.0593 - val_accuracy: 0.9788\n",
            "Epoch 10/200\n",
            "5469/5469 [==============================] - 123s 23ms/step - loss: 0.0550 - accuracy: 0.9797 - val_loss: 0.0521 - val_accuracy: 0.9802\n",
            "Epoch 11/200\n",
            "5469/5469 [==============================] - 129s 24ms/step - loss: 0.0561 - accuracy: 0.9797 - val_loss: 0.0510 - val_accuracy: 0.9817\n",
            "Epoch 12/200\n",
            "5469/5469 [==============================] - 129s 24ms/step - loss: 0.0526 - accuracy: 0.9806 - val_loss: 0.0522 - val_accuracy: 0.9818\n",
            "Epoch 13/200\n",
            "5469/5469 [==============================] - 130s 24ms/step - loss: 0.0519 - accuracy: 0.9808 - val_loss: 0.0551 - val_accuracy: 0.9801\n",
            "Epoch 14/200\n",
            "5469/5469 [==============================] - 136s 25ms/step - loss: 0.0518 - accuracy: 0.9813 - val_loss: 0.0522 - val_accuracy: 0.9800\n",
            "Epoch 15/200\n",
            "5469/5469 [==============================] - 130s 24ms/step - loss: 0.0468 - accuracy: 0.9821 - val_loss: 0.0503 - val_accuracy: 0.9807\n",
            "Epoch 16/200\n",
            "5469/5469 [==============================] - 125s 23ms/step - loss: 0.0471 - accuracy: 0.9823 - val_loss: 0.0519 - val_accuracy: 0.9800\n",
            "Epoch 17/200\n",
            "5469/5469 [==============================] - 127s 23ms/step - loss: 0.0453 - accuracy: 0.9829 - val_loss: 0.0466 - val_accuracy: 0.9833\n",
            "Epoch 18/200\n",
            "5469/5469 [==============================] - 125s 23ms/step - loss: 0.0450 - accuracy: 0.9829 - val_loss: 0.0513 - val_accuracy: 0.9826\n",
            "Epoch 19/200\n",
            "5469/5469 [==============================] - 128s 23ms/step - loss: 0.0448 - accuracy: 0.9830 - val_loss: 0.0571 - val_accuracy: 0.9808\n",
            "Epoch 20/200\n",
            "5469/5469 [==============================] - 129s 24ms/step - loss: 0.0432 - accuracy: 0.9834 - val_loss: 0.0489 - val_accuracy: 0.9834\n",
            "Epoch 21/200\n",
            "5469/5469 [==============================] - 126s 23ms/step - loss: 0.0428 - accuracy: 0.9837 - val_loss: 0.0456 - val_accuracy: 0.9832\n",
            "Epoch 22/200\n",
            "5469/5469 [==============================] - 115s 21ms/step - loss: 0.0432 - accuracy: 0.9836 - val_loss: 0.0527 - val_accuracy: 0.9830\n",
            "Epoch 23/200\n",
            "5469/5469 [==============================] - 136s 25ms/step - loss: 0.0457 - accuracy: 0.9833 - val_loss: 0.0505 - val_accuracy: 0.9830\n",
            "Epoch 24/200\n",
            "5469/5469 [==============================] - 130s 24ms/step - loss: 0.0436 - accuracy: 0.9837 - val_loss: 0.0506 - val_accuracy: 0.9836\n",
            "Epoch 25/200\n",
            "5469/5469 [==============================] - 136s 25ms/step - loss: 0.0427 - accuracy: 0.9840 - val_loss: 0.0497 - val_accuracy: 0.9829\n",
            "Epoch 26/200\n",
            "5469/5469 [==============================] - 133s 24ms/step - loss: 0.0412 - accuracy: 0.9841 - val_loss: 0.0484 - val_accuracy: 0.9848\n",
            "Epoch 27/200\n",
            "5469/5469 [==============================] - 130s 24ms/step - loss: 0.0410 - accuracy: 0.9843 - val_loss: 0.0507 - val_accuracy: 0.9837\n",
            "Epoch 28/200\n",
            "5469/5469 [==============================] - 128s 23ms/step - loss: 0.0419 - accuracy: 0.9841 - val_loss: 0.0535 - val_accuracy: 0.9834\n",
            "Epoch 29/200\n",
            "5469/5469 [==============================] - 131s 24ms/step - loss: 0.0413 - accuracy: 0.9846 - val_loss: 0.0548 - val_accuracy: 0.9812\n",
            "Epoch 30/200\n",
            "5469/5469 [==============================] - 129s 24ms/step - loss: 0.0404 - accuracy: 0.9845 - val_loss: 0.0542 - val_accuracy: 0.9831\n",
            "Epoch 31/200\n",
            "5469/5469 [==============================] - 132s 24ms/step - loss: 0.0409 - accuracy: 0.9846 - val_loss: 0.0539 - val_accuracy: 0.9824\n"
          ]
        }
      ],
      "source": [
        "#for en_mod_s\n",
        "EPOCHS = 200\n",
        "batchSize = 64\n",
        "early_stopping = tf.keras.callbacks.EarlyStopping(monitor='val_accuracy', patience=5, restore_best_weights=True)\n",
        "history = en_mod.fit(\n",
        "    x=the_inputs,\n",
        "    y=labels_tr,\n",
        "    batch_size=batchSize,\n",
        "    epochs=EPOCHS,\n",
        "    validation_data=(the_valids, labels_va),\n",
        "    callbacks=[early_stopping],\n",
        "    verbose=1\n",
        ")"
      ]
    },
    {
      "cell_type": "code",
      "execution_count": null,
      "metadata": {
        "id": "ghVicr2civ84",
        "outputId": "5b193751-a5db-434b-cc70-8977344a1215"
      },
      "outputs": [
        {
          "name": "stderr",
          "output_type": "stream",
          "text": [
            "WARNING:absl:Function `_wrapped_model` contains input name(s) inputI, inputII, input_III_0, input_III_1, input_III_2, input_III_3, input_III_4, input_III_5, input_III_6, input_III_7, input_III_8, input_III_9, input_III_10, input_III_11, input_III_12, input_III_13, input_III_14, input_III_15, input_III_16, input_III_17, input_III_18, input_III_19 with unsupported characters which will be renamed to inputi, inputii, input_iii_0, input_iii_1, input_iii_2, input_iii_3, input_iii_4, input_iii_5, input_iii_6, input_iii_7, input_iii_8, input_iii_9, input_iii_10, input_iii_11, input_iii_12, input_iii_13, input_iii_14, input_iii_15, input_iii_16, input_iii_17, input_iii_18, input_iii_19 in the SavedModel.\n"
          ]
        },
        {
          "name": "stdout",
          "output_type": "stream",
          "text": [
            "INFO:tensorflow:Assets written to: model_III_10_7_20_uniform_concat.pkl\\assets\n"
          ]
        },
        {
          "name": "stderr",
          "output_type": "stream",
          "text": [
            "INFO:tensorflow:Assets written to: model_III_10_7_20_uniform_concat.pkl\\assets\n"
          ]
        }
      ],
      "source": [
        "output_filepath = \"model_III_10_7_20_uniform_concat.pkl\"\n",
        "en_mod.save(output_filepath)\n"
      ]
    },
    {
      "cell_type": "code",
      "execution_count": null,
      "metadata": {
        "id": "ZaCPyfi6iv84",
        "outputId": "bc11ccb6-b423-486b-ddc4-faccf89eb5d7"
      },
      "outputs": [
        {
          "name": "stdout",
          "output_type": "stream",
          "text": [
            "1963/2344 [========================>.....] - ETA: 4s"
          ]
        }
      ],
      "source": [
        "predictions = en_mod.predict(the_tests, verbose=1)\n",
        "predicted_labels = (predictions > 0.5).astype(int)\n",
        "from sklearn.metrics import classification_report\n",
        "print(classification_report(labels_te, predicted_labels))"
      ]
    },
    {
      "cell_type": "code",
      "execution_count": null,
      "metadata": {
        "id": "531K6zALiv84"
      },
      "outputs": [],
      "source": [
        "EPOCHS = 200\n",
        "batchSize = 64\n",
        "early_stopping = tf.keras.callbacks.EarlyStopping(monitor='val_accuracy', patience=5, restore_best_weights=True)\n",
        "history = en_mod.fit(\n",
        "    x=the_inputs,\n",
        "    y=labels_tr,\n",
        "    batch_size=batchSize,\n",
        "    epochs=EPOCHS,\n",
        "    validation_data=(the_valids, labels_va),\n",
        "    callbacks=[early_stopping],\n",
        "    verbose=1\n",
        ")"
      ]
    },
    {
      "cell_type": "markdown",
      "metadata": {
        "id": "R3NbeqTBiv84"
      },
      "source": [
        "2344/2344 [==============================] - 25s 10ms/step\n",
        "              precision    recall  f1-score   support\n",
        "\n",
        "           0       0.99      0.97      0.98     27071\n",
        "           1       0.98      0.99      0.99     47929\n",
        "\n",
        "    accuracy                           0.98     75000\n",
        "   macro avg       0.99      0.98      0.98     75000\n",
        "weighted avg       0.98      0.98      0.98     75000\n"
      ]
    }
  ],
  "metadata": {
    "colab": {
      "provenance": []
    },
    "kernelspec": {
      "display_name": "Python 3 (ipykernel)",
      "language": "python",
      "name": "python3"
    },
    "language_info": {
      "codemirror_mode": {
        "name": "ipython",
        "version": 3
      },
      "file_extension": ".py",
      "mimetype": "text/x-python",
      "name": "python",
      "nbconvert_exporter": "python",
      "pygments_lexer": "ipython3",
      "version": "3.9.13"
    }
  },
  "nbformat": 4,
  "nbformat_minor": 0
}