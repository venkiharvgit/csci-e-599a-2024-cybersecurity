{
  "cells": [
    {
      "cell_type": "code",
      "execution_count": null,
      "metadata": {
        "id": "EZkqN7Lk8kCo"
      },
      "outputs": [],
      "source": [
        "import tensorflow as tf\n",
        "import math\n",
        "import numpy as np\n",
        "import pickle\n",
        "import gc"
      ]
    },
    {
      "cell_type": "code",
      "execution_count": null,
      "metadata": {
        "id": "Yv4k49cRiJu1",
        "outputId": "fc0eecee-a662-4ad8-a989-a740482f052d"
      },
      "outputs": [
        {
          "name": "stdout",
          "output_type": "stream",
          "text": [
            "Model: \"model\"\n",
            "_________________________________________________________________\n",
            " Layer (type)                Output Shape              Param #   \n",
            "=================================================================\n",
            " inputI (InputLayer)         [(None, 10)]              0         \n",
            "                                                                 \n",
            " inputI_dense1 (Dense)       (None, 4)                 44        \n",
            "                                                                 \n",
            " inputI_dense2 (Dense)       (None, 4)                 20        \n",
            "                                                                 \n",
            " dense1cct (Dense)           (None, 1024)              5120      \n",
            "                                                                 \n",
            " dense2cct (Dense)           (None, 1024)              1049600   \n",
            "                                                                 \n",
            " dense3cct (Dense)           (None, 1024)              1049600   \n",
            "                                                                 \n",
            " dense (Dense)               (None, 1)                 1025      \n",
            "                                                                 \n",
            "=================================================================\n",
            "Total params: 2,105,409\n",
            "Trainable params: 2,105,409\n",
            "Non-trainable params: 0\n",
            "_________________________________________________________________\n"
          ]
        }
      ],
      "source": [
        "def create_NN_I():\n",
        "    #Group I inputs-- 10\n",
        "    input_size_I = (10,)\n",
        "    #input_size_II = (7,)\n",
        "    #input_size_III = (2,)\n",
        "\n",
        "    #input_layers = []\n",
        "    #output_layers = []\n",
        "\n",
        "    input_layer_1 = tf.keras.layers.Input(shape = input_size_I, name='inputI')\n",
        "    #input_layers.append(input_layer_1)\n",
        "    dense_layer_1_1 = tf.keras.layers.Dense(4, activation='relu', name='inputI_dense1')(input_layer_1)\n",
        "    dense_layer_1_2 = tf.keras.layers.Dense(4, activation='relu', name='inputI_dense2')(dense_layer_1_1)\n",
        "    #output_layers.append(dense_layer_1_2)\n",
        "\n",
        "    '''#Group II\n",
        "    input_layer_2 = tf.keras.layers.Input(shape = input_size_II, name='inputII')\n",
        "    input_layers.append(input_layer_2)\n",
        "    dense_layer_2_1 = tf.keras.layers.Dense(4, activation='relu', name='inputII_dense1')(input_layer_2)\n",
        "    dense_layer_2_2 = tf.keras.layers.Dense(4, activation='relu', name='inputII_dense2')(dense_layer_2_1)\n",
        "    output_layers.append(dense_layer_2_2)\n",
        "\n",
        "    #Group III\n",
        "    for i in range(20):\n",
        "        input_layer = tf.keras.layers.Input(shape=input_size_III, name=f'input_III_{i}')\n",
        "        input_layers.append(input_layer)\n",
        "        dense_layer_1 = tf.keras.layers.Dense(4, activation='relu', name=f'denseIII_1_{i}')(input_layer)\n",
        "        dense_layer_2 = tf.keras.layers.Dense(8, activation='relu', name=f'denseIII_2_{i}')(dense_layer_1)\n",
        "        output_layers.append(dense_layer_2)\n",
        "\n",
        "    concat_output = tf.keras.layers.concatenate(output_layers, name='concatenated_output')'''\n",
        "\n",
        "    x1 = tf.keras.layers.Dense(1024, activation='relu', name='dense1cct')( dense_layer_1_2)\n",
        "    x2 = tf.keras.layers.Dense(1024, activation='relu', name='dense2cct')(x1)\n",
        "    x3 = tf.keras.layers.Dense(1024, activation='relu', name='dense3cct')(x2)\n",
        "    output_layer = tf.keras.layers.Dense(1, activation='sigmoid')(x3)\n",
        "\n",
        "    model = tf.keras.models.Model(inputs=[input_layer_1], outputs=output_layer)\n",
        "    return model\n",
        "\n",
        "\n",
        "\n",
        "en_mod_s = create_NN_I()\n",
        "en_mod_s.summary()"
      ]
    },
    {
      "cell_type": "code",
      "execution_count": null,
      "metadata": {
        "id": "0Z38R4vgiJu2"
      },
      "outputs": [],
      "source": [
        "en_mod_s.compile(optimizer='adam',loss=\"binary_crossentropy\",metrics=['accuracy'])"
      ]
    },
    {
      "cell_type": "code",
      "execution_count": null,
      "metadata": {
        "id": "-F3dJo37iJu3"
      },
      "outputs": [],
      "source": [
        "from tensorflow.python.client import device_lib\n",
        "print(device_lib.list_local_devices())"
      ]
    },
    {
      "cell_type": "code",
      "execution_count": null,
      "metadata": {
        "id": "q_2Pw3w-iJu3",
        "outputId": "5dfede91-1330-4335-84b4-7c2a72b7b491"
      },
      "outputs": [
        {
          "data": {
            "text/plain": [
              "(500000, 10)"
            ]
          },
          "execution_count": 6,
          "metadata": {},
          "output_type": "execute_result"
        }
      ],
      "source": [
        "output_filepath = \"ton_iot_datablockI_1897.pkl\"\n",
        "with open(output_filepath, 'rb') as f:\n",
        "    groupI_block = pickle.load(f)\n",
        "groupI_block.shape"
      ]
    },
    {
      "cell_type": "code",
      "execution_count": null,
      "metadata": {
        "id": "Ado2fG2QiJu3",
        "outputId": "f7288f1c-1a43-480e-cda9-c05759c0478a"
      },
      "outputs": [
        {
          "data": {
            "text/plain": [
              "((350000, 10), (75000, 10), (75000, 10))"
            ]
          },
          "execution_count": 7,
          "metadata": {},
          "output_type": "execute_result"
        }
      ],
      "source": [
        "groupI_train = groupI_block[0:350000,:]\n",
        "groupI_valid = groupI_block[350000:425000,:]\n",
        "groupI_test = groupI_block[425000:,:]\n",
        "groupI_train.shape,groupI_valid.shape,groupI_test.shape"
      ]
    },
    {
      "cell_type": "code",
      "execution_count": null,
      "metadata": {
        "id": "X6-PnCidiJu3"
      },
      "outputs": [],
      "source": [
        "np.min(groupI_train), np.max(groupI_train)"
      ]
    },
    {
      "cell_type": "code",
      "execution_count": null,
      "metadata": {
        "id": "zSNLi3VtiJu3",
        "outputId": "cd8e6206-ec88-4e0f-8a75-d2efad20dcd5"
      },
      "outputs": [
        {
          "data": {
            "text/plain": [
              "(500000,)"
            ]
          },
          "execution_count": 8,
          "metadata": {},
          "output_type": "execute_result"
        }
      ],
      "source": [
        "labels_block = np.load('labels_seeded_1897.npy')\n",
        "labels_block.shape"
      ]
    },
    {
      "cell_type": "code",
      "execution_count": null,
      "metadata": {
        "id": "rPmWpqN0iJu3",
        "outputId": "b5515b23-5a17-458c-bc9e-e863516fded3"
      },
      "outputs": [
        {
          "data": {
            "text/plain": [
              "((350000,), (75000,), (75000,))"
            ]
          },
          "execution_count": 9,
          "metadata": {},
          "output_type": "execute_result"
        }
      ],
      "source": [
        "labels_tr = labels_block[0:350000,]\n",
        "labels_va = labels_block[350000:425000,]\n",
        "labels_te = labels_block[425000:,]\n",
        "labels_tr.shape,labels_va.shape,labels_te.shape"
      ]
    },
    {
      "cell_type": "code",
      "execution_count": null,
      "metadata": {
        "id": "hTKHg30giJu3"
      },
      "outputs": [],
      "source": [
        "len(the_inputs), len(the_valids), len(the_tests)"
      ]
    },
    {
      "cell_type": "code",
      "execution_count": null,
      "metadata": {
        "id": "LtuM7LqXiJu4",
        "outputId": "da2ef904-306d-4cc7-8734-0764fbff16ea"
      },
      "outputs": [
        {
          "name": "stdout",
          "output_type": "stream",
          "text": [
            "Epoch 1/200\n",
            "5469/5469 [==============================] - 17s 3ms/step - loss: 0.5029 - accuracy: 0.7391 - val_loss: 0.4939 - val_accuracy: 0.7482\n",
            "Epoch 2/200\n",
            "5469/5469 [==============================] - 15s 3ms/step - loss: 0.4860 - accuracy: 0.7472 - val_loss: 0.4790 - val_accuracy: 0.7493\n",
            "Epoch 3/200\n",
            "5469/5469 [==============================] - 15s 3ms/step - loss: 0.4785 - accuracy: 0.7486 - val_loss: 0.4787 - val_accuracy: 0.7500\n",
            "Epoch 4/200\n",
            "5469/5469 [==============================] - 15s 3ms/step - loss: 0.4746 - accuracy: 0.7488 - val_loss: 0.4691 - val_accuracy: 0.7507\n",
            "Epoch 5/200\n",
            "5469/5469 [==============================] - 15s 3ms/step - loss: 0.4740 - accuracy: 0.7488 - val_loss: 0.4729 - val_accuracy: 0.7476\n",
            "Epoch 6/200\n",
            "5469/5469 [==============================] - 15s 3ms/step - loss: 0.4760 - accuracy: 0.7480 - val_loss: 0.4705 - val_accuracy: 0.7515\n",
            "Epoch 7/200\n",
            "5469/5469 [==============================] - 15s 3ms/step - loss: 0.4707 - accuracy: 0.7510 - val_loss: 0.4746 - val_accuracy: 0.7517\n",
            "Epoch 8/200\n",
            "5469/5469 [==============================] - 15s 3ms/step - loss: 0.4646 - accuracy: 0.7513 - val_loss: 0.4660 - val_accuracy: 0.7552\n",
            "Epoch 9/200\n",
            "5469/5469 [==============================] - 15s 3ms/step - loss: 0.4605 - accuracy: 0.7506 - val_loss: 0.4631 - val_accuracy: 0.7501\n",
            "Epoch 10/200\n",
            "5469/5469 [==============================] - 15s 3ms/step - loss: 0.4586 - accuracy: 0.7522 - val_loss: 0.4522 - val_accuracy: 0.7563\n",
            "Epoch 11/200\n",
            "5469/5469 [==============================] - 15s 3ms/step - loss: 0.4564 - accuracy: 0.7532 - val_loss: 0.4508 - val_accuracy: 0.7559\n",
            "Epoch 12/200\n",
            "5469/5469 [==============================] - 15s 3ms/step - loss: 0.4551 - accuracy: 0.7539 - val_loss: 0.4513 - val_accuracy: 0.7573\n",
            "Epoch 13/200\n",
            "5469/5469 [==============================] - 15s 3ms/step - loss: 0.4557 - accuracy: 0.7546 - val_loss: 0.4515 - val_accuracy: 0.7538\n",
            "Epoch 14/200\n",
            "5469/5469 [==============================] - 15s 3ms/step - loss: 0.4525 - accuracy: 0.7561 - val_loss: 0.4427 - val_accuracy: 0.7587\n",
            "Epoch 15/200\n",
            "5469/5469 [==============================] - 15s 3ms/step - loss: 0.4512 - accuracy: 0.7579 - val_loss: 0.4410 - val_accuracy: 0.7656\n",
            "Epoch 16/200\n",
            "5469/5469 [==============================] - 15s 3ms/step - loss: 0.4479 - accuracy: 0.7580 - val_loss: 0.4595 - val_accuracy: 0.7487\n",
            "Epoch 17/200\n",
            "5469/5469 [==============================] - 15s 3ms/step - loss: 0.4453 - accuracy: 0.7591 - val_loss: 0.4508 - val_accuracy: 0.7520\n",
            "Epoch 18/200\n",
            "5469/5469 [==============================] - 15s 3ms/step - loss: 0.4399 - accuracy: 0.7618 - val_loss: 0.4486 - val_accuracy: 0.7514\n",
            "Epoch 19/200\n",
            "5469/5469 [==============================] - 15s 3ms/step - loss: 0.4377 - accuracy: 0.7631 - val_loss: 0.4434 - val_accuracy: 0.7660\n",
            "Epoch 20/200\n",
            "5469/5469 [==============================] - 15s 3ms/step - loss: 0.4367 - accuracy: 0.7636 - val_loss: 0.4270 - val_accuracy: 0.7680\n",
            "Epoch 21/200\n",
            "5469/5469 [==============================] - 15s 3ms/step - loss: 0.4375 - accuracy: 0.7629 - val_loss: 0.4440 - val_accuracy: 0.7629\n",
            "Epoch 22/200\n",
            "5469/5469 [==============================] - 15s 3ms/step - loss: 0.4399 - accuracy: 0.7611 - val_loss: 0.4326 - val_accuracy: 0.7630\n",
            "Epoch 23/200\n",
            "5469/5469 [==============================] - 15s 3ms/step - loss: 0.4376 - accuracy: 0.7610 - val_loss: 0.4268 - val_accuracy: 0.7657\n",
            "Epoch 24/200\n",
            "5469/5469 [==============================] - 15s 3ms/step - loss: 0.4429 - accuracy: 0.7585 - val_loss: 0.4604 - val_accuracy: 0.7477\n",
            "Epoch 25/200\n",
            "5469/5469 [==============================] - 15s 3ms/step - loss: 0.4426 - accuracy: 0.7588 - val_loss: 0.4346 - val_accuracy: 0.7679\n"
          ]
        }
      ],
      "source": [
        "#for en_mod_s\n",
        "EPOCHS = 200\n",
        "batchSize = 64\n",
        "early_stopping = tf.keras.callbacks.EarlyStopping(monitor='val_accuracy', patience=5, restore_best_weights=True)\n",
        "history = en_mod_s.fit(\n",
        "    x=[groupI_train],\n",
        "    y=labels_tr,\n",
        "    batch_size=batchSize,\n",
        "    epochs=EPOCHS,\n",
        "    validation_data=([groupI_valid], labels_va),\n",
        "    callbacks=[early_stopping],\n",
        "    verbose=1\n",
        ")"
      ]
    },
    {
      "cell_type": "code",
      "execution_count": null,
      "metadata": {
        "id": "ltcS9HF_iJu4"
      },
      "outputs": [],
      "source": []
    }
  ],
  "metadata": {
    "colab": {
      "provenance": []
    },
    "kernelspec": {
      "display_name": "Python 3 (ipykernel)",
      "language": "python",
      "name": "python3"
    },
    "language_info": {
      "codemirror_mode": {
        "name": "ipython",
        "version": 3
      },
      "file_extension": ".py",
      "mimetype": "text/x-python",
      "name": "python",
      "nbconvert_exporter": "python",
      "pygments_lexer": "ipython3",
      "version": "3.9.13"
    }
  },
  "nbformat": 4,
  "nbformat_minor": 0
}