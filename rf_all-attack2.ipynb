{
 "cells": [
  {
   "cell_type": "code",
   "execution_count": 35,
   "id": "9f031c26-7205-40e4-9bb1-74f02ac51e2e",
   "metadata": {
    "tags": []
   },
   "outputs": [],
   "source": [
    "import pandas as pd\n",
    "import dask.dataframe as dd\n",
    "import numpy as np\n",
    "\n",
    "import tensorflow as tf\n",
    "from tensorflow.keras import regularizers\n",
    "import xgboost as xgb\n",
    "\n",
    "from sklearn.compose import ColumnTransformer\n",
    "from sklearn.preprocessing import OneHotEncoder\n",
    "from sklearn.preprocessing import LabelEncoder\n",
    "from sklearn.preprocessing import RobustScaler\n",
    "from sklearn.preprocessing import StandardScaler\n",
    "from sklearn.model_selection import train_test_split\n",
    "\n",
    "from sklearn.decomposition import PCA\n",
    "from sklearn.linear_model import LogisticRegression\n",
    "from sklearn.neighbors import KNeighborsClassifier\n",
    "from sklearn.tree import DecisionTreeClassifier\n",
    "from sklearn.ensemble import RandomForestClassifier\n",
    "from sklearn.svm import SVC\n",
    "\n",
    "from sklearn.metrics import confusion_matrix, accuracy_score\n",
    "\n",
    "import matplotlib.pyplot as plt\n",
    "import seaborn as sn\n",
    "from mpl_toolkits.mplot3d import Axes3D\n",
    "import category_encoders as ce\n",
    "\n",
    "import itertools"
   ]
  },
  {
   "cell_type": "markdown",
   "id": "4035ed6c-7f08-4cae-ae4c-ba7744284669",
   "metadata": {},
   "source": [
    "### Load .csv files, drop dublicates and non-netflow data, save in parquet file format"
   ]
  },
  {
   "cell_type": "code",
   "execution_count": 36,
   "id": "715d7fc1-2638-4ca3-bc70-8bd27719ad23",
   "metadata": {
    "tags": []
   },
   "outputs": [],
   "source": [
    "netflows = ['NF-BoT-IoT_chunks',\n",
    "           'NF-BoT-IoT-v2_chunks',\n",
    "           'NF-CSE-CIC-IDS2018_chunks',\n",
    "           'NF-CSE-CIC-IDS2018-v2_chunks',\n",
    "           'NF-ToN-IoT_chunks',\n",
    "           'NF-ToN-IoT-v2_chunks',\n",
    "           'NF-UNSW-NB15_chunks',\n",
    "           'NF-UNSW-NB15-v2_chunks',\n",
    "           'NF-UQ-NIDS_chunks',\n",
    "           'NF-UQ-NIDS-v2_chunks']\n",
    "\n",
    "df_dict = {}\n",
    "for nf in netflows:\n",
    "    df = pd.read_parquet('../../data/netflow/parquet/no_ip_port/'+nf)\n",
    "    scaler = StandardScaler()\n",
    "    df[['FLOW_DURATION_MILLISECONDS']] = scaler.fit_transform(df[['FLOW_DURATION_MILLISECONDS']])\n",
    "    df['label'] = df.Label\n",
    "    df.drop(columns=['Label','L7_PROTO'], inplace = True)\n",
    "    df_dict[nf] = df.drop_duplicates()"
   ]
  },
  {
   "cell_type": "code",
   "execution_count": 41,
   "id": "41dea8dd-c5f2-44b9-b2ca-751fdb0032c0",
   "metadata": {
    "tags": []
   },
   "outputs": [],
   "source": [
    "df_A = pd.read_parquet('../../data/netflow/parquet/no_ip_port/Attack-2_chunks')\n",
    "test_size = df_A.shape[0]"
   ]
  },
  {
   "cell_type": "code",
   "execution_count": 42,
   "id": "9b29b5c8-389c-4ded-b843-36f77e8ea7c2",
   "metadata": {
    "tags": []
   },
   "outputs": [
    {
     "data": {
      "text/plain": [
       "Index(['IN_BYTES', 'IN_PKTS', 'label', 'PROTOCOL', 'OUT_BYTES', 'OUT_PKTS',\n",
       "       'FLOW_DURATION_MILLISECONDS', 'TCP_FLAGS'],\n",
       "      dtype='object')"
      ]
     },
     "execution_count": 42,
     "metadata": {},
     "output_type": "execute_result"
    }
   ],
   "source": [
    "df_A.columns"
   ]
  },
  {
   "cell_type": "code",
   "execution_count": 43,
   "id": "47766d6c-e8f1-4344-a151-0c319b5ddd58",
   "metadata": {
    "tags": []
   },
   "outputs": [],
   "source": [
    "def train_test(df, test_size):\n",
    "    X = df.iloc[:, :-1]\n",
    "    y = df.iloc[:, -1]\n",
    "    \n",
    "    l = df.shape[0] - test_size\n",
    "    \n",
    "    X_train = X[:l]\n",
    "    y_train = y[:l]\n",
    "\n",
    "    X_test = X[l:]\n",
    "    y_test = y[l:]\n",
    "    \n",
    "    encoder = ce.TargetEncoder(cols=['PROTOCOL'])\n",
    "    encoder.fit(X_train, y_train)\n",
    "    X_train = encoder.transform(X_train)\n",
    "    X_test = encoder.transform(X_test)\n",
    "\n",
    "    sc = StandardScaler()\n",
    "    cols_to_norm = list(set(list(X_train.iloc[:, 1:].columns ))  - set(list(['label'])) )\n",
    "    X_train[cols_to_norm] = sc.fit_transform(X_train[cols_to_norm])\n",
    "    X_test[cols_to_norm] = sc.transform(X_test[cols_to_norm])\n",
    "    \n",
    "    X_train = X_train.values\n",
    "    X_test = X_test.values\n",
    "    y_train = y_train.values\n",
    "    y_test = y_test.values\n",
    "    \n",
    "\n",
    "    rf_classifier = RandomForestClassifier(n_estimators = 10, criterion = 'entropy', random_state = 0)\n",
    "    rf_classifier.fit(X_train, y_train)\n",
    "\n",
    "    y_pred = rf_classifier.predict(X_test)\n",
    "    cm = confusion_matrix(y_test, y_pred)\n",
    "    acc = accuracy_score(y_test, y_pred)\n",
    "    \n",
    "    return acc, cm"
   ]
  },
  {
   "cell_type": "code",
   "execution_count": null,
   "id": "05136840-12c4-427e-9083-e9b0f6007271",
   "metadata": {
    "tags": []
   },
   "outputs": [
    {
     "name": "stdout",
     "output_type": "stream",
     "text": [
      "Iteration: 1\n",
      "\n",
      "NEW BEST ACCURACY: {'NF-BoT-IoT_chunks'}  : 0.5583396314167781 \n",
      " [2224 2294] \n",
      " [5303 7380]\n",
      "\n",
      "NEW BEST ACCURACY: {'NF-ToN-IoT_chunks'}  : 0.6066507761176676 \n",
      " [4320  198] \n",
      " [6568 6115]\n",
      "\n",
      "NEW BEST ACCURACY: {'NF-BoT-IoT_chunks', 'NF-ToN-IoT_chunks'}  : 0.7108307656531597 \n",
      " [4312  206] \n",
      " [4768 7915]\n",
      "\n",
      "NEW BEST ACCURACY: {'NF-BoT-IoT-v2_chunks', 'NF-ToN-IoT_chunks'}  : 0.714667751874891 \n",
      " [4177  341] \n",
      " [4567 8116]\n",
      "Iteration: 2\n",
      "\n",
      "NEW BEST ACCURACY: {'NF-BoT-IoT_chunks'}  : 0.41863845125283417 \n",
      " [ 338 4180] \n",
      " [5820 6863]\n",
      "\n",
      "NEW BEST ACCURACY: {'NF-BoT-IoT-v2_chunks'}  : 0.6154293355037498 \n",
      " [2180 2338] \n",
      " [4277 8406]\n",
      "\n",
      "NEW BEST ACCURACY: {'NF-BoT-IoT_chunks', 'NF-ToN-IoT_chunks'}  : 0.7012383000988315 \n",
      " [4341  177] \n",
      " [4962 7721]\n",
      "\n",
      "NEW BEST ACCURACY: {'NF-BoT-IoT-v2_chunks', 'NF-ToN-IoT_chunks'}  : 0.7211208650659845 \n",
      " [4290  228] \n",
      " [4569 8114]\n",
      "Iteration: 3\n",
      "\n",
      "NEW BEST ACCURACY: {'NF-BoT-IoT_chunks'}  : 0.609848264635777 \n",
      " [4137  381] \n",
      " [6330 6353]\n",
      "\n",
      "NEW BEST ACCURACY: {'NF-BoT-IoT-v2_chunks'}  : 0.638567525143887 \n",
      " [2416 2102] \n",
      " [4115 8568]\n",
      "\n",
      "NEW BEST ACCURACY: {'NF-ToN-IoT_chunks'}  : 0.64205569443637 \n",
      " [4294  224] \n",
      " [5933 6750]\n",
      "\n",
      "NEW BEST ACCURACY: {'NF-BoT-IoT_chunks', 'NF-ToN-IoT_chunks'}  : 0.6706005464798558 \n",
      " [4358  160] \n",
      " [5506 7177]\n",
      "\n",
      "NEW BEST ACCURACY: {'NF-BoT-IoT-v2_chunks', 'NF-ToN-IoT_chunks'}  : 0.7252485320620894 \n",
      " [4286  232] \n",
      " [4494 8189]\n",
      "Iteration: 4\n",
      "\n",
      "NEW BEST ACCURACY: {'NF-BoT-IoT_chunks'}  : 0.5385733387593744 \n",
      " [2696 1822] \n",
      " [6115 6568]\n",
      "\n",
      "NEW BEST ACCURACY: {'NF-BoT-IoT-v2_chunks'}  : 0.6822859136096738 \n",
      " [4098  420] \n",
      " [5045 7638]\n"
     ]
    }
   ],
   "source": [
    "results = {}\n",
    "\n",
    "for i in range(5):\n",
    "    \n",
    "    print(\"\\nIteration: \"+str(i+1))\n",
    "    \n",
    "    acc_total = 0\n",
    "    cm_total = None\n",
    "\n",
    "    for k in range(1,2+1, 1):\n",
    "        nf_combinations = list(itertools.combinations(netflows, k))\n",
    "        for nf_comb in nf_combinations:\n",
    "            #print(\"\\nTrain data:\",set(nf_comb))\n",
    "            df = pd.concat([df_dict.get(nf) for nf in nf_comb]).reset_index(drop=True)\n",
    "            df = df.sample(frac=1).reset_index(drop=True)\n",
    "            df = pd.concat([df, df_A]).reset_index(drop=True)\n",
    "            acc, cm = train_test(df, test_size)\n",
    "\n",
    "            results['_'.join(set(nf_comb))+'_'+str(i)] = acc\n",
    "\n",
    "            #print(\"Test 'Attack 2' data accuracy:\", acc, \"\\n\", cm[0],\"\\n\",cm[1])\n",
    "\n",
    "            if acc > acc_total:\n",
    "                acc_total = acc\n",
    "                cm_total = cm\n",
    "                print(\"\\nNEW BEST ACCURACY:\",set(nf_comb),\" :\", acc_total, \"\\n\", cm_total[0],\"\\n\",cm_total[1])\n",
    "            \n",
    "#print(\"\\n\\nFINAL BEST ACCURACY \", best_df,\" :\", acc_total)\n",
    "results = {k: v for k, v in sorted(results.items(), key=lambda item: item[1], reverse=True)}"
   ]
  },
  {
   "cell_type": "code",
   "execution_count": null,
   "id": "62c0a825-eb05-4ded-ac86-491cb3d6504e",
   "metadata": {
    "tags": []
   },
   "outputs": [],
   "source": [
    "#for key in df_dict:\n",
    "#    df = df_dict[key]\n",
    "#    print(sorted(df.PROTOCOL.unique()))\n",
    "#NEW BEST ACCURACY( {'NF-BoT-IoT-v2_chunks', 'NF-UNSW-NB15-v2_chunks'} ): 0.7374571245857799"
   ]
  }
 ],
 "metadata": {
  "kernelspec": {
   "display_name": "Python 3 (ipykernel)",
   "language": "python",
   "name": "python3"
  },
  "language_info": {
   "codemirror_mode": {
    "name": "ipython",
    "version": 3
   },
   "file_extension": ".py",
   "mimetype": "text/x-python",
   "name": "python",
   "nbconvert_exporter": "python",
   "pygments_lexer": "ipython3",
   "version": "3.10.12"
  }
 },
 "nbformat": 4,
 "nbformat_minor": 5
}
